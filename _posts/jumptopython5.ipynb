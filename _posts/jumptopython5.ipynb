{
 "cells": [
  {
   "cell_type": "code",
   "execution_count": null,
   "id": "5793e3ac-d133-4133-8ede-0355b34d6d55",
   "metadata": {},
   "outputs": [],
   "source": [
    "#주피터 단축키 \n",
    "# esc + m : Markdown\n",
    "# esc + y : Code"
   ]
  },
  {
   "cell_type": "markdown",
   "id": "388f0eaa-2c4a-4c1f-8a3d-9abe9bdfd84b",
   "metadata": {
    "jp-MarkdownHeadingCollapsed": true,
    "tags": []
   },
   "source": [
    "# 2장. 파이썬 프로그래밍의 기초, 자료형"
   ]
  },
  {
   "cell_type": "markdown",
   "id": "d7bf8129-53df-4061-99c1-bbf4c000884a",
   "metadata": {
    "tags": []
   },
   "source": [
    "## 2-1 숫자형"
   ]
  },
  {
   "cell_type": "markdown",
   "id": "6e444491-42c7-488b-bab3-297d796b501f",
   "metadata": {
    "tags": []
   },
   "source": [
    "### 숫자형은 어떻게 만들고 사용할까?"
   ]
  },
  {
   "cell_type": "markdown",
   "id": "32c18b97-677e-4905-ac5c-54c8dbb86406",
   "metadata": {
    "tags": []
   },
   "source": [
    "#### (1) 정수형"
   ]
  },
  {
   "cell_type": "code",
   "execution_count": 47,
   "id": "27ff88a2-bf5f-4af3-8aa0-6e13c43e5475",
   "metadata": {
    "tags": []
   },
   "outputs": [],
   "source": [
    "a = 123"
   ]
  },
  {
   "cell_type": "code",
   "execution_count": 48,
   "id": "b4b0742d-1331-42b1-ab78-a00fe19f3208",
   "metadata": {
    "tags": []
   },
   "outputs": [],
   "source": [
    "a = -178"
   ]
  },
  {
   "cell_type": "code",
   "execution_count": 49,
   "id": "dbbabc0c-b51e-49a8-aa41-195442047645",
   "metadata": {
    "tags": []
   },
   "outputs": [],
   "source": [
    "a = 0"
   ]
  },
  {
   "cell_type": "markdown",
   "id": "f22d244c-3328-4224-8695-972a31ad1c61",
   "metadata": {},
   "source": [
    "#### (2) 실수형"
   ]
  },
  {
   "cell_type": "markdown",
   "id": "b02851d6-fe57-4280-b446-f214ecea9196",
   "metadata": {},
   "source": [
    "##### 일반적인 실수형의 소수점 표현 방식"
   ]
  },
  {
   "cell_type": "code",
   "execution_count": 50,
   "id": "7416e625-42c7-45ea-a382-4d6a08a611d3",
   "metadata": {
    "tags": []
   },
   "outputs": [],
   "source": [
    "a= 1.2"
   ]
  },
  {
   "cell_type": "code",
   "execution_count": 51,
   "id": "2fd22d06-16b8-47c6-b95d-f0bdc8093667",
   "metadata": {
    "tags": []
   },
   "outputs": [],
   "source": [
    "a = -3.45"
   ]
  },
  {
   "cell_type": "markdown",
   "id": "402a6d7e-8e8c-4d23-8554-5851578a76f3",
   "metadata": {},
   "source": [
    "##### 컴퓨터식 지수 표현 방식(E, e)"
   ]
  },
  {
   "cell_type": "code",
   "execution_count": 56,
   "id": "b637201d-e6cb-4580-afbf-d5d613b6fe58",
   "metadata": {
    "tags": []
   },
   "outputs": [
    {
     "data": {
      "text/plain": [
       "42400000000.0"
      ]
     },
     "execution_count": 56,
     "metadata": {},
     "output_type": "execute_result"
    }
   ],
   "source": [
    "# E나 e 중 어느 것을 사용해도 무방\n",
    "a = 4.24E10\n",
    "a"
   ]
  },
  {
   "cell_type": "code",
   "execution_count": 55,
   "id": "f41bd4e5-d964-448d-b6b4-3623c7c112f8",
   "metadata": {
    "tags": []
   },
   "outputs": [
    {
     "data": {
      "text/plain": [
       "4.24e-10"
      ]
     },
     "execution_count": 55,
     "metadata": {},
     "output_type": "execute_result"
    }
   ],
   "source": [
    "a= 4.24e-10\n",
    "a"
   ]
  },
  {
   "cell_type": "markdown",
   "id": "3671d436-0a65-4db2-8f62-1c63301aa4e4",
   "metadata": {
    "tags": []
   },
   "source": [
    "- 실수형의 소수점 표현 방식"
   ]
  },
  {
   "cell_type": "code",
   "execution_count": 10,
   "id": "803b2d33-6a18-4810-b15d-f99f69a7c177",
   "metadata": {
    "tags": []
   },
   "outputs": [
    {
     "name": "stdout",
     "output_type": "stream",
     "text": [
      "42400000000.0\n",
      "4.24e-10\n"
     ]
    }
   ],
   "source": [
    "# e와 E 중 어느 것을 사용해도 무방\n",
    "a = 4.24E10 \n",
    "b = 4.24e-10\n",
    "print(a) # 4.24 * 3\n",
    "print(b)"
   ]
  },
  {
   "cell_type": "code",
   "execution_count": 6,
   "id": "cbcba38c-5f25-4428-9868-e4e6d6b1c419",
   "metadata": {
    "tags": []
   },
   "outputs": [
    {
     "name": "stdout",
     "output_type": "stream",
     "text": [
      "1\n"
     ]
    }
   ],
   "source": [
    "a= 1\n",
    "print(a)"
   ]
  },
  {
   "cell_type": "markdown",
   "id": "e9fa9887-7be3-438c-8dd5-8ad21bb14881",
   "metadata": {},
   "source": [
    "#### (3) 8진수와 16진수"
   ]
  },
  {
   "cell_type": "code",
   "execution_count": 13,
   "id": "263707c1-7550-44c9-9e82-848b5bf143ef",
   "metadata": {
    "tags": []
   },
   "outputs": [
    {
     "name": "stdout",
     "output_type": "stream",
     "text": [
      "127\n"
     ]
    }
   ],
   "source": [
    "#https://itbeginner2020.tistory.com/17\n",
    "#8진수 : 0o 또는 0O로 시작\n",
    "a = 0o177\n",
    "print(a)"
   ]
  },
  {
   "cell_type": "code",
   "execution_count": 15,
   "id": "d1c8c106-d9c9-4fba-b2dc-448ddfa20324",
   "metadata": {
    "tags": []
   },
   "outputs": [
    {
     "name": "stdout",
     "output_type": "stream",
     "text": [
      "2303\n"
     ]
    }
   ],
   "source": [
    "#16진수 : 0x로 시작\n",
    "#a,b,c,d,e,f 는 각각 10,11,12,13,14,15에 해당\n",
    "a = 0x8ff\n",
    "print(a)"
   ]
  },
  {
   "cell_type": "markdown",
   "id": "1f09137d-eead-4f3b-9244-f74af4897d36",
   "metadata": {},
   "source": [
    "### 숫자형을 활용하기 위한 연산자"
   ]
  },
  {
   "cell_type": "markdown",
   "id": "2b6d2a93-57b6-400c-83d5-ccb7821b62ca",
   "metadata": {
    "tags": []
   },
   "source": [
    "#### (1) 사칙연산"
   ]
  },
  {
   "cell_type": "code",
   "execution_count": 58,
   "id": "01b0fc88-b5f2-42cc-b702-3fc5c2e74fb2",
   "metadata": {
    "tags": []
   },
   "outputs": [],
   "source": [
    "a=3"
   ]
  },
  {
   "cell_type": "code",
   "execution_count": 59,
   "id": "f489764b-049c-4c9a-b2ba-30d93100be37",
   "metadata": {
    "tags": []
   },
   "outputs": [],
   "source": [
    "b=4"
   ]
  },
  {
   "cell_type": "code",
   "execution_count": 60,
   "id": "9ebd2a52-b0ff-4a67-82ed-cc18f70324a8",
   "metadata": {
    "tags": []
   },
   "outputs": [
    {
     "data": {
      "text/plain": [
       "7"
      ]
     },
     "execution_count": 60,
     "metadata": {},
     "output_type": "execute_result"
    }
   ],
   "source": [
    "a+b"
   ]
  },
  {
   "cell_type": "code",
   "execution_count": 61,
   "id": "95e68ac7-6509-4eaf-a558-b6a760877ef6",
   "metadata": {
    "tags": []
   },
   "outputs": [
    {
     "data": {
      "text/plain": [
       "12"
      ]
     },
     "execution_count": 61,
     "metadata": {},
     "output_type": "execute_result"
    }
   ],
   "source": [
    "a*b"
   ]
  },
  {
   "cell_type": "code",
   "execution_count": 62,
   "id": "3bb3ef30-ed34-42ac-bad0-a98d6ebe7b48",
   "metadata": {
    "tags": []
   },
   "outputs": [
    {
     "data": {
      "text/plain": [
       "0.75"
      ]
     },
     "execution_count": 62,
     "metadata": {},
     "output_type": "execute_result"
    }
   ],
   "source": [
    "a/b"
   ]
  },
  {
   "cell_type": "markdown",
   "id": "e2e93f20-510d-4d15-85c8-754b68f2d923",
   "metadata": {},
   "source": [
    "#### (2) ** 연산자(제곱)"
   ]
  },
  {
   "cell_type": "code",
   "execution_count": 16,
   "id": "3a903574-3b29-4900-a11c-d9d8aaed18ea",
   "metadata": {
    "tags": []
   },
   "outputs": [
    {
     "data": {
      "text/plain": [
       "81"
      ]
     },
     "execution_count": 16,
     "metadata": {},
     "output_type": "execute_result"
    }
   ],
   "source": [
    "a = 3\n",
    "b = 4\n",
    "a ** b"
   ]
  },
  {
   "cell_type": "markdown",
   "id": "9e69fd8c-d67b-40a4-98eb-bbeb432e28b4",
   "metadata": {
    "tags": []
   },
   "source": [
    "#### (3) % 연산자(나머지 반환)"
   ]
  },
  {
   "cell_type": "code",
   "execution_count": 18,
   "id": "759ffea6-728f-4ec3-9f9d-64ee815b37a3",
   "metadata": {
    "tags": []
   },
   "outputs": [
    {
     "data": {
      "text/plain": [
       "1"
      ]
     },
     "execution_count": 18,
     "metadata": {},
     "output_type": "execute_result"
    }
   ],
   "source": [
    "7%3"
   ]
  },
  {
   "cell_type": "markdown",
   "id": "4697aeca-5512-4cab-bb3b-fc4cb0394daf",
   "metadata": {
    "tags": []
   },
   "source": [
    "#### (4) // 연산자(몫 반환)"
   ]
  },
  {
   "cell_type": "code",
   "execution_count": 24,
   "id": "818e9d7d-966b-4fcf-bf09-37f472a9b1fe",
   "metadata": {
    "tags": []
   },
   "outputs": [
    {
     "data": {
      "text/plain": [
       "1"
      ]
     },
     "execution_count": 24,
     "metadata": {},
     "output_type": "execute_result"
    }
   ],
   "source": [
    "7/4\n",
    "7//4"
   ]
  },
  {
   "cell_type": "markdown",
   "id": "5a99b74f-578a-4157-8c9a-eadba14b8293",
   "metadata": {},
   "source": [
    "- 퀴즈"
   ]
  },
  {
   "cell_type": "code",
   "execution_count": 27,
   "id": "f0435c72-fa8b-4283-84fc-cbf8367800d1",
   "metadata": {
    "tags": []
   },
   "outputs": [
    {
     "name": "stdout",
     "output_type": "stream",
     "text": [
      "4\n",
      "2\n"
     ]
    }
   ],
   "source": [
    "#14/3 몫, 나머지\n",
    "print(14//3)\n",
    "print(14%3)\n"
   ]
  },
  {
   "cell_type": "markdown",
   "id": "31bfd08d-8dde-458c-b083-6eb23ea36c87",
   "metadata": {},
   "source": [
    "## 2-2 문자열 자료형"
   ]
  },
  {
   "cell_type": "markdown",
   "id": "8e03c71e-c297-431a-b137-c5002523b05f",
   "metadata": {},
   "source": [
    "### 문자열은 어떻게 만들고 사용할까?"
   ]
  },
  {
   "cell_type": "markdown",
   "id": "59648d0d-a1df-4643-b4d4-b0dcdab6d4c3",
   "metadata": {},
   "source": [
    "#### 1. 큰 따옴표(\")로 양쪽 둘러싸기"
   ]
  },
  {
   "cell_type": "code",
   "execution_count": 29,
   "id": "63c84658-5938-4c50-9bc9-0cc7918b69bb",
   "metadata": {
    "tags": []
   },
   "outputs": [
    {
     "name": "stdout",
     "output_type": "stream",
     "text": [
      "Hello World\n"
     ]
    }
   ],
   "source": [
    "print(\"Hello World\")"
   ]
  },
  {
   "cell_type": "markdown",
   "id": "afacb5f0-2d13-445f-884d-12e64a67cbf4",
   "metadata": {
    "tags": []
   },
   "source": [
    "#### 2. 작은따옴표(\")로 양쪽 둘러싸기"
   ]
  },
  {
   "cell_type": "code",
   "execution_count": 30,
   "id": "0573f9d1-287c-44a4-a4cb-a89c86f29de4",
   "metadata": {
    "tags": []
   },
   "outputs": [
    {
     "name": "stdout",
     "output_type": "stream",
     "text": [
      "Python is fun\n"
     ]
    }
   ],
   "source": [
    "print('Python is fun')"
   ]
  },
  {
   "cell_type": "markdown",
   "id": "e47d7a55-1c19-44d2-9fb2-4b37359d852b",
   "metadata": {},
   "source": [
    "#### 3. 큰따옴표 3개를 연속(\"\"\")으로 양쪽"
   ]
  },
  {
   "cell_type": "code",
   "execution_count": 31,
   "id": "2b5d97d1-127d-46f2-a30d-4aed1b7406f3",
   "metadata": {
    "tags": []
   },
   "outputs": [
    {
     "name": "stdout",
     "output_type": "stream",
     "text": [
      "\n",
      "Life is too short,\n",
      "You nee python\n",
      "\n"
     ]
    }
   ],
   "source": [
    "print(\"\"\"\n",
    "Life is too short,\n",
    "You need python\n",
    "\"\"\")"
   ]
  },
  {
   "cell_type": "markdown",
   "id": "e980ca5a-0282-445e-9924-7f17b39da5f8",
   "metadata": {},
   "source": [
    "#### 4. 작은따옴표 3개를 연속(''')으로 양쪽"
   ]
  },
  {
   "cell_type": "code",
   "execution_count": 33,
   "id": "4ae4a90f-1614-41fb-978f-6ca87c737d3f",
   "metadata": {
    "tags": []
   },
   "outputs": [
    {
     "name": "stdout",
     "output_type": "stream",
     "text": [
      "\n",
      "Life is too short,\n",
      "You need python\n",
      "\n"
     ]
    }
   ],
   "source": [
    "print('''\n",
    "Life is too short,\n",
    "You need python\n",
    "''')"
   ]
  },
  {
   "cell_type": "markdown",
   "id": "90400fa9-22e8-48e5-857f-64b274fa49c4",
   "metadata": {
    "tags": []
   },
   "source": [
    "### 문자열 안에 작은다옴표나 큰따옴표 포함시키기"
   ]
  },
  {
   "cell_type": "markdown",
   "id": "9056d258-18e5-45d5-9c9e-d7e6ba6caf3d",
   "metadata": {},
   "source": [
    "#### 1. 문자열에 작은따옴표(') 포함시키기"
   ]
  },
  {
   "cell_type": "code",
   "execution_count": 36,
   "id": "7e81ca76-2462-4fbc-b628-8752dfa07c8e",
   "metadata": {
    "tags": []
   },
   "outputs": [
    {
     "data": {
      "text/plain": [
       "\"Python's favorite food is perl\""
      ]
     },
     "execution_count": 36,
     "metadata": {},
     "output_type": "execute_result"
    }
   ],
   "source": [
    "#큰따옴표로 둘러싼다.\n",
    "food = \"Python's favorite food is perl\"\n",
    "food"
   ]
  },
  {
   "cell_type": "code",
   "execution_count": 37,
   "id": "c1e6c643-0acc-45be-a666-179188147e1b",
   "metadata": {
    "tags": []
   },
   "outputs": [
    {
     "ename": "SyntaxError",
     "evalue": "unterminated string literal (detected at line 2) (4176699085.py, line 2)",
     "output_type": "error",
     "traceback": [
      "\u001b[1;36m  Cell \u001b[1;32mIn[37], line 2\u001b[1;36m\u001b[0m\n\u001b[1;33m    food = 'Python's favorite food is perl'\u001b[0m\n\u001b[1;37m                                          ^\u001b[0m\n\u001b[1;31mSyntaxError\u001b[0m\u001b[1;31m:\u001b[0m unterminated string literal (detected at line 2)\n"
     ]
    }
   ],
   "source": [
    "#작은따옴표가 포함된 문자열을 작은따옴표로 둘러싼 경우 -> 오류발생\n",
    "food = 'Python's favorite food is perl'"
   ]
  },
  {
   "cell_type": "markdown",
   "id": "770973fd-b400-4d12-95cb-ea821007a3a6",
   "metadata": {
    "tags": []
   },
   "source": [
    "#### 2. 문자열에 큰따옴표(\") 포함시키기"
   ]
  },
  {
   "cell_type": "code",
   "execution_count": 39,
   "id": "7e86ac83-4f81-4ae8-bbd3-251995d1ffd0",
   "metadata": {
    "tags": []
   },
   "outputs": [
    {
     "data": {
      "text/plain": [
       "'\"Python is very easy.\" he says.'"
      ]
     },
     "execution_count": 39,
     "metadata": {},
     "output_type": "execute_result"
    }
   ],
   "source": [
    "# 작은따옴표로 둘러싼다.\n",
    "say = '\"Python is very easy.\" he says.'\n",
    "say"
   ]
  },
  {
   "cell_type": "markdown",
   "id": "34d819e0-0b11-41f3-a9f5-650a71eb4509",
   "metadata": {},
   "source": [
    "#### 3. 백슬래시\\를 사용해 작은따옴표와 큰따옴표를 문자열에 포함시키기\n"
   ]
  },
  {
   "cell_type": "code",
   "execution_count": 45,
   "id": "d4d42f53-74dc-4eab-a51f-e4306a20bafc",
   "metadata": {
    "tags": []
   },
   "outputs": [
    {
     "name": "stdout",
     "output_type": "stream",
     "text": [
      "Python's favorite food is perl\n",
      "\"Python is very easy.\" he says.\n"
     ]
    }
   ],
   "source": [
    "food = 'Python\\'s favorite food is perl'\n",
    "print(food)\n",
    "say = \"\\\"Python is very easy.\\\" he says.\"\n",
    "print(say)"
   ]
  },
  {
   "cell_type": "markdown",
   "id": "6d05584f-4ced-4d02-b6c2-f5edd123798f",
   "metadata": {},
   "source": [
    "### 여러 줄인 문자열을 변수에 대입"
   ]
  },
  {
   "cell_type": "markdown",
   "id": "56d520ba-4a1a-4aeb-a5c9-925452c4d753",
   "metadata": {
    "tags": []
   },
   "source": [
    "#### 1. 줄을 바꾸는 이스케이프 코드'\\n' 삽입"
   ]
  },
  {
   "cell_type": "code",
   "execution_count": 47,
   "id": "3c239404-32f1-4f61-86f9-5be244f34393",
   "metadata": {
    "tags": []
   },
   "outputs": [],
   "source": [
    "multiline = \"Life is too short\\nYou need python\""
   ]
  },
  {
   "cell_type": "markdown",
   "id": "0d082c89-ba57-4b9f-805b-47c7e2f64868",
   "metadata": {},
   "source": [
    "#### 2. 연속된 작은따옴표 3개(''') 또는 큰따옴표 3개(\"\"\") 사용"
   ]
  },
  {
   "cell_type": "code",
   "execution_count": 50,
   "id": "ca76265a-8f04-4abe-bd87-c610ab3e020a",
   "metadata": {
    "tags": []
   },
   "outputs": [
    {
     "name": "stdout",
     "output_type": "stream",
     "text": [
      "\n",
      "Life is too short\n",
      "you need python\n",
      "\n"
     ]
    }
   ],
   "source": [
    "#작은 따옴표 3개\n",
    "multiline = '''\n",
    "Life is too short\n",
    "you need python\n",
    "'''\n",
    "print(multiline)"
   ]
  },
  {
   "cell_type": "code",
   "execution_count": 51,
   "id": "bad8033d-5dfd-4cad-a0a1-18d5e50ee987",
   "metadata": {
    "tags": []
   },
   "outputs": [
    {
     "name": "stdout",
     "output_type": "stream",
     "text": [
      "\n",
      "Life is too short\n",
      "You need python\n",
      "\n"
     ]
    }
   ],
   "source": [
    "#큰따옴표 3개\n",
    "multiline = \"\"\"\n",
    "Life is too short\n",
    "You need python\n",
    "\"\"\"\n",
    "print(multiline)"
   ]
  },
  {
   "cell_type": "markdown",
   "id": "39c1055c-be4e-4a56-a2c2-a3e5e5417991",
   "metadata": {},
   "source": [
    "### 문자열 연산하기"
   ]
  },
  {
   "cell_type": "markdown",
   "id": "9ad5b7c0-71ed-46b8-8cb5-7d3b5811ed85",
   "metadata": {},
   "source": [
    "#### 1. 문자열 더해서 연결(Concatenation)"
   ]
  },
  {
   "cell_type": "code",
   "execution_count": 53,
   "id": "1d92c598-fca7-443e-ad53-3ce64b046936",
   "metadata": {
    "tags": []
   },
   "outputs": [
    {
     "data": {
      "text/plain": [
       "'Python is fun!'"
      ]
     },
     "execution_count": 53,
     "metadata": {},
     "output_type": "execute_result"
    }
   ],
   "source": [
    "head = \"Python\"\n",
    "tail = \" is fun!\"\n",
    "head + tail"
   ]
  },
  {
   "cell_type": "markdown",
   "id": "a5f61df1-e217-4a25-8b9c-4542ff7dbc56",
   "metadata": {},
   "source": [
    "#### 2. 문자열 곱하기"
   ]
  },
  {
   "cell_type": "code",
   "execution_count": 54,
   "id": "26866909-e078-4e56-93d1-fb6e1197037d",
   "metadata": {
    "tags": []
   },
   "outputs": [
    {
     "data": {
      "text/plain": [
       "'pythonpython'"
      ]
     },
     "execution_count": 54,
     "metadata": {},
     "output_type": "execute_result"
    }
   ],
   "source": [
    "a = \"python\"\n",
    "a*2"
   ]
  },
  {
   "cell_type": "markdown",
   "id": "296c55b1-abea-419a-9374-8d7ec6821e21",
   "metadata": {
    "tags": []
   },
   "source": [
    "#### 3. 문자열 길이 구하기(len)"
   ]
  },
  {
   "cell_type": "code",
   "execution_count": 56,
   "id": "7b6b47d7-bf23-4c02-a43c-b91adefa67ff",
   "metadata": {
    "tags": []
   },
   "outputs": [
    {
     "data": {
      "text/plain": [
       "17"
      ]
     },
     "execution_count": 56,
     "metadata": {},
     "output_type": "execute_result"
    }
   ],
   "source": [
    "a = \"Life is too short\"\n",
    "len(a)"
   ]
  },
  {
   "cell_type": "markdown",
   "id": "b11c0e0f-08d5-404a-b7da-0f417d7b0da9",
   "metadata": {},
   "source": [
    "- 퀴즈"
   ]
  },
  {
   "cell_type": "code",
   "execution_count": 57,
   "id": "23fadf39-4457-4b77-b3f6-2833bfa13699",
   "metadata": {
    "tags": []
   },
   "outputs": [
    {
     "data": {
      "text/plain": [
       "15"
      ]
     },
     "execution_count": 57,
     "metadata": {},
     "output_type": "execute_result"
    }
   ],
   "source": [
    "a = 'You need python'\n",
    "len(a)"
   ]
  },
  {
   "cell_type": "markdown",
   "id": "70be3df4-7225-4928-998a-ec18aa2063d3",
   "metadata": {
    "tags": []
   },
   "source": [
    "### 문자열 인덱싱(Indexing)과 슬라이싱(Slicing)"
   ]
  },
  {
   "cell_type": "code",
   "execution_count": 59,
   "id": "6190c481-43c7-4f35-8340-e848db7e3fc7",
   "metadata": {
    "tags": []
   },
   "outputs": [],
   "source": [
    "#~51"
   ]
  },
  {
   "cell_type": "markdown",
   "id": "b24c02cb-96f4-4c7a-8ba2-b86b12aa5279",
   "metadata": {},
   "source": [
    "```\n",
    "- 인덱싱(indexing) : 가리킨다\n",
    "- 슬라이싱(slicing) : 잘라낸다\n",
    "```"
   ]
  },
  {
   "cell_type": "markdown",
   "id": "d2cf81ee-03d3-45c6-969b-727a2a081ef5",
   "metadata": {},
   "source": [
    "#### 문자열 인덱싱이란?"
   ]
  },
  {
   "cell_type": "code",
   "execution_count": 1,
   "id": "f787289b-d807-4493-8e1d-7400a33fbaac",
   "metadata": {
    "tags": []
   },
   "outputs": [
    {
     "data": {
      "text/plain": [
       "'e'"
      ]
     },
     "execution_count": 1,
     "metadata": {},
     "output_type": "execute_result"
    }
   ],
   "source": [
    "a = \"Life is too short, You need Python\"\n",
    "a[3]"
   ]
  },
  {
   "cell_type": "markdown",
   "id": "6ad0653c-6089-4319-b79d-0b773744bf89",
   "metadata": {},
   "source": [
    "#### 문자열 인덱싱 활용하기"
   ]
  },
  {
   "cell_type": "code",
   "execution_count": 3,
   "id": "18a36b53-ab21-4d56-80ba-87c4bdbba404",
   "metadata": {
    "tags": []
   },
   "outputs": [
    {
     "data": {
      "text/plain": [
       "'L'"
      ]
     },
     "execution_count": 3,
     "metadata": {},
     "output_type": "execute_result"
    }
   ],
   "source": [
    "a = \"Life is too short, You need Python\"\n",
    "a[0]"
   ]
  },
  {
   "cell_type": "code",
   "execution_count": 4,
   "id": "82ab3d86-5d34-4e09-a5c9-da0059444bdc",
   "metadata": {
    "tags": []
   },
   "outputs": [
    {
     "data": {
      "text/plain": [
       "'s'"
      ]
     },
     "execution_count": 4,
     "metadata": {},
     "output_type": "execute_result"
    }
   ],
   "source": [
    "a[12]"
   ]
  },
  {
   "cell_type": "code",
   "execution_count": 5,
   "id": "7272c386-3fd9-4ca8-89cb-efe8e7e6d07b",
   "metadata": {
    "tags": []
   },
   "outputs": [
    {
     "data": {
      "text/plain": [
       "'n'"
      ]
     },
     "execution_count": 5,
     "metadata": {},
     "output_type": "execute_result"
    }
   ],
   "source": [
    "a[-1] # 맨 뒤부터 인덱싱은 -1부터 시작"
   ]
  },
  {
   "cell_type": "code",
   "execution_count": 6,
   "id": "cda10330-56e6-4368-b84a-eb1823e7a1c0",
   "metadata": {
    "tags": []
   },
   "outputs": [
    {
     "data": {
      "text/plain": [
       "'L'"
      ]
     },
     "execution_count": 6,
     "metadata": {},
     "output_type": "execute_result"
    }
   ],
   "source": [
    "# a[-0]은 a[0]과 같다!\n",
    "a[-0]"
   ]
  },
  {
   "cell_type": "code",
   "execution_count": 7,
   "id": "fecffe2a-2c90-4466-b9f7-a6c1f523bb4b",
   "metadata": {
    "tags": []
   },
   "outputs": [
    {
     "data": {
      "text/plain": [
       "'o'"
      ]
     },
     "execution_count": 7,
     "metadata": {},
     "output_type": "execute_result"
    }
   ],
   "source": [
    "a[-2]"
   ]
  },
  {
   "cell_type": "markdown",
   "id": "f78d195c-d639-497a-849f-f0cfd8c429c5",
   "metadata": {},
   "source": [
    "#### 문자열 슬라이싱이란?"
   ]
  },
  {
   "cell_type": "code",
   "execution_count": 9,
   "id": "54e2a739-24ec-42f3-9ce7-7b3ff1f7765d",
   "metadata": {
    "tags": []
   },
   "outputs": [
    {
     "data": {
      "text/plain": [
       "'Life'"
      ]
     },
     "execution_count": 9,
     "metadata": {},
     "output_type": "execute_result"
    }
   ],
   "source": [
    "a = \"Life is too short, You need Python\"\n",
    "b = a[0] + a[1] + a[2] + a[3]\n",
    "b"
   ]
  },
  {
   "cell_type": "code",
   "execution_count": 10,
   "id": "7dea7ed1-a65b-4620-bd81-bff956a85362",
   "metadata": {
    "tags": []
   },
   "outputs": [
    {
     "data": {
      "text/plain": [
       "'Life'"
      ]
     },
     "execution_count": 10,
     "metadata": {},
     "output_type": "execute_result"
    }
   ],
   "source": [
    "a = \"Life is too short, You need Python\"\n",
    "a[0:4] #끝번호 포함안함"
   ]
  },
  {
   "cell_type": "code",
   "execution_count": 11,
   "id": "b7e37112-2b6a-48ee-84ce-b54eccacbc04",
   "metadata": {
    "tags": []
   },
   "outputs": [
    {
     "data": {
      "text/plain": [
       "'You need Python'"
      ]
     },
     "execution_count": 11,
     "metadata": {},
     "output_type": "execute_result"
    }
   ],
   "source": [
    "a[19:]"
   ]
  },
  {
   "cell_type": "code",
   "execution_count": 12,
   "id": "983bf3ea-ca74-45b6-9e08-929668560b13",
   "metadata": {
    "tags": []
   },
   "outputs": [
    {
     "data": {
      "text/plain": [
       "'Life is too short'"
      ]
     },
     "execution_count": 12,
     "metadata": {},
     "output_type": "execute_result"
    }
   ],
   "source": [
    "a[:17]"
   ]
  },
  {
   "cell_type": "code",
   "execution_count": 13,
   "id": "1e7841df-23c7-479c-ab5c-5fdee194f1dc",
   "metadata": {
    "tags": []
   },
   "outputs": [
    {
     "data": {
      "text/plain": [
       "'Life is too short, You need Python'"
      ]
     },
     "execution_count": 13,
     "metadata": {},
     "output_type": "execute_result"
    }
   ],
   "source": [
    "a[:]"
   ]
  },
  {
   "cell_type": "code",
   "execution_count": 14,
   "id": "3897ad59-43da-44c9-9286-069e5c1a653f",
   "metadata": {
    "tags": []
   },
   "outputs": [
    {
     "data": {
      "text/plain": [
       "'You need'"
      ]
     },
     "execution_count": 14,
     "metadata": {},
     "output_type": "execute_result"
    }
   ],
   "source": [
    "a[19:-7] #-8까지 출력"
   ]
  },
  {
   "cell_type": "markdown",
   "id": "fc722b03-2ab8-4583-a462-fc474e5fec16",
   "metadata": {},
   "source": [
    "#### 슬라이싱으로 문자열 나누기"
   ]
  },
  {
   "cell_type": "code",
   "execution_count": 15,
   "id": "fc1440d5-16f8-42df-9591-8798541bb990",
   "metadata": {
    "tags": []
   },
   "outputs": [],
   "source": [
    "a = \"20010331Rainy\""
   ]
  },
  {
   "cell_type": "code",
   "execution_count": 16,
   "id": "21e4dfe0-e56e-4b8d-b152-b7e8390a406e",
   "metadata": {
    "tags": []
   },
   "outputs": [],
   "source": [
    "date=a[:8]"
   ]
  },
  {
   "cell_type": "code",
   "execution_count": 18,
   "id": "06a43250-604b-4e84-98ab-b0707af57170",
   "metadata": {
    "tags": []
   },
   "outputs": [],
   "source": [
    "weather=a[8:]"
   ]
  },
  {
   "cell_type": "code",
   "execution_count": 19,
   "id": "2f43cfea-811c-4b07-8a71-3a4ce735c122",
   "metadata": {
    "tags": []
   },
   "outputs": [
    {
     "data": {
      "text/plain": [
       "'20010331'"
      ]
     },
     "execution_count": 19,
     "metadata": {},
     "output_type": "execute_result"
    }
   ],
   "source": [
    "date"
   ]
  },
  {
   "cell_type": "code",
   "execution_count": 20,
   "id": "752a3cef-42fc-47bf-aba5-c46e88c8d068",
   "metadata": {
    "tags": []
   },
   "outputs": [
    {
     "data": {
      "text/plain": [
       "'Rainy'"
      ]
     },
     "execution_count": 20,
     "metadata": {},
     "output_type": "execute_result"
    }
   ],
   "source": [
    "weather"
   ]
  },
  {
   "cell_type": "markdown",
   "id": "99ae9ec7-4666-4d9e-9e6c-6b20b0dab067",
   "metadata": {},
   "source": [
    "- Pithon이라는 문자열을 Python으로 바꾸려면?"
   ]
  },
  {
   "cell_type": "code",
   "execution_count": 21,
   "id": "8696075f-cb4e-402e-9050-bb7262ffadc4",
   "metadata": {
    "tags": []
   },
   "outputs": [],
   "source": [
    "a = \"Pithon\""
   ]
  },
  {
   "cell_type": "code",
   "execution_count": 22,
   "id": "14f30d95-d3a4-4cbd-8c10-f1a5c585b31b",
   "metadata": {
    "tags": []
   },
   "outputs": [
    {
     "data": {
      "text/plain": [
       "'i'"
      ]
     },
     "execution_count": 22,
     "metadata": {},
     "output_type": "execute_result"
    }
   ],
   "source": [
    "a[1]"
   ]
  },
  {
   "cell_type": "code",
   "execution_count": 23,
   "id": "8a0dd0fa-eb8b-4445-84ac-49126c133b30",
   "metadata": {
    "tags": []
   },
   "outputs": [
    {
     "ename": "TypeError",
     "evalue": "'str' object does not support item assignment",
     "output_type": "error",
     "traceback": [
      "\u001b[1;31m---------------------------------------------------------------------------\u001b[0m",
      "\u001b[1;31mTypeError\u001b[0m                                 Traceback (most recent call last)",
      "Cell \u001b[1;32mIn[23], line 1\u001b[0m\n\u001b[1;32m----> 1\u001b[0m \u001b[43ma\u001b[49m\u001b[43m[\u001b[49m\u001b[38;5;241;43m1\u001b[39;49m\u001b[43m]\u001b[49m \u001b[38;5;241m=\u001b[39m \u001b[38;5;124m'\u001b[39m\u001b[38;5;124my\u001b[39m\u001b[38;5;124m'\u001b[39m\n",
      "\u001b[1;31mTypeError\u001b[0m: 'str' object does not support item assignment"
     ]
    }
   ],
   "source": [
    "a[1] = 'y'\n",
    "#오류 발생 \n",
    "#문자열의 요솟값은 바꿀 수 있는 값이 아니다.\n",
    "#문자열 자료형은 immutable한 자료형"
   ]
  },
  {
   "cell_type": "code",
   "execution_count": 24,
   "id": "d917c381-a74a-4bc6-bab0-55e96721e83d",
   "metadata": {
    "tags": []
   },
   "outputs": [],
   "source": [
    "a = \"Pithon\""
   ]
  },
  {
   "cell_type": "code",
   "execution_count": 25,
   "id": "c6a659fe-3d5d-4d22-8d7d-43482e42d06a",
   "metadata": {
    "tags": []
   },
   "outputs": [
    {
     "data": {
      "text/plain": [
       "'P'"
      ]
     },
     "execution_count": 25,
     "metadata": {},
     "output_type": "execute_result"
    }
   ],
   "source": [
    "a[:1]"
   ]
  },
  {
   "cell_type": "code",
   "execution_count": 27,
   "id": "64428c25-f009-4869-8b0d-ec01f88431f2",
   "metadata": {
    "tags": []
   },
   "outputs": [
    {
     "data": {
      "text/plain": [
       "'thon'"
      ]
     },
     "execution_count": 27,
     "metadata": {},
     "output_type": "execute_result"
    }
   ],
   "source": [
    "a[2:]"
   ]
  },
  {
   "cell_type": "code",
   "execution_count": 28,
   "id": "e52fa410-539b-4fee-9207-4fc7a98fc796",
   "metadata": {
    "tags": []
   },
   "outputs": [
    {
     "data": {
      "text/plain": [
       "'Python'"
      ]
     },
     "execution_count": 28,
     "metadata": {},
     "output_type": "execute_result"
    }
   ],
   "source": [
    "a[:1] + 'y' + a[2:]"
   ]
  },
  {
   "cell_type": "markdown",
   "id": "6fb632ab-cad5-429a-a9e0-df044d5ad13e",
   "metadata": {},
   "source": [
    "### 문자열 포매팅"
   ]
  },
  {
   "cell_type": "markdown",
   "id": "96dabef7-fa7c-4c0b-8f39-f0a721d1e2c0",
   "metadata": {},
   "source": [
    "#### 문자열 포매팅 따라하기"
   ]
  },
  {
   "cell_type": "markdown",
   "id": "f0a1f10a-f261-4861-a3e3-46209519c440",
   "metadata": {
    "tags": []
   },
   "source": [
    "```1. 숫자 바로 대입```"
   ]
  },
  {
   "cell_type": "code",
   "execution_count": 30,
   "id": "35f9b00c-e78b-40db-ab2b-3fa5cdd80b18",
   "metadata": {
    "tags": []
   },
   "outputs": [
    {
     "data": {
      "text/plain": [
       "'I eat 3 apples.'"
      ]
     },
     "execution_count": 30,
     "metadata": {},
     "output_type": "execute_result"
    }
   ],
   "source": [
    "\"I eat %d apples.\" % 3 "
   ]
  },
  {
   "cell_type": "markdown",
   "id": "8ed4b747-f058-4838-b41b-46fb7b8ff3a1",
   "metadata": {},
   "source": [
    "```2.문자열 바로 대입```"
   ]
  },
  {
   "cell_type": "code",
   "execution_count": 31,
   "id": "2eec01ba-4033-473d-964e-6282905b0ed3",
   "metadata": {
    "tags": []
   },
   "outputs": [
    {
     "data": {
      "text/plain": [
       "'I eat five apples.'"
      ]
     },
     "execution_count": 31,
     "metadata": {},
     "output_type": "execute_result"
    }
   ],
   "source": [
    "\"I eat %s apples.\" % \"five\"\n",
    "#숫자는 %d, 문자열은 %s"
   ]
  },
  {
   "cell_type": "markdown",
   "id": "5b75ce67-a95b-403a-9e24-5cc0d12941b2",
   "metadata": {},
   "source": [
    "```3. 숫자 값을 나타내는 변수로 대입```"
   ]
  },
  {
   "cell_type": "code",
   "execution_count": 32,
   "id": "af5beea0-b088-44cd-8939-cd85a62925ad",
   "metadata": {
    "tags": []
   },
   "outputs": [],
   "source": [
    "number = 3"
   ]
  },
  {
   "cell_type": "code",
   "execution_count": 33,
   "id": "f514dde1-9a01-41cc-81b8-df006bb234f1",
   "metadata": {
    "tags": []
   },
   "outputs": [
    {
     "data": {
      "text/plain": [
       "'I eat 3 apples.'"
      ]
     },
     "execution_count": 33,
     "metadata": {},
     "output_type": "execute_result"
    }
   ],
   "source": [
    "\"I eat %d apples.\" % number"
   ]
  },
  {
   "cell_type": "markdown",
   "id": "a13910ba-831b-411a-ab04-b46409e35c7f",
   "metadata": {},
   "source": [
    "```4. 2개 이상의 값 넣기```"
   ]
  },
  {
   "cell_type": "code",
   "execution_count": 34,
   "id": "99563039-6b61-453a-95a2-bf0c88282485",
   "metadata": {
    "tags": []
   },
   "outputs": [],
   "source": [
    "number = 10"
   ]
  },
  {
   "cell_type": "code",
   "execution_count": 35,
   "id": "ad325886-8df1-4767-a820-475c6ee552eb",
   "metadata": {
    "tags": []
   },
   "outputs": [],
   "source": [
    "day = \"three\""
   ]
  },
  {
   "cell_type": "code",
   "execution_count": 36,
   "id": "d040e948-805f-449c-bb01-41ebb0c9c0a6",
   "metadata": {
    "tags": []
   },
   "outputs": [
    {
     "data": {
      "text/plain": [
       "'I ate 10 apples. so I was sick for three days.'"
      ]
     },
     "execution_count": 36,
     "metadata": {},
     "output_type": "execute_result"
    }
   ],
   "source": [
    "\"I ate %d apples. so I was sick for %s days.\" %(number, day)"
   ]
  },
  {
   "cell_type": "markdown",
   "id": "7fa1865d-eacd-4883-9da3-2b63a94ccfe4",
   "metadata": {},
   "source": [
    "- 문자열 포맷 코드"
   ]
  },
  {
   "cell_type": "code",
   "execution_count": 37,
   "id": "d73964a7-0fdc-425e-b6c4-8f7d1e3b1ad3",
   "metadata": {
    "tags": []
   },
   "outputs": [
    {
     "data": {
      "text/plain": [
       "'I have 3 apples'"
      ]
     },
     "execution_count": 37,
     "metadata": {},
     "output_type": "execute_result"
    }
   ],
   "source": [
    "\"I have %s apples\" % 3"
   ]
  },
  {
   "cell_type": "code",
   "execution_count": 38,
   "id": "08ba08e8-11a4-46df-9f05-dc2647421443",
   "metadata": {
    "tags": []
   },
   "outputs": [
    {
     "data": {
      "text/plain": [
       "'rate is 3.324'"
      ]
     },
     "execution_count": 38,
     "metadata": {},
     "output_type": "execute_result"
    }
   ],
   "source": [
    "\"rate is %s\" % 3.324\n",
    "#%s는 자동으로 % 뒤에 있는 값을 문자열로 바꾼다."
   ]
  },
  {
   "cell_type": "markdown",
   "id": "cd86a220-e8f2-4711-a392-9785421731f4",
   "metadata": {},
   "source": [
    "- 포매팅 연산자 %d와 %를 같이 쓸 때는 %%를 쓴다."
   ]
  },
  {
   "cell_type": "code",
   "execution_count": 39,
   "id": "5bcfed3d-4785-45ba-86e1-823a7d60536d",
   "metadata": {
    "tags": []
   },
   "outputs": [
    {
     "ename": "ValueError",
     "evalue": "incomplete format",
     "output_type": "error",
     "traceback": [
      "\u001b[1;31m---------------------------------------------------------------------------\u001b[0m",
      "\u001b[1;31mValueError\u001b[0m                                Traceback (most recent call last)",
      "Cell \u001b[1;32mIn[39], line 1\u001b[0m\n\u001b[1;32m----> 1\u001b[0m \u001b[38;5;124;43m\"\u001b[39;49m\u001b[38;5;124;43mError is \u001b[39;49m\u001b[38;5;132;43;01m%d\u001b[39;49;00m\u001b[38;5;124;43m%\u001b[39;49m\u001b[38;5;124;43m\"\u001b[39;49m\u001b[43m \u001b[49m\u001b[38;5;241;43m%\u001b[39;49m\u001b[43m \u001b[49m\u001b[38;5;241;43m98\u001b[39;49m\n",
      "\u001b[1;31mValueError\u001b[0m: incomplete format"
     ]
    }
   ],
   "source": [
    "\"Error is %d%\" % 98"
   ]
  },
  {
   "cell_type": "code",
   "execution_count": 40,
   "id": "ba6cf839-703a-44ea-bc3b-e13e00b8744c",
   "metadata": {
    "tags": []
   },
   "outputs": [
    {
     "data": {
      "text/plain": [
       "'Error is 98%'"
      ]
     },
     "execution_count": 40,
     "metadata": {},
     "output_type": "execute_result"
    }
   ],
   "source": [
    "#%d와 %가 같은 문자열 안에 존재하는 경우, %를 나타내려면 반드시 %%로 써야 한다.\n",
    "\"Error is %d%%\" % 98"
   ]
  },
  {
   "cell_type": "markdown",
   "id": "9e35a9df-2037-4ddb-84c3-3ccffee7b5f1",
   "metadata": {},
   "source": [
    "#### 포맷 코드와 숫자 함께 사용하기"
   ]
  },
  {
   "cell_type": "markdown",
   "id": "27e2c021-0cbb-46b7-949e-6067575fa540",
   "metadata": {},
   "source": [
    "```1. 정렬과 공백```"
   ]
  },
  {
   "cell_type": "code",
   "execution_count": 42,
   "id": "75f380c0-43e1-48d5-9ee0-cac2e8f2680d",
   "metadata": {
    "tags": []
   },
   "outputs": [
    {
     "data": {
      "text/plain": [
       "'        hi'"
      ]
     },
     "execution_count": 42,
     "metadata": {},
     "output_type": "execute_result"
    }
   ],
   "source": [
    "\"%10s\" % \"hi\" \n",
    "# %10s는 전체 길이가 10개인 문자열 공간에서 대입되는 값을 오른쪽을 정렬하고 그 앞의 나머지는 공백으로 남겨두라는 의미.\n",
    "#전체 길이 10개 = 왼쪽 공백 8개 + \"hi\" 문자열 길이 2개"
   ]
  },
  {
   "cell_type": "code",
   "execution_count": 47,
   "id": "886975e6-8146-442e-aba7-c09e2ca042ad",
   "metadata": {
    "tags": []
   },
   "outputs": [
    {
     "data": {
      "text/plain": [
       "'hi        jane'"
      ]
     },
     "execution_count": 47,
     "metadata": {},
     "output_type": "execute_result"
    }
   ],
   "source": [
    "\"%-10sjane\" % 'hi' \n",
    "#hi가 왼쪽 정렬됨"
   ]
  },
  {
   "cell_type": "markdown",
   "id": "c1018016-76a5-4fc8-bf81-bdbafe1fb8ef",
   "metadata": {},
   "source": [
    "```2. 소수점 표현하기```"
   ]
  },
  {
   "cell_type": "code",
   "execution_count": 48,
   "id": "8147f0b2-d475-4f99-87ec-fb89ec5354d1",
   "metadata": {
    "tags": []
   },
   "outputs": [
    {
     "data": {
      "text/plain": [
       "'3.4213'"
      ]
     },
     "execution_count": 48,
     "metadata": {},
     "output_type": "execute_result"
    }
   ],
   "source": [
    "\"%0.4f\" % 3.42134234\n",
    "#'.'의 의미는 소수점 포인트이고 그 뒤의 숫자 4는 소수점 뒤에 나올 숫자의 개수"
   ]
  },
  {
   "cell_type": "code",
   "execution_count": 50,
   "id": "3423490c-6a49-4b7e-9a2b-53d7f90a39ce",
   "metadata": {
    "tags": []
   },
   "outputs": [
    {
     "data": {
      "text/plain": [
       "'    3.4213'"
      ]
     },
     "execution_count": 50,
     "metadata": {},
     "output_type": "execute_result"
    }
   ],
   "source": [
    "\"%10.4f\" % 3.42134234\n",
    "# 소수점 네 번째 자리까지만 표시하고 전체 길이가 10인 문자열 공간에서 오른쪽 정렬"
   ]
  },
  {
   "cell_type": "markdown",
   "id": "5e884df6-bdcf-4efa-abce-e5c84b6b3afc",
   "metadata": {},
   "source": [
    "#### format 함수를 사용한 포매팅"
   ]
  },
  {
   "cell_type": "markdown",
   "id": "ac03604b-023e-45ee-8381-42efda6c2947",
   "metadata": {},
   "source": [
    "```숫자 바로 대입하기```"
   ]
  },
  {
   "cell_type": "code",
   "execution_count": 51,
   "id": "1cae27a3-35ea-4a05-8279-9076e9cbf5ec",
   "metadata": {
    "tags": []
   },
   "outputs": [
    {
     "data": {
      "text/plain": [
       "'I eat 3 apples'"
      ]
     },
     "execution_count": 51,
     "metadata": {},
     "output_type": "execute_result"
    }
   ],
   "source": [
    "\"I eat {0} apples\".format(3)"
   ]
  },
  {
   "cell_type": "markdown",
   "id": "d688f571-fc87-42d3-8cf1-5a6e33fc0c75",
   "metadata": {},
   "source": [
    "```문자열 바로 대입하기```"
   ]
  },
  {
   "cell_type": "code",
   "execution_count": 52,
   "id": "98977913-40a8-4f81-ad67-cdc26f95daff",
   "metadata": {
    "tags": []
   },
   "outputs": [
    {
     "data": {
      "text/plain": [
       "'I eat five apples'"
      ]
     },
     "execution_count": 52,
     "metadata": {},
     "output_type": "execute_result"
    }
   ],
   "source": [
    "\"I eat {0} apples\".format(\"five\")"
   ]
  },
  {
   "cell_type": "markdown",
   "id": "e007df42-8b03-4428-9127-770d0ab428db",
   "metadata": {},
   "source": [
    "```숫자 값을 가진 변수로 대입하기```"
   ]
  },
  {
   "cell_type": "code",
   "execution_count": 53,
   "id": "01eb6a28-fdf6-4188-b618-007eb888c408",
   "metadata": {
    "tags": []
   },
   "outputs": [],
   "source": [
    "number = 3"
   ]
  },
  {
   "cell_type": "code",
   "execution_count": 54,
   "id": "6885e930-4998-4f48-85de-a30a161c627b",
   "metadata": {
    "tags": []
   },
   "outputs": [
    {
     "data": {
      "text/plain": [
       "'I eat 3 apples'"
      ]
     },
     "execution_count": 54,
     "metadata": {},
     "output_type": "execute_result"
    }
   ],
   "source": [
    "\"I eat {0} apples\".format(number)"
   ]
  },
  {
   "cell_type": "markdown",
   "id": "f8dd858f-37f1-4845-955e-6dce543b9aa7",
   "metadata": {},
   "source": [
    "```2개 이상의 값 넣기```"
   ]
  },
  {
   "cell_type": "code",
   "execution_count": 55,
   "id": "f8d33ad8-53a2-421a-9e72-bac0a3e609e8",
   "metadata": {
    "tags": []
   },
   "outputs": [],
   "source": [
    "number = 10"
   ]
  },
  {
   "cell_type": "code",
   "execution_count": 56,
   "id": "b19a37b3-8bfa-4467-8678-99545919ae1b",
   "metadata": {
    "tags": []
   },
   "outputs": [],
   "source": [
    "day = \"three\""
   ]
  },
  {
   "cell_type": "code",
   "execution_count": 57,
   "id": "c2b9742d-84d3-402b-b3ad-d01077e346b2",
   "metadata": {
    "tags": []
   },
   "outputs": [
    {
     "data": {
      "text/plain": [
       "'I ate 10 apples. so I was sick for three days'"
      ]
     },
     "execution_count": 57,
     "metadata": {},
     "output_type": "execute_result"
    }
   ],
   "source": [
    "\"I ate {0} apples. so I was sick for {1} days\".format(number, day)"
   ]
  },
  {
   "cell_type": "markdown",
   "id": "1d411adf-23eb-4596-9f2b-dc27444cda7e",
   "metadata": {},
   "source": [
    "```이름으로 넣기```"
   ]
  },
  {
   "cell_type": "code",
   "execution_count": 58,
   "id": "7f9b96a3-62f4-4ab3-a6a9-2647586bd663",
   "metadata": {
    "tags": []
   },
   "outputs": [
    {
     "data": {
      "text/plain": [
       "'I ate 10 apples. so I was sick for 3 days.'"
      ]
     },
     "execution_count": 58,
     "metadata": {},
     "output_type": "execute_result"
    }
   ],
   "source": [
    "\"I ate {number} apples. so I was sick for {day} days.\".format(number=10, day=3) "
   ]
  },
  {
   "cell_type": "markdown",
   "id": "f1665212-2c2d-466f-9745-69dcd186dad3",
   "metadata": {},
   "source": [
    "```인덱스와 이름을 혼용해서 넣기```"
   ]
  },
  {
   "cell_type": "code",
   "execution_count": 59,
   "id": "aadc956f-adfd-4537-82b6-a9d6e22764f8",
   "metadata": {
    "tags": []
   },
   "outputs": [
    {
     "data": {
      "text/plain": [
       "'I ate 10 apples. so I was sick for 3 days.'"
      ]
     },
     "execution_count": 59,
     "metadata": {},
     "output_type": "execute_result"
    }
   ],
   "source": [
    "\"I ate {0} apples. so I was sick for {day} days.\".format(10, day=3)"
   ]
  },
  {
   "cell_type": "markdown",
   "id": "c22a142f-800a-454d-837b-8ca4b7e0139e",
   "metadata": {},
   "source": [
    "```소수점 표현하기```"
   ]
  },
  {
   "cell_type": "code",
   "execution_count": 1,
   "id": "e9835150-0e51-4f60-8845-4dfb2be85989",
   "metadata": {
    "tags": []
   },
   "outputs": [],
   "source": [
    "y = 3.42134234"
   ]
  },
  {
   "cell_type": "code",
   "execution_count": 3,
   "id": "6aafe0b5-5e7e-4963-a64b-e9f91126afb9",
   "metadata": {
    "tags": []
   },
   "outputs": [
    {
     "data": {
      "text/plain": [
       "'3.4213'"
      ]
     },
     "execution_count": 3,
     "metadata": {},
     "output_type": "execute_result"
    }
   ],
   "source": [
    "\"{0:0.4f}\".format(y)"
   ]
  },
  {
   "cell_type": "code",
   "execution_count": 4,
   "id": "58b7c441-148b-479e-ad20-087fa63a7eb1",
   "metadata": {
    "tags": []
   },
   "outputs": [
    {
     "data": {
      "text/plain": [
       "'    3.4213'"
      ]
     },
     "execution_count": 4,
     "metadata": {},
     "output_type": "execute_result"
    }
   ],
   "source": [
    "\"{0:10.4f}\".format(y)"
   ]
  },
  {
   "cell_type": "markdown",
   "id": "f10944cc-4275-4b73-9c1b-ae8a7e5492bd",
   "metadata": {
    "tags": []
   },
   "source": [
    "```{또는} 문자 표현하기```"
   ]
  },
  {
   "cell_type": "code",
   "execution_count": 6,
   "id": "b243df84-ddbb-4736-87ab-9d92d3902801",
   "metadata": {
    "tags": []
   },
   "outputs": [
    {
     "data": {
      "text/plain": [
       "'{ and }'"
      ]
     },
     "execution_count": 6,
     "metadata": {},
     "output_type": "execute_result"
    }
   ],
   "source": [
    "\"{{ and }}\".format()"
   ]
  },
  {
   "cell_type": "code",
   "execution_count": 7,
   "id": "20558de0-8a69-45be-80b5-d5822a398b37",
   "metadata": {
    "tags": []
   },
   "outputs": [
    {
     "data": {
      "text/plain": [
       "'{ and }'"
      ]
     },
     "execution_count": 7,
     "metadata": {},
     "output_type": "execute_result"
    }
   ],
   "source": [
    "\"{{ and }}\".format()"
   ]
  },
  {
   "cell_type": "markdown",
   "id": "38122f46-39f9-400e-a814-04cbea49edfd",
   "metadata": {},
   "source": [
    "#### f 문자열 포매팅"
   ]
  },
  {
   "cell_type": "code",
   "execution_count": 8,
   "id": "3a02af72-92ce-4b19-8512-2c9c8a7d5e64",
   "metadata": {
    "tags": []
   },
   "outputs": [],
   "source": [
    "name = '홍길동'"
   ]
  },
  {
   "cell_type": "code",
   "execution_count": 9,
   "id": "0f59d0a5-fcb7-4ea2-a19d-f2569fe6a660",
   "metadata": {
    "tags": []
   },
   "outputs": [],
   "source": [
    "age = 30"
   ]
  },
  {
   "cell_type": "code",
   "execution_count": 11,
   "id": "14d0c583-7891-4a29-8e6f-e4a4b28755e1",
   "metadata": {
    "tags": []
   },
   "outputs": [
    {
     "data": {
      "text/plain": [
       "'나의 이름은 홍길동입니다. 나이는 30입니다.'"
      ]
     },
     "execution_count": 11,
     "metadata": {},
     "output_type": "execute_result"
    }
   ],
   "source": [
    "f'나의 이름은 {name}입니다. 나이는 {age}입니다.'"
   ]
  },
  {
   "cell_type": "code",
   "execution_count": 12,
   "id": "0b1a7d5d-ee56-4fe6-93a8-ce97d55fbf60",
   "metadata": {
    "tags": []
   },
   "outputs": [],
   "source": [
    "age = 30"
   ]
  },
  {
   "cell_type": "code",
   "execution_count": 14,
   "id": "7a787367-a963-48a3-a731-d54825ebf371",
   "metadata": {
    "tags": []
   },
   "outputs": [
    {
     "data": {
      "text/plain": [
       "'나는 내년이면 31살이 된다.'"
      ]
     },
     "execution_count": 14,
     "metadata": {},
     "output_type": "execute_result"
    }
   ],
   "source": [
    "f'나는 내년이면 {age+1}살이 된다.'"
   ]
  },
  {
   "cell_type": "code",
   "execution_count": 15,
   "id": "4703b35c-3502-4e17-b9cf-a545e958c146",
   "metadata": {
    "tags": []
   },
   "outputs": [],
   "source": [
    "d = {'name':'홍길동', 'age':30}"
   ]
  },
  {
   "cell_type": "code",
   "execution_count": 16,
   "id": "7753e6bf-d649-4059-b94b-a56b7bdf8723",
   "metadata": {
    "tags": []
   },
   "outputs": [
    {
     "data": {
      "text/plain": [
       "'나의 이름은 홍길동입니다. 나이는 30입니다.'"
      ]
     },
     "execution_count": 16,
     "metadata": {},
     "output_type": "execute_result"
    }
   ],
   "source": [
    "f'나의 이름은 {d[\"name\"]}입니다. 나이는 {d[\"age\"]}입니다.'"
   ]
  },
  {
   "cell_type": "code",
   "execution_count": 24,
   "id": "36de6986-52a9-49fd-b4c9-1147beae7e08",
   "metadata": {
    "tags": []
   },
   "outputs": [],
   "source": [
    "y = 3.42134234"
   ]
  },
  {
   "cell_type": "code",
   "execution_count": 25,
   "id": "3a3cdefe-561e-47a6-9e68-33cfbd950816",
   "metadata": {
    "tags": []
   },
   "outputs": [
    {
     "data": {
      "text/plain": [
       "'3.4213'"
      ]
     },
     "execution_count": 25,
     "metadata": {},
     "output_type": "execute_result"
    }
   ],
   "source": [
    "f'{y:0.4f}' #소수점 4자리까지만 표현"
   ]
  },
  {
   "cell_type": "code",
   "execution_count": 26,
   "id": "51a8d87b-85e6-4599-a1a1-bd97891b1d2c",
   "metadata": {
    "tags": []
   },
   "outputs": [
    {
     "data": {
      "text/plain": [
       "'    3.4213'"
      ]
     },
     "execution_count": 26,
     "metadata": {},
     "output_type": "execute_result"
    }
   ],
   "source": [
    "f'{y:10.4f}' #소수점 4자리까지 표현하고 총 자릿수를 10으로 맞춤"
   ]
  },
  {
   "cell_type": "code",
   "execution_count": 27,
   "id": "d5c63a4e-6e1c-4634-a1e1-fd5b907d8343",
   "metadata": {
    "tags": []
   },
   "outputs": [
    {
     "data": {
      "text/plain": [
       "'{ and }'"
      ]
     },
     "execution_count": 27,
     "metadata": {},
     "output_type": "execute_result"
    }
   ],
   "source": [
    "f'{{ and }}'"
   ]
  },
  {
   "cell_type": "markdown",
   "id": "4119c062-0199-43e7-994d-451af05bf9a8",
   "metadata": {
    "tags": []
   },
   "source": [
    "### 문자열 관련 함수"
   ]
  },
  {
   "cell_type": "markdown",
   "id": "da08b1a8-23ed-4d47-b76e-8f825bfe201b",
   "metadata": {
    "tags": []
   },
   "source": [
    "#### 문자 개수 세기(count)"
   ]
  },
  {
   "cell_type": "code",
   "execution_count": 3,
   "id": "0031cfc9-e2ed-4a6d-8af7-314f414c74ae",
   "metadata": {
    "tags": []
   },
   "outputs": [],
   "source": [
    "a = \"hobby\""
   ]
  },
  {
   "cell_type": "code",
   "execution_count": 4,
   "id": "f1a861a0-348b-41b6-9abb-c3daff9dd2c3",
   "metadata": {
    "tags": []
   },
   "outputs": [
    {
     "data": {
      "text/plain": [
       "2"
      ]
     },
     "execution_count": 4,
     "metadata": {},
     "output_type": "execute_result"
    }
   ],
   "source": [
    "a.count('b')"
   ]
  },
  {
   "cell_type": "markdown",
   "id": "ab286c16-e6e3-4ae4-834c-995265182154",
   "metadata": {
    "tags": []
   },
   "source": [
    "#### 위치 알려주기1(find)"
   ]
  },
  {
   "cell_type": "code",
   "execution_count": 7,
   "id": "383fa219-b508-4d91-87ad-3003f6a36669",
   "metadata": {
    "tags": []
   },
   "outputs": [
    {
     "data": {
      "text/plain": [
       "14"
      ]
     },
     "execution_count": 7,
     "metadata": {},
     "output_type": "execute_result"
    }
   ],
   "source": [
    "a = \"Python is the best choice\"\n",
    "a.find('b') # 문자열에서 b가 처음 나온 위치"
   ]
  },
  {
   "cell_type": "code",
   "execution_count": 9,
   "id": "40f9a58c-6f02-4a68-b8c1-b597933f901b",
   "metadata": {
    "tags": []
   },
   "outputs": [
    {
     "data": {
      "text/plain": [
       "-1"
      ]
     },
     "execution_count": 9,
     "metadata": {},
     "output_type": "execute_result"
    }
   ],
   "source": [
    "a.find('k') #찾는 문자나 문자열이 존재하지 않는다면 -1 반환"
   ]
  },
  {
   "cell_type": "markdown",
   "id": "29f35358-a893-4208-bf04-89749ee53971",
   "metadata": {
    "tags": []
   },
   "source": [
    "#### 위치 알려주기2(index)"
   ]
  },
  {
   "cell_type": "code",
   "execution_count": 11,
   "id": "7b5fc0e8-8c56-4693-8c6b-434b7a41a5f8",
   "metadata": {
    "tags": []
   },
   "outputs": [],
   "source": [
    "a = \"Life is too short\""
   ]
  },
  {
   "cell_type": "code",
   "execution_count": 15,
   "id": "4ccd7523-55cf-4c59-8880-7f76e3b6bae0",
   "metadata": {
    "tags": []
   },
   "outputs": [
    {
     "data": {
      "text/plain": [
       "8"
      ]
     },
     "execution_count": 15,
     "metadata": {},
     "output_type": "execute_result"
    }
   ],
   "source": [
    "a.index('t') #문자열 중 t가 맨 처음으로 나온 위치 반환"
   ]
  },
  {
   "cell_type": "code",
   "execution_count": 16,
   "id": "20f4885d-f74f-4dd9-a2b0-23a40cdfb6eb",
   "metadata": {
    "tags": []
   },
   "outputs": [
    {
     "ename": "ValueError",
     "evalue": "substring not found",
     "output_type": "error",
     "traceback": [
      "\u001b[1;31m---------------------------------------------------------------------------\u001b[0m",
      "\u001b[1;31mValueError\u001b[0m                                Traceback (most recent call last)",
      "Cell \u001b[1;32mIn[16], line 1\u001b[0m\n\u001b[1;32m----> 1\u001b[0m \u001b[43ma\u001b[49m\u001b[38;5;241;43m.\u001b[39;49m\u001b[43mindex\u001b[49m\u001b[43m(\u001b[49m\u001b[38;5;124;43m'\u001b[39;49m\u001b[38;5;124;43mk\u001b[39;49m\u001b[38;5;124;43m'\u001b[39;49m\u001b[43m)\u001b[49m \u001b[38;5;66;03m#find 함수와 다른 점 : 문자열 안에 존재하지 않는 문자를 찾으면 오류 반환\u001b[39;00m\n",
      "\u001b[1;31mValueError\u001b[0m: substring not found"
     ]
    }
   ],
   "source": [
    "a.index('k') #find 함수와 다른 점 : 문자열 안에 존재하지 않는 문자를 찾으면 오류 반환"
   ]
  },
  {
   "cell_type": "markdown",
   "id": "dacda99d-fbf4-4ae3-92e2-51154151b305",
   "metadata": {},
   "source": [
    "#### 문자열 삽입(join)\n",
    "- '구분자'.join(리스트)"
   ]
  },
  {
   "cell_type": "code",
   "execution_count": 17,
   "id": "468429ac-ffc2-4326-92f0-e88593d894d0",
   "metadata": {
    "tags": []
   },
   "outputs": [
    {
     "data": {
      "text/plain": [
       "'a,b,c,d'"
      ]
     },
     "execution_count": 17,
     "metadata": {},
     "output_type": "execute_result"
    }
   ],
   "source": [
    "\",\".join('abcd')"
   ]
  },
  {
   "cell_type": "code",
   "execution_count": 19,
   "id": "58c80614-184d-4209-bad7-27fb0a4defe9",
   "metadata": {
    "tags": []
   },
   "outputs": [
    {
     "data": {
      "text/plain": [
       "'a,b,c,d'"
      ]
     },
     "execution_count": 19,
     "metadata": {},
     "output_type": "execute_result"
    }
   ],
   "source": [
    "\",\".join(['a','b','c','d'])"
   ]
  },
  {
   "cell_type": "markdown",
   "id": "ff273558-47d0-4ece-ae72-7f566b928205",
   "metadata": {
    "tags": []
   },
   "source": [
    "#### 소문자를 대문자로 바꾸기(upper)"
   ]
  },
  {
   "cell_type": "code",
   "execution_count": 26,
   "id": "abe26801-4143-40b5-95de-365c23345c88",
   "metadata": {
    "tags": []
   },
   "outputs": [],
   "source": [
    "a = \"hi\""
   ]
  },
  {
   "cell_type": "code",
   "execution_count": 29,
   "id": "7abe0d8f-c790-444d-9478-2e1aee95f741",
   "metadata": {
    "tags": []
   },
   "outputs": [
    {
     "data": {
      "text/plain": [
       "'HI'"
      ]
     },
     "execution_count": 29,
     "metadata": {},
     "output_type": "execute_result"
    }
   ],
   "source": [
    "a.upper()"
   ]
  },
  {
   "cell_type": "markdown",
   "id": "3c7af2f9-31bb-4e9c-b196-707f7b07ccc9",
   "metadata": {
    "tags": []
   },
   "source": [
    "#### 대문자를 소문자로 바꾸기(lower)"
   ]
  },
  {
   "cell_type": "code",
   "execution_count": 27,
   "id": "d82397fd-790b-42e4-80d0-2c4fac3a5154",
   "metadata": {
    "tags": []
   },
   "outputs": [],
   "source": [
    "a = \"HI\""
   ]
  },
  {
   "cell_type": "code",
   "execution_count": 28,
   "id": "0bbcfc9f-56a2-4050-8287-dd9b52ef5e20",
   "metadata": {
    "tags": []
   },
   "outputs": [
    {
     "data": {
      "text/plain": [
       "'hi'"
      ]
     },
     "execution_count": 28,
     "metadata": {},
     "output_type": "execute_result"
    }
   ],
   "source": [
    "a.lower()"
   ]
  },
  {
   "cell_type": "markdown",
   "id": "9887209c-998b-4544-b35c-6a686e938051",
   "metadata": {},
   "source": [
    "#### 왼쪽 공백 지우기(lstrip)"
   ]
  },
  {
   "cell_type": "code",
   "execution_count": 32,
   "id": "33c5b3a5-8955-4cc0-9843-32fe21eb4da8",
   "metadata": {
    "tags": []
   },
   "outputs": [],
   "source": [
    "a = \" hi\""
   ]
  },
  {
   "cell_type": "code",
   "execution_count": 33,
   "id": "a9231d68-97b9-4aeb-bf51-1605a2caa066",
   "metadata": {
    "tags": []
   },
   "outputs": [
    {
     "data": {
      "text/plain": [
       "'hi'"
      ]
     },
     "execution_count": 33,
     "metadata": {},
     "output_type": "execute_result"
    }
   ],
   "source": [
    "a.lstrip()"
   ]
  },
  {
   "cell_type": "markdown",
   "id": "97c1aa62-8791-452c-88a1-d71d6fb90b73",
   "metadata": {},
   "source": [
    "#### 오른족 공백 지우기(rstrip)"
   ]
  },
  {
   "cell_type": "code",
   "execution_count": 34,
   "id": "b09f5726-5ef1-4c17-ae33-60425eed0119",
   "metadata": {
    "tags": []
   },
   "outputs": [],
   "source": [
    "a = \"hi \""
   ]
  },
  {
   "cell_type": "code",
   "execution_count": 35,
   "id": "c418f8e9-0b3d-4eab-8c23-81e7d0f42129",
   "metadata": {
    "tags": []
   },
   "outputs": [
    {
     "data": {
      "text/plain": [
       "'hi'"
      ]
     },
     "execution_count": 35,
     "metadata": {},
     "output_type": "execute_result"
    }
   ],
   "source": [
    "a.rstrip()"
   ]
  },
  {
   "cell_type": "markdown",
   "id": "8625391d-cb5b-434c-b87c-c6c2aae50779",
   "metadata": {},
   "source": [
    "#### 양쪽 공백 지우기(strip)"
   ]
  },
  {
   "cell_type": "code",
   "execution_count": 36,
   "id": "fae1ecfa-834e-46e6-8bcc-b872a54fae51",
   "metadata": {
    "tags": []
   },
   "outputs": [],
   "source": [
    "a = \" hi \""
   ]
  },
  {
   "cell_type": "code",
   "execution_count": 37,
   "id": "a205cc56-c10b-4804-8d32-054d1611d401",
   "metadata": {
    "tags": []
   },
   "outputs": [
    {
     "data": {
      "text/plain": [
       "'hi'"
      ]
     },
     "execution_count": 37,
     "metadata": {},
     "output_type": "execute_result"
    }
   ],
   "source": [
    "a.strip()"
   ]
  },
  {
   "cell_type": "markdown",
   "id": "adf0db4d-9a76-49c6-8b2d-a5f13afd9336",
   "metadata": {},
   "source": [
    "#### 문자열 바꾸기(replace)"
   ]
  },
  {
   "cell_type": "code",
   "execution_count": 38,
   "id": "f0eeaecc-23d3-4dbe-8f39-348076484079",
   "metadata": {
    "tags": []
   },
   "outputs": [],
   "source": [
    "a = \"Life is too short\""
   ]
  },
  {
   "cell_type": "code",
   "execution_count": 39,
   "id": "71b55c61-912c-4b54-83a3-547db4015c33",
   "metadata": {
    "tags": []
   },
   "outputs": [
    {
     "data": {
      "text/plain": [
       "'Your leg is too short'"
      ]
     },
     "execution_count": 39,
     "metadata": {},
     "output_type": "execute_result"
    }
   ],
   "source": [
    "a.replace(\"Life\", \"Your leg\")"
   ]
  },
  {
   "cell_type": "markdown",
   "id": "6438d11e-f0b3-44c5-aed8-00d72a9d4978",
   "metadata": {},
   "source": [
    "#### 문자열 나누기(split)"
   ]
  },
  {
   "cell_type": "code",
   "execution_count": 40,
   "id": "8c02e17f-5b5e-4bd3-aa79-e432ede20ee8",
   "metadata": {
    "tags": []
   },
   "outputs": [],
   "source": [
    "a = \"Life is too short\""
   ]
  },
  {
   "cell_type": "code",
   "execution_count": 41,
   "id": "a607ed2a-c0e6-4f75-8aa5-b33bddf3c436",
   "metadata": {
    "tags": []
   },
   "outputs": [
    {
     "data": {
      "text/plain": [
       "['Life', 'is', 'too', 'short']"
      ]
     },
     "execution_count": 41,
     "metadata": {},
     "output_type": "execute_result"
    }
   ],
   "source": [
    "a.split() # 괄호 안에 아무 값도 넣어주지 않으면 공백을 기준으로 문자열 나눔"
   ]
  },
  {
   "cell_type": "code",
   "execution_count": 42,
   "id": "cdd36b59-f833-420e-bf9e-e886e342ae5b",
   "metadata": {
    "tags": []
   },
   "outputs": [],
   "source": [
    "b = \"a:b:c:d\""
   ]
  },
  {
   "cell_type": "code",
   "execution_count": 43,
   "id": "0f42f344-a651-4f4d-8a99-5f459aa562cc",
   "metadata": {
    "tags": []
   },
   "outputs": [
    {
     "data": {
      "text/plain": [
       "['a', 'b', 'c', 'd']"
      ]
     },
     "execution_count": 43,
     "metadata": {},
     "output_type": "execute_result"
    }
   ],
   "source": [
    "b.split(':') # :기호를 기준으로 문자열 나눔"
   ]
  },
  {
   "cell_type": "markdown",
   "id": "9aa4207b-ebb9-48a6-8ae7-537a3dc906d1",
   "metadata": {},
   "source": [
    "## 3/9 추가학습"
   ]
  },
  {
   "cell_type": "markdown",
   "id": "0e930d4f-4443-41c0-beb9-86df185ab11b",
   "metadata": {},
   "source": [
    "### 변수 타입 구하기"
   ]
  },
  {
   "cell_type": "code",
   "execution_count": 67,
   "id": "47d2c83a-35e0-4b0e-86f4-adb0fe3febcf",
   "metadata": {
    "tags": []
   },
   "outputs": [
    {
     "data": {
      "text/plain": [
       "int"
      ]
     },
     "execution_count": 67,
     "metadata": {},
     "output_type": "execute_result"
    }
   ],
   "source": [
    "a = 1\n",
    "type(a)"
   ]
  },
  {
   "cell_type": "markdown",
   "id": "744ec8a3-70ce-417e-acfe-388695c9f2f3",
   "metadata": {},
   "source": [
    "### sqrt(제곱근) 함수"
   ]
  },
  {
   "cell_type": "code",
   "execution_count": 71,
   "id": "41ed56d8-b4b6-4d7f-82cd-f1f7f95f4fff",
   "metadata": {
    "tags": []
   },
   "outputs": [],
   "source": [
    "import math"
   ]
  },
  {
   "cell_type": "code",
   "execution_count": 72,
   "id": "7d4faeeb-9761-4007-b0f0-df84cd94ef3c",
   "metadata": {
    "tags": []
   },
   "outputs": [
    {
     "data": {
      "text/plain": [
       "2.0"
      ]
     },
     "execution_count": 72,
     "metadata": {},
     "output_type": "execute_result"
    }
   ],
   "source": [
    "math.sqrt(4)"
   ]
  },
  {
   "cell_type": "code",
   "execution_count": 73,
   "id": "b13585c8-ec01-461c-95eb-0823be52ff55",
   "metadata": {
    "tags": []
   },
   "outputs": [
    {
     "ename": "NameError",
     "evalue": "name 'pi' is not defined",
     "output_type": "error",
     "traceback": [
      "\u001b[1;31m---------------------------------------------------------------------------\u001b[0m",
      "\u001b[1;31mNameError\u001b[0m                                 Traceback (most recent call last)",
      "Cell \u001b[1;32mIn[73], line 1\u001b[0m\n\u001b[1;32m----> 1\u001b[0m \u001b[43mpi\u001b[49m\n",
      "\u001b[1;31mNameError\u001b[0m: name 'pi' is not defined"
     ]
    }
   ],
   "source": [
    "pi"
   ]
  },
  {
   "cell_type": "code",
   "execution_count": 74,
   "id": "9cdedad7-8d6d-4b02-af0f-f9ac14acbd5d",
   "metadata": {
    "tags": []
   },
   "outputs": [
    {
     "data": {
      "text/plain": [
       "3.141592653589793"
      ]
     },
     "execution_count": 74,
     "metadata": {},
     "output_type": "execute_result"
    }
   ],
   "source": [
    "math.pi"
   ]
  },
  {
   "cell_type": "code",
   "execution_count": 78,
   "id": "4db0d865-2b19-4ed8-ba91-ee1661d17aed",
   "metadata": {
    "tags": []
   },
   "outputs": [],
   "source": [
    "import numpy as np"
   ]
  },
  {
   "cell_type": "code",
   "execution_count": 76,
   "id": "46743c77-f130-4e2d-b4ab-cc5856f4ba02",
   "metadata": {
    "tags": []
   },
   "outputs": [
    {
     "name": "stdout",
     "output_type": "stream",
     "text": [
      "Requirement already satisfied: numpy in c:\\users\\user\\appdata\\local\\programs\\python\\python310\\lib\\site-packages (1.24.2)\n",
      "Note: you may need to restart the kernel to use updated packages.\n"
     ]
    }
   ],
   "source": [
    "pip install numpy"
   ]
  },
  {
   "cell_type": "code",
   "execution_count": 80,
   "id": "00b0618e-092e-452f-8ce2-8c4f246291e4",
   "metadata": {
    "tags": []
   },
   "outputs": [
    {
     "data": {
      "text/plain": [
       "2.0"
      ]
     },
     "execution_count": 80,
     "metadata": {},
     "output_type": "execute_result"
    }
   ],
   "source": [
    "np.sqrt(4)"
   ]
  },
  {
   "cell_type": "code",
   "execution_count": 81,
   "id": "78688425-1696-4f85-942e-8cbdc6764c7d",
   "metadata": {
    "tags": []
   },
   "outputs": [
    {
     "data": {
      "text/plain": [
       "3.141592653589793"
      ]
     },
     "execution_count": 81,
     "metadata": {},
     "output_type": "execute_result"
    }
   ],
   "source": [
    "np.pi"
   ]
  },
  {
   "cell_type": "code",
   "execution_count": 82,
   "id": "83751cdb-7246-4a33-944a-5974d5cc05e6",
   "metadata": {
    "tags": []
   },
   "outputs": [
    {
     "data": {
      "text/plain": [
       "1.0"
      ]
     },
     "execution_count": 82,
     "metadata": {},
     "output_type": "execute_result"
    }
   ],
   "source": [
    "np.cos(0)"
   ]
  },
  {
   "cell_type": "code",
   "execution_count": 83,
   "id": "f589aaa0-e1a7-4fb8-9085-8e865d84510c",
   "metadata": {
    "tags": []
   },
   "outputs": [
    {
     "data": {
      "text/plain": [
       "1.0"
      ]
     },
     "execution_count": 83,
     "metadata": {},
     "output_type": "execute_result"
    }
   ],
   "source": [
    "np.cos(2*np.pi)"
   ]
  },
  {
   "cell_type": "code",
   "execution_count": 84,
   "id": "18f6b368-2214-4fa8-be61-00f4b6c0744a",
   "metadata": {
    "tags": []
   },
   "outputs": [
    {
     "data": {
      "text/plain": [
       "3628800"
      ]
     },
     "execution_count": 84,
     "metadata": {},
     "output_type": "execute_result"
    }
   ],
   "source": [
    "math.factorial(10)"
   ]
  },
  {
   "cell_type": "markdown",
   "id": "992b59ad-dcd4-44dd-8eef-e9f679e8ea9b",
   "metadata": {
    "tags": []
   },
   "source": [
    "### linspace"
   ]
  },
  {
   "cell_type": "code",
   "execution_count": 85,
   "id": "5c0f218f-f174-40c8-a576-0a7c8dcff585",
   "metadata": {
    "tags": []
   },
   "outputs": [
    {
     "data": {
      "text/plain": [
       "\u001b[1;31mSignature:\u001b[0m\n",
       "\u001b[0mnp\u001b[0m\u001b[1;33m.\u001b[0m\u001b[0mlinspace\u001b[0m\u001b[1;33m(\u001b[0m\u001b[1;33m\n",
       "\u001b[0m    \u001b[0mstart\u001b[0m\u001b[1;33m,\u001b[0m\u001b[1;33m\n",
       "\u001b[0m    \u001b[0mstop\u001b[0m\u001b[1;33m,\u001b[0m\u001b[1;33m\n",
       "\u001b[0m    \u001b[0mnum\u001b[0m\u001b[1;33m=\u001b[0m\u001b[1;36m50\u001b[0m\u001b[1;33m,\u001b[0m\u001b[1;33m\n",
       "\u001b[0m    \u001b[0mendpoint\u001b[0m\u001b[1;33m=\u001b[0m\u001b[1;32mTrue\u001b[0m\u001b[1;33m,\u001b[0m\u001b[1;33m\n",
       "\u001b[0m    \u001b[0mretstep\u001b[0m\u001b[1;33m=\u001b[0m\u001b[1;32mFalse\u001b[0m\u001b[1;33m,\u001b[0m\u001b[1;33m\n",
       "\u001b[0m    \u001b[0mdtype\u001b[0m\u001b[1;33m=\u001b[0m\u001b[1;32mNone\u001b[0m\u001b[1;33m,\u001b[0m\u001b[1;33m\n",
       "\u001b[0m    \u001b[0maxis\u001b[0m\u001b[1;33m=\u001b[0m\u001b[1;36m0\u001b[0m\u001b[1;33m,\u001b[0m\u001b[1;33m\n",
       "\u001b[0m\u001b[1;33m)\u001b[0m\u001b[1;33m\u001b[0m\u001b[1;33m\u001b[0m\u001b[0m\n",
       "\u001b[1;31mDocstring:\u001b[0m\n",
       "Return evenly spaced numbers over a specified interval.\n",
       "\n",
       "Returns `num` evenly spaced samples, calculated over the\n",
       "interval [`start`, `stop`].\n",
       "\n",
       "The endpoint of the interval can optionally be excluded.\n",
       "\n",
       ".. versionchanged:: 1.16.0\n",
       "    Non-scalar `start` and `stop` are now supported.\n",
       "\n",
       ".. versionchanged:: 1.20.0\n",
       "    Values are rounded towards ``-inf`` instead of ``0`` when an\n",
       "    integer ``dtype`` is specified. The old behavior can\n",
       "    still be obtained with ``np.linspace(start, stop, num).astype(int)``\n",
       "\n",
       "Parameters\n",
       "----------\n",
       "start : array_like\n",
       "    The starting value of the sequence.\n",
       "stop : array_like\n",
       "    The end value of the sequence, unless `endpoint` is set to False.\n",
       "    In that case, the sequence consists of all but the last of ``num + 1``\n",
       "    evenly spaced samples, so that `stop` is excluded.  Note that the step\n",
       "    size changes when `endpoint` is False.\n",
       "num : int, optional\n",
       "    Number of samples to generate. Default is 50. Must be non-negative.\n",
       "endpoint : bool, optional\n",
       "    If True, `stop` is the last sample. Otherwise, it is not included.\n",
       "    Default is True.\n",
       "retstep : bool, optional\n",
       "    If True, return (`samples`, `step`), where `step` is the spacing\n",
       "    between samples.\n",
       "dtype : dtype, optional\n",
       "    The type of the output array.  If `dtype` is not given, the data type\n",
       "    is inferred from `start` and `stop`. The inferred dtype will never be\n",
       "    an integer; `float` is chosen even if the arguments would produce an\n",
       "    array of integers.\n",
       "\n",
       "    .. versionadded:: 1.9.0\n",
       "\n",
       "axis : int, optional\n",
       "    The axis in the result to store the samples.  Relevant only if start\n",
       "    or stop are array-like.  By default (0), the samples will be along a\n",
       "    new axis inserted at the beginning. Use -1 to get an axis at the end.\n",
       "\n",
       "    .. versionadded:: 1.16.0\n",
       "\n",
       "Returns\n",
       "-------\n",
       "samples : ndarray\n",
       "    There are `num` equally spaced samples in the closed interval\n",
       "    ``[start, stop]`` or the half-open interval ``[start, stop)``\n",
       "    (depending on whether `endpoint` is True or False).\n",
       "step : float, optional\n",
       "    Only returned if `retstep` is True\n",
       "\n",
       "    Size of spacing between samples.\n",
       "\n",
       "\n",
       "See Also\n",
       "--------\n",
       "arange : Similar to `linspace`, but uses a step size (instead of the\n",
       "         number of samples).\n",
       "geomspace : Similar to `linspace`, but with numbers spaced evenly on a log\n",
       "            scale (a geometric progression).\n",
       "logspace : Similar to `geomspace`, but with the end points specified as\n",
       "           logarithms.\n",
       ":ref:`how-to-partition`\n",
       "\n",
       "Examples\n",
       "--------\n",
       ">>> np.linspace(2.0, 3.0, num=5)\n",
       "array([2.  , 2.25, 2.5 , 2.75, 3.  ])\n",
       ">>> np.linspace(2.0, 3.0, num=5, endpoint=False)\n",
       "array([2. ,  2.2,  2.4,  2.6,  2.8])\n",
       ">>> np.linspace(2.0, 3.0, num=5, retstep=True)\n",
       "(array([2.  ,  2.25,  2.5 ,  2.75,  3.  ]), 0.25)\n",
       "\n",
       "Graphical illustration:\n",
       "\n",
       ">>> import matplotlib.pyplot as plt\n",
       ">>> N = 8\n",
       ">>> y = np.zeros(N)\n",
       ">>> x1 = np.linspace(0, 10, N, endpoint=True)\n",
       ">>> x2 = np.linspace(0, 10, N, endpoint=False)\n",
       ">>> plt.plot(x1, y, 'o')\n",
       "[<matplotlib.lines.Line2D object at 0x...>]\n",
       ">>> plt.plot(x2, y + 0.5, 'o')\n",
       "[<matplotlib.lines.Line2D object at 0x...>]\n",
       ">>> plt.ylim([-0.5, 1])\n",
       "(-0.5, 1)\n",
       ">>> plt.show()\n",
       "\u001b[1;31mFile:\u001b[0m      c:\\users\\user\\appdata\\local\\programs\\python\\python310\\lib\\site-packages\\numpy\\core\\function_base.py\n",
       "\u001b[1;31mType:\u001b[0m      function"
      ]
     },
     "metadata": {},
     "output_type": "display_data"
    }
   ],
   "source": [
    "np.linspace?"
   ]
  },
  {
   "cell_type": "code",
   "execution_count": 87,
   "id": "17af88ec-ebed-4177-b7ae-bca65b87f653",
   "metadata": {
    "tags": []
   },
   "outputs": [
    {
     "data": {
      "text/plain": [
       "array([ 1.,  2.,  3.,  4.,  5.,  6.,  7.,  8.,  9., 10.])"
      ]
     },
     "execution_count": 87,
     "metadata": {},
     "output_type": "execute_result"
    }
   ],
   "source": [
    "np.linspace(1,10,10) #(배열의 시작값, 배열의 끝값, 몇개의 일정한 간격으로 만들것인가)"
   ]
  },
  {
   "cell_type": "code",
   "execution_count": 88,
   "id": "38ab3881-89a7-4f4a-819f-524851c2821d",
   "metadata": {
    "tags": []
   },
   "outputs": [],
   "source": [
    "import numpy\n",
    "import numpy as np\n",
    "from numpy import sqrt\n",
    "from numpy import *"
   ]
  },
  {
   "cell_type": "markdown",
   "id": "06024efb-6095-4a57-a268-6f7739a5ab58",
   "metadata": {
    "tags": []
   },
   "source": [
    "### 반올림, 버림, 내림"
   ]
  },
  {
   "cell_type": "code",
   "execution_count": 89,
   "id": "a7beb893-9908-4bff-8eeb-3ddb52d482fe",
   "metadata": {
    "tags": []
   },
   "outputs": [
    {
     "data": {
      "text/plain": [
       "3.46"
      ]
     },
     "execution_count": 89,
     "metadata": {},
     "output_type": "execute_result"
    }
   ],
   "source": [
    "round(3.4567,2) #지정한 자릿수로 반올림"
   ]
  },
  {
   "cell_type": "code",
   "execution_count": 90,
   "id": "0811598b-a313-4cdf-85a3-805dd01d71c0",
   "metadata": {
    "tags": []
   },
   "outputs": [
    {
     "data": {
      "text/plain": [
       "3.0"
      ]
     },
     "execution_count": 90,
     "metadata": {},
     "output_type": "execute_result"
    }
   ],
   "source": [
    "np.floor(3.4567) #버림"
   ]
  },
  {
   "cell_type": "code",
   "execution_count": 91,
   "id": "3d5519c4-f380-45c1-a57c-cc79eda05712",
   "metadata": {
    "tags": []
   },
   "outputs": [
    {
     "data": {
      "text/plain": [
       "4.0"
      ]
     },
     "execution_count": 91,
     "metadata": {},
     "output_type": "execute_result"
    }
   ],
   "source": [
    "np.ceil(3.4567) #올림"
   ]
  },
  {
   "cell_type": "markdown",
   "id": "7c166ef7-a0f3-4db8-970f-9eb7bf942462",
   "metadata": {},
   "source": [
    "### input() 함수"
   ]
  },
  {
   "cell_type": "code",
   "execution_count": 93,
   "id": "a6ce2434-f532-4139-b0d6-b9dcc01ad5d3",
   "metadata": {
    "tags": []
   },
   "outputs": [
    {
     "name": "stdin",
     "output_type": "stream",
     "text": [
      " 1\n"
     ]
    },
    {
     "data": {
      "text/plain": [
       "'1'"
      ]
     },
     "execution_count": 93,
     "metadata": {},
     "output_type": "execute_result"
    }
   ],
   "source": [
    "input()"
   ]
  },
  {
   "cell_type": "code",
   "execution_count": 94,
   "id": "46bd737d-a61f-4885-a93d-ee4058df6601",
   "metadata": {
    "tags": []
   },
   "outputs": [
    {
     "name": "stdin",
     "output_type": "stream",
     "text": [
      "숫자를 입력하세요:  3\n"
     ]
    },
    {
     "data": {
      "text/plain": [
       "'3'"
      ]
     },
     "execution_count": 94,
     "metadata": {},
     "output_type": "execute_result"
    }
   ],
   "source": [
    "input(\"숫자를 입력하세요: \")"
   ]
  },
  {
   "cell_type": "code",
   "execution_count": 97,
   "id": "48af5bb7-2ddc-477d-98e9-cf925e1f28a4",
   "metadata": {
    "tags": []
   },
   "outputs": [
    {
     "name": "stdin",
     "output_type": "stream",
     "text": [
      "숫자를 입력하세요:  35\n",
      "나이를 입력하세요:  57\n"
     ]
    }
   ],
   "source": [
    "name = input(\"숫자를 입력하세요: \")\n",
    "age = input(\"나이를 입력하세요: \")"
   ]
  },
  {
   "cell_type": "code",
   "execution_count": 98,
   "id": "db86c08a-aa45-4bc2-b95c-6a9c11f7977a",
   "metadata": {
    "tags": []
   },
   "outputs": [
    {
     "name": "stdin",
     "output_type": "stream",
     "text": [
      "숫자를 입력하세요:  3\n",
      "숫자를 입력하세요:  6\n"
     ]
    },
    {
     "data": {
      "text/plain": [
       "9"
      ]
     },
     "execution_count": 98,
     "metadata": {},
     "output_type": "execute_result"
    }
   ],
   "source": [
    "a = input(\"숫자를 입력하세요: \")\n",
    "b = input(\"숫자를 입력하세요: \")\n",
    "a = int(a)\n",
    "b = int(b)\n",
    "a+b"
   ]
  },
  {
   "cell_type": "code",
   "execution_count": 99,
   "id": "476986bd-7327-48db-adbe-0f7b787ba460",
   "metadata": {
    "tags": []
   },
   "outputs": [
    {
     "name": "stdin",
     "output_type": "stream",
     "text": [
      "숫자를 입력하세요:  30\n",
      "숫자를 입력하세요:  50\n"
     ]
    },
    {
     "data": {
      "text/plain": [
       "80"
      ]
     },
     "execution_count": 99,
     "metadata": {},
     "output_type": "execute_result"
    }
   ],
   "source": [
    "a = int(input(\"숫자를 입력하세요: \"))\n",
    "b = int(input(\"숫자를 입력하세요: \"))\n",
    "a+b"
   ]
  },
  {
   "cell_type": "code",
   "execution_count": 100,
   "id": "765c86f9-85e5-46ca-846c-a6ad0f26b12f",
   "metadata": {
    "tags": []
   },
   "outputs": [
    {
     "name": "stdin",
     "output_type": "stream",
     "text": [
      "숫자를 입력하세요:  6\n"
     ]
    },
    {
     "data": {
      "text/plain": [
       "12"
      ]
     },
     "execution_count": 100,
     "metadata": {},
     "output_type": "execute_result"
    }
   ],
   "source": [
    "#입력받은 숫자를 2배해서 출력\n",
    "a = int(input(\"숫자를 입력하세요: \"))\n",
    "a*2"
   ]
  },
  {
   "cell_type": "code",
   "execution_count": 103,
   "id": "52321b8f-8e8a-46b2-872d-4b9913954a15",
   "metadata": {
    "tags": []
   },
   "outputs": [
    {
     "name": "stdin",
     "output_type": "stream",
     "text": [
      "이름을 입력하세요:  잰\n",
      "나이를 입력하세요:  20\n"
     ]
    },
    {
     "name": "stdout",
     "output_type": "stream",
     "text": [
      "나의 이름은 잰이고 나이는 20살입니다.\n"
     ]
    }
   ],
   "source": [
    "#name, age 변수에 값을 받아서\n",
    "\n",
    "\"나의 이름은 000이고 나이는 00살입니다.\"\n",
    "name = str(input(\"이름을 입력하세요: \"))\n",
    "age = int(input(\"나이를 입력하세요: \"))\n",
    "\n",
    "print(f\"나의 이름은 {name}이고 나이는 {age}살입니다.\")"
   ]
  },
  {
   "cell_type": "code",
   "execution_count": 104,
   "id": "795af04f-1fdd-4a1a-9a21-2ecc5afe78e7",
   "metadata": {
    "tags": []
   },
   "outputs": [
    {
     "name": "stdin",
     "output_type": "stream",
     "text": [
      "어머니의 나이를 입력하세요:  50\n",
      "나의 나이를 입력하세요:  24\n"
     ]
    },
    {
     "name": "stdout",
     "output_type": "stream",
     "text": [
      "어머니의 나이는 50살이고 나의 나이는 24살이고, 합은 74살입니다.\n"
     ]
    }
   ],
   "source": [
    "age1 = int(input(\"어머니의 나이를 입력하세요: \"))\n",
    "age2 = int(input(\"나의 나이를 입력하세요: \"))\n",
    "age_total = age1 + age2\n",
    "print(f\"어머니의 나이는 {age1}살이고 나의 나이는 {age2}살이고, 합은 {age_total}살입니다.\")"
   ]
  },
  {
   "cell_type": "code",
   "execution_count": 105,
   "id": "6773fcf1-11d8-4958-ae74-3b59f809c5ab",
   "metadata": {
    "tags": []
   },
   "outputs": [
    {
     "name": "stdout",
     "output_type": "stream",
     "text": [
      "pi값은 3.1416입니다\n",
      "pi값은     3.1416입니다\n"
     ]
    }
   ],
   "source": [
    "pi = 3.141592\n",
    "\n",
    "print(f\"pi값은 {pi:0.4f}입니다\")\n",
    "print(f\"pi값은 {pi:10.4f}입니다\")"
   ]
  },
  {
   "cell_type": "markdown",
   "id": "570eb5ba-122a-4854-948d-9f7ab05c6593",
   "metadata": {},
   "source": [
    "- 3월 10일 복습"
   ]
  },
  {
   "cell_type": "markdown",
   "id": "d9c6770b-61e4-42b8-a109-dac7dad64be1",
   "metadata": {},
   "source": [
    "## 2-3 리스트 자료형"
   ]
  },
  {
   "cell_type": "markdown",
   "id": "43ff619e-1c13-42c0-aefa-29d82e3d361e",
   "metadata": {
    "tags": []
   },
   "source": [
    "### 리스트는 어떻게 만들고 사용할까?"
   ]
  },
  {
   "cell_type": "code",
   "execution_count": 107,
   "id": "eccd5dc8-020d-42b1-8f02-20d25d6858d2",
   "metadata": {
    "tags": []
   },
   "outputs": [],
   "source": [
    "a = []"
   ]
  },
  {
   "cell_type": "code",
   "execution_count": 108,
   "id": "059024d7-28ea-4b76-be1c-01a2af18ff03",
   "metadata": {
    "tags": []
   },
   "outputs": [],
   "source": [
    "b = [1,2,3]"
   ]
  },
  {
   "cell_type": "code",
   "execution_count": 109,
   "id": "7b8502aa-6330-440f-87bf-e7e3c533b520",
   "metadata": {
    "tags": []
   },
   "outputs": [],
   "source": [
    "c = ['Life', 'is', 'too', 'short']"
   ]
  },
  {
   "cell_type": "code",
   "execution_count": 110,
   "id": "e960b150-6eae-4ee3-8158-c44622cfa98c",
   "metadata": {
    "tags": []
   },
   "outputs": [],
   "source": [
    "d = [1, 2, 'Life', 'is']"
   ]
  },
  {
   "cell_type": "code",
   "execution_count": 111,
   "id": "238a4bce-76a6-4d52-9801-cf662a334614",
   "metadata": {
    "tags": []
   },
   "outputs": [],
   "source": [
    "e = [1,2,['Life', 'is']]"
   ]
  },
  {
   "cell_type": "markdown",
   "id": "735d8b5c-e55c-48e8-9784-dac61a319c97",
   "metadata": {
    "tags": []
   },
   "source": [
    "### 리스트의 인덱싱과 슬라이싱"
   ]
  },
  {
   "cell_type": "markdown",
   "id": "8d9b7da2-1c90-4a3e-a6d6-203b0175d968",
   "metadata": {},
   "source": [
    "#### 리스트의 인덱싱"
   ]
  },
  {
   "cell_type": "code",
   "execution_count": 116,
   "id": "2ac50fff-d32a-43df-97c2-8c7a7060d0c3",
   "metadata": {
    "tags": []
   },
   "outputs": [],
   "source": [
    "a = [1,2,3]"
   ]
  },
  {
   "cell_type": "code",
   "execution_count": 117,
   "id": "cfaa4133-263d-443f-b9b3-4da2e93442bc",
   "metadata": {
    "tags": []
   },
   "outputs": [
    {
     "data": {
      "text/plain": [
       "[1, 2, 3]"
      ]
     },
     "execution_count": 117,
     "metadata": {},
     "output_type": "execute_result"
    }
   ],
   "source": [
    "a"
   ]
  },
  {
   "cell_type": "code",
   "execution_count": 118,
   "id": "72054e4c-b664-4aff-a892-cca6679ec826",
   "metadata": {
    "tags": []
   },
   "outputs": [
    {
     "data": {
      "text/plain": [
       "1"
      ]
     },
     "execution_count": 118,
     "metadata": {},
     "output_type": "execute_result"
    }
   ],
   "source": [
    "a[0]"
   ]
  },
  {
   "cell_type": "code",
   "execution_count": 119,
   "id": "a36ad8e1-442f-4162-902f-bbe930e81268",
   "metadata": {
    "tags": []
   },
   "outputs": [
    {
     "data": {
      "text/plain": [
       "4"
      ]
     },
     "execution_count": 119,
     "metadata": {},
     "output_type": "execute_result"
    }
   ],
   "source": [
    "a[0] + a[2]"
   ]
  },
  {
   "cell_type": "code",
   "execution_count": 120,
   "id": "49294683-08fb-461e-b8cd-a7d86d69d407",
   "metadata": {
    "tags": []
   },
   "outputs": [
    {
     "data": {
      "text/plain": [
       "3"
      ]
     },
     "execution_count": 120,
     "metadata": {},
     "output_type": "execute_result"
    }
   ],
   "source": [
    "a[-1]"
   ]
  },
  {
   "cell_type": "code",
   "execution_count": 121,
   "id": "d74433d9-1eac-4592-9c32-03c3eb66a8a3",
   "metadata": {
    "tags": []
   },
   "outputs": [],
   "source": [
    "a = [1,2,3,['a','b','c']]"
   ]
  },
  {
   "cell_type": "code",
   "execution_count": 122,
   "id": "4c36ea00-7f22-43a7-9852-799d4836d2f0",
   "metadata": {
    "tags": []
   },
   "outputs": [
    {
     "data": {
      "text/plain": [
       "1"
      ]
     },
     "execution_count": 122,
     "metadata": {},
     "output_type": "execute_result"
    }
   ],
   "source": [
    "a[0]"
   ]
  },
  {
   "cell_type": "code",
   "execution_count": 123,
   "id": "433b5a60-d85c-4342-94ec-e6a9977de185",
   "metadata": {
    "tags": []
   },
   "outputs": [
    {
     "data": {
      "text/plain": [
       "['a', 'b', 'c']"
      ]
     },
     "execution_count": 123,
     "metadata": {},
     "output_type": "execute_result"
    }
   ],
   "source": [
    "a[-1]"
   ]
  },
  {
   "cell_type": "code",
   "execution_count": 124,
   "id": "683e918c-a27e-46b6-8177-65e89a1f3441",
   "metadata": {
    "tags": []
   },
   "outputs": [
    {
     "data": {
      "text/plain": [
       "['a', 'b', 'c']"
      ]
     },
     "execution_count": 124,
     "metadata": {},
     "output_type": "execute_result"
    }
   ],
   "source": [
    "a[3]"
   ]
  },
  {
   "cell_type": "code",
   "execution_count": 125,
   "id": "f379761e-0e11-4659-b12f-94f22d932294",
   "metadata": {
    "tags": []
   },
   "outputs": [
    {
     "data": {
      "text/plain": [
       "'a'"
      ]
     },
     "execution_count": 125,
     "metadata": {},
     "output_type": "execute_result"
    }
   ],
   "source": [
    "a[-1][0]"
   ]
  },
  {
   "cell_type": "code",
   "execution_count": 126,
   "id": "c08ab6dc-3bdb-4218-8529-6f8cb7539701",
   "metadata": {
    "tags": []
   },
   "outputs": [
    {
     "data": {
      "text/plain": [
       "'b'"
      ]
     },
     "execution_count": 126,
     "metadata": {},
     "output_type": "execute_result"
    }
   ],
   "source": [
    "a[-1][1]"
   ]
  },
  {
   "cell_type": "code",
   "execution_count": 127,
   "id": "b888bc32-2fcf-4cb5-84d2-9cd22dfcef4a",
   "metadata": {
    "tags": []
   },
   "outputs": [
    {
     "data": {
      "text/plain": [
       "'c'"
      ]
     },
     "execution_count": 127,
     "metadata": {},
     "output_type": "execute_result"
    }
   ],
   "source": [
    "a[-1][2]"
   ]
  },
  {
   "cell_type": "markdown",
   "id": "93cbbcf7-3a8f-44a2-809d-1d9f1820e15a",
   "metadata": {},
   "source": [
    "#### 삼중 리스트에서 인덱싱하기"
   ]
  },
  {
   "cell_type": "code",
   "execution_count": 128,
   "id": "6ced8889-421b-4bd3-ae66-7050af7f20b5",
   "metadata": {
    "tags": []
   },
   "outputs": [],
   "source": [
    "a = [1,2,['a','b',['Life','is']]]"
   ]
  },
  {
   "cell_type": "code",
   "execution_count": 129,
   "id": "9236f99e-6762-4206-8e7e-5c328d7470dd",
   "metadata": {
    "tags": []
   },
   "outputs": [
    {
     "data": {
      "text/plain": [
       "'Life'"
      ]
     },
     "execution_count": 129,
     "metadata": {},
     "output_type": "execute_result"
    }
   ],
   "source": [
    "a[2][2][0]"
   ]
  },
  {
   "cell_type": "markdown",
   "id": "53da7e66-37f7-4d20-ad52-9c3685610c10",
   "metadata": {},
   "source": [
    "#### 리스트의 슬라이싱"
   ]
  },
  {
   "cell_type": "code",
   "execution_count": 130,
   "id": "e4e716f6-bdae-4fcb-b838-b6762b498eda",
   "metadata": {
    "tags": []
   },
   "outputs": [],
   "source": [
    "a = [1,2,3,4,5]"
   ]
  },
  {
   "cell_type": "code",
   "execution_count": 131,
   "id": "82aa39ca-6890-4659-b274-5fff7b22fda8",
   "metadata": {
    "tags": []
   },
   "outputs": [
    {
     "data": {
      "text/plain": [
       "[1, 2]"
      ]
     },
     "execution_count": 131,
     "metadata": {},
     "output_type": "execute_result"
    }
   ],
   "source": [
    "a[0:2]"
   ]
  },
  {
   "cell_type": "code",
   "execution_count": 132,
   "id": "0f7f9bbc-0d97-4cb3-b64e-1b4701ca4a43",
   "metadata": {
    "tags": []
   },
   "outputs": [],
   "source": [
    "a = \"12345\""
   ]
  },
  {
   "cell_type": "code",
   "execution_count": 133,
   "id": "579a59db-03ba-4799-b442-9f761cbd98ea",
   "metadata": {
    "tags": []
   },
   "outputs": [
    {
     "data": {
      "text/plain": [
       "'12'"
      ]
     },
     "execution_count": 133,
     "metadata": {},
     "output_type": "execute_result"
    }
   ],
   "source": [
    "a[0:2]"
   ]
  },
  {
   "cell_type": "code",
   "execution_count": 134,
   "id": "8c135912-fd31-4691-b1eb-4f8e5795df44",
   "metadata": {
    "tags": []
   },
   "outputs": [],
   "source": [
    "a=[1,2,3,4,5]"
   ]
  },
  {
   "cell_type": "code",
   "execution_count": 135,
   "id": "f1df898a-8674-4815-addd-85d2e27060e7",
   "metadata": {
    "tags": []
   },
   "outputs": [],
   "source": [
    "b=a[:2]"
   ]
  },
  {
   "cell_type": "code",
   "execution_count": 136,
   "id": "03821ad7-40a6-4a5a-a8cc-e1ec957c700b",
   "metadata": {
    "tags": []
   },
   "outputs": [],
   "source": [
    "c=a[2:]"
   ]
  },
  {
   "cell_type": "code",
   "execution_count": 137,
   "id": "f38c9e3d-e107-49d2-9c1c-c58418e653a9",
   "metadata": {
    "tags": []
   },
   "outputs": [
    {
     "data": {
      "text/plain": [
       "[1, 2]"
      ]
     },
     "execution_count": 137,
     "metadata": {},
     "output_type": "execute_result"
    }
   ],
   "source": [
    "b"
   ]
  },
  {
   "cell_type": "code",
   "execution_count": 138,
   "id": "e8801853-4dfe-4156-a629-33436e32e34a",
   "metadata": {
    "tags": []
   },
   "outputs": [
    {
     "data": {
      "text/plain": [
       "[3, 4, 5]"
      ]
     },
     "execution_count": 138,
     "metadata": {},
     "output_type": "execute_result"
    }
   ],
   "source": [
    "c"
   ]
  },
  {
   "cell_type": "markdown",
   "id": "9638ccc3-63cb-45a6-92df-a6d90a4a2f9a",
   "metadata": {},
   "source": [
    "- 퀴즈"
   ]
  },
  {
   "cell_type": "code",
   "execution_count": 139,
   "id": "59a60d95-91c2-45f2-af6f-a3ef25786b17",
   "metadata": {
    "tags": []
   },
   "outputs": [],
   "source": [
    "A = [1,2,3,4,5]"
   ]
  },
  {
   "cell_type": "code",
   "execution_count": 140,
   "id": "783ba177-1917-4d09-b0ec-a31f6b060268",
   "metadata": {
    "tags": []
   },
   "outputs": [
    {
     "data": {
      "text/plain": [
       "[2, 3]"
      ]
     },
     "execution_count": 140,
     "metadata": {},
     "output_type": "execute_result"
    }
   ],
   "source": [
    "A[1:3]"
   ]
  },
  {
   "cell_type": "markdown",
   "id": "d8b0b66f-ba65-45ed-a42f-8fec01be3563",
   "metadata": {},
   "source": [
    "#### 중첩된 리스트에서 슬라이싱"
   ]
  },
  {
   "cell_type": "code",
   "execution_count": 141,
   "id": "a3c147c4-d785-4864-8d05-837e99d293ca",
   "metadata": {
    "tags": []
   },
   "outputs": [],
   "source": [
    "a = [1,2,3,['a','b','c'],4,5]"
   ]
  },
  {
   "cell_type": "code",
   "execution_count": 142,
   "id": "8b63a643-53e6-4692-a4ce-48e093b2b44a",
   "metadata": {
    "tags": []
   },
   "outputs": [
    {
     "data": {
      "text/plain": [
       "[3, ['a', 'b', 'c'], 4]"
      ]
     },
     "execution_count": 142,
     "metadata": {},
     "output_type": "execute_result"
    }
   ],
   "source": [
    "a[2:5]"
   ]
  },
  {
   "cell_type": "code",
   "execution_count": 143,
   "id": "a9a44fec-42c4-43be-846b-72fb31bfdd4c",
   "metadata": {
    "tags": []
   },
   "outputs": [
    {
     "data": {
      "text/plain": [
       "['a', 'b']"
      ]
     },
     "execution_count": 143,
     "metadata": {},
     "output_type": "execute_result"
    }
   ],
   "source": [
    "a[3][:2]"
   ]
  },
  {
   "cell_type": "markdown",
   "id": "aaa56944-f7c5-4f37-ace3-d49afeb04604",
   "metadata": {},
   "source": [
    "### 리스트 연산하기"
   ]
  },
  {
   "cell_type": "markdown",
   "id": "c545f325-665e-4111-95de-7e41bfa6512c",
   "metadata": {},
   "source": [
    "#### 1. 리스트 더하기(+)"
   ]
  },
  {
   "cell_type": "code",
   "execution_count": 144,
   "id": "7a17e1a2-ff41-4e10-9c95-318f21fa7037",
   "metadata": {
    "tags": []
   },
   "outputs": [],
   "source": [
    "a = [1,2,3]"
   ]
  },
  {
   "cell_type": "code",
   "execution_count": 145,
   "id": "404b56fe-5cf2-49d2-9560-86c8caa4914e",
   "metadata": {
    "tags": []
   },
   "outputs": [],
   "source": [
    "b = [4,5,6]"
   ]
  },
  {
   "cell_type": "code",
   "execution_count": 146,
   "id": "b433ae62-dea0-4b42-8266-611294638699",
   "metadata": {
    "tags": []
   },
   "outputs": [
    {
     "data": {
      "text/plain": [
       "[1, 2, 3, 4, 5, 6]"
      ]
     },
     "execution_count": 146,
     "metadata": {},
     "output_type": "execute_result"
    }
   ],
   "source": [
    "a + b"
   ]
  },
  {
   "cell_type": "markdown",
   "id": "6683c52e-990e-4cad-b181-b7342ce0898c",
   "metadata": {
    "tags": []
   },
   "source": [
    "#### 2. 리스트 반복하기(*)"
   ]
  },
  {
   "cell_type": "code",
   "execution_count": 148,
   "id": "a295fa28-39fc-4e67-b841-77884a58c0aa",
   "metadata": {
    "tags": []
   },
   "outputs": [],
   "source": [
    "a = [1,2,3]"
   ]
  },
  {
   "cell_type": "code",
   "execution_count": 149,
   "id": "a1e736cb-9f46-4e4f-8779-fad4db596799",
   "metadata": {
    "tags": []
   },
   "outputs": [
    {
     "data": {
      "text/plain": [
       "[1, 2, 3, 1, 2, 3, 1, 2, 3]"
      ]
     },
     "execution_count": 149,
     "metadata": {},
     "output_type": "execute_result"
    }
   ],
   "source": [
    "a*3"
   ]
  },
  {
   "cell_type": "markdown",
   "id": "a6585c60-3035-4336-a73d-862498ddf6e9",
   "metadata": {},
   "source": [
    "#### 3. 리스트 길이 구하기"
   ]
  },
  {
   "cell_type": "code",
   "execution_count": 150,
   "id": "ea110452-e7bf-4827-8cc9-d0e3c643bb33",
   "metadata": {
    "tags": []
   },
   "outputs": [],
   "source": [
    "a = [1,2,3]"
   ]
  },
  {
   "cell_type": "code",
   "execution_count": 151,
   "id": "5d8ad617-acee-4fe7-95af-6da641c2b23f",
   "metadata": {
    "tags": []
   },
   "outputs": [
    {
     "data": {
      "text/plain": [
       "3"
      ]
     },
     "execution_count": 151,
     "metadata": {},
     "output_type": "execute_result"
    }
   ],
   "source": [
    "len(a)"
   ]
  },
  {
   "cell_type": "markdown",
   "id": "66b285cc-617c-48e3-826f-6e208f82bf6e",
   "metadata": {},
   "source": [
    "#### 초보자가 실수하기 쉬운 리스트 연산 오류"
   ]
  },
  {
   "cell_type": "code",
   "execution_count": 153,
   "id": "95b178bf-1de6-4f7f-adf2-b62f945fda42",
   "metadata": {
    "tags": []
   },
   "outputs": [
    {
     "ename": "TypeError",
     "evalue": "unsupported operand type(s) for +: 'int' and 'str'",
     "output_type": "error",
     "traceback": [
      "\u001b[1;31m---------------------------------------------------------------------------\u001b[0m",
      "\u001b[1;31mTypeError\u001b[0m                                 Traceback (most recent call last)",
      "Cell \u001b[1;32mIn[153], line 2\u001b[0m\n\u001b[0;32m      1\u001b[0m a \u001b[38;5;241m=\u001b[39m [\u001b[38;5;241m1\u001b[39m,\u001b[38;5;241m2\u001b[39m,\u001b[38;5;241m3\u001b[39m]\n\u001b[1;32m----> 2\u001b[0m \u001b[43ma\u001b[49m\u001b[43m[\u001b[49m\u001b[38;5;241;43m2\u001b[39;49m\u001b[43m]\u001b[49m\u001b[43m \u001b[49m\u001b[38;5;241;43m+\u001b[39;49m\u001b[43m \u001b[49m\u001b[38;5;124;43m\"\u001b[39;49m\u001b[38;5;124;43mhi\u001b[39;49m\u001b[38;5;124;43m\"\u001b[39;49m\n\u001b[0;32m      3\u001b[0m \u001b[38;5;66;03m#형 오류(TypeError) 발생\u001b[39;00m\n",
      "\u001b[1;31mTypeError\u001b[0m: unsupported operand type(s) for +: 'int' and 'str'"
     ]
    }
   ],
   "source": [
    "a = [1,2,3]\n",
    "a[2] + \"hi\"\n",
    "#형 오류(TypeError) 발생\n",
    "#a[2]에 저장된 값은 3이라는 정수인데 \"hi\"는 문자열이다. 정수와 문자열은 서로 더할 수 없기 때문에 형 오류 발생"
   ]
  },
  {
   "cell_type": "code",
   "execution_count": 154,
   "id": "20cc7ad4-a95a-4ca4-bb48-07063c490f3f",
   "metadata": {
    "tags": []
   },
   "outputs": [
    {
     "data": {
      "text/plain": [
       "'3hi'"
      ]
     },
     "execution_count": 154,
     "metadata": {},
     "output_type": "execute_result"
    }
   ],
   "source": [
    "str(a[2]) + \"hi\""
   ]
  },
  {
   "cell_type": "markdown",
   "id": "ee517c26-8ff9-4dc0-92c5-b95a06badc49",
   "metadata": {},
   "source": [
    "### 리스트의 수정과 삭제"
   ]
  },
  {
   "cell_type": "markdown",
   "id": "bd186700-a344-4d3a-83c9-e50f7297b086",
   "metadata": {},
   "source": [
    "#### 리스트에서 값 수정"
   ]
  },
  {
   "cell_type": "code",
   "execution_count": 155,
   "id": "128eeaf7-361b-438e-a800-de7dfb1dc853",
   "metadata": {
    "tags": []
   },
   "outputs": [],
   "source": [
    "a = [1,2,3]"
   ]
  },
  {
   "cell_type": "code",
   "execution_count": 156,
   "id": "d8d30c07-3542-4646-ae0c-c92c79e892a3",
   "metadata": {
    "tags": []
   },
   "outputs": [],
   "source": [
    "a[2] = 4"
   ]
  },
  {
   "cell_type": "code",
   "execution_count": 157,
   "id": "f817d44c-0c26-4c43-82ae-ee0718bec428",
   "metadata": {
    "tags": []
   },
   "outputs": [
    {
     "data": {
      "text/plain": [
       "[1, 2, 4]"
      ]
     },
     "execution_count": 157,
     "metadata": {},
     "output_type": "execute_result"
    }
   ],
   "source": [
    "a"
   ]
  },
  {
   "cell_type": "markdown",
   "id": "ada7a773-4bbf-426f-9b80-e684d847094d",
   "metadata": {},
   "source": [
    "#### 리스트 요소 삭제(del 함수)"
   ]
  },
  {
   "cell_type": "code",
   "execution_count": 158,
   "id": "ff46c6b7-0310-4fed-987d-b6637610ee44",
   "metadata": {
    "tags": []
   },
   "outputs": [],
   "source": [
    "a = [1,2,3]"
   ]
  },
  {
   "cell_type": "code",
   "execution_count": 159,
   "id": "93f56b80-5146-466e-9b43-11f42a09bbba",
   "metadata": {
    "tags": []
   },
   "outputs": [],
   "source": [
    "del a[1]"
   ]
  },
  {
   "cell_type": "code",
   "execution_count": 160,
   "id": "0fab4ec9-a056-489b-bdc5-8a24712b7f32",
   "metadata": {
    "tags": []
   },
   "outputs": [
    {
     "data": {
      "text/plain": [
       "[1, 3]"
      ]
     },
     "execution_count": 160,
     "metadata": {},
     "output_type": "execute_result"
    }
   ],
   "source": [
    "a"
   ]
  },
  {
   "cell_type": "code",
   "execution_count": 161,
   "id": "7f085968-c316-4d3c-b436-af219b9422be",
   "metadata": {
    "tags": []
   },
   "outputs": [],
   "source": [
    "a = [1,2,3,4,5]"
   ]
  },
  {
   "cell_type": "code",
   "execution_count": 162,
   "id": "ab894b12-2e79-46e5-aad2-aad346ed66f2",
   "metadata": {
    "tags": []
   },
   "outputs": [],
   "source": [
    "del a[2:]"
   ]
  },
  {
   "cell_type": "code",
   "execution_count": 163,
   "id": "4840b3f7-56c7-419a-9afb-64d6c15e0201",
   "metadata": {
    "tags": []
   },
   "outputs": [
    {
     "data": {
      "text/plain": [
       "[1, 2]"
      ]
     },
     "execution_count": 163,
     "metadata": {},
     "output_type": "execute_result"
    }
   ],
   "source": [
    "a"
   ]
  },
  {
   "cell_type": "markdown",
   "id": "18d6df62-e85d-4c97-9527-b671dd2073d7",
   "metadata": {},
   "source": [
    "### 리스트 관련 함수"
   ]
  },
  {
   "cell_type": "markdown",
   "id": "bd0082c1-7365-4143-95e9-58ea208fbe7f",
   "metadata": {},
   "source": [
    "#### 리스트에 요소 추가(append)"
   ]
  },
  {
   "cell_type": "code",
   "execution_count": 164,
   "id": "1a650a87-ce39-4dbc-ba74-ac2ad4fda593",
   "metadata": {
    "tags": []
   },
   "outputs": [],
   "source": [
    "a = [1,2,3]"
   ]
  },
  {
   "cell_type": "code",
   "execution_count": 165,
   "id": "2381670c-b2a0-4a01-9281-024031cd586d",
   "metadata": {
    "tags": []
   },
   "outputs": [],
   "source": [
    "a.append(4)"
   ]
  },
  {
   "cell_type": "code",
   "execution_count": 166,
   "id": "ec89562d-e23d-4cda-89ea-58b5dfacb9f9",
   "metadata": {
    "tags": []
   },
   "outputs": [
    {
     "data": {
      "text/plain": [
       "[1, 2, 3, 4]"
      ]
     },
     "execution_count": 166,
     "metadata": {},
     "output_type": "execute_result"
    }
   ],
   "source": [
    "a"
   ]
  },
  {
   "cell_type": "code",
   "execution_count": 167,
   "id": "86089d8c-adff-4d66-ad9b-9293f89bb3ea",
   "metadata": {
    "tags": []
   },
   "outputs": [],
   "source": [
    "a.append([5,6])"
   ]
  },
  {
   "cell_type": "code",
   "execution_count": 168,
   "id": "7f7900af-6a54-4f7c-b046-13aab0e8abed",
   "metadata": {
    "tags": []
   },
   "outputs": [
    {
     "data": {
      "text/plain": [
       "[1, 2, 3, 4, [5, 6]]"
      ]
     },
     "execution_count": 168,
     "metadata": {},
     "output_type": "execute_result"
    }
   ],
   "source": [
    "a"
   ]
  },
  {
   "cell_type": "markdown",
   "id": "90c2b585-f945-4ae0-ad29-7bfb468920b2",
   "metadata": {},
   "source": [
    "#### 리스트 정렬(sort)"
   ]
  },
  {
   "cell_type": "code",
   "execution_count": 169,
   "id": "b49e33f5-7039-46bb-990e-6e67bb0b5309",
   "metadata": {
    "tags": []
   },
   "outputs": [],
   "source": [
    "a = [1,4,3,2]"
   ]
  },
  {
   "cell_type": "code",
   "execution_count": 170,
   "id": "5ac21d13-4e0e-449a-9771-1bbb2ad92041",
   "metadata": {
    "tags": []
   },
   "outputs": [],
   "source": [
    "a.sort()"
   ]
  },
  {
   "cell_type": "code",
   "execution_count": 171,
   "id": "c0da2865-20b9-47f0-ba12-34a85a34a090",
   "metadata": {
    "tags": []
   },
   "outputs": [
    {
     "data": {
      "text/plain": [
       "[1, 2, 3, 4]"
      ]
     },
     "execution_count": 171,
     "metadata": {},
     "output_type": "execute_result"
    }
   ],
   "source": [
    "a"
   ]
  },
  {
   "cell_type": "code",
   "execution_count": 172,
   "id": "85d7e0e7-1edf-4448-80af-a7a5fcb925a5",
   "metadata": {
    "tags": []
   },
   "outputs": [],
   "source": [
    "a = ['a','c','b']"
   ]
  },
  {
   "cell_type": "code",
   "execution_count": 173,
   "id": "89f6ad7e-a72e-48a7-99bf-32e8820847c9",
   "metadata": {
    "tags": []
   },
   "outputs": [],
   "source": [
    "a.sort()"
   ]
  },
  {
   "cell_type": "code",
   "execution_count": 174,
   "id": "eb8efe9f-cbb1-4d10-acb7-031bf55b318d",
   "metadata": {
    "tags": []
   },
   "outputs": [
    {
     "data": {
      "text/plain": [
       "['a', 'b', 'c']"
      ]
     },
     "execution_count": 174,
     "metadata": {},
     "output_type": "execute_result"
    }
   ],
   "source": [
    "a"
   ]
  },
  {
   "cell_type": "markdown",
   "id": "bcad255b-f868-4f2a-acdf-77a9191129de",
   "metadata": {},
   "source": [
    "#### 리스트 뒤집기(reverse)"
   ]
  },
  {
   "cell_type": "code",
   "execution_count": 175,
   "id": "daf46e6f-8112-47bb-b4d2-5bbf56cf2307",
   "metadata": {
    "tags": []
   },
   "outputs": [],
   "source": [
    "a = ['a','c','b']"
   ]
  },
  {
   "cell_type": "code",
   "execution_count": 176,
   "id": "d80f80f9-80c1-46d4-8052-f00058730347",
   "metadata": {
    "tags": []
   },
   "outputs": [],
   "source": [
    "a.reverse()"
   ]
  },
  {
   "cell_type": "code",
   "execution_count": 177,
   "id": "8dcd67e4-1158-4d9e-b016-c9732ae98e2a",
   "metadata": {
    "tags": []
   },
   "outputs": [
    {
     "data": {
      "text/plain": [
       "['b', 'c', 'a']"
      ]
     },
     "execution_count": 177,
     "metadata": {},
     "output_type": "execute_result"
    }
   ],
   "source": [
    "a\n",
    "# 계속 뒤집기 가능"
   ]
  },
  {
   "cell_type": "markdown",
   "id": "9831b31f-e021-4bc9-b735-4cf4faad6349",
   "metadata": {},
   "source": [
    "#### 위치 반환(index)"
   ]
  },
  {
   "cell_type": "code",
   "execution_count": 178,
   "id": "7fe1f8ee-9dbf-4b37-8dc9-056a4abbf299",
   "metadata": {
    "tags": []
   },
   "outputs": [],
   "source": [
    "a = [1,2,3]"
   ]
  },
  {
   "cell_type": "code",
   "execution_count": 179,
   "id": "db09d334-7d42-4dbb-8497-1a2b624b6d47",
   "metadata": {
    "tags": []
   },
   "outputs": [
    {
     "data": {
      "text/plain": [
       "2"
      ]
     },
     "execution_count": 179,
     "metadata": {},
     "output_type": "execute_result"
    }
   ],
   "source": [
    "a.index(3) #3은 리스트 a의 세 번째(a[2])요소"
   ]
  },
  {
   "cell_type": "code",
   "execution_count": 180,
   "id": "f47a20f0-d28d-477a-b72b-445c3743aace",
   "metadata": {
    "tags": []
   },
   "outputs": [
    {
     "data": {
      "text/plain": [
       "0"
      ]
     },
     "execution_count": 180,
     "metadata": {},
     "output_type": "execute_result"
    }
   ],
   "source": [
    "a.index(1) #1은 리스트 a의 첫 번째(a[0])요소"
   ]
  },
  {
   "cell_type": "code",
   "execution_count": 181,
   "id": "f1fafea0-ba43-4ce9-b316-fbdb85ce867b",
   "metadata": {
    "tags": []
   },
   "outputs": [
    {
     "ename": "ValueError",
     "evalue": "0 is not in list",
     "output_type": "error",
     "traceback": [
      "\u001b[1;31m---------------------------------------------------------------------------\u001b[0m",
      "\u001b[1;31mValueError\u001b[0m                                Traceback (most recent call last)",
      "Cell \u001b[1;32mIn[181], line 1\u001b[0m\n\u001b[1;32m----> 1\u001b[0m \u001b[43ma\u001b[49m\u001b[38;5;241;43m.\u001b[39;49m\u001b[43mindex\u001b[49m\u001b[43m(\u001b[49m\u001b[38;5;241;43m0\u001b[39;49m\u001b[43m)\u001b[49m\n\u001b[0;32m      2\u001b[0m \u001b[38;5;66;03m#값 0은 a 리스트에 존재하지 않기 때문에 값 오류(ValueError) 발생\u001b[39;00m\n",
      "\u001b[1;31mValueError\u001b[0m: 0 is not in list"
     ]
    }
   ],
   "source": [
    "a.index(0)\n",
    "#값 0은 a 리스트에 존재하지 않기 때문에 값 오류(ValueError) 발생"
   ]
  },
  {
   "cell_type": "markdown",
   "id": "4318e966-9dd4-42de-9e3b-06fff4d9b8b9",
   "metadata": {},
   "source": [
    "#### 리스트에 요소 삽입(insert)"
   ]
  },
  {
   "cell_type": "code",
   "execution_count": 182,
   "id": "7c99df49-b1c6-4745-ba4f-283dc71110c6",
   "metadata": {
    "tags": []
   },
   "outputs": [],
   "source": [
    "a = [1,2,3]"
   ]
  },
  {
   "cell_type": "code",
   "execution_count": 183,
   "id": "042b253b-0f32-4f74-a37a-d12390bb9f05",
   "metadata": {
    "tags": []
   },
   "outputs": [],
   "source": [
    "a.insert(0,4) # a[0] 위치에 4 삽입"
   ]
  },
  {
   "cell_type": "code",
   "execution_count": 184,
   "id": "1de2492d-0017-4f2a-9633-5e178e26d255",
   "metadata": {
    "tags": []
   },
   "outputs": [
    {
     "data": {
      "text/plain": [
       "[4, 1, 2, 3]"
      ]
     },
     "execution_count": 184,
     "metadata": {},
     "output_type": "execute_result"
    }
   ],
   "source": [
    "a"
   ]
  },
  {
   "cell_type": "code",
   "execution_count": 187,
   "id": "d79bb305-c14a-4023-9fe1-a851e0581a5f",
   "metadata": {
    "tags": []
   },
   "outputs": [],
   "source": [
    "a.insert(3, 5) #a[3] 위치에 5 삽입"
   ]
  },
  {
   "cell_type": "code",
   "execution_count": 188,
   "id": "8a135864-5663-405f-9e91-d286cdcba996",
   "metadata": {
    "tags": []
   },
   "outputs": [
    {
     "data": {
      "text/plain": [
       "[4, 1, 2, 5, 5, 3]"
      ]
     },
     "execution_count": 188,
     "metadata": {},
     "output_type": "execute_result"
    }
   ],
   "source": [
    "a"
   ]
  },
  {
   "cell_type": "markdown",
   "id": "019fcb69-58bf-42a0-9ae1-14ab6199b1da",
   "metadata": {},
   "source": [
    "#### 리스트 요소 제거(remove)\n",
    "- remove(x)는 리스트에서 첫 번째로 나오는 x를 삭제"
   ]
  },
  {
   "cell_type": "code",
   "execution_count": 189,
   "id": "d71c74ef-d9be-4274-8b28-48537e4bedc2",
   "metadata": {
    "tags": []
   },
   "outputs": [],
   "source": [
    "a = [1,2,3,1,2,3]"
   ]
  },
  {
   "cell_type": "code",
   "execution_count": 190,
   "id": "47942815-a876-4f30-89ca-60e4a4b666a2",
   "metadata": {
    "tags": []
   },
   "outputs": [],
   "source": [
    "a.remove(3)"
   ]
  },
  {
   "cell_type": "code",
   "execution_count": 191,
   "id": "d8a7a7a0-90d4-418a-84e0-4486874544c3",
   "metadata": {
    "tags": []
   },
   "outputs": [
    {
     "data": {
      "text/plain": [
       "[1, 2, 1, 2, 3]"
      ]
     },
     "execution_count": 191,
     "metadata": {},
     "output_type": "execute_result"
    }
   ],
   "source": [
    "a"
   ]
  },
  {
   "cell_type": "code",
   "execution_count": 192,
   "id": "6e053148-355f-4b50-a6e9-c224bff2e51e",
   "metadata": {
    "tags": []
   },
   "outputs": [],
   "source": [
    "a.remove(3)"
   ]
  },
  {
   "cell_type": "code",
   "execution_count": 193,
   "id": "70c756cd-8263-431e-a583-6e592d651803",
   "metadata": {
    "tags": []
   },
   "outputs": [
    {
     "data": {
      "text/plain": [
       "[1, 2, 1, 2]"
      ]
     },
     "execution_count": 193,
     "metadata": {},
     "output_type": "execute_result"
    }
   ],
   "source": [
    "a"
   ]
  },
  {
   "cell_type": "markdown",
   "id": "f5b4c866-cd11-4852-90e8-3aea174d6e22",
   "metadata": {},
   "source": [
    "#### 리스트 요소 끄집어내기(pop)\n",
    "- pop()은 리스트의 맨 마지막 요소를 돌려주고 그 요소는 삭제"
   ]
  },
  {
   "cell_type": "code",
   "execution_count": 194,
   "id": "8dd1cec3-83f5-4e2a-ac49-d0b11628e724",
   "metadata": {
    "tags": []
   },
   "outputs": [],
   "source": [
    "a = [1,2,3]"
   ]
  },
  {
   "cell_type": "code",
   "execution_count": 195,
   "id": "4b7e1dae-de8c-48da-adc5-c88962071993",
   "metadata": {
    "tags": []
   },
   "outputs": [
    {
     "data": {
      "text/plain": [
       "3"
      ]
     },
     "execution_count": 195,
     "metadata": {},
     "output_type": "execute_result"
    }
   ],
   "source": [
    "a.pop()"
   ]
  },
  {
   "cell_type": "code",
   "execution_count": 196,
   "id": "e3f4d6b4-003e-48df-bff9-2778a53036ac",
   "metadata": {
    "tags": []
   },
   "outputs": [
    {
     "data": {
      "text/plain": [
       "[1, 2]"
      ]
     },
     "execution_count": 196,
     "metadata": {},
     "output_type": "execute_result"
    }
   ],
   "source": [
    "a"
   ]
  },
  {
   "cell_type": "code",
   "execution_count": 197,
   "id": "0f75b581-9944-485c-bc09-f6ec5121006c",
   "metadata": {
    "tags": []
   },
   "outputs": [],
   "source": [
    "a= [1,2,3]"
   ]
  },
  {
   "cell_type": "markdown",
   "id": "845055f2-e2af-4cb7-a216-1a93c65756e6",
   "metadata": {},
   "source": [
    "- pop(x)는 리스트의 x번재 요소를 돌려주고 그 요소는 삭제"
   ]
  },
  {
   "cell_type": "code",
   "execution_count": 198,
   "id": "9fe36074-97b0-4580-b050-002483482871",
   "metadata": {
    "tags": []
   },
   "outputs": [
    {
     "data": {
      "text/plain": [
       "2"
      ]
     },
     "execution_count": 198,
     "metadata": {},
     "output_type": "execute_result"
    }
   ],
   "source": [
    "a.pop(1)"
   ]
  },
  {
   "cell_type": "code",
   "execution_count": 199,
   "id": "64316f66-0684-475d-9dde-976f2f4dcf3a",
   "metadata": {
    "tags": []
   },
   "outputs": [
    {
     "data": {
      "text/plain": [
       "[1, 3]"
      ]
     },
     "execution_count": 199,
     "metadata": {},
     "output_type": "execute_result"
    }
   ],
   "source": [
    "a"
   ]
  },
  {
   "cell_type": "markdown",
   "id": "892d52bf-54e3-4d7a-8013-b5e9677dc595",
   "metadata": {},
   "source": [
    "#### 리스트에 포함된 요소 x의 개수 세기(count)"
   ]
  },
  {
   "cell_type": "code",
   "execution_count": 200,
   "id": "aec1f2a0-3971-437d-bb6c-35665f132bff",
   "metadata": {
    "tags": []
   },
   "outputs": [],
   "source": [
    "a = [1,2,3,1]"
   ]
  },
  {
   "cell_type": "code",
   "execution_count": 201,
   "id": "766ede4e-03b5-4a49-9e5c-d03fbf0d5ad6",
   "metadata": {
    "tags": []
   },
   "outputs": [
    {
     "data": {
      "text/plain": [
       "2"
      ]
     },
     "execution_count": 201,
     "metadata": {},
     "output_type": "execute_result"
    }
   ],
   "source": [
    "a.count(1)"
   ]
  },
  {
   "cell_type": "markdown",
   "id": "7d9ec1cd-79f8-4822-a38f-18157302af46",
   "metadata": {},
   "source": [
    "#### 리스트 확장(extend)\n",
    "- extend(x)에서 x에는 리스트만 올 수 있으며 원래의 a 리스트에 x리스트를 더하게 된다.\n",
    "- a.extend([4,5])는 a += [4,5]와 동일하다."
   ]
  },
  {
   "cell_type": "code",
   "execution_count": 202,
   "id": "e91117d8-5356-4c8c-8c0a-1b2b8be064bf",
   "metadata": {
    "tags": []
   },
   "outputs": [],
   "source": [
    "a = [1,2,3]"
   ]
  },
  {
   "cell_type": "code",
   "execution_count": 203,
   "id": "a161ae61-2d8e-41c1-8fcd-d5e0d843d2d0",
   "metadata": {
    "tags": []
   },
   "outputs": [],
   "source": [
    "a.extend([4,5])"
   ]
  },
  {
   "cell_type": "code",
   "execution_count": 205,
   "id": "2d796171-f9c4-4c2c-8ca2-929aa702f84a",
   "metadata": {
    "tags": []
   },
   "outputs": [
    {
     "data": {
      "text/plain": [
       "[1, 2, 3, 4, 5]"
      ]
     },
     "execution_count": 205,
     "metadata": {},
     "output_type": "execute_result"
    }
   ],
   "source": [
    "a"
   ]
  },
  {
   "cell_type": "code",
   "execution_count": 206,
   "id": "0859c819-7d09-4129-84f9-86782b0bef65",
   "metadata": {
    "tags": []
   },
   "outputs": [],
   "source": [
    "b = [6,7]"
   ]
  },
  {
   "cell_type": "code",
   "execution_count": 207,
   "id": "fee9dc30-7f22-4fed-abb3-9df343f620fa",
   "metadata": {
    "tags": []
   },
   "outputs": [],
   "source": [
    "a.extend(b)"
   ]
  },
  {
   "cell_type": "code",
   "execution_count": 208,
   "id": "a7093874-72c0-42a6-bd98-cabc7642d75f",
   "metadata": {
    "tags": []
   },
   "outputs": [
    {
     "data": {
      "text/plain": [
       "[1, 2, 3, 4, 5, 6, 7]"
      ]
     },
     "execution_count": 208,
     "metadata": {},
     "output_type": "execute_result"
    }
   ],
   "source": [
    "a"
   ]
  },
  {
   "cell_type": "markdown",
   "id": "337605b9-be12-48b0-b203-1bb02cf5f656",
   "metadata": {
    "tags": []
   },
   "source": [
    "## 2-4 튜플 자료형\n",
    "튜플(tuple)은 몇 가지 점을 제외하곤 리스트와 거의 비슷하며 리스트와 다른 점은 다음과 같다.\n",
    "- 리스트는 []로 둘러싸지만 튜플은 ()로 둘러싼다.\n",
    "- 리스트는 그 값의 생성, 삭제, 수정이 가능하지만 튜플은 그 값을 바꿀 수 없다.\n"
   ]
  },
  {
   "cell_type": "code",
   "execution_count": 210,
   "id": "96de4638-ffb7-49b7-98eb-0cf18d0de34f",
   "metadata": {
    "tags": []
   },
   "outputs": [],
   "source": [
    "t1 = ()"
   ]
  },
  {
   "cell_type": "code",
   "execution_count": 218,
   "id": "bb6a447b-6f2a-4a75-9567-9c4b961ea50d",
   "metadata": {
    "tags": []
   },
   "outputs": [],
   "source": [
    "t2 = (1,) # 단지 한 개의 요소만을 가질 대는 요소 뒤에 콤마(,)를 반드시 붙여야 한다."
   ]
  },
  {
   "cell_type": "code",
   "execution_count": 213,
   "id": "bd56d84f-a49a-4d95-8122-f702a2c89c8b",
   "metadata": {
    "tags": []
   },
   "outputs": [],
   "source": [
    "t3 = (1,2,3)"
   ]
  },
  {
   "cell_type": "code",
   "execution_count": 219,
   "id": "ad768c6d-64a8-4976-ac47-d2d9ee0cc692",
   "metadata": {
    "tags": []
   },
   "outputs": [],
   "source": [
    "t4 = 1,2,3 # 괄호를 생략해도 무방"
   ]
  },
  {
   "cell_type": "code",
   "execution_count": 215,
   "id": "8bc0e85a-9807-415f-9f6f-785e751f514e",
   "metadata": {
    "tags": []
   },
   "outputs": [],
   "source": [
    "t5 = ('a', 'b', ('ab', 'cd'))"
   ]
  },
  {
   "cell_type": "markdown",
   "id": "4eefd1d9-431b-4e54-a9fa-c6a21e6ccad4",
   "metadata": {
    "tags": []
   },
   "source": [
    "### 튜플의 요솟값을 지우거나 변경하려고 하면 어떻게 될까?"
   ]
  },
  {
   "cell_type": "markdown",
   "id": "3bedf75b-cc97-4d37-8d42-603bbd01881e",
   "metadata": {},
   "source": [
    "#### 1. 튜플 요솟값을 삭제하려 할 때"
   ]
  },
  {
   "cell_type": "code",
   "execution_count": 222,
   "id": "4c15bd72-6110-4391-aa11-d3d043df6018",
   "metadata": {
    "tags": []
   },
   "outputs": [
    {
     "ename": "TypeError",
     "evalue": "'tuple' object doesn't support item deletion",
     "output_type": "error",
     "traceback": [
      "\u001b[1;31m---------------------------------------------------------------------------\u001b[0m",
      "\u001b[1;31mTypeError\u001b[0m                                 Traceback (most recent call last)",
      "Cell \u001b[1;32mIn[222], line 2\u001b[0m\n\u001b[0;32m      1\u001b[0m t1 \u001b[38;5;241m=\u001b[39m (\u001b[38;5;241m1\u001b[39m,\u001b[38;5;241m2\u001b[39m,\u001b[38;5;124m'\u001b[39m\u001b[38;5;124ma\u001b[39m\u001b[38;5;124m'\u001b[39m,\u001b[38;5;124m'\u001b[39m\u001b[38;5;124mb\u001b[39m\u001b[38;5;124m'\u001b[39m)\n\u001b[1;32m----> 2\u001b[0m \u001b[38;5;28;01mdel\u001b[39;00m t1[\u001b[38;5;241m10\u001b[39m]\n",
      "\u001b[1;31mTypeError\u001b[0m: 'tuple' object doesn't support item deletion"
     ]
    }
   ],
   "source": [
    "t1 = (1,2,'a','b')\n",
    "del t1[10] # 형 오류(Type Error) 발생"
   ]
  },
  {
   "cell_type": "markdown",
   "id": "6bc07074-ac54-4bb5-abc3-0320ca6f65c1",
   "metadata": {},
   "source": [
    "#### 2. 튜플 요솟값을 변경하려 할 때"
   ]
  },
  {
   "cell_type": "code",
   "execution_count": 223,
   "id": "d5d329ca-a37c-491e-ba97-adad180c7951",
   "metadata": {
    "tags": []
   },
   "outputs": [],
   "source": [
    "t1 = (1,2,'a','b')"
   ]
  },
  {
   "cell_type": "code",
   "execution_count": 224,
   "id": "8963f9a8-7888-4dfa-b138-d7d743444245",
   "metadata": {
    "tags": []
   },
   "outputs": [
    {
     "ename": "TypeError",
     "evalue": "'tuple' object does not support item assignment",
     "output_type": "error",
     "traceback": [
      "\u001b[1;31m---------------------------------------------------------------------------\u001b[0m",
      "\u001b[1;31mTypeError\u001b[0m                                 Traceback (most recent call last)",
      "Cell \u001b[1;32mIn[224], line 1\u001b[0m\n\u001b[1;32m----> 1\u001b[0m \u001b[43mt1\u001b[49m\u001b[43m[\u001b[49m\u001b[38;5;241;43m0\u001b[39;49m\u001b[43m]\u001b[49m \u001b[38;5;241m=\u001b[39m \u001b[38;5;124m'\u001b[39m\u001b[38;5;124mc\u001b[39m\u001b[38;5;124m'\u001b[39m\n",
      "\u001b[1;31mTypeError\u001b[0m: 'tuple' object does not support item assignment"
     ]
    }
   ],
   "source": [
    "t1[0] = 'c' # 형 오류 발생"
   ]
  },
  {
   "cell_type": "markdown",
   "id": "ea835d19-57d1-4da1-912b-46f94c98b3cc",
   "metadata": {},
   "source": [
    "### 튜플 다루기"
   ]
  },
  {
   "cell_type": "markdown",
   "id": "18bacb0a-38c3-4aab-980a-cc8c062d2c25",
   "metadata": {},
   "source": [
    "#### 1. 인덱싱하기"
   ]
  },
  {
   "cell_type": "code",
   "execution_count": 225,
   "id": "08d18c0c-847a-461f-84d2-7998b7f3bf28",
   "metadata": {
    "tags": []
   },
   "outputs": [],
   "source": [
    "t1 = (1,2,'a','b')"
   ]
  },
  {
   "cell_type": "code",
   "execution_count": 226,
   "id": "8a62cce9-100d-4063-a5c7-409a6d1628fe",
   "metadata": {
    "tags": []
   },
   "outputs": [
    {
     "data": {
      "text/plain": [
       "1"
      ]
     },
     "execution_count": 226,
     "metadata": {},
     "output_type": "execute_result"
    }
   ],
   "source": [
    "t1[0]"
   ]
  },
  {
   "cell_type": "code",
   "execution_count": 227,
   "id": "0665d818-7978-4281-aad4-16d15ed65f13",
   "metadata": {
    "tags": []
   },
   "outputs": [
    {
     "data": {
      "text/plain": [
       "'b'"
      ]
     },
     "execution_count": 227,
     "metadata": {},
     "output_type": "execute_result"
    }
   ],
   "source": [
    "t1[3]"
   ]
  },
  {
   "cell_type": "markdown",
   "id": "b32b3049-1434-491d-a683-63476506b570",
   "metadata": {},
   "source": [
    "#### 2. 슬라이싱하기"
   ]
  },
  {
   "cell_type": "code",
   "execution_count": 228,
   "id": "81a74138-d257-40cf-9aeb-c59bf54852fc",
   "metadata": {
    "tags": []
   },
   "outputs": [],
   "source": [
    "t1 = (1,2,'a','b')"
   ]
  },
  {
   "cell_type": "code",
   "execution_count": 229,
   "id": "489eb661-8adc-4c56-b494-b853e99994b1",
   "metadata": {
    "tags": []
   },
   "outputs": [
    {
     "data": {
      "text/plain": [
       "(2, 'a', 'b')"
      ]
     },
     "execution_count": 229,
     "metadata": {},
     "output_type": "execute_result"
    }
   ],
   "source": [
    "t1[1:]"
   ]
  },
  {
   "cell_type": "markdown",
   "id": "fc9e7f31-8a7a-45fd-b9e3-d2e962d401f3",
   "metadata": {},
   "source": [
    "#### 3. 튜플 더하기"
   ]
  },
  {
   "cell_type": "code",
   "execution_count": 230,
   "id": "d2560c15-36c2-400d-a347-a7f25b078798",
   "metadata": {
    "tags": []
   },
   "outputs": [],
   "source": [
    "t2 = (3,4)"
   ]
  },
  {
   "cell_type": "code",
   "execution_count": 231,
   "id": "d4d83037-29c1-4139-aeca-d1ac0f70db36",
   "metadata": {
    "tags": []
   },
   "outputs": [
    {
     "data": {
      "text/plain": [
       "(1, 2, 'a', 'b', 3, 4)"
      ]
     },
     "execution_count": 231,
     "metadata": {},
     "output_type": "execute_result"
    }
   ],
   "source": [
    "t1 + t2"
   ]
  },
  {
   "cell_type": "markdown",
   "id": "012db009-a473-41d2-a3e6-74e8cae7fc5e",
   "metadata": {},
   "source": [
    "#### 4. 튜플 곱하기"
   ]
  },
  {
   "cell_type": "code",
   "execution_count": 232,
   "id": "b98242b0-74c2-434a-abc9-c4bbdd702257",
   "metadata": {
    "tags": []
   },
   "outputs": [
    {
     "data": {
      "text/plain": [
       "(3, 4, 3, 4, 3, 4)"
      ]
     },
     "execution_count": 232,
     "metadata": {},
     "output_type": "execute_result"
    }
   ],
   "source": [
    "t2 * 3"
   ]
  },
  {
   "cell_type": "markdown",
   "id": "948714ef-15ec-4388-9281-84471d14c902",
   "metadata": {},
   "source": [
    "#### 5. 튜플 길이 구하기"
   ]
  },
  {
   "cell_type": "code",
   "execution_count": 233,
   "id": "afe315a7-6cad-410b-869a-a2eb2391e667",
   "metadata": {
    "tags": []
   },
   "outputs": [],
   "source": [
    "t1  =(1,2,'a','b')"
   ]
  },
  {
   "cell_type": "code",
   "execution_count": 234,
   "id": "c62f5497-7b25-4966-82ed-b5eecfae7e31",
   "metadata": {
    "tags": []
   },
   "outputs": [
    {
     "data": {
      "text/plain": [
       "4"
      ]
     },
     "execution_count": 234,
     "metadata": {},
     "output_type": "execute_result"
    }
   ],
   "source": [
    "len(t1)"
   ]
  },
  {
   "cell_type": "markdown",
   "id": "cbcca904-d69a-4f82-91c6-deba4903fdc5",
   "metadata": {},
   "source": [
    "- 문제"
   ]
  },
  {
   "cell_type": "code",
   "execution_count": 235,
   "id": "8fecb3e7-e0a7-47b8-874f-5259a0384e62",
   "metadata": {
    "tags": []
   },
   "outputs": [
    {
     "data": {
      "text/plain": [
       "(1, 2, 3, 4)"
      ]
     },
     "execution_count": 235,
     "metadata": {},
     "output_type": "execute_result"
    }
   ],
   "source": [
    "(1,2,3) + (4,)"
   ]
  },
  {
   "cell_type": "markdown",
   "id": "d190a036-b5ef-4396-bc93-a4c6fd8f2d06",
   "metadata": {},
   "source": [
    "## 2-5 딕셔너리 자료형"
   ]
  },
  {
   "cell_type": "markdown",
   "id": "3c91dc97-3998-4055-8fa0-dbb083430cd8",
   "metadata": {},
   "source": [
    "### 딕셔너리는 어떻게 만들까?\n",
    "- Key에는 변하지 않는 값을 사용하고, Value에는 변하는 값과 변하지 않는 값 모두 사용 가능"
   ]
  },
  {
   "cell_type": "code",
   "execution_count": 236,
   "id": "0c14c255-1e8e-4574-8d24-cdb3287400d8",
   "metadata": {
    "tags": []
   },
   "outputs": [],
   "source": [
    "dic = {'name':'pey', 'phone':'0119993323', 'birth':'1118'}"
   ]
  },
  {
   "cell_type": "code",
   "execution_count": 237,
   "id": "d6ea1275-3580-4d6d-825c-7a46be53a8b0",
   "metadata": {
    "tags": []
   },
   "outputs": [],
   "source": [
    "a = {1:'hi'}"
   ]
  },
  {
   "cell_type": "code",
   "execution_count": 239,
   "id": "d0d67ff9-d0c3-4737-b624-76904c2f6e62",
   "metadata": {
    "tags": []
   },
   "outputs": [],
   "source": [
    "a = {'a':[1,2,3]} # value에 리스트도 넣을 수 있다."
   ]
  },
  {
   "cell_type": "markdown",
   "id": "f1d208ae-15f0-47df-af66-55150e175a84",
   "metadata": {},
   "source": [
    "### 딕셔너리 쌍 추가, 삭제하기"
   ]
  },
  {
   "cell_type": "markdown",
   "id": "c6f47b05-863a-48c8-9668-d4811324a47f",
   "metadata": {
    "tags": []
   },
   "source": [
    "#### 1. 딕셔너리 쌍 추가하기"
   ]
  },
  {
   "cell_type": "code",
   "execution_count": 250,
   "id": "a46e23d8-6a00-45f0-98ef-64d7f6fbb941",
   "metadata": {
    "tags": []
   },
   "outputs": [],
   "source": [
    "a = {1:'a'}"
   ]
  },
  {
   "cell_type": "code",
   "execution_count": 251,
   "id": "52d5d59f-3cf7-4986-a4fe-db50373c3920",
   "metadata": {
    "tags": []
   },
   "outputs": [],
   "source": [
    "a[2] = 'b'"
   ]
  },
  {
   "cell_type": "code",
   "execution_count": 242,
   "id": "74a91b56-406a-45f0-a76a-1a22fe18b08e",
   "metadata": {
    "tags": []
   },
   "outputs": [
    {
     "data": {
      "text/plain": [
       "{1: 'a', 2: 'b'}"
      ]
     },
     "execution_count": 242,
     "metadata": {},
     "output_type": "execute_result"
    }
   ],
   "source": [
    "a"
   ]
  },
  {
   "cell_type": "code",
   "execution_count": 252,
   "id": "e1e49e88-e132-46f2-a684-c4eb4ffa0344",
   "metadata": {
    "tags": []
   },
   "outputs": [],
   "source": [
    "a['name'] = 'pey'"
   ]
  },
  {
   "cell_type": "code",
   "execution_count": 244,
   "id": "f815f6ee-ba09-4823-b474-6543329769fc",
   "metadata": {
    "tags": []
   },
   "outputs": [
    {
     "data": {
      "text/plain": [
       "{1: 'a', 2: 'b', 'name': 'pey'}"
      ]
     },
     "execution_count": 244,
     "metadata": {},
     "output_type": "execute_result"
    }
   ],
   "source": [
    "a"
   ]
  },
  {
   "cell_type": "code",
   "execution_count": 253,
   "id": "4976ed50-e1fa-4884-a232-859c52b91949",
   "metadata": {
    "tags": []
   },
   "outputs": [],
   "source": [
    "a[3] = [1,2,3]"
   ]
  },
  {
   "cell_type": "code",
   "execution_count": 246,
   "id": "248d1e73-e54b-4379-a996-e0b54af36a3d",
   "metadata": {
    "tags": []
   },
   "outputs": [
    {
     "data": {
      "text/plain": [
       "{1: 'a', 2: 'b', 'name': 'pey', 3: [1, 2, 3]}"
      ]
     },
     "execution_count": 246,
     "metadata": {},
     "output_type": "execute_result"
    }
   ],
   "source": [
    "a"
   ]
  },
  {
   "cell_type": "markdown",
   "id": "ed18a4fb-18fa-4316-b44d-8913e00dd755",
   "metadata": {},
   "source": [
    "#### 2. 딕셔너리 요소 삭제하기"
   ]
  },
  {
   "cell_type": "code",
   "execution_count": 254,
   "id": "96d8388c-6093-4654-9c67-b33ca36f34c7",
   "metadata": {
    "tags": []
   },
   "outputs": [],
   "source": [
    "del a[1] #key가 1인 key:value 쌍 삭제"
   ]
  },
  {
   "cell_type": "code",
   "execution_count": 256,
   "id": "999fb4c6-259d-4303-8863-1bebf1c52a3e",
   "metadata": {
    "tags": []
   },
   "outputs": [
    {
     "data": {
      "text/plain": [
       "{2: 'b', 'name': 'pey', 3: [1, 2, 3]}"
      ]
     },
     "execution_count": 256,
     "metadata": {},
     "output_type": "execute_result"
    }
   ],
   "source": [
    "a"
   ]
  },
  {
   "cell_type": "markdown",
   "id": "9bc43924-518c-4127-b7d1-4a6aee6e57b6",
   "metadata": {},
   "source": [
    "### 딕셔너리를 사용하는 방법"
   ]
  },
  {
   "cell_type": "markdown",
   "id": "f0798213-325e-4033-b713-d1c7de5306a5",
   "metadata": {},
   "source": [
    "#### 딕셔너리에서 Key 사용해 Value 얻기"
   ]
  },
  {
   "cell_type": "code",
   "execution_count": 257,
   "id": "322b6feb-2fc9-4be6-b51d-af723d51111e",
   "metadata": {
    "tags": []
   },
   "outputs": [],
   "source": [
    "grade = {'pey':10, 'juliet':99}"
   ]
  },
  {
   "cell_type": "code",
   "execution_count": 258,
   "id": "aa517f86-3f42-4a63-92b6-0a6ff757da4f",
   "metadata": {
    "tags": []
   },
   "outputs": [
    {
     "data": {
      "text/plain": [
       "10"
      ]
     },
     "execution_count": 258,
     "metadata": {},
     "output_type": "execute_result"
    }
   ],
   "source": [
    "grade['pey']"
   ]
  },
  {
   "cell_type": "code",
   "execution_count": 259,
   "id": "725c9b04-c4d9-40cc-be48-b835d180fa28",
   "metadata": {
    "tags": []
   },
   "outputs": [
    {
     "data": {
      "text/plain": [
       "99"
      ]
     },
     "execution_count": 259,
     "metadata": {},
     "output_type": "execute_result"
    }
   ],
   "source": [
    "grade['juliet']"
   ]
  },
  {
   "cell_type": "code",
   "execution_count": 1,
   "id": "48f9cb3e-48d6-4a2c-85b1-29990d4ba037",
   "metadata": {},
   "outputs": [],
   "source": [
    "a = {1:'a', 2:'b'}"
   ]
  },
  {
   "cell_type": "code",
   "execution_count": 2,
   "id": "cf0c6491-875d-4bfe-953c-c0c3e2838ec8",
   "metadata": {
    "tags": []
   },
   "outputs": [
    {
     "data": {
      "text/plain": [
       "'a'"
      ]
     },
     "execution_count": 2,
     "metadata": {},
     "output_type": "execute_result"
    }
   ],
   "source": [
    "a[1]"
   ]
  },
  {
   "cell_type": "code",
   "execution_count": 3,
   "id": "e33722e7-bb47-461e-958b-6074abfc22d9",
   "metadata": {
    "tags": []
   },
   "outputs": [
    {
     "data": {
      "text/plain": [
       "'b'"
      ]
     },
     "execution_count": 3,
     "metadata": {},
     "output_type": "execute_result"
    }
   ],
   "source": [
    "a[2]"
   ]
  },
  {
   "cell_type": "code",
   "execution_count": 4,
   "id": "66d0bdbd-6486-45dd-a040-a4ed7926f7da",
   "metadata": {
    "tags": []
   },
   "outputs": [],
   "source": [
    "a={'a':1, 'b':2}"
   ]
  },
  {
   "cell_type": "code",
   "execution_count": 5,
   "id": "14ae5326-24e6-434e-901e-788cc36bacf4",
   "metadata": {
    "tags": []
   },
   "outputs": [
    {
     "data": {
      "text/plain": [
       "1"
      ]
     },
     "execution_count": 5,
     "metadata": {},
     "output_type": "execute_result"
    }
   ],
   "source": [
    "a['a']"
   ]
  },
  {
   "cell_type": "code",
   "execution_count": 6,
   "id": "ff28742d-d213-4aa5-9e8c-41ec74b6e96e",
   "metadata": {
    "tags": []
   },
   "outputs": [
    {
     "data": {
      "text/plain": [
       "2"
      ]
     },
     "execution_count": 6,
     "metadata": {},
     "output_type": "execute_result"
    }
   ],
   "source": [
    "a['b']"
   ]
  },
  {
   "cell_type": "code",
   "execution_count": 7,
   "id": "e5b9f0e4-8416-4f0b-8970-04e5c2c59574",
   "metadata": {
    "tags": []
   },
   "outputs": [],
   "source": [
    "dic = {'name':'pey', 'phone':'0119993323', 'birth':'1118'}"
   ]
  },
  {
   "cell_type": "code",
   "execution_count": 8,
   "id": "226e3c3f-f783-4354-9d97-7b536f10bfb4",
   "metadata": {
    "tags": []
   },
   "outputs": [
    {
     "data": {
      "text/plain": [
       "'pey'"
      ]
     },
     "execution_count": 8,
     "metadata": {},
     "output_type": "execute_result"
    }
   ],
   "source": [
    "dic['name']"
   ]
  },
  {
   "cell_type": "code",
   "execution_count": 9,
   "id": "7fc6d16d-7421-47ed-b0a3-510789f24e80",
   "metadata": {
    "tags": []
   },
   "outputs": [
    {
     "data": {
      "text/plain": [
       "'0119993323'"
      ]
     },
     "execution_count": 9,
     "metadata": {},
     "output_type": "execute_result"
    }
   ],
   "source": [
    "dic['phone']"
   ]
  },
  {
   "cell_type": "code",
   "execution_count": 10,
   "id": "ade4cc35-30d1-4487-9566-a6290617726a",
   "metadata": {
    "tags": []
   },
   "outputs": [
    {
     "data": {
      "text/plain": [
       "'1118'"
      ]
     },
     "execution_count": 10,
     "metadata": {},
     "output_type": "execute_result"
    }
   ],
   "source": [
    "dic['birth']"
   ]
  },
  {
   "cell_type": "markdown",
   "id": "deeefd12-c384-4fc2-bec6-a708b2c5fce4",
   "metadata": {},
   "source": [
    "#### 딕셔너리 만들 때 주의할 사항"
   ]
  },
  {
   "cell_type": "code",
   "execution_count": 11,
   "id": "fb0f89cf-2702-42d7-bfa9-5a59f0de3695",
   "metadata": {
    "tags": []
   },
   "outputs": [
    {
     "data": {
      "text/plain": [
       "{1: 'b'}"
      ]
     },
     "execution_count": 11,
     "metadata": {},
     "output_type": "execute_result"
    }
   ],
   "source": [
    "a = {1:'a', 1:'b'}\n",
    "a"
   ]
  },
  {
   "cell_type": "code",
   "execution_count": 12,
   "id": "8dfee764-27c9-4875-b6f0-415201f1a7f5",
   "metadata": {
    "tags": []
   },
   "outputs": [
    {
     "ename": "TypeError",
     "evalue": "unhashable type: 'list'",
     "output_type": "error",
     "traceback": [
      "\u001b[1;31m---------------------------------------------------------------------------\u001b[0m",
      "\u001b[1;31mTypeError\u001b[0m                                 Traceback (most recent call last)",
      "Cell \u001b[1;32mIn[12], line 1\u001b[0m\n\u001b[1;32m----> 1\u001b[0m a \u001b[38;5;241m=\u001b[39m {[\u001b[38;5;241m1\u001b[39m,\u001b[38;5;241m2\u001b[39m]:\u001b[38;5;124m'\u001b[39m\u001b[38;5;124mhi\u001b[39m\u001b[38;5;124m'\u001b[39m}\n",
      "\u001b[1;31mTypeError\u001b[0m: unhashable type: 'list'"
     ]
    }
   ],
   "source": [
    "a = {[1,2]:'hi'}"
   ]
  },
  {
   "cell_type": "markdown",
   "id": "d47aee1d-d3ea-4381-83a9-5025b54cea55",
   "metadata": {},
   "source": [
    "### 딕셔너리 관련 함수"
   ]
  },
  {
   "cell_type": "markdown",
   "id": "eca4acda-0254-46dc-8b0f-4fe9896f126a",
   "metadata": {
    "tags": []
   },
   "source": [
    "#### Key 리스트 만들기(keys)"
   ]
  },
  {
   "cell_type": "code",
   "execution_count": 15,
   "id": "345519b1-898d-4826-a3dd-c0d28c3e7eb8",
   "metadata": {
    "tags": []
   },
   "outputs": [],
   "source": [
    "a = {'name':'pey', 'phone':'0119993323', 'birth':'1118'}"
   ]
  },
  {
   "cell_type": "code",
   "execution_count": 16,
   "id": "a92d9780-1f7e-4af9-835f-5865fca701d5",
   "metadata": {
    "tags": []
   },
   "outputs": [
    {
     "data": {
      "text/plain": [
       "dict_keys(['name', 'phone', 'birth'])"
      ]
     },
     "execution_count": 16,
     "metadata": {},
     "output_type": "execute_result"
    }
   ],
   "source": [
    "a.keys()"
   ]
  },
  {
   "cell_type": "code",
   "execution_count": 18,
   "id": "86706424-0fa1-4c8c-a666-938e8da68fb4",
   "metadata": {
    "tags": []
   },
   "outputs": [
    {
     "name": "stdout",
     "output_type": "stream",
     "text": [
      "name\n",
      "phone\n",
      "birth\n"
     ]
    }
   ],
   "source": [
    "for k in a.keys():\n",
    "    print(k)"
   ]
  },
  {
   "cell_type": "code",
   "execution_count": 19,
   "id": "b1565f26-c488-4a0d-b396-314c7521a1aa",
   "metadata": {
    "tags": []
   },
   "outputs": [
    {
     "data": {
      "text/plain": [
       "['name', 'phone', 'birth']"
      ]
     },
     "execution_count": 19,
     "metadata": {},
     "output_type": "execute_result"
    }
   ],
   "source": [
    "list(a.keys())"
   ]
  },
  {
   "cell_type": "markdown",
   "id": "9d5cdab6-8960-43a6-98ec-00827c368634",
   "metadata": {
    "tags": []
   },
   "source": [
    "#### Value 리스트 만들기"
   ]
  },
  {
   "cell_type": "code",
   "execution_count": 20,
   "id": "9a9a6e07-8ed2-4aa5-81bc-fc337e5015a1",
   "metadata": {
    "tags": []
   },
   "outputs": [
    {
     "data": {
      "text/plain": [
       "dict_values(['pey', '0119993323', '1118'])"
      ]
     },
     "execution_count": 20,
     "metadata": {},
     "output_type": "execute_result"
    }
   ],
   "source": [
    "a.values()"
   ]
  },
  {
   "cell_type": "markdown",
   "id": "78b21846-f0e6-4b72-99b8-d2d4104daecb",
   "metadata": {},
   "source": [
    "#### Key, Value 쌍 얻기(items)"
   ]
  },
  {
   "cell_type": "code",
   "execution_count": 22,
   "id": "5db53eb5-aed7-44c5-a43d-2552ae56b1fc",
   "metadata": {
    "tags": []
   },
   "outputs": [
    {
     "data": {
      "text/plain": [
       "dict_items([('name', 'pey'), ('phone', '0119993323'), ('birth', '1118')])"
      ]
     },
     "execution_count": 22,
     "metadata": {},
     "output_type": "execute_result"
    }
   ],
   "source": [
    "a.items()"
   ]
  },
  {
   "cell_type": "markdown",
   "id": "45902185-e7eb-42fc-aa56-cc2a060ad46b",
   "metadata": {},
   "source": [
    "#### Key:Value 쌍 모두 지우기(clear)"
   ]
  },
  {
   "cell_type": "code",
   "execution_count": 24,
   "id": "43ecbcef-4c57-44e1-b4bd-0eab158fa928",
   "metadata": {
    "tags": []
   },
   "outputs": [],
   "source": [
    "a.clear()"
   ]
  },
  {
   "cell_type": "code",
   "execution_count": 25,
   "id": "dc68ba0c-395c-414f-972e-4a1252e191dc",
   "metadata": {
    "tags": []
   },
   "outputs": [
    {
     "data": {
      "text/plain": [
       "{}"
      ]
     },
     "execution_count": 25,
     "metadata": {},
     "output_type": "execute_result"
    }
   ],
   "source": [
    "a"
   ]
  },
  {
   "cell_type": "markdown",
   "id": "537f4fd1-a510-42b6-bc0a-9bf337b6c496",
   "metadata": {
    "tags": []
   },
   "source": [
    "#### Key로 Value 얻기(get)"
   ]
  },
  {
   "cell_type": "code",
   "execution_count": 27,
   "id": "6216f26a-6bc4-4a3d-9a4c-534b0c26b27f",
   "metadata": {
    "tags": []
   },
   "outputs": [],
   "source": [
    "a = {'name':'pey', 'phone':'0119993323', 'birth':'1118'}"
   ]
  },
  {
   "cell_type": "code",
   "execution_count": 28,
   "id": "e25f3600-9f2e-47c3-aa58-cafd671f2577",
   "metadata": {
    "tags": []
   },
   "outputs": [
    {
     "data": {
      "text/plain": [
       "'pey'"
      ]
     },
     "execution_count": 28,
     "metadata": {},
     "output_type": "execute_result"
    }
   ],
   "source": [
    "a.get('name')\n",
    "#a.get('name')은 a['name']을 사용했을 때와 동일한 결괏값"
   ]
  },
  {
   "cell_type": "code",
   "execution_count": 29,
   "id": "38610734-0dc5-4c87-a17c-606ed952a03c",
   "metadata": {
    "tags": []
   },
   "outputs": [
    {
     "data": {
      "text/plain": [
       "'0119993323'"
      ]
     },
     "execution_count": 29,
     "metadata": {},
     "output_type": "execute_result"
    }
   ],
   "source": [
    "a.get('phone')"
   ]
  },
  {
   "cell_type": "code",
   "execution_count": 30,
   "id": "54e66a4f-b6d0-4c73-b1cc-4b7cd82714d7",
   "metadata": {
    "tags": []
   },
   "outputs": [
    {
     "name": "stdout",
     "output_type": "stream",
     "text": [
      "None\n"
     ]
    }
   ],
   "source": [
    "print(a.get('nokey'))"
   ]
  },
  {
   "cell_type": "code",
   "execution_count": 31,
   "id": "09bfe49b-6876-4dbf-9a94-a11a22e4f348",
   "metadata": {
    "tags": []
   },
   "outputs": [
    {
     "ename": "KeyError",
     "evalue": "'nokey'",
     "output_type": "error",
     "traceback": [
      "\u001b[1;31m---------------------------------------------------------------------------\u001b[0m",
      "\u001b[1;31mKeyError\u001b[0m                                  Traceback (most recent call last)",
      "Cell \u001b[1;32mIn[31], line 1\u001b[0m\n\u001b[1;32m----> 1\u001b[0m \u001b[38;5;28mprint\u001b[39m(\u001b[43ma\u001b[49m\u001b[43m[\u001b[49m\u001b[38;5;124;43m'\u001b[39;49m\u001b[38;5;124;43mnokey\u001b[39;49m\u001b[38;5;124;43m'\u001b[39;49m\u001b[43m]\u001b[49m)\n",
      "\u001b[1;31mKeyError\u001b[0m: 'nokey'"
     ]
    }
   ],
   "source": [
    "print(a['nokey'])"
   ]
  },
  {
   "cell_type": "code",
   "execution_count": 33,
   "id": "fd70b600-6f1b-4dd9-8238-5a5ec9a9c929",
   "metadata": {
    "tags": []
   },
   "outputs": [
    {
     "data": {
      "text/plain": [
       "'bar'"
      ]
     },
     "execution_count": 33,
     "metadata": {},
     "output_type": "execute_result"
    }
   ],
   "source": [
    "#get(x,'디폴트 값') : 찾으려는 key 값이 없을 경우 미리 정해 둔 디폴트 값 대신 가져오기\n",
    "a.get('foo', 'bar')"
   ]
  },
  {
   "cell_type": "markdown",
   "id": "5e0f0e7f-08b6-4383-936f-be76d536eb0d",
   "metadata": {
    "tags": []
   },
   "source": [
    "#### 해당 Key가 딕셔너리 안에 있는지 조사하기(in)"
   ]
  },
  {
   "cell_type": "code",
   "execution_count": 35,
   "id": "901dfe29-a9da-4691-a72e-b5c7167efec2",
   "metadata": {
    "tags": []
   },
   "outputs": [],
   "source": [
    "a = {'name':'pey', 'phone':'0119993323', 'birth':'1118'}"
   ]
  },
  {
   "cell_type": "code",
   "execution_count": 36,
   "id": "7aa2bd63-0a97-49cd-914b-a8e5649e4250",
   "metadata": {
    "tags": []
   },
   "outputs": [
    {
     "data": {
      "text/plain": [
       "True"
      ]
     },
     "execution_count": 36,
     "metadata": {},
     "output_type": "execute_result"
    }
   ],
   "source": [
    "'name' in a"
   ]
  },
  {
   "cell_type": "code",
   "execution_count": 37,
   "id": "2bfbf457-85f7-4fba-a397-be9d8ce7e1e5",
   "metadata": {
    "tags": []
   },
   "outputs": [
    {
     "data": {
      "text/plain": [
       "False"
      ]
     },
     "execution_count": 37,
     "metadata": {},
     "output_type": "execute_result"
    }
   ],
   "source": [
    "'email' in a"
   ]
  },
  {
   "cell_type": "markdown",
   "id": "d2d0afd9-b65f-4a17-8dc5-5be1cb5cf886",
   "metadata": {},
   "source": [
    "- 나혼자코딩"
   ]
  },
  {
   "cell_type": "code",
   "execution_count": 38,
   "id": "1e5f7e56-3792-4ba7-9514-a238c32f5d97",
   "metadata": {
    "tags": []
   },
   "outputs": [],
   "source": [
    "a = {'name':'홍길동', 'birth':1128, 'age':30}"
   ]
  },
  {
   "cell_type": "markdown",
   "id": "2ec0763a-4817-493b-8f81-fc6019e25fcf",
   "metadata": {},
   "source": [
    "## 2-6 집합 자료형"
   ]
  },
  {
   "cell_type": "markdown",
   "id": "27e82503-e808-4c19-8b15-71e53ae93d45",
   "metadata": {},
   "source": [
    "### 집합 자료형은 어떻게 만들까?"
   ]
  },
  {
   "cell_type": "code",
   "execution_count": 39,
   "id": "8682b186-ca0a-49b2-bfee-981550c1c241",
   "metadata": {
    "tags": []
   },
   "outputs": [],
   "source": [
    "s1 = set([1,2,3])"
   ]
  },
  {
   "cell_type": "code",
   "execution_count": 40,
   "id": "15b96d23-b84c-41be-9bea-48530c7044f9",
   "metadata": {
    "tags": []
   },
   "outputs": [
    {
     "data": {
      "text/plain": [
       "{1, 2, 3}"
      ]
     },
     "execution_count": 40,
     "metadata": {},
     "output_type": "execute_result"
    }
   ],
   "source": [
    "s1"
   ]
  },
  {
   "cell_type": "code",
   "execution_count": 41,
   "id": "5486b76d-a193-4015-b2d7-c620514a4baa",
   "metadata": {
    "tags": []
   },
   "outputs": [],
   "source": [
    "s2 = set(\"Hello\")"
   ]
  },
  {
   "cell_type": "code",
   "execution_count": 42,
   "id": "2e865d6f-37fc-4234-bc1c-d3cad4f169b1",
   "metadata": {
    "tags": []
   },
   "outputs": [
    {
     "data": {
      "text/plain": [
       "{'H', 'e', 'l', 'o'}"
      ]
     },
     "execution_count": 42,
     "metadata": {},
     "output_type": "execute_result"
    }
   ],
   "source": [
    "s2"
   ]
  },
  {
   "cell_type": "code",
   "execution_count": 43,
   "id": "8d949de8-9940-4147-9534-d7afb73a1ddc",
   "metadata": {
    "tags": []
   },
   "outputs": [],
   "source": [
    "#비어 있는 집합 자료형\n",
    "s = set()"
   ]
  },
  {
   "cell_type": "code",
   "execution_count": 44,
   "id": "534c17f3-d08c-4c19-826e-d66648546771",
   "metadata": {
    "tags": []
   },
   "outputs": [
    {
     "data": {
      "text/plain": [
       "set()"
      ]
     },
     "execution_count": 44,
     "metadata": {},
     "output_type": "execute_result"
    }
   ],
   "source": [
    "s"
   ]
  },
  {
   "cell_type": "markdown",
   "id": "2dfd4cfd-6b50-468f-8bd1-6302c70f7a8d",
   "metadata": {
    "tags": []
   },
   "source": [
    "### 집합 자료형의 특징\n",
    "- 중복 허용 X\n",
    "- 순서가 없다\n",
    "- 인덱싱 지원 X"
   ]
  },
  {
   "cell_type": "code",
   "execution_count": 46,
   "id": "86d99e32-3c4c-4df5-a2c1-e992a927301d",
   "metadata": {
    "tags": []
   },
   "outputs": [],
   "source": [
    "# set 자료형에 저장된 값을 인덱싱으로 접근하려면 리스트나 튜플로 변환 후 해야한다.\n",
    "s1 = set([1,2,3])"
   ]
  },
  {
   "cell_type": "code",
   "execution_count": 47,
   "id": "57b9326d-ac21-46dc-ac26-c1b1f4be7580",
   "metadata": {
    "tags": []
   },
   "outputs": [],
   "source": [
    "l1 = list(s1)"
   ]
  },
  {
   "cell_type": "code",
   "execution_count": 48,
   "id": "6f5b17c0-6a11-4fab-a952-43553e6a7a0f",
   "metadata": {
    "tags": []
   },
   "outputs": [
    {
     "data": {
      "text/plain": [
       "[1, 2, 3]"
      ]
     },
     "execution_count": 48,
     "metadata": {},
     "output_type": "execute_result"
    }
   ],
   "source": [
    "l1"
   ]
  },
  {
   "cell_type": "code",
   "execution_count": 49,
   "id": "e8c1be10-bfba-4d8c-a7db-64f03d8e8210",
   "metadata": {
    "tags": []
   },
   "outputs": [
    {
     "data": {
      "text/plain": [
       "1"
      ]
     },
     "execution_count": 49,
     "metadata": {},
     "output_type": "execute_result"
    }
   ],
   "source": [
    "l1[0]"
   ]
  },
  {
   "cell_type": "code",
   "execution_count": 50,
   "id": "be2263a0-a699-4495-9f45-65bb037b751e",
   "metadata": {
    "tags": []
   },
   "outputs": [],
   "source": [
    "t1 = tuple(s1)"
   ]
  },
  {
   "cell_type": "code",
   "execution_count": 51,
   "id": "b9dc0ee6-1614-423d-ad0a-648701acfb05",
   "metadata": {
    "tags": []
   },
   "outputs": [
    {
     "data": {
      "text/plain": [
       "(1, 2, 3)"
      ]
     },
     "execution_count": 51,
     "metadata": {},
     "output_type": "execute_result"
    }
   ],
   "source": [
    "t1"
   ]
  },
  {
   "cell_type": "code",
   "execution_count": 52,
   "id": "27789b1e-4a2c-4394-a8ab-eaff3acd6b28",
   "metadata": {
    "tags": []
   },
   "outputs": [
    {
     "data": {
      "text/plain": [
       "1"
      ]
     },
     "execution_count": 52,
     "metadata": {},
     "output_type": "execute_result"
    }
   ],
   "source": [
    "t1[0]"
   ]
  },
  {
   "cell_type": "markdown",
   "id": "27c798bc-1643-42f6-a085-e0187e58a1ab",
   "metadata": {},
   "source": [
    "### 교집합, 합집합, 차집합 구하기"
   ]
  },
  {
   "cell_type": "code",
   "execution_count": 53,
   "id": "d4e30073-fc80-4a6c-82c4-65dde5b15e9e",
   "metadata": {
    "tags": []
   },
   "outputs": [],
   "source": [
    "s1 = set([1,2,3,4,5,6])\n",
    "s2 = set([4,5,6,7,8,9])"
   ]
  },
  {
   "cell_type": "markdown",
   "id": "f86927ac-9066-4270-8787-3f7d0975ed77",
   "metadata": {},
   "source": [
    "#### 교집합"
   ]
  },
  {
   "cell_type": "code",
   "execution_count": 54,
   "id": "9799f105-2f90-4d34-b57e-1982502017ff",
   "metadata": {
    "tags": []
   },
   "outputs": [
    {
     "data": {
      "text/plain": [
       "{4, 5, 6}"
      ]
     },
     "execution_count": 54,
     "metadata": {},
     "output_type": "execute_result"
    }
   ],
   "source": [
    "s1 & s2"
   ]
  },
  {
   "cell_type": "code",
   "execution_count": 55,
   "id": "bcdafa51-1ab4-47b0-be94-e1e5be98d68a",
   "metadata": {
    "tags": []
   },
   "outputs": [
    {
     "data": {
      "text/plain": [
       "{4, 5, 6}"
      ]
     },
     "execution_count": 55,
     "metadata": {},
     "output_type": "execute_result"
    }
   ],
   "source": [
    "s1.intersection(s2)"
   ]
  },
  {
   "cell_type": "markdown",
   "id": "5bf3087e-f544-44bd-83bd-894aee6c4bf4",
   "metadata": {},
   "source": [
    "#### 합집합"
   ]
  },
  {
   "cell_type": "code",
   "execution_count": 56,
   "id": "8de2f227-7a5a-4c9a-9a55-00aa24493a7d",
   "metadata": {
    "tags": []
   },
   "outputs": [
    {
     "data": {
      "text/plain": [
       "{1, 2, 3, 4, 5, 6, 7, 8, 9}"
      ]
     },
     "execution_count": 56,
     "metadata": {},
     "output_type": "execute_result"
    }
   ],
   "source": [
    "s1 | s2"
   ]
  },
  {
   "cell_type": "code",
   "execution_count": 57,
   "id": "6ab78794-7fbf-4391-8b36-224e7c43a8d3",
   "metadata": {
    "tags": []
   },
   "outputs": [
    {
     "data": {
      "text/plain": [
       "{1, 2, 3, 4, 5, 6, 7, 8, 9}"
      ]
     },
     "execution_count": 57,
     "metadata": {},
     "output_type": "execute_result"
    }
   ],
   "source": [
    "s1.union(s2)"
   ]
  },
  {
   "cell_type": "markdown",
   "id": "5c346cda-5d1c-4473-bbc9-88817c135463",
   "metadata": {},
   "source": [
    "#### 차집합"
   ]
  },
  {
   "cell_type": "code",
   "execution_count": 58,
   "id": "d8c7145e-e2bf-4210-873b-5070a9af64c1",
   "metadata": {
    "tags": []
   },
   "outputs": [
    {
     "data": {
      "text/plain": [
       "{1, 2, 3}"
      ]
     },
     "execution_count": 58,
     "metadata": {},
     "output_type": "execute_result"
    }
   ],
   "source": [
    "s1 - s2"
   ]
  },
  {
   "cell_type": "code",
   "execution_count": 59,
   "id": "034e5729-f5fd-4df4-aa8c-63233880095a",
   "metadata": {
    "tags": []
   },
   "outputs": [
    {
     "data": {
      "text/plain": [
       "{7, 8, 9}"
      ]
     },
     "execution_count": 59,
     "metadata": {},
     "output_type": "execute_result"
    }
   ],
   "source": [
    "s2 - s1"
   ]
  },
  {
   "cell_type": "code",
   "execution_count": 60,
   "id": "544f0812-f00a-49cc-849b-02ceaa79c644",
   "metadata": {
    "tags": []
   },
   "outputs": [
    {
     "data": {
      "text/plain": [
       "{1, 2, 3}"
      ]
     },
     "execution_count": 60,
     "metadata": {},
     "output_type": "execute_result"
    }
   ],
   "source": [
    "s1.difference(s2)"
   ]
  },
  {
   "cell_type": "code",
   "execution_count": 62,
   "id": "71e52f1b-20ca-4a0c-bb67-2b1aff4333f8",
   "metadata": {
    "tags": []
   },
   "outputs": [
    {
     "data": {
      "text/plain": [
       "{7, 8, 9}"
      ]
     },
     "execution_count": 62,
     "metadata": {},
     "output_type": "execute_result"
    }
   ],
   "source": [
    "s2.difference(s1)"
   ]
  },
  {
   "cell_type": "markdown",
   "id": "c1e3189a-a3c4-47c7-9529-a94fae12758e",
   "metadata": {},
   "source": [
    "### 집합 자료형 관련 함수"
   ]
  },
  {
   "cell_type": "markdown",
   "id": "3e8b061b-d2af-4c70-94b7-b08d129325a5",
   "metadata": {},
   "source": [
    "#### 값 1개 추가하기(add)"
   ]
  },
  {
   "cell_type": "code",
   "execution_count": 65,
   "id": "f7edc39c-b249-4665-8c1f-00eaec3c0b29",
   "metadata": {
    "tags": []
   },
   "outputs": [],
   "source": [
    "s1 = set([1,2,3])"
   ]
  },
  {
   "cell_type": "code",
   "execution_count": 66,
   "id": "cbdc667f-8e78-4e46-b7c3-efadcf5fc0a8",
   "metadata": {
    "tags": []
   },
   "outputs": [],
   "source": [
    "s1.add(4)"
   ]
  },
  {
   "cell_type": "code",
   "execution_count": 67,
   "id": "3657659a-1b5f-4116-83f6-c88bced44e3f",
   "metadata": {
    "tags": []
   },
   "outputs": [
    {
     "data": {
      "text/plain": [
       "{1, 2, 3, 4}"
      ]
     },
     "execution_count": 67,
     "metadata": {},
     "output_type": "execute_result"
    }
   ],
   "source": [
    "s1"
   ]
  },
  {
   "cell_type": "markdown",
   "id": "f3c8182f-8639-4907-8044-200a124f4a15",
   "metadata": {},
   "source": [
    "#### 값 여러 개 추가하기(update)"
   ]
  },
  {
   "cell_type": "code",
   "execution_count": 68,
   "id": "5e660b44-24a2-4ac9-b063-dd8a22f71b9b",
   "metadata": {
    "tags": []
   },
   "outputs": [],
   "source": [
    "s1 = set([1,2,3])"
   ]
  },
  {
   "cell_type": "code",
   "execution_count": 69,
   "id": "456bcc57-bc69-486f-9f45-00f071f182ee",
   "metadata": {
    "tags": []
   },
   "outputs": [],
   "source": [
    "s1.update([4,5,6])"
   ]
  },
  {
   "cell_type": "code",
   "execution_count": 70,
   "id": "28cbe818-a339-43d9-a1cc-eb4a5aac6ff8",
   "metadata": {
    "tags": []
   },
   "outputs": [
    {
     "data": {
      "text/plain": [
       "{1, 2, 3, 4, 5, 6}"
      ]
     },
     "execution_count": 70,
     "metadata": {},
     "output_type": "execute_result"
    }
   ],
   "source": [
    "s1"
   ]
  },
  {
   "cell_type": "markdown",
   "id": "f746bf19-69fe-43a0-8455-183e8cda32f3",
   "metadata": {},
   "source": [
    "#### 특정 값 제거하기(remove)"
   ]
  },
  {
   "cell_type": "code",
   "execution_count": 71,
   "id": "4be2a0ee-4ced-44c1-bd60-7d69a69aad2f",
   "metadata": {
    "tags": []
   },
   "outputs": [],
   "source": [
    "s1 = set([1,2,3])"
   ]
  },
  {
   "cell_type": "code",
   "execution_count": 72,
   "id": "beda1fad-6181-49a5-97a9-7a93e892834f",
   "metadata": {
    "tags": []
   },
   "outputs": [],
   "source": [
    "s1.remove(2)"
   ]
  },
  {
   "cell_type": "code",
   "execution_count": 73,
   "id": "35354f2a-fe23-4a9b-8727-112e741491ec",
   "metadata": {
    "tags": []
   },
   "outputs": [
    {
     "data": {
      "text/plain": [
       "{1, 3}"
      ]
     },
     "execution_count": 73,
     "metadata": {},
     "output_type": "execute_result"
    }
   ],
   "source": [
    "s1"
   ]
  },
  {
   "cell_type": "markdown",
   "id": "60e61bed-129e-4996-af18-d48dee8276fc",
   "metadata": {},
   "source": [
    "## 2-7 불 자료형"
   ]
  },
  {
   "cell_type": "markdown",
   "id": "1d61dd2e-6b9e-49ff-9c7d-841344946d07",
   "metadata": {},
   "source": [
    "### 불 자료형이란?"
   ]
  },
  {
   "cell_type": "code",
   "execution_count": 74,
   "id": "457b411b-98a9-44d5-8fdd-f983ad8cbdcb",
   "metadata": {
    "tags": []
   },
   "outputs": [],
   "source": [
    "a = True"
   ]
  },
  {
   "cell_type": "code",
   "execution_count": 75,
   "id": "c9b93da5-2b54-4e6a-b973-69faafdf4d92",
   "metadata": {
    "tags": []
   },
   "outputs": [],
   "source": [
    "b = False"
   ]
  },
  {
   "cell_type": "code",
   "execution_count": 76,
   "id": "11299e68-f176-406b-95c0-70a8149f392c",
   "metadata": {
    "tags": []
   },
   "outputs": [
    {
     "data": {
      "text/plain": [
       "bool"
      ]
     },
     "execution_count": 76,
     "metadata": {},
     "output_type": "execute_result"
    }
   ],
   "source": [
    "type(a)"
   ]
  },
  {
   "cell_type": "code",
   "execution_count": 77,
   "id": "185f93f9-fb2a-4a7e-9980-b2eb2d8a3534",
   "metadata": {
    "tags": []
   },
   "outputs": [
    {
     "data": {
      "text/plain": [
       "bool"
      ]
     },
     "execution_count": 77,
     "metadata": {},
     "output_type": "execute_result"
    }
   ],
   "source": [
    "type(b)"
   ]
  },
  {
   "cell_type": "code",
   "execution_count": 78,
   "id": "446fbcb9-127c-4a16-971b-2c3ac7f6c887",
   "metadata": {
    "tags": []
   },
   "outputs": [
    {
     "data": {
      "text/plain": [
       "True"
      ]
     },
     "execution_count": 78,
     "metadata": {},
     "output_type": "execute_result"
    }
   ],
   "source": [
    "1 == 1"
   ]
  },
  {
   "cell_type": "code",
   "execution_count": 79,
   "id": "8f2d5c4a-49ff-40a3-979b-05bd30d93f63",
   "metadata": {
    "tags": []
   },
   "outputs": [
    {
     "data": {
      "text/plain": [
       "True"
      ]
     },
     "execution_count": 79,
     "metadata": {},
     "output_type": "execute_result"
    }
   ],
   "source": [
    "2>1"
   ]
  },
  {
   "cell_type": "code",
   "execution_count": 80,
   "id": "8223309e-bad9-41d1-a730-cde02730e1f2",
   "metadata": {
    "tags": []
   },
   "outputs": [
    {
     "data": {
      "text/plain": [
       "False"
      ]
     },
     "execution_count": 80,
     "metadata": {},
     "output_type": "execute_result"
    }
   ],
   "source": [
    "2<1"
   ]
  },
  {
   "cell_type": "markdown",
   "id": "4cb49f5d-60bf-4d46-9bfa-9575a399a22e",
   "metadata": {},
   "source": [
    "### 자료형의 참과 거짓"
   ]
  },
  {
   "cell_type": "code",
   "execution_count": 81,
   "id": "eecf9152-18ea-4cb3-ac3d-2fbf26edfe00",
   "metadata": {
    "tags": []
   },
   "outputs": [],
   "source": [
    "a = [1,2,3,4]"
   ]
  },
  {
   "cell_type": "code",
   "execution_count": 82,
   "id": "1af407b8-4203-4a4b-a4c0-ed3829a0fcad",
   "metadata": {
    "tags": []
   },
   "outputs": [],
   "source": [
    "while a:\n",
    "    a.pop()"
   ]
  },
  {
   "cell_type": "markdown",
   "id": "cfe11e46-4f5a-4829-9fa7-94895d98d7f0",
   "metadata": {},
   "source": [
    "### 불 연산"
   ]
  },
  {
   "cell_type": "code",
   "execution_count": 83,
   "id": "f5954055-c2a2-4195-b0fa-5df1bdf3cbf0",
   "metadata": {
    "tags": []
   },
   "outputs": [
    {
     "data": {
      "text/plain": [
       "True"
      ]
     },
     "execution_count": 83,
     "metadata": {},
     "output_type": "execute_result"
    }
   ],
   "source": [
    "bool('python')"
   ]
  },
  {
   "cell_type": "code",
   "execution_count": 84,
   "id": "d4b4d09a-a2fd-4d15-9222-02dbb5f1f1d3",
   "metadata": {
    "tags": []
   },
   "outputs": [
    {
     "data": {
      "text/plain": [
       "False"
      ]
     },
     "execution_count": 84,
     "metadata": {},
     "output_type": "execute_result"
    }
   ],
   "source": [
    "bool('')"
   ]
  },
  {
   "cell_type": "code",
   "execution_count": 85,
   "id": "7cbc05d2-366e-44da-bbe4-fcc431aa539d",
   "metadata": {
    "tags": []
   },
   "outputs": [
    {
     "data": {
      "text/plain": [
       "True"
      ]
     },
     "execution_count": 85,
     "metadata": {},
     "output_type": "execute_result"
    }
   ],
   "source": [
    "bool([1,2,3])"
   ]
  },
  {
   "cell_type": "code",
   "execution_count": 86,
   "id": "e6a691ce-05de-4446-a4d1-1a01f25cfb00",
   "metadata": {
    "tags": []
   },
   "outputs": [
    {
     "data": {
      "text/plain": [
       "False"
      ]
     },
     "execution_count": 86,
     "metadata": {},
     "output_type": "execute_result"
    }
   ],
   "source": [
    "bool([])"
   ]
  },
  {
   "cell_type": "code",
   "execution_count": 87,
   "id": "a54d9f86-5693-4a2c-bdab-839f96de7002",
   "metadata": {
    "tags": []
   },
   "outputs": [
    {
     "data": {
      "text/plain": [
       "False"
      ]
     },
     "execution_count": 87,
     "metadata": {},
     "output_type": "execute_result"
    }
   ],
   "source": [
    "bool(0)"
   ]
  },
  {
   "cell_type": "code",
   "execution_count": 88,
   "id": "bba40f8c-5485-43d3-b4a3-4ee1f49fdcf4",
   "metadata": {
    "tags": []
   },
   "outputs": [
    {
     "data": {
      "text/plain": [
       "True"
      ]
     },
     "execution_count": 88,
     "metadata": {},
     "output_type": "execute_result"
    }
   ],
   "source": [
    "bool(3)"
   ]
  },
  {
   "cell_type": "markdown",
   "id": "b28a17bc-7d02-42a5-a018-dbbffcb605bc",
   "metadata": {},
   "source": [
    "## 자료형의 값을 저장하는 공간, 변수"
   ]
  },
  {
   "cell_type": "code",
   "execution_count": 89,
   "id": "8220cb8b-692c-44d4-a5b1-afb7787e50bb",
   "metadata": {
    "tags": []
   },
   "outputs": [],
   "source": [
    "a = 1"
   ]
  },
  {
   "cell_type": "code",
   "execution_count": 90,
   "id": "afdc2f78-d4f9-441f-ab71-1876afc9c83b",
   "metadata": {
    "tags": []
   },
   "outputs": [],
   "source": [
    "b=\"python\""
   ]
  },
  {
   "cell_type": "code",
   "execution_count": 91,
   "id": "1bee664b-3af3-46bc-82a1-5dfc747fb74c",
   "metadata": {
    "tags": []
   },
   "outputs": [],
   "source": [
    "c=[1,2,3]"
   ]
  },
  {
   "cell_type": "markdown",
   "id": "bbc5549f-4b9e-40f0-b5f8-8c823c8623c1",
   "metadata": {},
   "source": [
    "### 변수란?"
   ]
  },
  {
   "cell_type": "code",
   "execution_count": 92,
   "id": "86ed94a6-428c-466f-ad64-29124a654a99",
   "metadata": {
    "tags": []
   },
   "outputs": [],
   "source": [
    "a = [1,2,3]"
   ]
  },
  {
   "cell_type": "code",
   "execution_count": 93,
   "id": "af49a8f2-9779-4ac0-a5c2-efc855f6169f",
   "metadata": {
    "tags": []
   },
   "outputs": [
    {
     "data": {
      "text/plain": [
       "1523055964160"
      ]
     },
     "execution_count": 93,
     "metadata": {},
     "output_type": "execute_result"
    }
   ],
   "source": [
    "id(a)"
   ]
  },
  {
   "cell_type": "markdown",
   "id": "ad15c661-52ee-4202-94a8-b3840a636f76",
   "metadata": {},
   "source": [
    "### 리스트를 복사할 때"
   ]
  },
  {
   "cell_type": "code",
   "execution_count": 94,
   "id": "9acd35d8-ff15-49dc-8d5c-287b7317f16b",
   "metadata": {
    "tags": []
   },
   "outputs": [],
   "source": [
    "a = [1,2,3]"
   ]
  },
  {
   "cell_type": "code",
   "execution_count": 95,
   "id": "2a08b1cc-25a6-4874-b5d0-92db6bb6f7f0",
   "metadata": {
    "tags": []
   },
   "outputs": [],
   "source": [
    "b =a"
   ]
  },
  {
   "cell_type": "code",
   "execution_count": 96,
   "id": "a049b6d8-540e-4711-b88b-bc07b2717db2",
   "metadata": {
    "tags": []
   },
   "outputs": [
    {
     "data": {
      "text/plain": [
       "1523077525440"
      ]
     },
     "execution_count": 96,
     "metadata": {},
     "output_type": "execute_result"
    }
   ],
   "source": [
    "id(a)"
   ]
  },
  {
   "cell_type": "code",
   "execution_count": 97,
   "id": "065c746d-d4ec-4c20-9e4a-d2452db24417",
   "metadata": {
    "tags": []
   },
   "outputs": [
    {
     "data": {
      "text/plain": [
       "1523077525440"
      ]
     },
     "execution_count": 97,
     "metadata": {},
     "output_type": "execute_result"
    }
   ],
   "source": [
    "id(b)"
   ]
  },
  {
   "cell_type": "code",
   "execution_count": 98,
   "id": "e4254fe3-22b9-49e3-9402-8ce353426392",
   "metadata": {
    "tags": []
   },
   "outputs": [
    {
     "data": {
      "text/plain": [
       "True"
      ]
     },
     "execution_count": 98,
     "metadata": {},
     "output_type": "execute_result"
    }
   ],
   "source": [
    "a is b"
   ]
  },
  {
   "cell_type": "code",
   "execution_count": 99,
   "id": "2ee484a0-4570-4502-8e8d-09a523b8a25e",
   "metadata": {
    "tags": []
   },
   "outputs": [],
   "source": [
    "a[1] = 4"
   ]
  },
  {
   "cell_type": "code",
   "execution_count": 100,
   "id": "301ea491-a4ed-420b-898a-032243924acc",
   "metadata": {
    "tags": []
   },
   "outputs": [
    {
     "data": {
      "text/plain": [
       "[1, 4, 3]"
      ]
     },
     "execution_count": 100,
     "metadata": {},
     "output_type": "execute_result"
    }
   ],
   "source": [
    "a"
   ]
  },
  {
   "cell_type": "code",
   "execution_count": 101,
   "id": "fe7161a1-8b9b-4790-9025-7bb1a357cdce",
   "metadata": {
    "tags": []
   },
   "outputs": [
    {
     "data": {
      "text/plain": [
       "[1, 4, 3]"
      ]
     },
     "execution_count": 101,
     "metadata": {},
     "output_type": "execute_result"
    }
   ],
   "source": [
    "b"
   ]
  },
  {
   "cell_type": "markdown",
   "id": "8597c0b2-2562-4220-acb5-92f024bdbe5e",
   "metadata": {},
   "source": [
    "```b 변수를 생성할 때, a 변수의 값을 가져오면서 a와는 다른 주소를 가리키도록 만드는 방법```"
   ]
  },
  {
   "cell_type": "markdown",
   "id": "3fe02654-e32a-43ee-af0f-86c99c436805",
   "metadata": {},
   "source": [
    "#### 1. [:] 사용"
   ]
  },
  {
   "cell_type": "code",
   "execution_count": 105,
   "id": "b07be39b-b8dc-4954-961d-6dda3d4f58e4",
   "metadata": {
    "tags": []
   },
   "outputs": [],
   "source": [
    "a = [1,2,3]"
   ]
  },
  {
   "cell_type": "code",
   "execution_count": 106,
   "id": "57d40aa4-b171-4164-90e6-80b572280211",
   "metadata": {
    "tags": []
   },
   "outputs": [],
   "source": [
    "b = a[:]"
   ]
  },
  {
   "cell_type": "code",
   "execution_count": 107,
   "id": "4c858283-5210-4a5c-a1f9-e54c61b593a0",
   "metadata": {
    "tags": []
   },
   "outputs": [],
   "source": [
    "a[1] = 4"
   ]
  },
  {
   "cell_type": "code",
   "execution_count": 108,
   "id": "b3cd9ad1-c569-44d6-843d-3ead319c82da",
   "metadata": {
    "tags": []
   },
   "outputs": [
    {
     "data": {
      "text/plain": [
       "[1, 4, 3]"
      ]
     },
     "execution_count": 108,
     "metadata": {},
     "output_type": "execute_result"
    }
   ],
   "source": [
    "a"
   ]
  },
  {
   "cell_type": "code",
   "execution_count": 109,
   "id": "f919d2f6-a8bd-4f9c-82d1-b42aaad3cfa2",
   "metadata": {
    "tags": []
   },
   "outputs": [
    {
     "data": {
      "text/plain": [
       "[1, 2, 3]"
      ]
     },
     "execution_count": 109,
     "metadata": {},
     "output_type": "execute_result"
    }
   ],
   "source": [
    "b"
   ]
  },
  {
   "cell_type": "markdown",
   "id": "b37e7e54-fd76-40c7-a156-bd21a19e9e14",
   "metadata": {},
   "source": [
    "#### 2. copy 모듈 사용"
   ]
  },
  {
   "cell_type": "code",
   "execution_count": 110,
   "id": "dea6f69a-b93a-4f91-a390-79347e2f029c",
   "metadata": {
    "tags": []
   },
   "outputs": [],
   "source": [
    "from copy import copy"
   ]
  },
  {
   "cell_type": "code",
   "execution_count": 111,
   "id": "dc622a5c-e092-4d28-84a3-5a220179d9c8",
   "metadata": {
    "tags": []
   },
   "outputs": [],
   "source": [
    "a = [1,2,3]"
   ]
  },
  {
   "cell_type": "code",
   "execution_count": 112,
   "id": "4b37ce97-5eaa-4af7-b2e8-c53e4c62265e",
   "metadata": {
    "tags": []
   },
   "outputs": [],
   "source": [
    "b = copy(a)"
   ]
  },
  {
   "cell_type": "code",
   "execution_count": 113,
   "id": "96fadbf8-8429-483e-a8f3-dddd234c1737",
   "metadata": {
    "tags": []
   },
   "outputs": [
    {
     "data": {
      "text/plain": [
       "[1, 2, 3]"
      ]
     },
     "execution_count": 113,
     "metadata": {},
     "output_type": "execute_result"
    }
   ],
   "source": [
    "a"
   ]
  },
  {
   "cell_type": "code",
   "execution_count": 114,
   "id": "3c864a36-5bb2-4353-8f3d-07c2dd488ba6",
   "metadata": {
    "tags": []
   },
   "outputs": [
    {
     "data": {
      "text/plain": [
       "[1, 2, 3]"
      ]
     },
     "execution_count": 114,
     "metadata": {},
     "output_type": "execute_result"
    }
   ],
   "source": [
    "b"
   ]
  },
  {
   "cell_type": "code",
   "execution_count": 115,
   "id": "4e2cbd2d-8cdd-4ae3-9ce7-71a0ac2bf188",
   "metadata": {
    "tags": []
   },
   "outputs": [
    {
     "data": {
      "text/plain": [
       "False"
      ]
     },
     "execution_count": 115,
     "metadata": {},
     "output_type": "execute_result"
    }
   ],
   "source": [
    "b is a"
   ]
  },
  {
   "cell_type": "markdown",
   "id": "ca428b93-8880-4b16-aae3-9a7a83fa42dc",
   "metadata": {},
   "source": [
    "### 변수를 만드는 여러 가지 방법"
   ]
  },
  {
   "cell_type": "code",
   "execution_count": 116,
   "id": "a39cdcfc-5bdb-448f-a69c-1bf44c138d1d",
   "metadata": {
    "tags": []
   },
   "outputs": [],
   "source": [
    "a,b = ('python', 'life')"
   ]
  },
  {
   "cell_type": "code",
   "execution_count": 118,
   "id": "606e8313-26cb-4b66-841c-a12945473d54",
   "metadata": {
    "tags": []
   },
   "outputs": [],
   "source": [
    "(a,b) = 'python', 'life'\n",
    "#튜플은 괄호 생략 가능"
   ]
  },
  {
   "cell_type": "code",
   "execution_count": 119,
   "id": "a44543f6-ce3e-43bb-b529-df28ed0b0575",
   "metadata": {
    "tags": []
   },
   "outputs": [],
   "source": [
    "#리스트로 변수 만들기\n",
    "[a,b] = ['python', 'life']"
   ]
  },
  {
   "cell_type": "code",
   "execution_count": 120,
   "id": "c31614b5-b106-4bd9-92ca-468de10402ae",
   "metadata": {
    "tags": []
   },
   "outputs": [],
   "source": [
    "a = b = 'python'"
   ]
  },
  {
   "cell_type": "code",
   "execution_count": 121,
   "id": "c3b825ca-3886-48aa-a937-b79f8b0fa806",
   "metadata": {
    "tags": []
   },
   "outputs": [],
   "source": [
    "a = 3"
   ]
  },
  {
   "cell_type": "code",
   "execution_count": 122,
   "id": "5b748851-1e77-4d74-8b20-4dbc9efbe9a9",
   "metadata": {
    "tags": []
   },
   "outputs": [],
   "source": [
    "b = 5"
   ]
  },
  {
   "cell_type": "code",
   "execution_count": 123,
   "id": "c9736526-e43b-4097-ae9e-a7bafe1e4fbf",
   "metadata": {
    "tags": []
   },
   "outputs": [],
   "source": [
    "a,b = b,a #a와 b의 값을 바꿈"
   ]
  },
  {
   "cell_type": "code",
   "execution_count": 124,
   "id": "d81cbc6a-e181-4c53-80f5-23dff08db010",
   "metadata": {
    "tags": []
   },
   "outputs": [
    {
     "data": {
      "text/plain": [
       "5"
      ]
     },
     "execution_count": 124,
     "metadata": {},
     "output_type": "execute_result"
    }
   ],
   "source": [
    "a"
   ]
  },
  {
   "cell_type": "code",
   "execution_count": 125,
   "id": "438cad27-92c7-4816-aa36-546819e8f2be",
   "metadata": {
    "tags": []
   },
   "outputs": [
    {
     "data": {
      "text/plain": [
       "3"
      ]
     },
     "execution_count": 125,
     "metadata": {},
     "output_type": "execute_result"
    }
   ],
   "source": [
    "b"
   ]
  },
  {
   "cell_type": "markdown",
   "id": "d140b9fa-4ef0-40fe-8444-e556d9210ffe",
   "metadata": {},
   "source": [
    "- 나혼자코딩"
   ]
  },
  {
   "cell_type": "code",
   "execution_count": 126,
   "id": "f39714d6-a878-4a9c-a184-acd30c0449dd",
   "metadata": {
    "tags": []
   },
   "outputs": [],
   "source": [
    "a = [1,2,3]"
   ]
  },
  {
   "cell_type": "code",
   "execution_count": 127,
   "id": "f53a24a0-7e09-4aff-9d6a-1d582db54119",
   "metadata": {
    "tags": []
   },
   "outputs": [],
   "source": [
    "b = [1,2,3]"
   ]
  },
  {
   "cell_type": "code",
   "execution_count": 129,
   "id": "246dc572-e478-4924-a3c6-13e34b024322",
   "metadata": {
    "tags": []
   },
   "outputs": [
    {
     "data": {
      "text/plain": [
       "False"
      ]
     },
     "execution_count": 129,
     "metadata": {},
     "output_type": "execute_result"
    }
   ],
   "source": [
    "a is b # 변수 a와 b는 서로 다른 메모리를 가리킴"
   ]
  },
  {
   "cell_type": "markdown",
   "id": "17a770ed-58f3-4e49-a49a-8e7cbd1e5e69",
   "metadata": {
    "jp-MarkdownHeadingCollapsed": true,
    "tags": []
   },
   "source": [
    "# 3장 프로그램의 구조를 쌓는다!제어문"
   ]
  },
  {
   "cell_type": "markdown",
   "id": "11a55d1d-19eb-4a1f-85b7-967b90dba551",
   "metadata": {
    "tags": []
   },
   "source": [
    "## 3-1 if문"
   ]
  },
  {
   "cell_type": "markdown",
   "id": "2a55c19a-b4a1-4eab-aec0-1d984052da98",
   "metadata": {},
   "source": [
    "### 조건문이란 무엇인가?"
   ]
  },
  {
   "cell_type": "code",
   "execution_count": 159,
   "id": "a2046c6a-5a62-4e5a-9925-bb2840267275",
   "metadata": {
    "tags": []
   },
   "outputs": [],
   "source": [
    "money = True"
   ]
  },
  {
   "cell_type": "code",
   "execution_count": 160,
   "id": "90ee55b8-66b8-4aea-8bea-f9216b5f9822",
   "metadata": {
    "tags": []
   },
   "outputs": [
    {
     "ename": "SyntaxError",
     "evalue": "incomplete input (2957930393.py, line 1)",
     "output_type": "error",
     "traceback": [
      "\u001b[1;36m  Cell \u001b[1;32mIn[160], line 1\u001b[1;36m\u001b[0m\n\u001b[1;33m    if money:\u001b[0m\n\u001b[1;37m             ^\u001b[0m\n\u001b[1;31mSyntaxError\u001b[0m\u001b[1;31m:\u001b[0m incomplete input\n"
     ]
    }
   ],
   "source": [
    "if money:"
   ]
  },
  {
   "cell_type": "markdown",
   "id": "5e52d4ce-418e-4fa1-a4d8-5ec934a45510",
   "metadata": {},
   "source": [
    "#### 비교 연산자"
   ]
  },
  {
   "cell_type": "code",
   "execution_count": 161,
   "id": "a77679d4-460c-4e9a-8100-1995fd078705",
   "metadata": {
    "tags": []
   },
   "outputs": [],
   "source": [
    "x =3"
   ]
  },
  {
   "cell_type": "code",
   "execution_count": 162,
   "id": "7682e6c9-35de-4b59-af91-c6f05b65ba45",
   "metadata": {
    "tags": []
   },
   "outputs": [],
   "source": [
    "y=2"
   ]
  },
  {
   "cell_type": "code",
   "execution_count": 163,
   "id": "af0fc98c-d098-41e8-817f-f2d4904ff53a",
   "metadata": {
    "tags": []
   },
   "outputs": [
    {
     "data": {
      "text/plain": [
       "True"
      ]
     },
     "execution_count": 163,
     "metadata": {},
     "output_type": "execute_result"
    }
   ],
   "source": [
    "x>y"
   ]
  },
  {
   "cell_type": "code",
   "execution_count": 164,
   "id": "d836226a-d9f3-4449-8466-97b192b347b5",
   "metadata": {
    "tags": []
   },
   "outputs": [
    {
     "data": {
      "text/plain": [
       "False"
      ]
     },
     "execution_count": 164,
     "metadata": {},
     "output_type": "execute_result"
    }
   ],
   "source": [
    "3<2"
   ]
  },
  {
   "cell_type": "code",
   "execution_count": 165,
   "id": "f45f13a3-3f5d-40f2-8e4e-c321d0ac129e",
   "metadata": {
    "tags": []
   },
   "outputs": [
    {
     "data": {
      "text/plain": [
       "False"
      ]
     },
     "execution_count": 165,
     "metadata": {},
     "output_type": "execute_result"
    }
   ],
   "source": [
    "x == y"
   ]
  },
  {
   "cell_type": "code",
   "execution_count": 166,
   "id": "cd7d996f-b30d-40b8-865b-3168bf087a04",
   "metadata": {
    "tags": []
   },
   "outputs": [
    {
     "data": {
      "text/plain": [
       "True"
      ]
     },
     "execution_count": 166,
     "metadata": {},
     "output_type": "execute_result"
    }
   ],
   "source": [
    "x!=y"
   ]
  },
  {
   "cell_type": "code",
   "execution_count": 169,
   "id": "747f7b7e-f9d5-49a1-a362-11d969159e84",
   "metadata": {
    "tags": []
   },
   "outputs": [
    {
     "name": "stdout",
     "output_type": "stream",
     "text": [
      "걸어 가라\n"
     ]
    }
   ],
   "source": [
    "money = 2000\n",
    "if money >= 3000:\n",
    "    print(\"택시를 타고 가라\")\n",
    "else:\n",
    "    print(\"걸어 가라\")"
   ]
  },
  {
   "cell_type": "markdown",
   "id": "8b9493da-6386-4af0-a7e3-77bf80440600",
   "metadata": {},
   "source": [
    "#### and, or, not"
   ]
  },
  {
   "cell_type": "code",
   "execution_count": 170,
   "id": "410262bf-2e2b-46b0-b8f4-1f9fc151e73a",
   "metadata": {
    "tags": []
   },
   "outputs": [],
   "source": [
    "money = 2000"
   ]
  },
  {
   "cell_type": "code",
   "execution_count": 171,
   "id": "3a7fa0a7-bc22-4b53-a3a5-11a48f1b41f2",
   "metadata": {
    "tags": []
   },
   "outputs": [],
   "source": [
    "card = True"
   ]
  },
  {
   "cell_type": "code",
   "execution_count": 173,
   "id": "a5f277f8-ead4-461d-a99d-3d096cc8e393",
   "metadata": {
    "tags": []
   },
   "outputs": [
    {
     "name": "stdout",
     "output_type": "stream",
     "text": [
      "택시를 타고 가라\n"
     ]
    }
   ],
   "source": [
    "if money >= 3000 or card:\n",
    "    print(\"택시를 타고 가라\")\n",
    "else:\n",
    "    print(\"걸어 가라\")\n"
   ]
  },
  {
   "cell_type": "markdown",
   "id": "412ce3b2-b40d-4ece-89e5-fe748538d410",
   "metadata": {},
   "source": [
    "#### x in s, x not in s"
   ]
  },
  {
   "cell_type": "code",
   "execution_count": 174,
   "id": "a211cbad-5ee7-428e-b9ec-026bdf83dc4d",
   "metadata": {
    "tags": []
   },
   "outputs": [
    {
     "data": {
      "text/plain": [
       "True"
      ]
     },
     "execution_count": 174,
     "metadata": {},
     "output_type": "execute_result"
    }
   ],
   "source": [
    "1 in [1,2,3]"
   ]
  },
  {
   "cell_type": "code",
   "execution_count": 175,
   "id": "5839cf0e-d5c6-47f0-bd53-b97af6fdea62",
   "metadata": {
    "tags": []
   },
   "outputs": [
    {
     "data": {
      "text/plain": [
       "False"
      ]
     },
     "execution_count": 175,
     "metadata": {},
     "output_type": "execute_result"
    }
   ],
   "source": [
    "1 not in [1,2,3]"
   ]
  },
  {
   "cell_type": "code",
   "execution_count": 176,
   "id": "f3355d9c-e235-466f-a5c8-037c38576278",
   "metadata": {
    "tags": []
   },
   "outputs": [
    {
     "data": {
      "text/plain": [
       "True"
      ]
     },
     "execution_count": 176,
     "metadata": {},
     "output_type": "execute_result"
    }
   ],
   "source": [
    "'a' in ('a','b','c')"
   ]
  },
  {
   "cell_type": "code",
   "execution_count": 177,
   "id": "38f1be5d-2e57-4c12-8643-860ceda6a078",
   "metadata": {
    "tags": []
   },
   "outputs": [
    {
     "data": {
      "text/plain": [
       "True"
      ]
     },
     "execution_count": 177,
     "metadata": {},
     "output_type": "execute_result"
    }
   ],
   "source": [
    "'j' not in 'python'"
   ]
  },
  {
   "cell_type": "code",
   "execution_count": 178,
   "id": "b0f0d8ee-9355-4464-83c4-f945659724ed",
   "metadata": {
    "tags": []
   },
   "outputs": [],
   "source": [
    "pocket = ['paper', 'cellphone', 'money']"
   ]
  },
  {
   "cell_type": "code",
   "execution_count": 179,
   "id": "8c601f77-d20e-4caf-871f-e72bf7a90158",
   "metadata": {
    "tags": []
   },
   "outputs": [
    {
     "name": "stdout",
     "output_type": "stream",
     "text": [
      "택시를 타고 가라\n"
     ]
    }
   ],
   "source": [
    "if 'money' in pocket:\n",
    "    print(\"택시를 타고 가라\")\n",
    "else:\n",
    "    print(\"걸어가라\")"
   ]
  },
  {
   "cell_type": "markdown",
   "id": "da30b552-ba2f-49e0-9e1f-28d1559af4c3",
   "metadata": {},
   "source": [
    "- 나혼자코딩"
   ]
  },
  {
   "cell_type": "code",
   "execution_count": 180,
   "id": "eafaffbd-272a-4b01-af1c-40ae9a7237c9",
   "metadata": {
    "tags": []
   },
   "outputs": [
    {
     "name": "stdout",
     "output_type": "stream",
     "text": [
      "걸어가라\n"
     ]
    }
   ],
   "source": [
    "pocket = ['paper', 'cellphone', 'money']\n",
    "if 'card' in pocket:\n",
    "    print(\"버스를 타고 가라\")\n",
    "else:\n",
    "    print(\"걸어가라\")\n"
   ]
  },
  {
   "cell_type": "markdown",
   "id": "b9b2afec-3ccd-4464-b9fb-1a9324a75025",
   "metadata": {},
   "source": [
    "#### 조건문에서 아무 일도 하지 않게 설정하고 싶다면?"
   ]
  },
  {
   "cell_type": "code",
   "execution_count": 182,
   "id": "9762178e-1eb8-4b03-a07f-2afb113990ea",
   "metadata": {
    "tags": []
   },
   "outputs": [],
   "source": [
    "#pass 사용\n",
    "pocket = ['paper', 'money', 'cellphone']\n",
    "if 'money' in pocket:\n",
    "    pass\n",
    "else:\n",
    "    print(\"카드를 꺼내라\")"
   ]
  },
  {
   "cell_type": "markdown",
   "id": "6b9c2121-a0e5-4184-a470-4a8ef2d8e420",
   "metadata": {},
   "source": [
    "### 다양한 조건을 판단하는 elif"
   ]
  },
  {
   "cell_type": "code",
   "execution_count": 183,
   "id": "e888208b-52ba-438c-8eb7-ee0022c59da4",
   "metadata": {
    "tags": []
   },
   "outputs": [],
   "source": [
    "pocket = ['paper', 'cellphone']"
   ]
  },
  {
   "cell_type": "code",
   "execution_count": 184,
   "id": "698f5c71-64e0-4ca4-bb31-b0b0a19361b6",
   "metadata": {
    "tags": []
   },
   "outputs": [],
   "source": [
    "card = True"
   ]
  },
  {
   "cell_type": "code",
   "execution_count": 185,
   "id": "db18823d-5eb0-489c-8fa2-efcdf8f38e2f",
   "metadata": {
    "tags": []
   },
   "outputs": [
    {
     "name": "stdout",
     "output_type": "stream",
     "text": [
      "택시를 타고 가라\n"
     ]
    }
   ],
   "source": [
    "if 'money' in pocket:\n",
    "    print(\"택시를 타고 가라\")\n",
    "elif card:\n",
    "    print(\"택시를 타고 가라\")\n",
    "else:\n",
    "    print(\"걸어 가라\")"
   ]
  },
  {
   "cell_type": "markdown",
   "id": "f94b1436-5ba9-409f-8435-7f44de55bbd3",
   "metadata": {},
   "source": [
    "### if문 한줄로 작성하기"
   ]
  },
  {
   "cell_type": "code",
   "execution_count": 186,
   "id": "13983055-2767-48f7-843f-b634b36da47c",
   "metadata": {
    "tags": []
   },
   "outputs": [],
   "source": [
    "pocket = ['paper', 'money', 'cellphone']"
   ]
  },
  {
   "cell_type": "code",
   "execution_count": null,
   "id": "279ff4c6-302f-4508-b6fb-ba161b982b5c",
   "metadata": {
    "tags": []
   },
   "outputs": [],
   "source": [
    "if 'money' in pocket:pass\n",
    "else: print(\"카드를 꺼내라\")"
   ]
  },
  {
   "cell_type": "markdown",
   "id": "9cdd73f3-eed0-4eaa-a330-761e861bcddd",
   "metadata": {},
   "source": [
    "### 조건부 표현식\n",
    "- 조건부가 참인 경우 if 조건문 else 조건문이 거짓인 경우"
   ]
  },
  {
   "cell_type": "code",
   "execution_count": null,
   "id": "747e65f2-3454-4992-a520-b4cc1c0f9781",
   "metadata": {
    "tags": []
   },
   "outputs": [],
   "source": [
    "message = \"success\" if score >= 60 else \"failure\""
   ]
  },
  {
   "cell_type": "markdown",
   "id": "8a996dad-7fbb-4cde-95f3-226a0e70c9f9",
   "metadata": {},
   "source": [
    "## 3-2 while문"
   ]
  },
  {
   "cell_type": "markdown",
   "id": "ebfe1f0a-760a-4e4e-9b6a-e5e08fcbfcdb",
   "metadata": {},
   "source": [
    "### while문의 기본 구조"
   ]
  },
  {
   "cell_type": "code",
   "execution_count": 191,
   "id": "34c2dccb-af4a-412d-bade-5424ab2608e4",
   "metadata": {
    "tags": []
   },
   "outputs": [],
   "source": [
    "treeHit = 0"
   ]
  },
  {
   "cell_type": "code",
   "execution_count": 194,
   "id": "aacdef5a-9385-4966-86bc-b240ba53ef8d",
   "metadata": {
    "tags": []
   },
   "outputs": [
    {
     "name": "stdout",
     "output_type": "stream",
     "text": [
      "나무를 2번 찍었습니다.\n",
      "나무를 3번 찍었습니다.\n",
      "나무를 4번 찍었습니다.\n",
      "나무를 5번 찍었습니다.\n",
      "나무를 6번 찍었습니다.\n",
      "나무를 7번 찍었습니다.\n",
      "나무를 8번 찍었습니다.\n",
      "나무를 9번 찍었습니다.\n",
      "나무를 10번 찍었습니다.\n",
      "나무 넘어갑니다.\n"
     ]
    }
   ],
   "source": [
    "while treeHit < 10:\n",
    "    treeHit = treeHit + 1\n",
    "    print(\"나무를 %d번 찍었습니다.\" % treeHit)\n",
    "    if treeHit == 10:\n",
    "        print(\"나무 넘어갑니다.\")"
   ]
  },
  {
   "cell_type": "markdown",
   "id": "f2335941-feb6-4d45-b17d-3f121a63e372",
   "metadata": {},
   "source": [
    "### while문 만들기"
   ]
  },
  {
   "cell_type": "code",
   "execution_count": 195,
   "id": "8a54aad4-f6a0-4e90-86b8-52332ba45f6a",
   "metadata": {
    "tags": []
   },
   "outputs": [],
   "source": [
    "prompt = \"\"\"\n",
    "1.Add\n",
    "2.Del\n",
    "3.List\n",
    "4.Quit\n",
    "\n",
    "Enter number:\n",
    "\"\"\""
   ]
  },
  {
   "cell_type": "code",
   "execution_count": 197,
   "id": "9050743d-27fe-46e2-a6ba-bcdf4efda91e",
   "metadata": {
    "tags": []
   },
   "outputs": [],
   "source": [
    "number = 0"
   ]
  },
  {
   "cell_type": "code",
   "execution_count": 198,
   "id": "dd52ee1f-f355-4186-8ae9-c51612054d21",
   "metadata": {
    "tags": []
   },
   "outputs": [
    {
     "name": "stdout",
     "output_type": "stream",
     "text": [
      "\n",
      "1.Add\n",
      "2.Del\n",
      "3.List\n",
      "4.Quit\n",
      "\n",
      "Enter number:\n",
      "\n"
     ]
    },
    {
     "name": "stdin",
     "output_type": "stream",
     "text": [
      " 1\n"
     ]
    },
    {
     "name": "stdout",
     "output_type": "stream",
     "text": [
      "\n",
      "1.Add\n",
      "2.Del\n",
      "3.List\n",
      "4.Quit\n",
      "\n",
      "Enter number:\n",
      "\n"
     ]
    },
    {
     "name": "stdin",
     "output_type": "stream",
     "text": [
      " 2\n"
     ]
    },
    {
     "name": "stdout",
     "output_type": "stream",
     "text": [
      "\n",
      "1.Add\n",
      "2.Del\n",
      "3.List\n",
      "4.Quit\n",
      "\n",
      "Enter number:\n",
      "\n"
     ]
    },
    {
     "name": "stdin",
     "output_type": "stream",
     "text": [
      " 3\n"
     ]
    },
    {
     "name": "stdout",
     "output_type": "stream",
     "text": [
      "\n",
      "1.Add\n",
      "2.Del\n",
      "3.List\n",
      "4.Quit\n",
      "\n",
      "Enter number:\n",
      "\n"
     ]
    },
    {
     "name": "stdin",
     "output_type": "stream",
     "text": [
      " 4\n"
     ]
    }
   ],
   "source": [
    "while number != 4:\n",
    "    print(prompt)\n",
    "    number = int(input())"
   ]
  },
  {
   "cell_type": "markdown",
   "id": "b5663337-d242-4518-99e7-47200eb13981",
   "metadata": {},
   "source": [
    "### while문 강제로 빠져나가기"
   ]
  },
  {
   "cell_type": "code",
   "execution_count": null,
   "id": "f101ad76-ecd5-4439-ba50-eeb4e957d036",
   "metadata": {
    "tags": []
   },
   "outputs": [],
   "source": [
    "coffee = 10"
   ]
  },
  {
   "cell_type": "code",
   "execution_count": null,
   "id": "93b197e8-9b6d-4777-8326-c14b5504bfd3",
   "metadata": {
    "tags": []
   },
   "outputs": [],
   "source": [
    "money = 300"
   ]
  },
  {
   "cell_type": "code",
   "execution_count": null,
   "id": "eda70c7c-0828-4a55-ab36-685ab98910e4",
   "metadata": {
    "tags": []
   },
   "outputs": [],
   "source": [
    "while money:\n",
    "    print(\"돈을 받았으니 커피를 줍니다.\")\n",
    "    coffee = coffee - 1\n",
    "    print(\"남은 커피의 양은 %d개입니다.\" % coffee)\n",
    "    if coffee == 0:\n",
    "        print(\"커피가 다 떨어졌습니다. 판매를 중지합니다.\")\n",
    "        break"
   ]
  },
  {
   "cell_type": "code",
   "execution_count": null,
   "id": "238ff146-9f34-4344-943a-ce3045efaacd",
   "metadata": {
    "tags": []
   },
   "outputs": [],
   "source": [
    "coffee = 10\n",
    "while True:\n",
    "    money = int(input(\"돈을 넣어 주세요: \"))\n",
    "    if money == 300:\n",
    "        print(\"커피를 줍니다.\")\n",
    "        coffee = coffee -1\n",
    "    elif money > 300:\n",
    "        print(\"거스름돈 %d를 주고 커피를 줍니다.\" % (money - 300))\n",
    "        coffee = coffee - 1\n",
    "    else:\n",
    "        print(\"돈을 다시 돌려주고 커피를 주지 않습니다.\")\n",
    "        print(\"남은 커피의 양은 %d개입니다.\" % coffee)\n",
    "    if coffee == 0:\n",
    "        print(\"커피가 다 떨어졌습니다. 판매를 중지합니다.\")\n",
    "        break"
   ]
  },
  {
   "cell_type": "markdown",
   "id": "e530924e-53cd-401e-8b77-e1c519f588f6",
   "metadata": {},
   "source": [
    "### while문의 맨 처음으로 돌아가기"
   ]
  },
  {
   "cell_type": "code",
   "execution_count": 11,
   "id": "2fd44a00-7e95-4092-9af2-b19cf6be1141",
   "metadata": {
    "tags": []
   },
   "outputs": [],
   "source": [
    "a = 0"
   ]
  },
  {
   "cell_type": "code",
   "execution_count": 12,
   "id": "9c6c788f-b7f0-4573-bb6b-b5c1db046590",
   "metadata": {
    "tags": []
   },
   "outputs": [
    {
     "name": "stdout",
     "output_type": "stream",
     "text": [
      "1\n",
      "3\n",
      "5\n",
      "7\n",
      "9\n"
     ]
    }
   ],
   "source": [
    "while a < 10:\n",
    "    a = a+1\n",
    "    if a%2 == 0 : continue\n",
    "    print(a)"
   ]
  },
  {
   "cell_type": "markdown",
   "id": "13f003e9-cb61-4ec5-a5dd-be660be31011",
   "metadata": {},
   "source": [
    "- 나혼자코딩"
   ]
  },
  {
   "cell_type": "code",
   "execution_count": 13,
   "id": "2081076c-2514-4b49-af77-8fa4cb5b2559",
   "metadata": {
    "tags": []
   },
   "outputs": [],
   "source": [
    "a = 0"
   ]
  },
  {
   "cell_type": "code",
   "execution_count": 14,
   "id": "c79d270c-7752-4150-af9b-785376665edb",
   "metadata": {
    "tags": []
   },
   "outputs": [
    {
     "name": "stdout",
     "output_type": "stream",
     "text": [
      "1\n",
      "2\n",
      "4\n",
      "5\n",
      "7\n",
      "8\n",
      "10\n",
      "11\n"
     ]
    }
   ],
   "source": [
    "while a < 11:\n",
    "    a += 1\n",
    "    if a % 3 == 0:continue\n",
    "    print(a)"
   ]
  },
  {
   "cell_type": "markdown",
   "id": "0998b26a-5fbd-45b6-88a6-18dbd26d6a90",
   "metadata": {},
   "source": [
    "### 무한 루프"
   ]
  },
  {
   "cell_type": "code",
   "execution_count": null,
   "id": "73a827e6-25aa-4dd1-86dc-e525d4bc7553",
   "metadata": {
    "tags": []
   },
   "outputs": [
    {
     "name": "stderr",
     "output_type": "stream",
     "text": [
      "IOPub data rate exceeded.\n",
      "The Jupyter server will temporarily stop sending output\n",
      "to the client in order to avoid crashing it.\n",
      "To change this limit, set the config variable\n",
      "`--ServerApp.iopub_data_rate_limit`.\n",
      "\n",
      "Current values:\n",
      "ServerApp.iopub_data_rate_limit=1000000.0 (bytes/sec)\n",
      "ServerApp.rate_limit_window=3.0 (secs)\n",
      "\n"
     ]
    }
   ],
   "source": [
    "while True:\n",
    "    print(\"Ctrl+C를 눌러야 while문을 빠져나갈 수 있습니다.\")"
   ]
  },
  {
   "cell_type": "markdown",
   "id": "3b8a002d-56cb-433c-9cbc-d8b09f84f356",
   "metadata": {},
   "source": [
    "## 3-3 for문"
   ]
  },
  {
   "cell_type": "markdown",
   "id": "b1b6829f-3f9c-4665-84ff-b64565a923d8",
   "metadata": {},
   "source": [
    "### for문의 기본 구조"
   ]
  },
  {
   "cell_type": "markdown",
   "id": "9f9caa59-3cc1-4432-a1af-d0a62af9c1b0",
   "metadata": {},
   "source": [
    "#### 1. 전형적인 for문"
   ]
  },
  {
   "cell_type": "code",
   "execution_count": 1,
   "id": "f338266f-5a70-4550-9e5d-8565c60545c4",
   "metadata": {
    "tags": []
   },
   "outputs": [],
   "source": [
    "test_list = ['one', 'two', 'three']"
   ]
  },
  {
   "cell_type": "code",
   "execution_count": 2,
   "id": "b2536540-d408-45b6-96f0-5310a98c2c89",
   "metadata": {
    "tags": []
   },
   "outputs": [
    {
     "name": "stdout",
     "output_type": "stream",
     "text": [
      "one\n",
      "two\n",
      "three\n"
     ]
    }
   ],
   "source": [
    "for i in test_list:\n",
    "    print(i)"
   ]
  },
  {
   "cell_type": "markdown",
   "id": "c1b936e3-16d1-4ed4-bcf8-05f5f01b7e7c",
   "metadata": {},
   "source": [
    "#### 2. 다양한 for문의 사용"
   ]
  },
  {
   "cell_type": "code",
   "execution_count": 3,
   "id": "2722111d-e6ed-48a0-9542-bc574fc7a8c6",
   "metadata": {
    "tags": []
   },
   "outputs": [],
   "source": [
    "a = [(1,2), (3,4), (5,6)]"
   ]
  },
  {
   "cell_type": "code",
   "execution_count": 4,
   "id": "ce4c0c24-ffba-4eb0-8cfa-9338518cf8dd",
   "metadata": {
    "tags": []
   },
   "outputs": [
    {
     "name": "stdout",
     "output_type": "stream",
     "text": [
      "3\n",
      "7\n",
      "11\n"
     ]
    }
   ],
   "source": [
    "for (first, last) in a:\n",
    "    print(first + last)"
   ]
  },
  {
   "cell_type": "markdown",
   "id": "ac86ede7-185e-4e25-b53d-83488e3be979",
   "metadata": {},
   "source": [
    "#### 3. for문의 응용"
   ]
  },
  {
   "cell_type": "code",
   "execution_count": 5,
   "id": "f33ec879-37f0-460b-b48b-2d9f4209362c",
   "metadata": {
    "tags": []
   },
   "outputs": [],
   "source": [
    "marks = [90, 25, 67, 45, 80]"
   ]
  },
  {
   "cell_type": "code",
   "execution_count": 7,
   "id": "fa2a29e0-5a4a-4abd-9c8f-cab688dbd891",
   "metadata": {
    "tags": []
   },
   "outputs": [
    {
     "name": "stdout",
     "output_type": "stream",
     "text": [
      "1번 학생은 합격입니다.\n",
      "2번 학생은 불합격입니다.\n",
      "3번 학생은 합격입니다.\n",
      "4번 학생은 불합격입니다.\n",
      "5번 학생은 합격입니다.\n"
     ]
    }
   ],
   "source": [
    "marks = [90,25,67,45,80]\n",
    "number = 0\n",
    "for mark in marks:\n",
    "    number += 1\n",
    "    if mark >= 60:\n",
    "        print(\"%d번 학생은 합격입니다.\" % number)\n",
    "    else:\n",
    "        print(\"%d번 학생은 불합격입니다.\" % number)"
   ]
  },
  {
   "cell_type": "markdown",
   "id": "4e3ea54f-c957-4a33-8fee-80fbe19b5ddb",
   "metadata": {},
   "source": [
    "### for문과 continue문"
   ]
  },
  {
   "cell_type": "code",
   "execution_count": 8,
   "id": "9536c4f6-e46d-4f64-9a0a-bafa1e291a40",
   "metadata": {
    "tags": []
   },
   "outputs": [
    {
     "name": "stdout",
     "output_type": "stream",
     "text": [
      "1번 학생 축하합니다. 합격입니다.\n",
      "3번 학생 축하합니다. 합격입니다.\n",
      "5번 학생 축하합니다. 합격입니다.\n"
     ]
    }
   ],
   "source": [
    "marks = [90,25,67,45,80]\n",
    "number = 0\n",
    "for mark in marks:\n",
    "    number = number + 1\n",
    "    if mark < 60: continue\n",
    "    print(\"%d번 학생 축하합니다. 합격입니다.\" % number)"
   ]
  },
  {
   "cell_type": "markdown",
   "id": "b8256ba5-eb4e-47bd-b1bf-1b4e729ace74",
   "metadata": {},
   "source": [
    "### for문과 함께 자주 사용하는 range함수"
   ]
  },
  {
   "cell_type": "code",
   "execution_count": 9,
   "id": "35965b70-b4e2-476b-8ed9-84ad6ffa87d1",
   "metadata": {
    "tags": []
   },
   "outputs": [],
   "source": [
    "a = range(10)"
   ]
  },
  {
   "cell_type": "code",
   "execution_count": 10,
   "id": "d1d46133-166a-40a0-9445-fd0615f7a8dc",
   "metadata": {
    "tags": []
   },
   "outputs": [
    {
     "data": {
      "text/plain": [
       "range(0, 10)"
      ]
     },
     "execution_count": 10,
     "metadata": {},
     "output_type": "execute_result"
    }
   ],
   "source": [
    "a"
   ]
  },
  {
   "cell_type": "code",
   "execution_count": 11,
   "id": "9de2fac6-c475-46a3-ba9d-ab0959d360b6",
   "metadata": {
    "tags": []
   },
   "outputs": [],
   "source": [
    "a = range(1,11)"
   ]
  },
  {
   "cell_type": "code",
   "execution_count": 12,
   "id": "fefaf3fa-c620-4284-8f4a-eef91d40cdc2",
   "metadata": {
    "tags": []
   },
   "outputs": [
    {
     "data": {
      "text/plain": [
       "range(1, 11)"
      ]
     },
     "execution_count": 12,
     "metadata": {},
     "output_type": "execute_result"
    }
   ],
   "source": [
    "a"
   ]
  },
  {
   "cell_type": "markdown",
   "id": "8436849d-d01e-436a-822d-1d687e8c0f83",
   "metadata": {},
   "source": [
    "#### range함수의 예시 살펴보기"
   ]
  },
  {
   "cell_type": "code",
   "execution_count": 13,
   "id": "66b7563a-2d24-45fe-aa4b-63c902e37852",
   "metadata": {
    "tags": []
   },
   "outputs": [],
   "source": [
    "add = 0"
   ]
  },
  {
   "cell_type": "code",
   "execution_count": 14,
   "id": "c5e5ea3c-7eec-4638-b628-3472fed8be8f",
   "metadata": {
    "tags": []
   },
   "outputs": [],
   "source": [
    "for i in range(1,11):\n",
    "    add = add + i"
   ]
  },
  {
   "cell_type": "code",
   "execution_count": 15,
   "id": "42773666-f578-4cc0-b36e-8e897181f044",
   "metadata": {
    "tags": []
   },
   "outputs": [
    {
     "name": "stdout",
     "output_type": "stream",
     "text": [
      "55\n"
     ]
    }
   ],
   "source": [
    "print(add)"
   ]
  },
  {
   "cell_type": "code",
   "execution_count": 16,
   "id": "e8628162-50d6-4d52-907c-7ecf43d3ec19",
   "metadata": {
    "tags": []
   },
   "outputs": [
    {
     "name": "stdout",
     "output_type": "stream",
     "text": [
      "1번 학생 축하합니다. 합격입니다.\n",
      "3번 학생 축하합니다. 합격입니다.\n",
      "5번 학생 축하합니다. 합격입니다.\n"
     ]
    }
   ],
   "source": [
    "# number = 0~4\n",
    "marks = [90,25,67,45,80]\n",
    "for number in range(len(marks)):\n",
    "    if marks[number] < 60 : continue\n",
    "    print(\"%d번 학생 축하합니다. 합격입니다.\" % (number + 1))"
   ]
  },
  {
   "cell_type": "markdown",
   "id": "9868162a-a834-4444-b894-b338d0a9b1b3",
   "metadata": {},
   "source": [
    "- 나코딩"
   ]
  },
  {
   "cell_type": "code",
   "execution_count": 18,
   "id": "bee2ea55-b8f3-4300-9953-69a40873baff",
   "metadata": {
    "tags": []
   },
   "outputs": [
    {
     "data": {
      "text/plain": [
       "5050"
      ]
     },
     "execution_count": 18,
     "metadata": {},
     "output_type": "execute_result"
    }
   ],
   "source": [
    "sum = 0\n",
    "for i in range(1,101):\n",
    "    sum += i\n",
    "sum"
   ]
  },
  {
   "cell_type": "markdown",
   "id": "38f44209-c7ce-4f66-90bd-e3094e45a6fa",
   "metadata": {},
   "source": [
    "#### for과 range를 사용한 구구단"
   ]
  },
  {
   "cell_type": "code",
   "execution_count": 19,
   "id": "5450f4ec-27be-4632-8841-5388be2cb08b",
   "metadata": {
    "tags": []
   },
   "outputs": [
    {
     "name": "stdout",
     "output_type": "stream",
     "text": [
      "2 4 6 8 10 12 14 16 18 \n",
      "3 6 9 12 15 18 21 24 27 \n",
      "4 8 12 16 20 24 28 32 36 \n",
      "5 10 15 20 25 30 35 40 45 \n",
      "6 12 18 24 30 36 42 48 54 \n",
      "7 14 21 28 35 42 49 56 63 \n",
      "8 16 24 32 40 48 56 64 72 \n",
      "9 18 27 36 45 54 63 72 81 \n"
     ]
    }
   ],
   "source": [
    "for i in range(2,10):\n",
    "    for j in range(1,10):\n",
    "        print(i*j, end = \" \")\n",
    "    print('')"
   ]
  },
  {
   "cell_type": "markdown",
   "id": "3a2ccbf9-4e99-45da-8241-d716f01ba686",
   "metadata": {},
   "source": [
    "### 리스트 내포(List Comprehension)\n",
    "- [표현식 for 항목 in 반복 가능 객체 if 조건]\n",
    "- for문을 여러개 사용할 때\n",
    "```\n",
    " [표현식 for 항목1 in 반복 가능 객체1 if 조건1\n",
    "         for 항목2 in 반복 가능 객체2 if 조건2\n",
    "         ...\n",
    "         for 항목n in 반복 가능 객체n if 조건n]\n",
    " ```"
   ]
  },
  {
   "cell_type": "code",
   "execution_count": 24,
   "id": "7968189a-f11b-4d5a-9207-90017aa42766",
   "metadata": {
    "tags": []
   },
   "outputs": [],
   "source": [
    "a = [1,2,3,4]"
   ]
  },
  {
   "cell_type": "code",
   "execution_count": 25,
   "id": "9cbb4dc9-8d4a-4eec-8d65-60b7342567d1",
   "metadata": {
    "tags": []
   },
   "outputs": [],
   "source": [
    "result = []"
   ]
  },
  {
   "cell_type": "code",
   "execution_count": 26,
   "id": "060ee6c1-dee2-4ff9-bae6-1bda9e822d33",
   "metadata": {
    "tags": []
   },
   "outputs": [
    {
     "name": "stdout",
     "output_type": "stream",
     "text": [
      "[3, 6, 9, 12]\n"
     ]
    }
   ],
   "source": [
    "for num in a:\n",
    "    result.append(num*3)\n",
    "print(result)"
   ]
  },
  {
   "cell_type": "code",
   "execution_count": 27,
   "id": "855152d0-a2b3-4d99-9d9c-e06a3a0e31a9",
   "metadata": {
    "tags": []
   },
   "outputs": [],
   "source": [
    "a = [1,2,3,4]"
   ]
  },
  {
   "cell_type": "code",
   "execution_count": 28,
   "id": "b98fbf21-3253-45f5-a675-cc15f4580f53",
   "metadata": {
    "tags": []
   },
   "outputs": [],
   "source": [
    "result = [num*3 for num in a if num % 2 == 0]"
   ]
  },
  {
   "cell_type": "code",
   "execution_count": 29,
   "id": "298bdf77-8e25-4ea0-abe1-35554b61f436",
   "metadata": {
    "tags": []
   },
   "outputs": [
    {
     "name": "stdout",
     "output_type": "stream",
     "text": [
      "[6, 12]\n"
     ]
    }
   ],
   "source": [
    "print(result)"
   ]
  },
  {
   "cell_type": "code",
   "execution_count": 30,
   "id": "c7c23a9f-5f55-41ab-a31d-cf87c83403e1",
   "metadata": {
    "tags": []
   },
   "outputs": [],
   "source": [
    "result = [x*y for x in range(2,10)\n",
    "         for y in range(1,10)]"
   ]
  },
  {
   "cell_type": "code",
   "execution_count": 31,
   "id": "ff30c91d-c24e-4293-be20-c927fe720330",
   "metadata": {
    "tags": []
   },
   "outputs": [
    {
     "name": "stdout",
     "output_type": "stream",
     "text": [
      "[2, 4, 6, 8, 10, 12, 14, 16, 18, 3, 6, 9, 12, 15, 18, 21, 24, 27, 4, 8, 12, 16, 20, 24, 28, 32, 36, 5, 10, 15, 20, 25, 30, 35, 40, 45, 6, 12, 18, 24, 30, 36, 42, 48, 54, 7, 14, 21, 28, 35, 42, 49, 56, 63, 8, 16, 24, 32, 40, 48, 56, 64, 72, 9, 18, 27, 36, 45, 54, 63, 72, 81]\n"
     ]
    }
   ],
   "source": [
    "print(result)"
   ]
  },
  {
   "cell_type": "markdown",
   "id": "f69fc883-4d85-4799-84ee-2b1ce3521673",
   "metadata": {
    "jp-MarkdownHeadingCollapsed": true,
    "tags": []
   },
   "source": [
    "# 4장 프로그램의 입력과 출력은 어떻게 해야 할가?"
   ]
  },
  {
   "cell_type": "markdown",
   "id": "25d4730f-8815-4f6d-ba1e-8f57efc6ced8",
   "metadata": {},
   "source": [
    "## 4-1 함수"
   ]
  },
  {
   "cell_type": "markdown",
   "id": "e895a565-d963-4799-997d-389494be8ad7",
   "metadata": {},
   "source": [
    "### 파이썬 함수의 구조"
   ]
  },
  {
   "cell_type": "code",
   "execution_count": 49,
   "id": "1bc54480-499d-42f6-ad68-fd632818bc81",
   "metadata": {
    "tags": []
   },
   "outputs": [],
   "source": [
    "def add(a,b):\n",
    "    return a+b"
   ]
  },
  {
   "cell_type": "code",
   "execution_count": 50,
   "id": "7c280eed-d37f-4ae6-aef4-e4a2c5a9ed08",
   "metadata": {
    "tags": []
   },
   "outputs": [],
   "source": [
    "a =3"
   ]
  },
  {
   "cell_type": "code",
   "execution_count": 51,
   "id": "3d0757a5-0443-407e-9805-c7956af1f528",
   "metadata": {
    "tags": []
   },
   "outputs": [],
   "source": [
    "b=4"
   ]
  },
  {
   "cell_type": "code",
   "execution_count": 52,
   "id": "dee93c1d-de3b-4af8-bf53-27fb713d59e0",
   "metadata": {
    "tags": []
   },
   "outputs": [],
   "source": [
    "c = add(a,b)"
   ]
  },
  {
   "cell_type": "code",
   "execution_count": 53,
   "id": "a4859dc2-f594-48f7-8dc4-ee694043bb43",
   "metadata": {
    "tags": []
   },
   "outputs": [
    {
     "name": "stdout",
     "output_type": "stream",
     "text": [
      "7\n"
     ]
    }
   ],
   "source": [
    "print(c)"
   ]
  },
  {
   "cell_type": "markdown",
   "id": "700d0236-da51-40c8-92be-1e503cc00a2e",
   "metadata": {},
   "source": [
    "### 매개변수와 인수\n",
    "- 매개변수 : 함수에 입력으로 전달된 값을 받는 변수\n",
    "- 인수 : 함수를 호출할 때 전달하는 입력값"
   ]
  },
  {
   "cell_type": "code",
   "execution_count": 56,
   "id": "716b3a2e-c02a-40da-9496-298fa1c7caec",
   "metadata": {
    "tags": []
   },
   "outputs": [],
   "source": [
    "def add(a,b):\n",
    "    return a+b # a,b는 매개변수"
   ]
  },
  {
   "cell_type": "code",
   "execution_count": 57,
   "id": "2b8732b3-ba74-47db-81af-c502aaa6016b",
   "metadata": {
    "tags": []
   },
   "outputs": [
    {
     "name": "stdout",
     "output_type": "stream",
     "text": [
      "7\n"
     ]
    }
   ],
   "source": [
    "print(add(3,4)) # 3,4는 인수"
   ]
  },
  {
   "cell_type": "markdown",
   "id": "1dd8795e-ed18-4048-8b6d-ad78f1717f39",
   "metadata": {},
   "source": [
    "### 입력값과 결괏값에 따른 함수의 형태"
   ]
  },
  {
   "cell_type": "markdown",
   "id": "9f2ca423-5428-419d-a20e-8f7620802a01",
   "metadata": {},
   "source": [
    "#### 일반적인 함수"
   ]
  },
  {
   "cell_type": "code",
   "execution_count": 58,
   "id": "39ccd776-32f3-40df-8d1f-bd74f60e2507",
   "metadata": {
    "tags": []
   },
   "outputs": [],
   "source": [
    "def add(a,b):\n",
    "    result = a+ b\n",
    "    return result"
   ]
  },
  {
   "cell_type": "code",
   "execution_count": 59,
   "id": "6d56d514-3a27-48f7-8e58-6e958e094a55",
   "metadata": {
    "tags": []
   },
   "outputs": [],
   "source": [
    "a = add(3,4)"
   ]
  },
  {
   "cell_type": "code",
   "execution_count": 60,
   "id": "241d7e20-0ead-4661-b38d-00923b88f342",
   "metadata": {
    "tags": []
   },
   "outputs": [
    {
     "name": "stdout",
     "output_type": "stream",
     "text": [
      "7\n"
     ]
    }
   ],
   "source": [
    "print(a)"
   ]
  },
  {
   "cell_type": "markdown",
   "id": "33342bfd-e759-41c7-9e5c-c5a9f55e99fa",
   "metadata": {},
   "source": [
    "#### 입력값이 없는 함수"
   ]
  },
  {
   "cell_type": "code",
   "execution_count": 61,
   "id": "e710b1cc-901d-411d-ad89-ebbb126f1c68",
   "metadata": {
    "tags": []
   },
   "outputs": [],
   "source": [
    "def say():\n",
    "    return 'Hi'"
   ]
  },
  {
   "cell_type": "code",
   "execution_count": 62,
   "id": "3e8ab8a7-c2d4-4f6f-8cdd-9cf89da33a03",
   "metadata": {
    "tags": []
   },
   "outputs": [
    {
     "name": "stdout",
     "output_type": "stream",
     "text": [
      "Hi\n"
     ]
    }
   ],
   "source": [
    "a = say()\n",
    "print(a)"
   ]
  },
  {
   "cell_type": "markdown",
   "id": "315d7315-0458-4c76-aa22-718e472be269",
   "metadata": {},
   "source": [
    "#### 결과값이 없는 함수"
   ]
  },
  {
   "cell_type": "code",
   "execution_count": 63,
   "id": "89a3e9e9-97cc-4cc3-b4e3-22b3634f9570",
   "metadata": {
    "tags": []
   },
   "outputs": [],
   "source": [
    "def add(a,b):\n",
    "    print(\"%d, %d의 합은 %d입니다.\" % (a, b, a+b))"
   ]
  },
  {
   "cell_type": "code",
   "execution_count": 64,
   "id": "432ed3bd-bc8d-416c-b079-5ee6588692f2",
   "metadata": {
    "tags": []
   },
   "outputs": [
    {
     "name": "stdout",
     "output_type": "stream",
     "text": [
      "3, 4의 합은 7입니다.\n"
     ]
    }
   ],
   "source": [
    "add(3,4)"
   ]
  },
  {
   "cell_type": "code",
   "execution_count": 65,
   "id": "7be5bb1d-9d3b-41d5-adde-28a0ce34aef3",
   "metadata": {
    "tags": []
   },
   "outputs": [
    {
     "name": "stdout",
     "output_type": "stream",
     "text": [
      "3, 4의 합은 7입니다.\n"
     ]
    }
   ],
   "source": [
    "a = add(3,4)"
   ]
  },
  {
   "cell_type": "code",
   "execution_count": 67,
   "id": "b0760d47-3f50-4ccc-867b-5e464779c742",
   "metadata": {
    "tags": []
   },
   "outputs": [
    {
     "name": "stdout",
     "output_type": "stream",
     "text": [
      "None\n"
     ]
    }
   ],
   "source": [
    "print(a) #None 출력"
   ]
  },
  {
   "cell_type": "markdown",
   "id": "531ab166-7982-4ed9-9bed-9471c8b95e5d",
   "metadata": {},
   "source": [
    "#### 입력값도 결과값도 없는 함수"
   ]
  },
  {
   "cell_type": "code",
   "execution_count": 68,
   "id": "85438d8e-d0b8-4c4b-9833-57a22d5441d0",
   "metadata": {
    "tags": []
   },
   "outputs": [],
   "source": [
    "def say():\n",
    "    print('Hi')"
   ]
  },
  {
   "cell_type": "code",
   "execution_count": 69,
   "id": "e2131780-9a23-44b2-9c60-a2b950b9656d",
   "metadata": {
    "tags": []
   },
   "outputs": [
    {
     "name": "stdout",
     "output_type": "stream",
     "text": [
      "Hi\n"
     ]
    }
   ],
   "source": [
    "say()"
   ]
  },
  {
   "cell_type": "markdown",
   "id": "c426e76e-01c3-4edf-8de4-f4a6a4ce55fa",
   "metadata": {},
   "source": [
    "### 매개변수 지정하여 호출하기"
   ]
  },
  {
   "cell_type": "code",
   "execution_count": 70,
   "id": "87156a6e-7e99-43d6-b4a9-13de00085341",
   "metadata": {
    "tags": []
   },
   "outputs": [],
   "source": [
    "def add(a,b):\n",
    "    return a+b"
   ]
  },
  {
   "cell_type": "code",
   "execution_count": 71,
   "id": "1e048128-c6a2-40a8-b74b-abdf56b01625",
   "metadata": {
    "tags": []
   },
   "outputs": [],
   "source": [
    "result = add(a=3,b=7)"
   ]
  },
  {
   "cell_type": "code",
   "execution_count": 72,
   "id": "637530ee-c409-4f4a-9d9d-222eaa0e133b",
   "metadata": {
    "tags": []
   },
   "outputs": [
    {
     "name": "stdout",
     "output_type": "stream",
     "text": [
      "10\n"
     ]
    }
   ],
   "source": [
    "print(result)"
   ]
  },
  {
   "cell_type": "code",
   "execution_count": 73,
   "id": "3ed0fefb-38bd-4157-a03e-29974d7d7b79",
   "metadata": {
    "tags": []
   },
   "outputs": [],
   "source": [
    "result = add(b=5, a=3)"
   ]
  },
  {
   "cell_type": "code",
   "execution_count": 74,
   "id": "84923a70-8d55-4f33-aab1-2ebbf065dfe0",
   "metadata": {
    "tags": []
   },
   "outputs": [
    {
     "name": "stdout",
     "output_type": "stream",
     "text": [
      "8\n"
     ]
    }
   ],
   "source": [
    "print(result)"
   ]
  },
  {
   "cell_type": "markdown",
   "id": "bf7e4206-1b34-459b-a38e-29fdbb293a76",
   "metadata": {},
   "source": [
    "### 입력값이 몇 개가 될지 모를 때 (*args)\n",
    "- *args처럼 매개변수 이름 앞에 *를 붙이면 입력값을 전부 모아서 튜플로 만들어준다."
   ]
  },
  {
   "cell_type": "code",
   "execution_count": 1,
   "id": "8cda9ac1-4f9f-435e-bd92-1b03ba2f4218",
   "metadata": {
    "tags": []
   },
   "outputs": [],
   "source": [
    "def add_many(*args) :\n",
    "    result = 0\n",
    "    for i in args:\n",
    "        result = result + i\n",
    "    return result"
   ]
  },
  {
   "cell_type": "code",
   "execution_count": 2,
   "id": "f00ed1a4-a9e3-4fd3-a51e-644dc462d447",
   "metadata": {
    "tags": []
   },
   "outputs": [],
   "source": [
    "result = add_many(1,2,3)"
   ]
  },
  {
   "cell_type": "code",
   "execution_count": 3,
   "id": "da851518-4607-4877-a74c-e94989562e66",
   "metadata": {
    "tags": []
   },
   "outputs": [
    {
     "name": "stdout",
     "output_type": "stream",
     "text": [
      "6\n"
     ]
    }
   ],
   "source": [
    "print(result)"
   ]
  },
  {
   "cell_type": "code",
   "execution_count": 4,
   "id": "d21555b6-d156-4081-ab76-34d6c6ca162f",
   "metadata": {
    "tags": []
   },
   "outputs": [],
   "source": [
    "result = add_many(1,2,3,4,5,6,7,8,9,10)"
   ]
  },
  {
   "cell_type": "code",
   "execution_count": 5,
   "id": "bfb85e24-bb59-4650-973e-ea0ba330c135",
   "metadata": {
    "tags": []
   },
   "outputs": [
    {
     "name": "stdout",
     "output_type": "stream",
     "text": [
      "55\n"
     ]
    }
   ],
   "source": [
    "print(result)"
   ]
  },
  {
   "cell_type": "code",
   "execution_count": 7,
   "id": "ad07bc07-9659-4b46-aee7-623cfac00708",
   "metadata": {
    "tags": []
   },
   "outputs": [],
   "source": [
    "def add_mul(choice, *args):\n",
    "    if choice == \"add\":\n",
    "        result = 0\n",
    "        for i in args:\n",
    "            result = result + i\n",
    "    elif choice == \"mul\":\n",
    "        result = 1\n",
    "        for i in args:\n",
    "            result = result * i\n",
    "    return result\n",
    "\n",
    "            "
   ]
  },
  {
   "cell_type": "code",
   "execution_count": 8,
   "id": "cb815451-5b7a-4f28-a893-9ad6009b27c2",
   "metadata": {
    "tags": []
   },
   "outputs": [],
   "source": [
    "result = add_mul('add', 1,2,3,4,5)"
   ]
  },
  {
   "cell_type": "code",
   "execution_count": 9,
   "id": "974ed64f-f342-477d-a8f1-4c2b2eb784b7",
   "metadata": {
    "tags": []
   },
   "outputs": [
    {
     "name": "stdout",
     "output_type": "stream",
     "text": [
      "15\n"
     ]
    }
   ],
   "source": [
    "print(result)"
   ]
  },
  {
   "cell_type": "code",
   "execution_count": 11,
   "id": "368a364c-a525-4eac-81c3-2592e897a79b",
   "metadata": {
    "tags": []
   },
   "outputs": [],
   "source": [
    "result = add_mul('mul', 1,2,3,4,5)"
   ]
  },
  {
   "cell_type": "code",
   "execution_count": 12,
   "id": "46867e4e-8fb6-4a25-8afd-cd783f79fe2a",
   "metadata": {
    "tags": []
   },
   "outputs": [
    {
     "name": "stdout",
     "output_type": "stream",
     "text": [
      "120\n"
     ]
    }
   ],
   "source": [
    "print(result)"
   ]
  },
  {
   "cell_type": "markdown",
   "id": "f7142725-43fd-4c7b-8792-333e4bea17fc",
   "metadata": {
    "tags": []
   },
   "source": [
    "### 키워드 파라미터(**kwargs)\n",
    "- **kwargs처럼 매개변수 이름 앞에 **을 붙이면 매개변수 kwargs는 딕셔너리가 되고 모든 key=value 형태의 결괏값이 그 딕셔너리에 저장된다."
   ]
  },
  {
   "cell_type": "code",
   "execution_count": 14,
   "id": "c217594b-299d-45e5-ae31-40ba8059189b",
   "metadata": {
    "tags": []
   },
   "outputs": [],
   "source": [
    "def print_kwargs(**kwargs):\n",
    "    print(kwargs)"
   ]
  },
  {
   "cell_type": "code",
   "execution_count": 15,
   "id": "eb9ce314-2d06-4fb4-91c2-b5e6b78ed71d",
   "metadata": {
    "tags": []
   },
   "outputs": [
    {
     "name": "stdout",
     "output_type": "stream",
     "text": [
      "{'a': 1}\n"
     ]
    }
   ],
   "source": [
    "print_kwargs(a=1)"
   ]
  },
  {
   "cell_type": "code",
   "execution_count": 16,
   "id": "289db794-0fe8-410e-8a0a-1f931e61beb5",
   "metadata": {
    "tags": []
   },
   "outputs": [
    {
     "name": "stdout",
     "output_type": "stream",
     "text": [
      "{'name': 'foo', 'age': 3}\n"
     ]
    }
   ],
   "source": [
    "print_kwargs(name='foo', age=3)"
   ]
  },
  {
   "cell_type": "markdown",
   "id": "7d54e4f9-de61-4785-b751-34d2b2c09e99",
   "metadata": {},
   "source": [
    "### 함수의 결괏값은 언제나 하나이다"
   ]
  },
  {
   "cell_type": "code",
   "execution_count": 19,
   "id": "aeee18e8-f42e-4754-95a0-d032991927eb",
   "metadata": {
    "tags": []
   },
   "outputs": [],
   "source": [
    "#add_and_mul 함수의 결괏값 a+b와 a*b는 튜플값 하나인 (a+b, a*b)로 돌려준다.\n",
    "def add_and_mul(a,b):\n",
    "    return a+b, a*b"
   ]
  },
  {
   "cell_type": "code",
   "execution_count": 20,
   "id": "da68c884-0a2d-4d15-a42e-50b6c320d901",
   "metadata": {
    "tags": []
   },
   "outputs": [],
   "source": [
    "result = add_and_mul(3,4)"
   ]
  },
  {
   "cell_type": "code",
   "execution_count": 21,
   "id": "dd5ae8f2-e15e-449d-b2d1-e421c34cfa36",
   "metadata": {
    "tags": []
   },
   "outputs": [
    {
     "data": {
      "text/plain": [
       "(7, 12)"
      ]
     },
     "execution_count": 21,
     "metadata": {},
     "output_type": "execute_result"
    }
   ],
   "source": [
    "result"
   ]
  },
  {
   "cell_type": "code",
   "execution_count": 22,
   "id": "569d494b-5d6d-4c92-b1fe-da00467744bf",
   "metadata": {
    "tags": []
   },
   "outputs": [],
   "source": [
    "#하나의 튜플값을 2개의 결괏값처럼 받고 싶을 때\n",
    "result1, result2 = add_and_mul(3,4)"
   ]
  },
  {
   "cell_type": "code",
   "execution_count": 23,
   "id": "524ac7cd-df8a-459a-9345-6a466f67abf7",
   "metadata": {
    "tags": []
   },
   "outputs": [
    {
     "data": {
      "text/plain": [
       "7"
      ]
     },
     "execution_count": 23,
     "metadata": {},
     "output_type": "execute_result"
    }
   ],
   "source": [
    "result1"
   ]
  },
  {
   "cell_type": "code",
   "execution_count": 24,
   "id": "c649dc3a-ab20-489f-9cb1-30d911669a6b",
   "metadata": {
    "tags": []
   },
   "outputs": [
    {
     "data": {
      "text/plain": [
       "12"
      ]
     },
     "execution_count": 24,
     "metadata": {},
     "output_type": "execute_result"
    }
   ],
   "source": [
    "result2"
   ]
  },
  {
   "cell_type": "code",
   "execution_count": 25,
   "id": "909c762f-1873-4646-baeb-be52c27c6ef4",
   "metadata": {
    "tags": []
   },
   "outputs": [],
   "source": [
    "# return문이 여러개면 첫번째 return문만 실행된다.\n",
    "def add_and_mul(a,b):\n",
    "    return a+b\n",
    "    return a*b"
   ]
  },
  {
   "cell_type": "code",
   "execution_count": 26,
   "id": "2bf6b570-e2bb-4593-8d9d-e14d91045d31",
   "metadata": {
    "tags": []
   },
   "outputs": [],
   "source": [
    "result = add_and_mul(2,3)"
   ]
  },
  {
   "cell_type": "code",
   "execution_count": 27,
   "id": "07ce21b4-4665-4002-b7e2-60974af53d29",
   "metadata": {
    "tags": []
   },
   "outputs": [
    {
     "name": "stdout",
     "output_type": "stream",
     "text": [
      "5\n"
     ]
    }
   ],
   "source": [
    "print(result)"
   ]
  },
  {
   "cell_type": "markdown",
   "id": "a684fd48-c63c-4e93-8ee7-f5cd84704ba5",
   "metadata": {},
   "source": [
    "### return의 또다른 쓰임새"
   ]
  },
  {
   "cell_type": "code",
   "execution_count": 28,
   "id": "de0be06e-3f97-430d-8f30-b8adf9da8414",
   "metadata": {
    "tags": []
   },
   "outputs": [],
   "source": [
    "def say_nick(nick):\n",
    "    if nick == \"바보\":\n",
    "        return\n",
    "    print(\"나의 별명은 %s입니다.\" % nick)"
   ]
  },
  {
   "cell_type": "code",
   "execution_count": 29,
   "id": "e9f289a1-f8bf-48e6-9dec-0e8316fbcbc8",
   "metadata": {
    "tags": []
   },
   "outputs": [
    {
     "name": "stdout",
     "output_type": "stream",
     "text": [
      "나의 별명은 야호입니다.\n"
     ]
    }
   ],
   "source": [
    "say_nick('야호')"
   ]
  },
  {
   "cell_type": "code",
   "execution_count": 30,
   "id": "4b35bf4b-70dd-4062-905e-51684b232a09",
   "metadata": {
    "tags": []
   },
   "outputs": [],
   "source": [
    "say_nick('바보')"
   ]
  },
  {
   "cell_type": "markdown",
   "id": "6c3e55db-a74f-4093-b6e7-477f2ce3df32",
   "metadata": {},
   "source": [
    "### 매개변수에 초깃값 미리 설정하기"
   ]
  },
  {
   "cell_type": "code",
   "execution_count": 2,
   "id": "45aa0229-7710-4c59-ad8a-d7525bc39bc5",
   "metadata": {
    "tags": []
   },
   "outputs": [],
   "source": [
    "def say_myself(name, old, man=True):\n",
    "    print(\"나의 이름은 %s입니다.\" % name)\n",
    "    print(\"나이는 %d살입니다.\" % old)\n",
    "    if man:\n",
    "        print(\"남자입니다.\")\n",
    "    else:\n",
    "        print(\"여자입니다.\")"
   ]
  },
  {
   "cell_type": "code",
   "execution_count": 3,
   "id": "e53c01ef-594f-4c90-b895-b1f75aee17a2",
   "metadata": {
    "tags": []
   },
   "outputs": [
    {
     "name": "stdout",
     "output_type": "stream",
     "text": [
      "나의 이름은 박응용입니다.\n",
      "나이는 27살입니다.\n",
      "남자입니다.\n"
     ]
    }
   ],
   "source": [
    "say_myself(\"박응용\", 27)"
   ]
  },
  {
   "cell_type": "code",
   "execution_count": 4,
   "id": "cdc3ca68-c3ec-4686-ba29-757b8413cb6f",
   "metadata": {
    "tags": []
   },
   "outputs": [
    {
     "name": "stdout",
     "output_type": "stream",
     "text": [
      "나의 이름은 박응용입니다.\n",
      "나이는 27살입니다.\n",
      "남자입니다.\n"
     ]
    }
   ],
   "source": [
    "say_myself(\"박응용\", 27, True)"
   ]
  },
  {
   "cell_type": "code",
   "execution_count": 6,
   "id": "924a26ae-8d71-4b48-b579-546ae30fafb4",
   "metadata": {},
   "outputs": [
    {
     "name": "stdout",
     "output_type": "stream",
     "text": [
      "나의 이름은 박응선입니다.\n",
      "나이는 27살입니다.\n",
      "여자입니다.\n"
     ]
    }
   ],
   "source": [
    "say_myself(\"박응선\", 27, False)"
   ]
  },
  {
   "cell_type": "code",
   "execution_count": 9,
   "id": "9dd94b51-88f3-4ee5-b0d5-2bb4be90f279",
   "metadata": {
    "tags": []
   },
   "outputs": [
    {
     "ename": "SyntaxError",
     "evalue": "non-default argument follows default argument (3651948015.py, line 1)",
     "output_type": "error",
     "traceback": [
      "\u001b[1;36m  Cell \u001b[1;32mIn[9], line 1\u001b[1;36m\u001b[0m\n\u001b[1;33m    def say_myself(name, man=True, old):\u001b[0m\n\u001b[1;37m                                   ^\u001b[0m\n\u001b[1;31mSyntaxError\u001b[0m\u001b[1;31m:\u001b[0m non-default argument follows default argument\n"
     ]
    }
   ],
   "source": [
    "# 초기화시키고 싶은 매개변수는 항상 뒤쪽에 놓는다. 아니면 오류 발생\n",
    "def say_myself(name, man=True, old):\n",
    "    print(\"나의 이름은 %s입니다.\" % name)\n",
    "    print(\"나이는 %d살입니다.\" % old)\n",
    "    if man:\n",
    "        print(\"남자입니다.\")\n",
    "    else:\n",
    "        print(\"여자입니다.\")"
   ]
  },
  {
   "cell_type": "code",
   "execution_count": 10,
   "id": "87e3121c-fd23-4f4a-b172-1fd48c0ac96f",
   "metadata": {
    "tags": []
   },
   "outputs": [
    {
     "name": "stdout",
     "output_type": "stream",
     "text": [
      "나의 이름은 박응용입니다.\n",
      "나이는 27살입니다.\n",
      "남자입니다.\n"
     ]
    }
   ],
   "source": [
    "say_myself(\"박응용\", 27)"
   ]
  },
  {
   "cell_type": "markdown",
   "id": "16c22bf9-bf5c-48b2-bf4c-c4ddca047977",
   "metadata": {},
   "source": [
    "### 함수 안에서 선언한 변수의 효력 범위"
   ]
  },
  {
   "cell_type": "code",
   "execution_count": 20,
   "id": "13c46cd9-5062-4d08-b1ab-4d8b40232f15",
   "metadata": {},
   "outputs": [
    {
     "name": "stdout",
     "output_type": "stream",
     "text": [
      "1\n"
     ]
    }
   ],
   "source": [
    "# 함수 안에서 새로 만든 매개변수는 함수 안에서만 사용하는 '함수만의 변수'\n",
    "a = 1\n",
    "def vartest(a):\n",
    "    a = a+1\n",
    "\n",
    "vartest(a)\n",
    "print(a)"
   ]
  },
  {
   "cell_type": "code",
   "execution_count": 21,
   "id": "0b0ef4f4-624e-4478-ab68-80ef58faa8bb",
   "metadata": {
    "tags": []
   },
   "outputs": [],
   "source": [
    "# 함수 안에서 사용하는 매개변수는 함수 밖의 변수 이름과는 전혀 상관이 없다\n",
    "def vartest(hello):\n",
    "    hello = hello +1"
   ]
  },
  {
   "cell_type": "code",
   "execution_count": 22,
   "id": "49053339-f3d1-4d55-b8c1-a1ccf278446e",
   "metadata": {
    "tags": []
   },
   "outputs": [],
   "source": [
    "del a"
   ]
  },
  {
   "cell_type": "code",
   "execution_count": 23,
   "id": "16a6373b-a3af-4572-867b-944919d80b2b",
   "metadata": {
    "tags": []
   },
   "outputs": [
    {
     "ename": "NameError",
     "evalue": "name 'a' is not defined",
     "output_type": "error",
     "traceback": [
      "\u001b[1;31m---------------------------------------------------------------------------\u001b[0m",
      "\u001b[1;31mNameError\u001b[0m                                 Traceback (most recent call last)",
      "Cell \u001b[1;32mIn[23], line 5\u001b[0m\n\u001b[0;32m      2\u001b[0m     a \u001b[38;5;241m=\u001b[39m a\u001b[38;5;241m+\u001b[39m\u001b[38;5;241m1\u001b[39m\n\u001b[0;32m      4\u001b[0m vartest(\u001b[38;5;241m3\u001b[39m)\n\u001b[1;32m----> 5\u001b[0m \u001b[38;5;28mprint\u001b[39m(\u001b[43ma\u001b[49m)\n",
      "\u001b[1;31mNameError\u001b[0m: name 'a' is not defined"
     ]
    }
   ],
   "source": [
    "def vartest(a):\n",
    "    a = a+1\n",
    "\n",
    "vartest(3)\n",
    "print(a)"
   ]
  },
  {
   "cell_type": "markdown",
   "id": "661723fa-6414-4807-ae0f-9181f7b731bd",
   "metadata": {
    "tags": []
   },
   "source": [
    "#### 함수 안에서 함수 밖의 변수를 변경하는 방법"
   ]
  },
  {
   "cell_type": "markdown",
   "id": "82527289-9821-4cb3-868a-b207a8610a82",
   "metadata": {},
   "source": [
    "##### 1. return 사용하기"
   ]
  },
  {
   "cell_type": "code",
   "execution_count": 26,
   "id": "57ec679d-7255-47a9-a431-18741e7ef53e",
   "metadata": {
    "tags": []
   },
   "outputs": [
    {
     "name": "stdout",
     "output_type": "stream",
     "text": [
      "2\n"
     ]
    }
   ],
   "source": [
    "a = 1\n",
    "def vartest(a):\n",
    "    a = a+1\n",
    "    return a\n",
    "\n",
    "a = vartest(a) # vartest(a)의 결괏값을 함수 밖의 변수 a에 대입\n",
    "print(a)"
   ]
  },
  {
   "cell_type": "markdown",
   "id": "fb96d550-e70c-468d-a2fd-d1d47e6f1ccc",
   "metadata": {},
   "source": [
    "##### 2. global 명령어 사용하기"
   ]
  },
  {
   "cell_type": "code",
   "execution_count": 28,
   "id": "23428cfc-641b-4b3c-a7a3-f8b54bbc723e",
   "metadata": {
    "tags": []
   },
   "outputs": [
    {
     "name": "stdout",
     "output_type": "stream",
     "text": [
      "2\n"
     ]
    }
   ],
   "source": [
    "# global 명령어는 사용하지 않는 것이 좋다\n",
    "a=1\n",
    "def vartest():\n",
    "    global a # 함수 안에서 함수 밖의 a 변수를 직접 사용\n",
    "    a = a+1\n",
    "    \n",
    "vartest()\n",
    "print(a)"
   ]
  },
  {
   "cell_type": "markdown",
   "id": "293446b8-5fb9-48ea-827f-815ed6edf869",
   "metadata": {},
   "source": [
    "### lambda\n",
    "- lambda 매개변수1, 매개변수2, ...: 매개변수를 사용한 표현식"
   ]
  },
  {
   "cell_type": "code",
   "execution_count": 29,
   "id": "30cd51f3-f5f6-4d62-ba6c-3b416b23d9dc",
   "metadata": {
    "tags": []
   },
   "outputs": [],
   "source": [
    "add = lambda a,b:a+b"
   ]
  },
  {
   "cell_type": "code",
   "execution_count": 30,
   "id": "570055df-0825-425b-9144-b4045729dd8d",
   "metadata": {
    "tags": []
   },
   "outputs": [],
   "source": [
    "result = add(3,4)"
   ]
  },
  {
   "cell_type": "code",
   "execution_count": 32,
   "id": "081dcb38-5e83-4b92-bc37-d5e82d7010e2",
   "metadata": {
    "tags": []
   },
   "outputs": [
    {
     "name": "stdout",
     "output_type": "stream",
     "text": [
      "7\n"
     ]
    }
   ],
   "source": [
    "print(result)"
   ]
  },
  {
   "cell_type": "code",
   "execution_count": 33,
   "id": "2015b350-d49c-4057-aa83-258fc46360de",
   "metadata": {
    "tags": []
   },
   "outputs": [],
   "source": [
    "def add(a,b):\n",
    "    return a+b"
   ]
  },
  {
   "cell_type": "code",
   "execution_count": 34,
   "id": "30bf64c5-fba7-4883-85a8-dc77a285d793",
   "metadata": {
    "tags": []
   },
   "outputs": [],
   "source": [
    "result = add(3,4)"
   ]
  },
  {
   "cell_type": "code",
   "execution_count": 35,
   "id": "b676866f-c502-4053-ae28-fc12e0c9be9c",
   "metadata": {
    "tags": []
   },
   "outputs": [
    {
     "name": "stdout",
     "output_type": "stream",
     "text": [
      "7\n"
     ]
    }
   ],
   "source": [
    "print(result)"
   ]
  },
  {
   "cell_type": "markdown",
   "id": "64525259-b56a-4610-9bda-2d55a6824f75",
   "metadata": {},
   "source": [
    "## 4-2 사용자 입력과 출력"
   ]
  },
  {
   "cell_type": "markdown",
   "id": "58499517-052a-4035-a418-653204bc5e58",
   "metadata": {},
   "source": [
    "### 사용자 입력"
   ]
  },
  {
   "cell_type": "markdown",
   "id": "7bc42b8f-c7e9-433a-853a-9eccf67b1842",
   "metadata": {},
   "source": [
    "#### input의 사용"
   ]
  },
  {
   "cell_type": "code",
   "execution_count": 36,
   "id": "25b9af9d-c94a-40c8-886d-17ab17350160",
   "metadata": {
    "tags": []
   },
   "outputs": [
    {
     "name": "stdin",
     "output_type": "stream",
     "text": [
      " Life is too short, you need python\n"
     ]
    }
   ],
   "source": [
    "a = input()"
   ]
  },
  {
   "cell_type": "code",
   "execution_count": 37,
   "id": "a8efccb8-3ddf-43c4-a1a1-1cf54312c57e",
   "metadata": {
    "tags": []
   },
   "outputs": [
    {
     "data": {
      "text/plain": [
       "'Life is too short, you need python'"
      ]
     },
     "execution_count": 37,
     "metadata": {},
     "output_type": "execute_result"
    }
   ],
   "source": [
    "a"
   ]
  },
  {
   "cell_type": "markdown",
   "id": "2ccc8824-6eae-4dee-8ce2-0eb5a16016b3",
   "metadata": {},
   "source": [
    "#### 프롬프트 값을 띄워서 사용자 입력받기\n",
    "- input(\"질문 내용\")"
   ]
  },
  {
   "cell_type": "code",
   "execution_count": 38,
   "id": "d591ca87-8627-462c-a3f4-924c7d68a051",
   "metadata": {
    "tags": []
   },
   "outputs": [
    {
     "name": "stdin",
     "output_type": "stream",
     "text": [
      "숫자를 입력하세요:  3\n"
     ]
    }
   ],
   "source": [
    "number = input(\"숫자를 입력하세요: \")"
   ]
  },
  {
   "cell_type": "code",
   "execution_count": 39,
   "id": "fb721ff2-1262-4a5a-8080-fe689ab99bdf",
   "metadata": {
    "tags": []
   },
   "outputs": [
    {
     "name": "stdout",
     "output_type": "stream",
     "text": [
      "3\n"
     ]
    }
   ],
   "source": [
    "print(number)"
   ]
  },
  {
   "cell_type": "markdown",
   "id": "153fb50d-4715-4f2c-b9da-1ce8444dd794",
   "metadata": {},
   "source": [
    "### print 자세히 알기"
   ]
  },
  {
   "cell_type": "code",
   "execution_count": 40,
   "id": "9a3f4b28-9e16-4d5f-8e1d-4e8b1a0091f3",
   "metadata": {
    "tags": []
   },
   "outputs": [],
   "source": [
    "a = 123"
   ]
  },
  {
   "cell_type": "code",
   "execution_count": 41,
   "id": "9c15aedf-9fc4-4213-8a52-c7704934e631",
   "metadata": {
    "tags": []
   },
   "outputs": [
    {
     "name": "stdout",
     "output_type": "stream",
     "text": [
      "123\n"
     ]
    }
   ],
   "source": [
    "print(a)"
   ]
  },
  {
   "cell_type": "code",
   "execution_count": 42,
   "id": "c7ea9064-552f-4a50-a800-e87b72107ce1",
   "metadata": {
    "tags": []
   },
   "outputs": [],
   "source": [
    "a = \"Python\""
   ]
  },
  {
   "cell_type": "code",
   "execution_count": 43,
   "id": "3f48d872-ce07-4ba5-bef0-14718e37083b",
   "metadata": {
    "tags": []
   },
   "outputs": [
    {
     "name": "stdout",
     "output_type": "stream",
     "text": [
      "Python\n"
     ]
    }
   ],
   "source": [
    "print(a)"
   ]
  },
  {
   "cell_type": "code",
   "execution_count": 46,
   "id": "82705aae-d29f-452c-b2a4-76c5332036d1",
   "metadata": {
    "tags": []
   },
   "outputs": [],
   "source": [
    "a = [1,2,3]"
   ]
  },
  {
   "cell_type": "code",
   "execution_count": 47,
   "id": "22028403-eb0a-4342-b002-26ea4f600b4b",
   "metadata": {
    "tags": []
   },
   "outputs": [
    {
     "name": "stdout",
     "output_type": "stream",
     "text": [
      "[1, 2, 3]\n"
     ]
    }
   ],
   "source": [
    "print(a)"
   ]
  },
  {
   "cell_type": "markdown",
   "id": "2d3a7df3-9038-4adf-babd-696da1f803ff",
   "metadata": {},
   "source": [
    "#### 큰따옴표(\")로 둘러싸인 문자열은 + 연산과 동일하다"
   ]
  },
  {
   "cell_type": "code",
   "execution_count": 49,
   "id": "9c30077a-a779-4c32-9fcf-197677e9e38d",
   "metadata": {
    "tags": []
   },
   "outputs": [
    {
     "name": "stdout",
     "output_type": "stream",
     "text": [
      "lifeistoo short\n"
     ]
    }
   ],
   "source": [
    "# 따옴표로 둘러싸인 문자열을 연속해서 쓰면 + 연산을 한 것과 같다.\n",
    "print(\"life\" \"is\" \"too short\")"
   ]
  },
  {
   "cell_type": "code",
   "execution_count": 50,
   "id": "03fd9937-a068-4ee7-a018-e2040d38415b",
   "metadata": {
    "tags": []
   },
   "outputs": [
    {
     "name": "stdout",
     "output_type": "stream",
     "text": [
      "lifeistoo short\n"
     ]
    }
   ],
   "source": [
    "print(\"life\"+\"is\"+\"too short\")"
   ]
  },
  {
   "cell_type": "markdown",
   "id": "21d77ae5-4bd0-4594-bc29-0c68f0009014",
   "metadata": {
    "tags": []
   },
   "source": [
    "#### 문자열 띄어쓰기는 콤마로 한다"
   ]
  },
  {
   "cell_type": "code",
   "execution_count": 53,
   "id": "f119cf81-f9d2-4774-a600-992914de9fbc",
   "metadata": {
    "tags": []
   },
   "outputs": [
    {
     "name": "stdout",
     "output_type": "stream",
     "text": [
      "life is too short\n"
     ]
    }
   ],
   "source": [
    "# 콤마(,)를 사용하면 문자열 사이에 띄어쓰기 가능\n",
    "print(\"life\", \"is\", \"too short\")"
   ]
  },
  {
   "cell_type": "markdown",
   "id": "fd85342b-dfc4-4227-a2dc-85a24860031e",
   "metadata": {},
   "source": [
    "#### 한 줄에 결괏값 출력하기(end=)"
   ]
  },
  {
   "cell_type": "code",
   "execution_count": 54,
   "id": "03118c81-ee08-43bf-806d-de764676738f",
   "metadata": {
    "tags": []
   },
   "outputs": [
    {
     "name": "stdout",
     "output_type": "stream",
     "text": [
      "0 1 2 3 4 5 6 7 8 9 "
     ]
    }
   ],
   "source": [
    "# 한 줄에 결괏값을 계속 이어서 출력하려면 매개변수 end를 사용해 끝 문자 지정\n",
    "for i in range(10):\n",
    "    print(i, end=' ')"
   ]
  },
  {
   "cell_type": "markdown",
   "id": "cf285732-c824-40df-bd3c-917de00a420f",
   "metadata": {},
   "source": [
    "## 4-3 파일 읽고 쓰기"
   ]
  },
  {
   "cell_type": "markdown",
   "id": "efa42f7a-a6d6-490d-9e78-a169e7df8cb6",
   "metadata": {},
   "source": [
    "### 파일 생성하기\n",
    "- 파일 객체 = open(파일 이름, 파일 열기 모드=(r,w,a))"
   ]
  },
  {
   "cell_type": "code",
   "execution_count": 62,
   "id": "616595c8-6954-447c-b1c9-54d9c52a1c6f",
   "metadata": {
    "tags": []
   },
   "outputs": [],
   "source": [
    "# 파일을 쓰기 모드(w)로 열면 해당 파일이 이미 존재할 경우 원래 있던 내용이 모두 사라지고,\n",
    "# 해당 파일이 존재하지 않으면 새로운 파일 생성\n",
    "f = open(\"C:/doit/새파일.txt\", 'w')\n",
    "f.close()"
   ]
  },
  {
   "cell_type": "markdown",
   "id": "dad45821-7407-468a-9a94-d61c31f29552",
   "metadata": {
    "tags": []
   },
   "source": [
    "- 나코딩"
   ]
  },
  {
   "cell_type": "code",
   "execution_count": 63,
   "id": "0633620a-0932-43e4-9d2d-5fed47ede293",
   "metadata": {
    "tags": []
   },
   "outputs": [],
   "source": [
    "f = open(\"C:/doit/복습.txt\", 'w')\n",
    "f.close()"
   ]
  },
  {
   "cell_type": "markdown",
   "id": "91e0df1d-78da-4398-9e51-5b53a7ba8630",
   "metadata": {},
   "source": [
    "### 파일을 쓰기 모드로 열어 출력값 적기"
   ]
  },
  {
   "cell_type": "code",
   "execution_count": 67,
   "id": "86b95c3c-026c-49f5-9bec-f5c20a4ce7dd",
   "metadata": {
    "tags": []
   },
   "outputs": [],
   "source": [
    "# 파일에 결괏값 출력\n",
    "f = open(\"C:/doit/새파일.txt\", 'w')\n",
    "for i in range(1,11):\n",
    "    data = \"%d번째 줄입니다.\\n\" % i\n",
    "    f.write(data)\n",
    "f.close()"
   ]
  },
  {
   "cell_type": "code",
   "execution_count": 65,
   "id": "c4a63fb3-5f54-4b33-b8ee-6f7a0972317e",
   "metadata": {
    "tags": []
   },
   "outputs": [
    {
     "name": "stdout",
     "output_type": "stream",
     "text": [
      "1번째 줄입니다.\n",
      "\n",
      "2번째 줄입니다.\n",
      "\n",
      "3번째 줄입니다.\n",
      "\n",
      "4번째 줄입니다.\n",
      "\n",
      "5번째 줄입니다.\n",
      "\n",
      "6번째 줄입니다.\n",
      "\n",
      "7번째 줄입니다.\n",
      "\n",
      "8번째 줄입니다.\n",
      "\n",
      "9번째 줄입니다.\n",
      "\n",
      "10번째 줄입니다.\n",
      "\n"
     ]
    }
   ],
   "source": [
    "# 모니터 화면에 출력\n",
    "for i in range(1,11):\n",
    "    data = \"%d번째 줄입니다.\\n\" % i\n",
    "    print(data)"
   ]
  },
  {
   "cell_type": "markdown",
   "id": "12d5587a-ec91-42de-a860-60583a4a16a9",
   "metadata": {},
   "source": [
    "### 프로그램 외부에 저장된 파일을 읽는 여러 가지 방법"
   ]
  },
  {
   "cell_type": "markdown",
   "id": "fa6220c9-8845-460c-b515-c31ec935f414",
   "metadata": {},
   "source": [
    "#### 1. readline 함수 사용하기"
   ]
  },
  {
   "cell_type": "code",
   "execution_count": 68,
   "id": "5589778c-cd6f-4595-b226-ec6aad69d4de",
   "metadata": {
    "tags": []
   },
   "outputs": [
    {
     "name": "stdout",
     "output_type": "stream",
     "text": [
      "1번째 줄입니다.\n",
      "\n"
     ]
    }
   ],
   "source": [
    "# 가장 첫번째줄 출력\n",
    "f = open(\"C:/doit/새파일.txt\", 'r')\n",
    "line = f.readline()\n",
    "print(line)\n",
    "f.close()"
   ]
  },
  {
   "cell_type": "code",
   "execution_count": 69,
   "id": "8114e9a5-f155-44a3-a629-993e209dc665",
   "metadata": {
    "tags": []
   },
   "outputs": [
    {
     "name": "stdout",
     "output_type": "stream",
     "text": [
      "1번째 줄입니다.\n",
      "\n",
      "2번째 줄입니다.\n",
      "\n",
      "3번째 줄입니다.\n",
      "\n",
      "4번째 줄입니다.\n",
      "\n",
      "5번째 줄입니다.\n",
      "\n",
      "6번째 줄입니다.\n",
      "\n",
      "7번째 줄입니다.\n",
      "\n",
      "8번째 줄입니다.\n",
      "\n",
      "9번째 줄입니다.\n",
      "\n",
      "10번째 줄입니다.\n",
      "\n"
     ]
    }
   ],
   "source": [
    "# 모든 줄 출력\n",
    "f = open(\"C:/doit/새파일.txt\", 'r')\n",
    "while True:\n",
    "    line = f.readline()\n",
    "    if not line: break\n",
    "    print(line)\n",
    "f.close()"
   ]
  },
  {
   "cell_type": "code",
   "execution_count": 72,
   "id": "c6e80a7d-1587-43d1-9446-78b715a47a9f",
   "metadata": {
    "tags": []
   },
   "outputs": [
    {
     "name": "stdin",
     "output_type": "stream",
     "text": [
      " 3\n"
     ]
    },
    {
     "name": "stdout",
     "output_type": "stream",
     "text": [
      "3\n"
     ]
    },
    {
     "name": "stdin",
     "output_type": "stream",
     "text": [
      " 7\n"
     ]
    },
    {
     "name": "stdout",
     "output_type": "stream",
     "text": [
      "7\n"
     ]
    },
    {
     "name": "stdin",
     "output_type": "stream",
     "text": [
      " 4\n"
     ]
    },
    {
     "name": "stdout",
     "output_type": "stream",
     "text": [
      "4\n"
     ]
    },
    {
     "name": "stdin",
     "output_type": "stream",
     "text": [
      " \n"
     ]
    }
   ],
   "source": [
    "# 키보드를 이용한 입력 방법\n",
    "while 1:\n",
    "    data = input()\n",
    "    if not data: break\n",
    "    print(data)"
   ]
  },
  {
   "cell_type": "markdown",
   "id": "e2d45eaf-7e96-4c71-83d8-ef896140fe26",
   "metadata": {},
   "source": [
    "#### 2. readlines 함수 사용하기"
   ]
  },
  {
   "cell_type": "code",
   "execution_count": 73,
   "id": "70fb9811-195a-4300-96e7-2eec78aa6cfc",
   "metadata": {
    "tags": []
   },
   "outputs": [
    {
     "name": "stdout",
     "output_type": "stream",
     "text": [
      "1번째 줄입니다.\n",
      "\n",
      "2번째 줄입니다.\n",
      "\n",
      "3번째 줄입니다.\n",
      "\n",
      "4번째 줄입니다.\n",
      "\n",
      "5번째 줄입니다.\n",
      "\n",
      "6번째 줄입니다.\n",
      "\n",
      "7번째 줄입니다.\n",
      "\n",
      "8번째 줄입니다.\n",
      "\n",
      "9번째 줄입니다.\n",
      "\n",
      "10번째 줄입니다.\n",
      "\n"
     ]
    }
   ],
   "source": [
    "f = open(\"C:/doit/새파일.txt\", 'r')\n",
    "lines = f.readlines()\n",
    "for line in lines:\n",
    "    print(line)\n",
    "f.close()"
   ]
  },
  {
   "cell_type": "markdown",
   "id": "be8510e2-0e91-48f3-aafa-89715603d9cb",
   "metadata": {},
   "source": [
    "#### 3. read 함수 사용하기"
   ]
  },
  {
   "cell_type": "code",
   "execution_count": 74,
   "id": "9530f993-a403-48ca-9a6c-af828d4169bc",
   "metadata": {
    "tags": []
   },
   "outputs": [
    {
     "name": "stdout",
     "output_type": "stream",
     "text": [
      "1번째 줄입니다.\n",
      "2번째 줄입니다.\n",
      "3번째 줄입니다.\n",
      "4번째 줄입니다.\n",
      "5번째 줄입니다.\n",
      "6번째 줄입니다.\n",
      "7번째 줄입니다.\n",
      "8번째 줄입니다.\n",
      "9번째 줄입니다.\n",
      "10번째 줄입니다.\n",
      "\n"
     ]
    }
   ],
   "source": [
    "f = open(\"C:/doit/새파일.txt\", 'r')\n",
    "data = f.read()\n",
    "print(data)\n",
    "f.close()"
   ]
  },
  {
   "cell_type": "markdown",
   "id": "4ec92c08-fbca-44ba-8daf-4ef68c95ee42",
   "metadata": {},
   "source": [
    "### 파일에 새로운 내용 추가하기\n",
    "- 쓰기 모드('w') : 파일을 열 때 이미 존재하는 파일을 열면 그 파일의 내용이 모두 사라진다.\n",
    "- 추가 모드('a') : 원래 있던 값을 유지하면서 단지 새로운 값만 추가"
   ]
  },
  {
   "cell_type": "code",
   "execution_count": 75,
   "id": "185f3260-3dc5-4001-837e-ec5322218dc4",
   "metadata": {
    "tags": []
   },
   "outputs": [],
   "source": [
    "f = open(\"C:/doit/새파일.txt\", 'a')\n",
    "for i in range(11, 20):\n",
    "    data = \"%d 번째 줄입니다\\n\" % i\n",
    "    f.write(data)\n",
    "f.close()"
   ]
  },
  {
   "cell_type": "markdown",
   "id": "03bf2953-e04b-4d6f-9f62-79e7c93fa9e8",
   "metadata": {},
   "source": [
    "### with문과 함께 사용하기\n",
    "- with문 : 파일을 열고 닫는 것을 f.close() 없이 자동으로 처리\n",
    "- with문을 사용하면 with 블록을 벗어나는 순간 열린 파일 객체 f가 자동으로 close된다."
   ]
  },
  {
   "cell_type": "code",
   "execution_count": 76,
   "id": "8bc82f08-4d81-4f89-8462-45d42147ef1b",
   "metadata": {
    "tags": []
   },
   "outputs": [],
   "source": [
    "# f.close() 사용\n",
    "f = open(\"foo.txt\",'w')\n",
    "f.write(\"Life is too short, you need python\")\n",
    "f.close()"
   ]
  },
  {
   "cell_type": "code",
   "execution_count": 77,
   "id": "6915fae2-fe5f-457f-a3d0-26bce82c1eeb",
   "metadata": {
    "tags": []
   },
   "outputs": [],
   "source": [
    "# with문 사용\n",
    "with open(\"foo.txt\", \"w\") as f:\n",
    "    f.write(\"Life is too short, you need python\")"
   ]
  },
  {
   "cell_type": "markdown",
   "id": "af0323a3-e339-41df-81c9-3648b3c60316",
   "metadata": {},
   "source": [
    "### sys모듈로 매개변수 주기\n",
    "- 명령 프롬포트 명령어 [인수1 인수2 ...]"
   ]
  },
  {
   "cell_type": "code",
   "execution_count": null,
   "id": "89028501-97c6-4f36-95bc-5e2b5989c3b9",
   "metadata": {},
   "outputs": [],
   "source": []
  },
  {
   "cell_type": "code",
   "execution_count": null,
   "id": "06d6f471-7579-41ce-9c2c-2383db6baa9b",
   "metadata": {},
   "outputs": [],
   "source": []
  },
  {
   "cell_type": "markdown",
   "id": "a06e0d0f-7b91-4817-9f87-0c8378017484",
   "metadata": {
    "tags": []
   },
   "source": [
    "# 0314 추가학습"
   ]
  },
  {
   "cell_type": "markdown",
   "id": "ba168dcc-abd8-477b-8ba4-de0628541670",
   "metadata": {},
   "source": [
    "## factorial 구하기"
   ]
  },
  {
   "cell_type": "code",
   "execution_count": null,
   "id": "6bfbe4d6-1b5c-4cb5-a27b-c64302301960",
   "metadata": {
    "tags": []
   },
   "outputs": [],
   "source": [
    "def factorial(n):\n",
    "    if n == 1: \n",
    "        return 1\n",
    "    \n",
    "    return n*factorial(n-1)"
   ]
  },
  {
   "cell_type": "code",
   "execution_count": null,
   "id": "5e549ec8-f4c7-4e36-8a5e-836aa7c791b5",
   "metadata": {
    "tags": []
   },
   "outputs": [],
   "source": [
    "factorial(15)"
   ]
  },
  {
   "cell_type": "markdown",
   "id": "e8e2da6b-a8be-43dc-aba7-f1a24eb75409",
   "metadata": {},
   "source": [
    "## 피보나치 구하기"
   ]
  },
  {
   "cell_type": "code",
   "execution_count": 82,
   "id": "5b2374e1-5882-4cb4-9d9b-1b3015d76d27",
   "metadata": {
    "tags": []
   },
   "outputs": [],
   "source": [
    "1,1,2,3,5,8, 13, 21, \n",
    "def fib(n):\n",
    "    if n == 1 or n==2:\n",
    "        return 1\n",
    "    return fib(n-1) + fib(n-2)"
   ]
  },
  {
   "cell_type": "code",
   "execution_count": 83,
   "id": "da81cb63-85d0-42a1-8437-cf916f51fe61",
   "metadata": {
    "tags": []
   },
   "outputs": [
    {
     "data": {
      "text/plain": [
       "5"
      ]
     },
     "execution_count": 83,
     "metadata": {},
     "output_type": "execute_result"
    }
   ],
   "source": [
    "fib(5)"
   ]
  },
  {
   "cell_type": "code",
   "execution_count": 84,
   "id": "a4203ad1-13ce-47f6-b544-0bcbff409332",
   "metadata": {
    "tags": []
   },
   "outputs": [
    {
     "data": {
      "text/plain": [
       "55"
      ]
     },
     "execution_count": 84,
     "metadata": {},
     "output_type": "execute_result"
    }
   ],
   "source": [
    "fib(10)"
   ]
  },
  {
   "cell_type": "markdown",
   "id": "6dfa8de4-ece9-4a1e-bda9-68a5565bb7ea",
   "metadata": {},
   "source": [
    "## 재귀함수"
   ]
  },
  {
   "cell_type": "code",
   "execution_count": 1,
   "id": "6c004d8f-9ac4-4a12-98ae-206764d025f9",
   "metadata": {
    "tags": []
   },
   "outputs": [],
   "source": [
    "import time\n",
    "def Hello():\n",
    "    print(\"안녕하세요\")\n",
    "    time.sleep(1)\n",
    "    Hello()"
   ]
  },
  {
   "cell_type": "code",
   "execution_count": 2,
   "id": "a58a0ece-18f2-44ad-bcf9-7ed34ca1f47d",
   "metadata": {
    "tags": []
   },
   "outputs": [
    {
     "name": "stdout",
     "output_type": "stream",
     "text": [
      "안녕하세요\n",
      "안녕하세요\n",
      "안녕하세요\n",
      "안녕하세요\n",
      "안녕하세요\n",
      "안녕하세요\n",
      "안녕하세요\n",
      "안녕하세요\n",
      "안녕하세요\n",
      "안녕하세요\n"
     ]
    },
    {
     "ename": "KeyboardInterrupt",
     "evalue": "",
     "output_type": "error",
     "traceback": [
      "\u001b[1;31m---------------------------------------------------------------------------\u001b[0m",
      "\u001b[1;31mKeyboardInterrupt\u001b[0m                         Traceback (most recent call last)",
      "Cell \u001b[1;32mIn[2], line 1\u001b[0m\n\u001b[1;32m----> 1\u001b[0m \u001b[43mHello\u001b[49m\u001b[43m(\u001b[49m\u001b[43m)\u001b[49m\n",
      "Cell \u001b[1;32mIn[1], line 5\u001b[0m, in \u001b[0;36mHello\u001b[1;34m()\u001b[0m\n\u001b[0;32m      3\u001b[0m \u001b[38;5;28mprint\u001b[39m(\u001b[38;5;124m\"\u001b[39m\u001b[38;5;124m안녕하세요\u001b[39m\u001b[38;5;124m\"\u001b[39m)\n\u001b[0;32m      4\u001b[0m time\u001b[38;5;241m.\u001b[39msleep(\u001b[38;5;241m1\u001b[39m)\n\u001b[1;32m----> 5\u001b[0m \u001b[43mHello\u001b[49m\u001b[43m(\u001b[49m\u001b[43m)\u001b[49m\n",
      "Cell \u001b[1;32mIn[1], line 5\u001b[0m, in \u001b[0;36mHello\u001b[1;34m()\u001b[0m\n\u001b[0;32m      3\u001b[0m \u001b[38;5;28mprint\u001b[39m(\u001b[38;5;124m\"\u001b[39m\u001b[38;5;124m안녕하세요\u001b[39m\u001b[38;5;124m\"\u001b[39m)\n\u001b[0;32m      4\u001b[0m time\u001b[38;5;241m.\u001b[39msleep(\u001b[38;5;241m1\u001b[39m)\n\u001b[1;32m----> 5\u001b[0m \u001b[43mHello\u001b[49m\u001b[43m(\u001b[49m\u001b[43m)\u001b[49m\n",
      "    \u001b[1;31m[... skipping similar frames: Hello at line 5 (6 times)]\u001b[0m\n",
      "Cell \u001b[1;32mIn[1], line 5\u001b[0m, in \u001b[0;36mHello\u001b[1;34m()\u001b[0m\n\u001b[0;32m      3\u001b[0m \u001b[38;5;28mprint\u001b[39m(\u001b[38;5;124m\"\u001b[39m\u001b[38;5;124m안녕하세요\u001b[39m\u001b[38;5;124m\"\u001b[39m)\n\u001b[0;32m      4\u001b[0m time\u001b[38;5;241m.\u001b[39msleep(\u001b[38;5;241m1\u001b[39m)\n\u001b[1;32m----> 5\u001b[0m \u001b[43mHello\u001b[49m\u001b[43m(\u001b[49m\u001b[43m)\u001b[49m\n",
      "Cell \u001b[1;32mIn[1], line 4\u001b[0m, in \u001b[0;36mHello\u001b[1;34m()\u001b[0m\n\u001b[0;32m      2\u001b[0m \u001b[38;5;28;01mdef\u001b[39;00m \u001b[38;5;21mHello\u001b[39m():\n\u001b[0;32m      3\u001b[0m     \u001b[38;5;28mprint\u001b[39m(\u001b[38;5;124m\"\u001b[39m\u001b[38;5;124m안녕하세요\u001b[39m\u001b[38;5;124m\"\u001b[39m)\n\u001b[1;32m----> 4\u001b[0m     \u001b[43mtime\u001b[49m\u001b[38;5;241;43m.\u001b[39;49m\u001b[43msleep\u001b[49m\u001b[43m(\u001b[49m\u001b[38;5;241;43m1\u001b[39;49m\u001b[43m)\u001b[49m\n\u001b[0;32m      5\u001b[0m     Hello()\n",
      "\u001b[1;31mKeyboardInterrupt\u001b[0m: "
     ]
    }
   ],
   "source": [
    "Hello()"
   ]
  },
  {
   "cell_type": "code",
   "execution_count": 3,
   "id": "b64779e7-e996-4b94-9410-1e04e27446d8",
   "metadata": {},
   "outputs": [],
   "source": [
    "def hello(count):\n",
    "    if count == 0:\n",
    "        return\n",
    "    \n",
    "    count -= 1\n",
    "    print(\"안녕하세요\")\n",
    "    time.sleep(1)\n",
    "    hello(count)"
   ]
  },
  {
   "cell_type": "code",
   "execution_count": 4,
   "id": "481813b8-fe28-4480-89d3-8452534d2bc6",
   "metadata": {
    "tags": []
   },
   "outputs": [
    {
     "name": "stdout",
     "output_type": "stream",
     "text": [
      "안녕하세요\n",
      "안녕하세요\n",
      "안녕하세요\n",
      "안녕하세요\n",
      "안녕하세요\n",
      "안녕하세요\n",
      "안녕하세요\n",
      "안녕하세요\n",
      "안녕하세요\n",
      "안녕하세요\n"
     ]
    }
   ],
   "source": [
    "hello(10)"
   ]
  },
  {
   "cell_type": "markdown",
   "id": "55a85707-84aa-4034-b389-601b18263802",
   "metadata": {
    "tags": []
   },
   "source": [
    "# 5장 파이썬 날개 달기"
   ]
  },
  {
   "cell_type": "markdown",
   "id": "d66b0467-a33e-4208-a7ec-2146f844bf77",
   "metadata": {
    "tags": []
   },
   "source": [
    "## 5-1 클래스"
   ]
  },
  {
   "cell_type": "markdown",
   "id": "141b3428-de66-4835-bc21-439307d15510",
   "metadata": {},
   "source": [
    "### 클래스는 왜 필요한가?"
   ]
  },
  {
   "cell_type": "code",
   "execution_count": 2,
   "id": "3e1b4503-6820-49fd-847e-2b74d94b0ff8",
   "metadata": {
    "tags": []
   },
   "outputs": [
    {
     "name": "stdout",
     "output_type": "stream",
     "text": [
      "3\n",
      "7\n"
     ]
    }
   ],
   "source": [
    "result = 0\n",
    "\n",
    "def add(num):\n",
    "    global result\n",
    "    result += num\n",
    "    return result\n",
    "\n",
    "print(add(3))\n",
    "print(add(4))"
   ]
  },
  {
   "cell_type": "code",
   "execution_count": 3,
   "id": "53a8788d-3907-46bf-976a-15b8e62294c6",
   "metadata": {
    "tags": []
   },
   "outputs": [],
   "source": [
    "result1 = 0\n",
    "result2 = 0\n",
    "\n",
    "#계산기1\n",
    "def add1(num):\n",
    "    global result1\n",
    "    result1 += num\n",
    "    return result1\n",
    "\n",
    "#계산기2\n",
    "def add2(num):\n",
    "    global result2\n",
    "    result2 += num\n",
    "    return result2"
   ]
  },
  {
   "cell_type": "code",
   "execution_count": 4,
   "id": "b37b384d-40b6-4ea2-bbb7-bd4d5c13dfc2",
   "metadata": {
    "tags": []
   },
   "outputs": [
    {
     "name": "stdout",
     "output_type": "stream",
     "text": [
      "3\n",
      "7\n",
      "3\n",
      "10\n"
     ]
    }
   ],
   "source": [
    "print(add1(3))\n",
    "print(add1(4))\n",
    "print(add2(3))\n",
    "print(add2(7))"
   ]
  },
  {
   "cell_type": "code",
   "execution_count": 5,
   "id": "9e794457-c87c-4b8a-9eaa-56401173a757",
   "metadata": {
    "tags": []
   },
   "outputs": [],
   "source": [
    "#클래스 사용\n",
    "class Calculator:\n",
    "    def __init__(self):\n",
    "        self.result = 0\n",
    "    \n",
    "    def add(self, num):\n",
    "        self.result += num\n",
    "        return self.result\n",
    "    \n",
    "    #빼기 기능 추가\n",
    "    def sub(self, num):\n",
    "        self.result -= num\n",
    "        return self.result\n",
    "    \n",
    "cal1 = Calculator()\n",
    "cal2 = Calculator()"
   ]
  },
  {
   "cell_type": "code",
   "execution_count": 6,
   "id": "3c24ebbf-3ade-4397-bba7-1117163243a4",
   "metadata": {
    "tags": []
   },
   "outputs": [
    {
     "name": "stdout",
     "output_type": "stream",
     "text": [
      "3\n",
      "7\n",
      "3\n",
      "10\n"
     ]
    }
   ],
   "source": [
    "print(cal1.add(3))\n",
    "print(cal1.add(4))\n",
    "print(cal2.add(3))\n",
    "print(cal2.add(7))"
   ]
  },
  {
   "cell_type": "markdown",
   "id": "575c3144-e255-4137-9372-b769c933139d",
   "metadata": {},
   "source": [
    "### 클래스와 객체"
   ]
  },
  {
   "cell_type": "code",
   "execution_count": 7,
   "id": "e847bc1c-8aa6-4c65-b85a-d7de83459775",
   "metadata": {
    "tags": []
   },
   "outputs": [],
   "source": [
    "class Cookie:\n",
    "    pass"
   ]
  },
  {
   "cell_type": "code",
   "execution_count": 8,
   "id": "bfe77a90-0876-4ab6-9418-405f0829ee3f",
   "metadata": {
    "tags": []
   },
   "outputs": [],
   "source": [
    "a=Cookie()\n",
    "b=Cookie()"
   ]
  },
  {
   "cell_type": "markdown",
   "id": "c8814b27-71a0-47c7-98fd-603754cf2e45",
   "metadata": {},
   "source": [
    "### 사칙연산 클래스 만들기"
   ]
  },
  {
   "cell_type": "markdown",
   "id": "9f71ffd6-f7b0-49be-bb7a-d1699f71f292",
   "metadata": {},
   "source": [
    "#### 클래스 구조 만들기"
   ]
  },
  {
   "cell_type": "code",
   "execution_count": 10,
   "id": "76e417d6-ca95-4d6c-a19f-1d0851177d19",
   "metadata": {
    "tags": []
   },
   "outputs": [],
   "source": [
    "class FourCal:\n",
    "    pass"
   ]
  },
  {
   "cell_type": "code",
   "execution_count": 11,
   "id": "7bb5a59c-49ba-478a-b4d1-7d767394707c",
   "metadata": {
    "tags": []
   },
   "outputs": [],
   "source": [
    "a = FourCal()"
   ]
  },
  {
   "cell_type": "code",
   "execution_count": 12,
   "id": "f5d3d1ec-f547-4c0c-8cdd-aca98f298343",
   "metadata": {
    "tags": []
   },
   "outputs": [
    {
     "data": {
      "text/plain": [
       "__main__.FourCal"
      ]
     },
     "execution_count": 12,
     "metadata": {},
     "output_type": "execute_result"
    }
   ],
   "source": [
    "type(a) # a는 FourCal클래스의 객체"
   ]
  },
  {
   "cell_type": "markdown",
   "id": "3a5d3fcf-a7eb-45cc-adb4-cabf6dcff59e",
   "metadata": {},
   "source": [
    "#### 객체에 숫자 지정할 수 있게 만들기"
   ]
  },
  {
   "cell_type": "code",
   "execution_count": 16,
   "id": "ebfadf94-a926-4ac3-b7b0-286b40454eea",
   "metadata": {
    "tags": []
   },
   "outputs": [],
   "source": [
    "class FourCal:\n",
    "    def setdata(self, first, second): # 1. 메서드의 매개변수\n",
    "        self.first = first\n",
    "        self.second = second #2.매서드의 수행문(first, second)"
   ]
  },
  {
   "cell_type": "markdown",
   "id": "16d30731-b714-484c-9794-ad0137ededd8",
   "metadata": {
    "jp-MarkdownHeadingCollapsed": true,
    "tags": []
   },
   "source": [
    "##### 1. setdata 메서드의 매개변수"
   ]
  },
  {
   "cell_type": "code",
   "execution_count": 18,
   "id": "5128ec62-17e6-4f0c-aaa9-3c4675c49659",
   "metadata": {
    "tags": []
   },
   "outputs": [],
   "source": [
    "a = FourCal()"
   ]
  },
  {
   "cell_type": "code",
   "execution_count": 19,
   "id": "db2eee38-06a2-4b32-9a4d-08fd50587544",
   "metadata": {
    "tags": []
   },
   "outputs": [],
   "source": [
    "# 메서드의 첫 번째 매개변수 self에는 setdata메서드를 호출한 객체 a가 자동으로 전달되기 때문에 first,second만 넣어주면 된다.\n",
    "a.setdata(4,2)"
   ]
  },
  {
   "cell_type": "markdown",
   "id": "0ebe3fb3-cb57-4016-8990-6c5bc13ec432",
   "metadata": {
    "tags": []
   },
   "source": [
    "##### 메서드의 또 다른 호출 방법"
   ]
  },
  {
   "cell_type": "code",
   "execution_count": 23,
   "id": "c22d2898-e86f-40e4-b4d0-dc96da5dc7e1",
   "metadata": {
    "tags": []
   },
   "outputs": [],
   "source": [
    "# '클래스 이름.메서드' : 객체 a를 첫 번째 매개변수 self에 꼭 전달\n",
    "a = FourCal()\n",
    "FourCal.setdata(a,4,2) "
   ]
  },
  {
   "cell_type": "code",
   "execution_count": 24,
   "id": "42748bac-ed55-4a98-8929-75312640fb3d",
   "metadata": {
    "tags": []
   },
   "outputs": [],
   "source": [
    "# '객체.메서드' : self를 반드시 생략해서 호출\n",
    "a = FourCal()\n",
    "a.setdata(4,2)"
   ]
  },
  {
   "cell_type": "markdown",
   "id": "20d71fbf-a583-4605-842a-90505609fb48",
   "metadata": {},
   "source": [
    "##### 2. setdata 메서드의 수행문"
   ]
  },
  {
   "cell_type": "code",
   "execution_count": 25,
   "id": "c54cf705-4f07-4655-b3b4-1ad30882739a",
   "metadata": {
    "tags": []
   },
   "outputs": [],
   "source": [
    "def setdata(self, first, second):\n",
    "    self.first = first\n",
    "    self.second = second #메서드의 수행문 (first, second)"
   ]
  },
  {
   "cell_type": "markdown",
   "id": "97644efc-1ee4-4284-8bed-bfd520825e8d",
   "metadata": {
    "tags": []
   },
   "source": [
    "```\n",
    "a.setdata(4,2)호출하면\n",
    "first, second에는 각각 값 4와 2가 전달되어\n",
    "setdata 메서드의 수행문은 다음과 같이 해석\n",
    "self.first = 4\n",
    "self.second = 2\n",
    "\n",
    "self는 전달된 객체 a이므로 다시 다음과 같이 해석\n",
    "a.first = 4\n",
    "a.second = 2\n",
    "```"
   ]
  },
  {
   "cell_type": "markdown",
   "id": "d10d54cb-b0d0-42af-8bfc-c1b48f8e349f",
   "metadata": {
    "tags": []
   },
   "source": [
    "- a.first = 4 문장 수행 -> a 객체에 객체변수 first 생성 -> 값 4 저장\n",
    "- a.second = 2 문장 수행 -> a 객체에 객체변수 second 생성 -> 값 2 저장"
   ]
  },
  {
   "cell_type": "code",
   "execution_count": 29,
   "id": "15d1d49a-9483-4f3c-8130-0537b92e6e99",
   "metadata": {
    "tags": []
   },
   "outputs": [],
   "source": [
    "a = FourCal()"
   ]
  },
  {
   "cell_type": "code",
   "execution_count": 30,
   "id": "b3542555-4928-439f-b869-8d8e890db37f",
   "metadata": {
    "tags": []
   },
   "outputs": [],
   "source": [
    "a.setdata(4,2)"
   ]
  },
  {
   "cell_type": "code",
   "execution_count": 31,
   "id": "a4ad939f-7560-4b79-b56f-fa2de6c6aedd",
   "metadata": {
    "tags": []
   },
   "outputs": [
    {
     "name": "stdout",
     "output_type": "stream",
     "text": [
      "4\n"
     ]
    }
   ],
   "source": [
    "print(a.first)"
   ]
  },
  {
   "cell_type": "code",
   "execution_count": 32,
   "id": "8cc0ed43-75e8-46f5-8aea-8bfff519d63b",
   "metadata": {
    "tags": []
   },
   "outputs": [
    {
     "name": "stdout",
     "output_type": "stream",
     "text": [
      "2\n"
     ]
    }
   ],
   "source": [
    "print(a.second)"
   ]
  },
  {
   "cell_type": "code",
   "execution_count": 33,
   "id": "d9d4eee9-f773-422f-bbd8-c25e2fd60ac3",
   "metadata": {
    "tags": []
   },
   "outputs": [],
   "source": [
    "#a,b 객체 만들기\n",
    "a = FourCal()\n",
    "b = FourCal()"
   ]
  },
  {
   "cell_type": "code",
   "execution_count": 35,
   "id": "368b6985-527d-4a71-92be-be0c8b1a3c16",
   "metadata": {
    "tags": []
   },
   "outputs": [
    {
     "name": "stdout",
     "output_type": "stream",
     "text": [
      "4\n"
     ]
    }
   ],
   "source": [
    "#a객체의 객체변수 first 생성\n",
    "a.setdata(4,2)\n",
    "print(a.first)"
   ]
  },
  {
   "cell_type": "code",
   "execution_count": 36,
   "id": "c6239d5b-1f58-489f-8363-6d206eb86172",
   "metadata": {
    "tags": []
   },
   "outputs": [
    {
     "name": "stdout",
     "output_type": "stream",
     "text": [
      "3\n"
     ]
    }
   ],
   "source": [
    "#b객체의 객체변수 first 생성\n",
    "b.setdata(3,7)\n",
    "print(b.first)"
   ]
  },
  {
   "cell_type": "code",
   "execution_count": 38,
   "id": "50ef55fb-4dae-4c74-8617-efd90a87ad10",
   "metadata": {
    "tags": []
   },
   "outputs": [
    {
     "name": "stdout",
     "output_type": "stream",
     "text": [
      "4\n"
     ]
    }
   ],
   "source": [
    "# a 객체의 first 값은 b 객체의 first값에 영향받지 않고 원래 값 유지\n",
    "print(a.first) "
   ]
  },
  {
   "cell_type": "markdown",
   "id": "d2dcae0b-a9f4-4229-881a-d8a297c271a1",
   "metadata": {},
   "source": [
    "- 클래스로 만든 객체의 객체변수는 다른 객체의 객체변수와 상관없이 독립적인 값 유지!!"
   ]
  },
  {
   "cell_type": "code",
   "execution_count": 39,
   "id": "7968fd81-d856-48c3-9970-b8b65e5852f0",
   "metadata": {
    "tags": []
   },
   "outputs": [],
   "source": [
    "# 지금까지 완성된 FourCal 클래스\n",
    "class FourCal:\n",
    "    def setdata(self, first, second):\n",
    "        self.first = first\n",
    "        self.second = second"
   ]
  },
  {
   "cell_type": "markdown",
   "id": "2e7411d1-23ef-43bf-95e3-fd99c4799662",
   "metadata": {},
   "source": [
    "#### 더하기 기능 만들기"
   ]
  },
  {
   "cell_type": "code",
   "execution_count": 43,
   "id": "0668d1a7-f990-4647-801a-09c2f86ee597",
   "metadata": {
    "tags": []
   },
   "outputs": [],
   "source": [
    "class FourCal:\n",
    "    def setdata(self, first, second):\n",
    "        self.first = first\n",
    "        self.second = second\n",
    "    def add(self):\n",
    "        result = self.first + self.second\n",
    "        return result"
   ]
  },
  {
   "cell_type": "code",
   "execution_count": 44,
   "id": "88c142f4-8bb5-4a8c-80d5-b47e0bab605c",
   "metadata": {
    "tags": []
   },
   "outputs": [],
   "source": [
    "a = FourCal()"
   ]
  },
  {
   "cell_type": "code",
   "execution_count": 45,
   "id": "a6aad8f9-6f0f-4fa4-9598-843238fc16a2",
   "metadata": {
    "tags": []
   },
   "outputs": [],
   "source": [
    "a.setdata(4,2)"
   ]
  },
  {
   "cell_type": "code",
   "execution_count": 46,
   "id": "1d5d7695-2112-4efd-96b8-a0099214426e",
   "metadata": {
    "tags": []
   },
   "outputs": [
    {
     "name": "stdout",
     "output_type": "stream",
     "text": [
      "6\n"
     ]
    }
   ],
   "source": [
    "# add 메서드 호출\n",
    "print(a.add())"
   ]
  },
  {
   "cell_type": "markdown",
   "id": "d2a3c27b-5512-42ee-a786-5520bd0d301e",
   "metadata": {},
   "source": [
    "- add 메서드 자세히 살펴보기"
   ]
  },
  {
   "cell_type": "code",
   "execution_count": 47,
   "id": "a8eff03c-d5b7-4024-abc0-802e485c42ad",
   "metadata": {
    "tags": []
   },
   "outputs": [],
   "source": [
    "def add(self):\n",
    "    result = self.first + self.second\n",
    "    return result"
   ]
  },
  {
   "cell_type": "code",
   "execution_count": null,
   "id": "9012264c-e62d-4fb6-b25b-2f0ef73f2535",
   "metadata": {},
   "outputs": [],
   "source": [
    "# add 메서드의 매개변수는 self, 반환 값은 result\n",
    "# 반환 값인 result를 계산하는 부분\n",
    "result = self.first + self.second"
   ]
  },
  {
   "cell_type": "code",
   "execution_count": 49,
   "id": "113a9e2e-dea4-4486-9360-dc645385d378",
   "metadata": {
    "tags": []
   },
   "outputs": [],
   "source": [
    "# a.add()와 같이 a 객체에 의해 add 메서드가 수행되면 add메서드의 self에는 객체 a가 자동입력되므로 위 내용은 다음과 같이 해석\n",
    "result = a.first + a.second"
   ]
  },
  {
   "cell_type": "code",
   "execution_count": null,
   "id": "89be9ec6-3345-4280-8a8e-e6ec533007ad",
   "metadata": {},
   "outputs": [],
   "source": [
    "# 위 내용은 a.add() 메서드 호출 전 a.setdata(4,2)가 먼저 호출되어 \n",
    "# a.first = 4, a.second = 2라고 미리 설정되었기에 다음과 같이 해석\n",
    "result = 4 + 2"
   ]
  },
  {
   "cell_type": "code",
   "execution_count": 50,
   "id": "b45074fc-0664-4110-8f72-917e13d6b9bc",
   "metadata": {
    "tags": []
   },
   "outputs": [
    {
     "name": "stdout",
     "output_type": "stream",
     "text": [
      "6\n"
     ]
    }
   ],
   "source": [
    "print(a.add())"
   ]
  },
  {
   "cell_type": "markdown",
   "id": "c8fe2800-be33-4ed4-b682-00215a330cae",
   "metadata": {},
   "source": [
    "#### 곱하기, 빼기 ,나누기 기능 만들기"
   ]
  },
  {
   "cell_type": "code",
   "execution_count": 51,
   "id": "5a49f317-5bac-4784-8c71-cf25e2af3c7a",
   "metadata": {
    "tags": []
   },
   "outputs": [],
   "source": [
    "class FourCal:\n",
    "    def setdata(self, first, second):\n",
    "        self.first = first\n",
    "        self.second = second\n",
    "    def add(self):\n",
    "        result = self.first + self.second\n",
    "        return result\n",
    "    def mul(self):\n",
    "        result = self.first * self.second\n",
    "        return result\n",
    "    def sub(self):\n",
    "        result = self.first - self.second\n",
    "        return result\n",
    "    def div(self):\n",
    "        result = self.first / self.second\n",
    "        return result\n",
    "        "
   ]
  },
  {
   "cell_type": "code",
   "execution_count": 52,
   "id": "ab197da2-0e2d-4ed5-bbae-ed060bdb6fbc",
   "metadata": {
    "tags": []
   },
   "outputs": [],
   "source": [
    "a = FourCal()"
   ]
  },
  {
   "cell_type": "code",
   "execution_count": 53,
   "id": "25a40d9b-28e5-49fc-b607-3923c43ecca7",
   "metadata": {
    "tags": []
   },
   "outputs": [],
   "source": [
    "b = FourCal()"
   ]
  },
  {
   "cell_type": "code",
   "execution_count": 54,
   "id": "e7e10ad7-8fac-4884-aa6e-0518ef8d2b18",
   "metadata": {
    "tags": []
   },
   "outputs": [],
   "source": [
    "a.setdata(4,2)"
   ]
  },
  {
   "cell_type": "code",
   "execution_count": 55,
   "id": "d4cffea6-602f-4695-b504-7c73f7b1c9c2",
   "metadata": {
    "tags": []
   },
   "outputs": [],
   "source": [
    "b.setdata(3,8)"
   ]
  },
  {
   "cell_type": "code",
   "execution_count": 56,
   "id": "987f3949-4ced-4504-a4c5-ab156cc664fa",
   "metadata": {
    "tags": []
   },
   "outputs": [
    {
     "data": {
      "text/plain": [
       "6"
      ]
     },
     "execution_count": 56,
     "metadata": {},
     "output_type": "execute_result"
    }
   ],
   "source": [
    "a.add()"
   ]
  },
  {
   "cell_type": "code",
   "execution_count": 57,
   "id": "d77dd289-879e-4e46-bf2c-05e7654dd298",
   "metadata": {
    "tags": []
   },
   "outputs": [
    {
     "data": {
      "text/plain": [
       "8"
      ]
     },
     "execution_count": 57,
     "metadata": {},
     "output_type": "execute_result"
    }
   ],
   "source": [
    "a.mul()"
   ]
  },
  {
   "cell_type": "code",
   "execution_count": 58,
   "id": "e7f7b1b4-5157-4815-880f-117358a16fe5",
   "metadata": {
    "tags": []
   },
   "outputs": [
    {
     "data": {
      "text/plain": [
       "2"
      ]
     },
     "execution_count": 58,
     "metadata": {},
     "output_type": "execute_result"
    }
   ],
   "source": [
    "a.sub()"
   ]
  },
  {
   "cell_type": "code",
   "execution_count": 59,
   "id": "30b56d17-4b15-4959-870c-892614f60620",
   "metadata": {
    "tags": []
   },
   "outputs": [
    {
     "data": {
      "text/plain": [
       "2.0"
      ]
     },
     "execution_count": 59,
     "metadata": {},
     "output_type": "execute_result"
    }
   ],
   "source": [
    "a.div()"
   ]
  },
  {
   "cell_type": "code",
   "execution_count": 60,
   "id": "71871468-48cb-4241-98b8-fa1afed80d58",
   "metadata": {
    "tags": []
   },
   "outputs": [
    {
     "data": {
      "text/plain": [
       "11"
      ]
     },
     "execution_count": 60,
     "metadata": {},
     "output_type": "execute_result"
    }
   ],
   "source": [
    "b.add()"
   ]
  },
  {
   "cell_type": "code",
   "execution_count": 61,
   "id": "7fcb5d1e-0b93-4a72-b230-fe2a773a7263",
   "metadata": {
    "tags": []
   },
   "outputs": [
    {
     "data": {
      "text/plain": [
       "24"
      ]
     },
     "execution_count": 61,
     "metadata": {},
     "output_type": "execute_result"
    }
   ],
   "source": [
    "b.mul()"
   ]
  },
  {
   "cell_type": "code",
   "execution_count": 62,
   "id": "f0fb05d1-de9e-4da4-9bef-d361a4853c19",
   "metadata": {
    "tags": []
   },
   "outputs": [
    {
     "data": {
      "text/plain": [
       "-5"
      ]
     },
     "execution_count": 62,
     "metadata": {},
     "output_type": "execute_result"
    }
   ],
   "source": [
    "b.sub()"
   ]
  },
  {
   "cell_type": "code",
   "execution_count": 63,
   "id": "fe1084f2-fed0-41ab-a469-1e55de5fddc7",
   "metadata": {
    "tags": []
   },
   "outputs": [
    {
     "data": {
      "text/plain": [
       "0.375"
      ]
     },
     "execution_count": 63,
     "metadata": {},
     "output_type": "execute_result"
    }
   ],
   "source": [
    "b.div()"
   ]
  },
  {
   "cell_type": "markdown",
   "id": "bf3718ef-0088-4a91-b181-4ee075abd39d",
   "metadata": {
    "tags": []
   },
   "source": [
    "### 생성자(Constructor)"
   ]
  },
  {
   "cell_type": "code",
   "execution_count": 65,
   "id": "082f3d31-116b-4edb-afd1-b6a413b503ff",
   "metadata": {
    "tags": []
   },
   "outputs": [],
   "source": [
    "a = FourCal()"
   ]
  },
  {
   "cell_type": "code",
   "execution_count": 67,
   "id": "cd8e70aa-9e4b-48c1-965f-93417fc6e1f1",
   "metadata": {
    "tags": []
   },
   "outputs": [
    {
     "ename": "AttributeError",
     "evalue": "'FourCal' object has no attribute 'first'",
     "output_type": "error",
     "traceback": [
      "\u001b[1;31m---------------------------------------------------------------------------\u001b[0m",
      "\u001b[1;31mAttributeError\u001b[0m                            Traceback (most recent call last)",
      "Cell \u001b[1;32mIn[67], line 1\u001b[0m\n\u001b[1;32m----> 1\u001b[0m \u001b[43ma\u001b[49m\u001b[38;5;241;43m.\u001b[39;49m\u001b[43madd\u001b[49m\u001b[43m(\u001b[49m\u001b[43m)\u001b[49m \u001b[38;5;66;03m# FourCal 클래스의 인스턴스 a에 setdata 메서드를 수행하지 않고  add 메서드를 수행하면 오류 발생\u001b[39;00m\n",
      "Cell \u001b[1;32mIn[51], line 6\u001b[0m, in \u001b[0;36mFourCal.add\u001b[1;34m(self)\u001b[0m\n\u001b[0;32m      5\u001b[0m \u001b[38;5;28;01mdef\u001b[39;00m \u001b[38;5;21madd\u001b[39m(\u001b[38;5;28mself\u001b[39m):\n\u001b[1;32m----> 6\u001b[0m     result \u001b[38;5;241m=\u001b[39m \u001b[38;5;28;43mself\u001b[39;49m\u001b[38;5;241;43m.\u001b[39;49m\u001b[43mfirst\u001b[49m \u001b[38;5;241m+\u001b[39m \u001b[38;5;28mself\u001b[39m\u001b[38;5;241m.\u001b[39msecond\n\u001b[0;32m      7\u001b[0m     \u001b[38;5;28;01mreturn\u001b[39;00m result\n",
      "\u001b[1;31mAttributeError\u001b[0m: 'FourCal' object has no attribute 'first'"
     ]
    }
   ],
   "source": [
    "a.add() # FourCal 클래스의 인스턴스 a에 setdata 메서드를 수행하지 않고  add 메서드를 수행하면 오류 발생"
   ]
  },
  {
   "cell_type": "markdown",
   "id": "aac0702e-b71d-46c5-8ca6-48cee2216f6d",
   "metadata": {},
   "source": [
    "- 이렇게 객체에 초깃값을 설정해야 할 필요가 있을 때 : setdata 메서드 호출보다는 '생성자 구현'이 안전!!\n",
    "- 생성자(Constructor) : 객체가 생성될 때 자동으로 호출되는 메서드\n",
    "- 파이썬 메서드 이름으로 __init__을 사용하면 이 메서드는 생성자가 된다."
   ]
  },
  {
   "cell_type": "code",
   "execution_count": 73,
   "id": "1bd1f0f1-f503-4d9b-b604-25c2117cef78",
   "metadata": {
    "tags": []
   },
   "outputs": [],
   "source": [
    "#FourCal 클래스에 생성자 추가\n",
    "class FourCal:\n",
    "    def __init__(self, first, second):\n",
    "        self.first = first\n",
    "        self.second = second\n",
    "    def setdata(self, first, second):\n",
    "        self.first = first\n",
    "        self.second = second\n",
    "    def add(self):\n",
    "        result = self.first + self.second\n",
    "        return result\n",
    "    def mul(self):\n",
    "        result = self.first * self.second\n",
    "        return result\n",
    "    def sub(self):\n",
    "        result = self.first - self.second\n",
    "        return result\n",
    "    def div(self):\n",
    "        result = self.first / self.second\n",
    "        return result"
   ]
  },
  {
   "cell_type": "code",
   "execution_count": 74,
   "id": "d8844f29-9621-45fc-ac41-b9edb193ce09",
   "metadata": {
    "tags": []
   },
   "outputs": [],
   "source": [
    "# 새롭게 추가된 생성자 __init__ 메서드만 따로 떼어 내서 살펴보기\n",
    "def __init__(self, first, second):\n",
    "    self.first = first\n",
    "    self.second = second"
   ]
  },
  {
   "cell_type": "markdown",
   "id": "c8253765-fa91-4522-9158-816797121510",
   "metadata": {
    "tags": []
   },
   "source": [
    "- __init__ 메서드는 setdata 메서드와 이름만 다르고 모든 게 동일. \n",
    "- 단 메서드 이름을 __init__으로 했기 때문에 생성자로 인식되어 객체가 생성되는 시점에 자동으로 호출되는 차이"
   ]
  },
  {
   "cell_type": "code",
   "execution_count": 76,
   "id": "875e9427-6436-470e-abcc-321b292a4d8a",
   "metadata": {
    "tags": []
   },
   "outputs": [
    {
     "ename": "TypeError",
     "evalue": "FourCal.__init__() missing 2 required positional arguments: 'first' and 'second'",
     "output_type": "error",
     "traceback": [
      "\u001b[1;31m---------------------------------------------------------------------------\u001b[0m",
      "\u001b[1;31mTypeError\u001b[0m                                 Traceback (most recent call last)",
      "Cell \u001b[1;32mIn[76], line 2\u001b[0m\n\u001b[0;32m      1\u001b[0m \u001b[38;5;66;03m# 생성자 first와 second에 해당하는 값이 전달되지 않아 오류 발생\u001b[39;00m\n\u001b[1;32m----> 2\u001b[0m a \u001b[38;5;241m=\u001b[39m \u001b[43mFourCal\u001b[49m\u001b[43m(\u001b[49m\u001b[43m)\u001b[49m \n",
      "\u001b[1;31mTypeError\u001b[0m: FourCal.__init__() missing 2 required positional arguments: 'first' and 'second'"
     ]
    }
   ],
   "source": [
    "# 생성자 first와 second에 해당하는 값이 전달되지 않아 오류 발생\n",
    "a = FourCal() "
   ]
  },
  {
   "cell_type": "code",
   "execution_count": 77,
   "id": "548b7bf3-600d-499f-9510-9cf0f1af2753",
   "metadata": {
    "tags": []
   },
   "outputs": [],
   "source": [
    "a = FourCal(4,2)"
   ]
  },
  {
   "cell_type": "code",
   "execution_count": 78,
   "id": "27f23dbd-5f5b-4acc-ba28-1e155465968e",
   "metadata": {
    "tags": []
   },
   "outputs": [],
   "source": [
    "a = FourCal(4,2)"
   ]
  },
  {
   "cell_type": "code",
   "execution_count": 79,
   "id": "569abe3a-f0f1-4397-87f1-dece609e6b4d",
   "metadata": {
    "tags": []
   },
   "outputs": [
    {
     "name": "stdout",
     "output_type": "stream",
     "text": [
      "4\n"
     ]
    }
   ],
   "source": [
    "print(a.first)"
   ]
  },
  {
   "cell_type": "code",
   "execution_count": 80,
   "id": "b112ecb2-f723-4b4b-bad3-bbba827058b5",
   "metadata": {
    "tags": []
   },
   "outputs": [
    {
     "name": "stdout",
     "output_type": "stream",
     "text": [
      "2\n"
     ]
    }
   ],
   "source": [
    "print(a.second)"
   ]
  },
  {
   "cell_type": "code",
   "execution_count": 81,
   "id": "5eccaeee-829f-4afb-8810-a00d28911649",
   "metadata": {
    "tags": []
   },
   "outputs": [],
   "source": [
    "a = FourCal(4,2)"
   ]
  },
  {
   "cell_type": "code",
   "execution_count": 82,
   "id": "dd90c8b4-46d7-404d-8e79-33fb93fe33ab",
   "metadata": {
    "tags": []
   },
   "outputs": [
    {
     "data": {
      "text/plain": [
       "6"
      ]
     },
     "execution_count": 82,
     "metadata": {},
     "output_type": "execute_result"
    }
   ],
   "source": [
    "a.add()"
   ]
  },
  {
   "cell_type": "code",
   "execution_count": 83,
   "id": "965f95ee-53c3-45a5-ab41-ab22c0817aec",
   "metadata": {
    "tags": []
   },
   "outputs": [
    {
     "data": {
      "text/plain": [
       "2.0"
      ]
     },
     "execution_count": 83,
     "metadata": {},
     "output_type": "execute_result"
    }
   ],
   "source": [
    "a.div()"
   ]
  },
  {
   "cell_type": "markdown",
   "id": "cf68b31b-6fde-4570-a497-8ca47b6ab210",
   "metadata": {},
   "source": [
    "### 클래스의 상속\n",
    "- class 클래스 이름(상속할 클래스 이름)"
   ]
  },
  {
   "cell_type": "code",
   "execution_count": 84,
   "id": "0900ca4c-ab0f-4781-a21c-38322308a075",
   "metadata": {
    "tags": []
   },
   "outputs": [],
   "source": [
    "class MoreFourCal(FourCal):\n",
    "    pass"
   ]
  },
  {
   "cell_type": "code",
   "execution_count": 85,
   "id": "a064b111-c3f1-4ec9-8b20-a29d3ce38a28",
   "metadata": {
    "tags": []
   },
   "outputs": [],
   "source": [
    "a = MoreFourCal(4,2)"
   ]
  },
  {
   "cell_type": "code",
   "execution_count": 86,
   "id": "08e0682d-3a7a-4b6f-9aee-e78d6f4971b8",
   "metadata": {
    "tags": []
   },
   "outputs": [
    {
     "data": {
      "text/plain": [
       "6"
      ]
     },
     "execution_count": 86,
     "metadata": {},
     "output_type": "execute_result"
    }
   ],
   "source": [
    "a.add()"
   ]
  },
  {
   "cell_type": "code",
   "execution_count": 87,
   "id": "e27cd62f-4099-4635-8127-faf0aa3edd52",
   "metadata": {
    "tags": []
   },
   "outputs": [],
   "source": [
    "a = MoreFourCal(4,2)"
   ]
  },
  {
   "cell_type": "markdown",
   "id": "4535331c-e64c-4507-9843-b55dac4f12ea",
   "metadata": {
    "tags": []
   },
   "source": [
    "- MoreFourCal 클래스는 FourCal 클래스를 상속했으므로 FourCal 클래스의 모든 기능 사용 가능"
   ]
  },
  {
   "cell_type": "code",
   "execution_count": 88,
   "id": "95ee4d8c-c16c-4df9-9e10-1a590dbeec97",
   "metadata": {
    "tags": []
   },
   "outputs": [
    {
     "data": {
      "text/plain": [
       "6"
      ]
     },
     "execution_count": 88,
     "metadata": {},
     "output_type": "execute_result"
    }
   ],
   "source": [
    "a.add()"
   ]
  },
  {
   "cell_type": "code",
   "execution_count": 89,
   "id": "0548841c-7ce1-478b-8a95-3665f4927027",
   "metadata": {
    "tags": []
   },
   "outputs": [
    {
     "data": {
      "text/plain": [
       "8"
      ]
     },
     "execution_count": 89,
     "metadata": {},
     "output_type": "execute_result"
    }
   ],
   "source": [
    "a.mul()"
   ]
  },
  {
   "cell_type": "code",
   "execution_count": 90,
   "id": "708a04f1-01a3-4179-8e58-21bca5386142",
   "metadata": {
    "tags": []
   },
   "outputs": [
    {
     "data": {
      "text/plain": [
       "2"
      ]
     },
     "execution_count": 90,
     "metadata": {},
     "output_type": "execute_result"
    }
   ],
   "source": [
    "a.sub()"
   ]
  },
  {
   "cell_type": "code",
   "execution_count": 91,
   "id": "1279d90f-d91b-4aab-ab82-e03654a3ee74",
   "metadata": {
    "tags": []
   },
   "outputs": [
    {
     "data": {
      "text/plain": [
       "2.0"
      ]
     },
     "execution_count": 91,
     "metadata": {},
     "output_type": "execute_result"
    }
   ],
   "source": [
    "a.div()"
   ]
  },
  {
   "cell_type": "code",
   "execution_count": 96,
   "id": "0fc7ed7d-a4cc-4842-900b-25d0755a2508",
   "metadata": {
    "tags": []
   },
   "outputs": [],
   "source": [
    "class MoreFourCal(FourCal):\n",
    "    def pow(self):\n",
    "        result = self.first ** self.second\n",
    "        return result"
   ]
  },
  {
   "cell_type": "code",
   "execution_count": 97,
   "id": "334fad1d-8b63-4c5e-8838-b76e5745bd24",
   "metadata": {
    "tags": []
   },
   "outputs": [],
   "source": [
    "a = MoreFourCal(4,2)"
   ]
  },
  {
   "cell_type": "code",
   "execution_count": 98,
   "id": "ff7f30ff-7478-4337-a2bc-cf7287b20578",
   "metadata": {
    "tags": []
   },
   "outputs": [
    {
     "data": {
      "text/plain": [
       "16"
      ]
     },
     "execution_count": 98,
     "metadata": {},
     "output_type": "execute_result"
    }
   ],
   "source": [
    "a.pow()"
   ]
  },
  {
   "cell_type": "markdown",
   "id": "40319998-fa6e-43b9-9897-154b59afbbe7",
   "metadata": {},
   "source": [
    "#### 메서드 오버라이딩(Overriding, 덮어쓰기)\n",
    "- 부모 클래스(상속한 클래스)에 있는 메서드를 동일한 이름으로 다시 만드는 것"
   ]
  },
  {
   "cell_type": "code",
   "execution_count": 99,
   "id": "ff841a1f-03be-4fa4-b9d4-49d4e2cfe10e",
   "metadata": {
    "tags": []
   },
   "outputs": [],
   "source": [
    "a = FourCal(4,0)"
   ]
  },
  {
   "cell_type": "code",
   "execution_count": 100,
   "id": "0f15e7dd-6b34-4d81-ab28-32833c56dc88",
   "metadata": {
    "tags": []
   },
   "outputs": [
    {
     "ename": "ZeroDivisionError",
     "evalue": "division by zero",
     "output_type": "error",
     "traceback": [
      "\u001b[1;31m---------------------------------------------------------------------------\u001b[0m",
      "\u001b[1;31mZeroDivisionError\u001b[0m                         Traceback (most recent call last)",
      "Cell \u001b[1;32mIn[100], line 1\u001b[0m\n\u001b[1;32m----> 1\u001b[0m \u001b[43ma\u001b[49m\u001b[38;5;241;43m.\u001b[39;49m\u001b[43mdiv\u001b[49m\u001b[43m(\u001b[49m\u001b[43m)\u001b[49m\n",
      "Cell \u001b[1;32mIn[73], line 19\u001b[0m, in \u001b[0;36mFourCal.div\u001b[1;34m(self)\u001b[0m\n\u001b[0;32m     18\u001b[0m \u001b[38;5;28;01mdef\u001b[39;00m \u001b[38;5;21mdiv\u001b[39m(\u001b[38;5;28mself\u001b[39m):\n\u001b[1;32m---> 19\u001b[0m     result \u001b[38;5;241m=\u001b[39m \u001b[38;5;28;43mself\u001b[39;49m\u001b[38;5;241;43m.\u001b[39;49m\u001b[43mfirst\u001b[49m\u001b[43m \u001b[49m\u001b[38;5;241;43m/\u001b[39;49m\u001b[43m \u001b[49m\u001b[38;5;28;43mself\u001b[39;49m\u001b[38;5;241;43m.\u001b[39;49m\u001b[43msecond\u001b[49m\n\u001b[0;32m     20\u001b[0m     \u001b[38;5;28;01mreturn\u001b[39;00m result\n",
      "\u001b[1;31mZeroDivisionError\u001b[0m: division by zero"
     ]
    }
   ],
   "source": [
    "a.div() #4를 0으로 나누려고 해서 오류 발생"
   ]
  },
  {
   "cell_type": "code",
   "execution_count": 101,
   "id": "d7c69de0-ac12-4b4f-8751-e055f179f15a",
   "metadata": {
    "tags": []
   },
   "outputs": [],
   "source": [
    "class SafeFourCal(FourCal):\n",
    "    def div(self):\n",
    "        if self.second == 0: # 나누는 값이 0인 경우 숫자 0을 돌려주도록 수정\n",
    "            return 0\n",
    "        else:\n",
    "            return self.first/ self.second"
   ]
  },
  {
   "cell_type": "code",
   "execution_count": 102,
   "id": "76c15797-8eff-4f14-acfc-30fd7e88eff5",
   "metadata": {
    "tags": []
   },
   "outputs": [],
   "source": [
    "a = SafeFourCal(4,0)"
   ]
  },
  {
   "cell_type": "code",
   "execution_count": 103,
   "id": "64e4012e-a803-451e-be82-894f436f892b",
   "metadata": {
    "tags": []
   },
   "outputs": [
    {
     "data": {
      "text/plain": [
       "0"
      ]
     },
     "execution_count": 103,
     "metadata": {},
     "output_type": "execute_result"
    }
   ],
   "source": [
    "a.div()"
   ]
  },
  {
   "cell_type": "code",
   "execution_count": 1,
   "id": "4fa8130e-d2c4-4599-b369-e52a28a1f2a6",
   "metadata": {
    "tags": []
   },
   "outputs": [
    {
     "ename": "SyntaxError",
     "evalue": "invalid syntax (2510651365.py, line 2)",
     "output_type": "error",
     "traceback": [
      "\u001b[1;36m  Cell \u001b[1;32mIn[1], line 2\u001b[1;36m\u001b[0m\n\u001b[1;33m    https://supermemi.tistory.com/178\u001b[0m\n\u001b[1;37m          ^\u001b[0m\n\u001b[1;31mSyntaxError\u001b[0m\u001b[1;31m:\u001b[0m invalid syntax\n"
     ]
    }
   ],
   "source": [
    "#### 상속과 변수 (super())\n",
    "https://supermemi.tistory.com/178"
   ]
  },
  {
   "cell_type": "markdown",
   "id": "89cf4a6c-4127-4e41-a992-bc60e5feb7d9",
   "metadata": {},
   "source": [
    "#### 상속 super()"
   ]
  },
  {
   "cell_type": "code",
   "execution_count": 1,
   "id": "72442304-5d34-4783-b996-3ae4bd02a226",
   "metadata": {
    "tags": []
   },
   "outputs": [
    {
     "name": "stdout",
     "output_type": "stream",
     "text": [
      "Japan simono Shigeru Miyamoto 100\n"
     ]
    }
   ],
   "source": [
    "#예시\n",
    "class Nintendo:\n",
    "    def __init__(self,name, character):\n",
    "        self.country='Japan'\n",
    "        self.game_name=name\n",
    "        self.character=character\n",
    "       \n",
    "class New(Nintendo):\n",
    "    def __init__(self,name,character,genre,income):\n",
    "        super().__init__(name,character)\n",
    "        self.ceo='Shigeru Miyamoto'\n",
    "        self.genre=genre\n",
    "        self.income=income \n",
    "        \n",
    "p1 = New(\"simono\", \"warm\", \"mystery\", 100)\n",
    "print(p1.country, p1.game_name, p1.ceo, p1.income)\n"
   ]
  },
  {
   "cell_type": "markdown",
   "id": "12ee38e8-b1a3-4f77-9c72-dd6e1dc55b75",
   "metadata": {},
   "source": [
    "### 클래스 변수\n",
    "- 클래스이름.클래스변수"
   ]
  },
  {
   "cell_type": "code",
   "execution_count": 104,
   "id": "66228dc0-3fd7-49c9-94d2-76c806dcdf09",
   "metadata": {
    "tags": []
   },
   "outputs": [],
   "source": [
    "class Family:\n",
    "    lastname = \"김\" # 클래스 변수"
   ]
  },
  {
   "cell_type": "code",
   "execution_count": 105,
   "id": "bf856046-9801-41fd-84d2-bcc2e581616a",
   "metadata": {
    "tags": []
   },
   "outputs": [
    {
     "name": "stdout",
     "output_type": "stream",
     "text": [
      "김\n"
     ]
    }
   ],
   "source": [
    "print(Family.lastname) "
   ]
  },
  {
   "cell_type": "code",
   "execution_count": 106,
   "id": "ef525a45-7088-4a77-8e53-926e42bc1bca",
   "metadata": {
    "tags": []
   },
   "outputs": [],
   "source": [
    "a = Family()"
   ]
  },
  {
   "cell_type": "code",
   "execution_count": 107,
   "id": "75b07523-af46-48b0-8805-d93bcd3b9b3d",
   "metadata": {
    "tags": []
   },
   "outputs": [],
   "source": [
    "b = Family()"
   ]
  },
  {
   "cell_type": "code",
   "execution_count": 108,
   "id": "7aba23f9-5818-4175-841b-27e070732f98",
   "metadata": {
    "tags": []
   },
   "outputs": [
    {
     "name": "stdout",
     "output_type": "stream",
     "text": [
      "김\n"
     ]
    }
   ],
   "source": [
    "print(a.lastname)"
   ]
  },
  {
   "cell_type": "code",
   "execution_count": 109,
   "id": "720c4d81-0099-43f0-b82b-c9750e4f26bb",
   "metadata": {
    "tags": []
   },
   "outputs": [
    {
     "name": "stdout",
     "output_type": "stream",
     "text": [
      "김\n"
     ]
    }
   ],
   "source": [
    "print(b.lastname)"
   ]
  },
  {
   "cell_type": "markdown",
   "id": "51079ff1-9d9c-4267-9fbf-9f8c4f900029",
   "metadata": {
    "tags": []
   },
   "source": [
    "- 클래스 변수 값을 변경하면 클래스로 만든 객체의 lastname 값도 모두 변경된다 = 클래스 변수는 클래스로 만든 모든 객체에 공유된다"
   ]
  },
  {
   "cell_type": "code",
   "execution_count": 110,
   "id": "f2c6f4c9-1ffb-4f20-9cfc-357077a1a71b",
   "metadata": {
    "tags": []
   },
   "outputs": [],
   "source": [
    "Family.lastname = \"박\" #Family.lastname 수정하면?"
   ]
  },
  {
   "cell_type": "code",
   "execution_count": 111,
   "id": "c5dcd3ed-b991-4995-b1d7-f6848e61e6dd",
   "metadata": {
    "tags": []
   },
   "outputs": [
    {
     "name": "stdout",
     "output_type": "stream",
     "text": [
      "박\n"
     ]
    }
   ],
   "source": [
    "print(a.lastname)"
   ]
  },
  {
   "cell_type": "code",
   "execution_count": 112,
   "id": "404c44f1-ff23-434b-b815-9f7b6c165560",
   "metadata": {
    "tags": []
   },
   "outputs": [
    {
     "name": "stdout",
     "output_type": "stream",
     "text": [
      "박\n"
     ]
    }
   ],
   "source": [
    "print(b.lastname)"
   ]
  },
  {
   "cell_type": "markdown",
   "id": "3106aaec-1ac4-46a8-a989-5e610fdd14fd",
   "metadata": {},
   "source": [
    "#### 클래스 변수와 객체 변수"
   ]
  },
  {
   "cell_type": "markdown",
   "id": "67512cb3-f78a-45b6-8628-81de296436cd",
   "metadata": {
    "tags": []
   },
   "source": [
    "- a.lastname을 변경하면?"
   ]
  },
  {
   "cell_type": "code",
   "execution_count": 117,
   "id": "d9710bc9-089d-43c7-931e-acf12ad310c6",
   "metadata": {
    "tags": []
   },
   "outputs": [],
   "source": [
    "a.lastname = \"최\""
   ]
  },
  {
   "cell_type": "code",
   "execution_count": 118,
   "id": "21a1de50-3034-4f40-8832-075f99c0898f",
   "metadata": {
    "tags": []
   },
   "outputs": [
    {
     "name": "stdout",
     "output_type": "stream",
     "text": [
      "최\n"
     ]
    }
   ],
   "source": [
    "print(a.lastname)"
   ]
  },
  {
   "cell_type": "markdown",
   "id": "083e8d6e-f33f-4f67-b8de-74b80aad778c",
   "metadata": {},
   "source": [
    "- 이렇게 하면 Family클래스의 lastname이 바뀌는 것이 아니라 a 객체에 lastname이라는 객체변수가 새롭게 생성\n",
    "- 즉, 객체변수는 클래스 변수와 동일한 이름으로 생성 가능\n",
    "- 이제부터 a.lastname은 Family클래스의 lastname이 아닌 객체 a의 객체변수 lastname을 가리킴"
   ]
  },
  {
   "cell_type": "markdown",
   "id": "787cb782-947b-4bd3-bf6c-75b37d5b8c1f",
   "metadata": {},
   "source": [
    "- a.lastname의 객체변수를 생성하더라도 Family 클래스의 lastname과는 상관이 없다"
   ]
  },
  {
   "cell_type": "code",
   "execution_count": 119,
   "id": "0b5f9251-e6d1-4dc9-8f05-0c36b16a676c",
   "metadata": {
    "tags": []
   },
   "outputs": [
    {
     "name": "stdout",
     "output_type": "stream",
     "text": [
      "박\n"
     ]
    }
   ],
   "source": [
    "print(Family.lastname)"
   ]
  },
  {
   "cell_type": "code",
   "execution_count": 120,
   "id": "8ad3421d-1461-4072-b4a5-087bf9049e8b",
   "metadata": {
    "tags": []
   },
   "outputs": [
    {
     "name": "stdout",
     "output_type": "stream",
     "text": [
      "박\n"
     ]
    }
   ],
   "source": [
    "print(b.lastname)"
   ]
  },
  {
   "cell_type": "markdown",
   "id": "f23d883a-bf5b-4479-b220-9254ed4b0c16",
   "metadata": {},
   "source": [
    "- Family 클래스의 lastname 값은 변하지 않았다"
   ]
  },
  {
   "cell_type": "markdown",
   "id": "462515c1-705f-4bf2-91e6-bc8f8ae26eb8",
   "metadata": {},
   "source": [
    "## 5-2 모듈\n",
    "- 함수나 변수 또는 클래스를 모아 놓은 파일\n",
    "- 다른 파이썬 프로그램에서 불러와 사용할 수 있게끔 만든 파이썬 파일"
   ]
  },
  {
   "cell_type": "markdown",
   "id": "ce1f3c34-8cbe-4731-b0e3-29f540ec7de6",
   "metadata": {},
   "source": [
    "#### 모듈 만들기\n",
    "- import 모듈 이름(.py 확장자 제외)\n",
    "- from 모듈 이름 import 모듈 함수"
   ]
  },
  {
   "cell_type": "markdown",
   "id": "b3bcaabe-d439-4526-8afb-58cd2562bfe0",
   "metadata": {},
   "source": [
    "## 5-3 패키지\n",
    "- 다음에 정리"
   ]
  },
  {
   "cell_type": "markdown",
   "id": "a0340c30-3af8-49cf-bd26-93fe83b9b0c9",
   "metadata": {},
   "source": [
    "## 5-4 예외 처리\n",
    "- 다음에 정리"
   ]
  },
  {
   "cell_type": "markdown",
   "id": "5c658ed8-fc54-4dc4-b97c-b0952867227f",
   "metadata": {},
   "source": [
    "## 5-5 내장 함수"
   ]
  },
  {
   "cell_type": "markdown",
   "id": "ff32f8f2-9f11-4037-99b1-1f1331e8ab44",
   "metadata": {
    "tags": []
   },
   "source": [
    "### abs(x)\n",
    "- 어떤 숫자를 입력받았을 때, 그 숫자의 절댓값을 돌려주는 함수"
   ]
  },
  {
   "cell_type": "code",
   "execution_count": 122,
   "id": "e155cda5-0cce-4dde-a8bf-2c23c23b5d31",
   "metadata": {
    "tags": []
   },
   "outputs": [
    {
     "data": {
      "text/plain": [
       "3"
      ]
     },
     "execution_count": 122,
     "metadata": {},
     "output_type": "execute_result"
    }
   ],
   "source": [
    "abs(3)"
   ]
  },
  {
   "cell_type": "code",
   "execution_count": 123,
   "id": "285f1b9d-28d9-4e8a-9824-271a10e5a8c2",
   "metadata": {
    "tags": []
   },
   "outputs": [
    {
     "data": {
      "text/plain": [
       "3"
      ]
     },
     "execution_count": 123,
     "metadata": {},
     "output_type": "execute_result"
    }
   ],
   "source": [
    "abs(-3)"
   ]
  },
  {
   "cell_type": "code",
   "execution_count": 124,
   "id": "9cb04948-3a7b-4521-b5f4-f1c8c906790e",
   "metadata": {
    "tags": []
   },
   "outputs": [
    {
     "data": {
      "text/plain": [
       "1.2"
      ]
     },
     "execution_count": 124,
     "metadata": {},
     "output_type": "execute_result"
    }
   ],
   "source": [
    "abs(-1.2)"
   ]
  },
  {
   "cell_type": "markdown",
   "id": "6373c314-8909-4d76-a0c4-527540e58987",
   "metadata": {},
   "source": [
    "### all(x)\n",
    "- 반복 가능한(iterable) 자료형 x를 입력 인수로 받으며 이 x가 모두 참이면 True, 거짓이 하날도 있으면 False를 돌려줌"
   ]
  },
  {
   "cell_type": "code",
   "execution_count": 125,
   "id": "fa691804-6fe8-423a-9e91-85340d28b446",
   "metadata": {
    "tags": []
   },
   "outputs": [
    {
     "data": {
      "text/plain": [
       "True"
      ]
     },
     "execution_count": 125,
     "metadata": {},
     "output_type": "execute_result"
    }
   ],
   "source": [
    "all([1,2,3])"
   ]
  },
  {
   "cell_type": "code",
   "execution_count": 126,
   "id": "b7d1fd64-aca6-4e00-8aae-da9920b0fa05",
   "metadata": {
    "tags": []
   },
   "outputs": [
    {
     "data": {
      "text/plain": [
       "False"
      ]
     },
     "execution_count": 126,
     "metadata": {},
     "output_type": "execute_result"
    }
   ],
   "source": [
    "all([1,2,3,0])"
   ]
  },
  {
   "cell_type": "markdown",
   "id": "1b84a2c7-3fda-43fa-94f6-d3bb0e55260c",
   "metadata": {},
   "source": [
    "### any(x)\n",
    "- x 중 하나라도 참이 있으면 True를 돌려주고, x가 모두 거짓일 때에만 False를 돌려줌. all(x)의 반대"
   ]
  },
  {
   "cell_type": "code",
   "execution_count": 127,
   "id": "2996e6ec-84b0-4e7d-b99f-c86ec864a65c",
   "metadata": {
    "tags": []
   },
   "outputs": [
    {
     "data": {
      "text/plain": [
       "True"
      ]
     },
     "execution_count": 127,
     "metadata": {},
     "output_type": "execute_result"
    }
   ],
   "source": [
    "any([1,2,3,0])"
   ]
  },
  {
   "cell_type": "code",
   "execution_count": 128,
   "id": "60e79014-858d-4dac-953e-864c6bc4280c",
   "metadata": {
    "tags": []
   },
   "outputs": [
    {
     "data": {
      "text/plain": [
       "False"
      ]
     },
     "execution_count": 128,
     "metadata": {},
     "output_type": "execute_result"
    }
   ],
   "source": [
    "any([0,\"\"])"
   ]
  },
  {
   "cell_type": "markdown",
   "id": "62d291c3-09e8-42af-9801-2bcde921b8e8",
   "metadata": {},
   "source": [
    "### chr(i)\n",
    "- 아스키(ASCII) 코드 값을 입력받아 그 코드에 해당하는 문자를 출력하는 함수"
   ]
  },
  {
   "cell_type": "code",
   "execution_count": 129,
   "id": "e40501a7-5e29-4bc7-95e4-0e9019910e27",
   "metadata": {
    "tags": []
   },
   "outputs": [
    {
     "data": {
      "text/plain": [
       "'a'"
      ]
     },
     "execution_count": 129,
     "metadata": {},
     "output_type": "execute_result"
    }
   ],
   "source": [
    "chr(97)"
   ]
  },
  {
   "cell_type": "code",
   "execution_count": 130,
   "id": "975a2251-0799-4f05-b9c6-7dcf101c7222",
   "metadata": {
    "tags": []
   },
   "outputs": [
    {
     "data": {
      "text/plain": [
       "'0'"
      ]
     },
     "execution_count": 130,
     "metadata": {},
     "output_type": "execute_result"
    }
   ],
   "source": [
    "chr(48)"
   ]
  },
  {
   "cell_type": "markdown",
   "id": "e778a466-4198-46d3-b7f7-77103f55dc8c",
   "metadata": {},
   "source": [
    "### dir\n",
    "- 객체가 자체적으로 가지고 있는 변수나 함수를 보여줌\n",
    "- 다음 예는 리스트와 딕셔너리 객체 관련 함수(메서드)를 보여주는 예"
   ]
  },
  {
   "cell_type": "code",
   "execution_count": 133,
   "id": "0de5b9e4-96a0-4d63-90ec-a30ca5d7ccc2",
   "metadata": {
    "tags": []
   },
   "outputs": [
    {
     "data": {
      "text/plain": [
       "['__add__',\n",
       " '__class__',\n",
       " '__class_getitem__',\n",
       " '__contains__',\n",
       " '__delattr__',\n",
       " '__delitem__',\n",
       " '__dir__',\n",
       " '__doc__',\n",
       " '__eq__',\n",
       " '__format__',\n",
       " '__ge__',\n",
       " '__getattribute__',\n",
       " '__getitem__',\n",
       " '__gt__',\n",
       " '__hash__',\n",
       " '__iadd__',\n",
       " '__imul__',\n",
       " '__init__',\n",
       " '__init_subclass__',\n",
       " '__iter__',\n",
       " '__le__',\n",
       " '__len__',\n",
       " '__lt__',\n",
       " '__mul__',\n",
       " '__ne__',\n",
       " '__new__',\n",
       " '__reduce__',\n",
       " '__reduce_ex__',\n",
       " '__repr__',\n",
       " '__reversed__',\n",
       " '__rmul__',\n",
       " '__setattr__',\n",
       " '__setitem__',\n",
       " '__sizeof__',\n",
       " '__str__',\n",
       " '__subclasshook__',\n",
       " 'append',\n",
       " 'clear',\n",
       " 'copy',\n",
       " 'count',\n",
       " 'extend',\n",
       " 'index',\n",
       " 'insert',\n",
       " 'pop',\n",
       " 'remove',\n",
       " 'reverse',\n",
       " 'sort']"
      ]
     },
     "execution_count": 133,
     "metadata": {},
     "output_type": "execute_result"
    }
   ],
   "source": [
    "dir([1,2,3])"
   ]
  },
  {
   "cell_type": "code",
   "execution_count": 134,
   "id": "dcd10c4e-34d9-444a-9200-b76a02f4695a",
   "metadata": {
    "tags": []
   },
   "outputs": [
    {
     "data": {
      "text/plain": [
       "['__class__',\n",
       " '__class_getitem__',\n",
       " '__contains__',\n",
       " '__delattr__',\n",
       " '__delitem__',\n",
       " '__dir__',\n",
       " '__doc__',\n",
       " '__eq__',\n",
       " '__format__',\n",
       " '__ge__',\n",
       " '__getattribute__',\n",
       " '__getitem__',\n",
       " '__gt__',\n",
       " '__hash__',\n",
       " '__init__',\n",
       " '__init_subclass__',\n",
       " '__ior__',\n",
       " '__iter__',\n",
       " '__le__',\n",
       " '__len__',\n",
       " '__lt__',\n",
       " '__ne__',\n",
       " '__new__',\n",
       " '__or__',\n",
       " '__reduce__',\n",
       " '__reduce_ex__',\n",
       " '__repr__',\n",
       " '__reversed__',\n",
       " '__ror__',\n",
       " '__setattr__',\n",
       " '__setitem__',\n",
       " '__sizeof__',\n",
       " '__str__',\n",
       " '__subclasshook__',\n",
       " 'clear',\n",
       " 'copy',\n",
       " 'fromkeys',\n",
       " 'get',\n",
       " 'items',\n",
       " 'keys',\n",
       " 'pop',\n",
       " 'popitem',\n",
       " 'setdefault',\n",
       " 'update',\n",
       " 'values']"
      ]
     },
     "execution_count": 134,
     "metadata": {},
     "output_type": "execute_result"
    }
   ],
   "source": [
    "dir({'1':'a'})"
   ]
  },
  {
   "cell_type": "markdown",
   "id": "bb1f4e24-9847-4be1-b3a6-91dbe743ff27",
   "metadata": {
    "tags": []
   },
   "source": [
    "### divmod(a,b)\n",
    "- 2개의 숫자를 입력으로 받으며, a를 b로 나눈 몫과 나머지를 튜플 형태로 돌려줌"
   ]
  },
  {
   "cell_type": "code",
   "execution_count": 137,
   "id": "bd1a3741-35d6-487e-9637-d330da0d9459",
   "metadata": {
    "tags": []
   },
   "outputs": [
    {
     "data": {
      "text/plain": [
       "(2, 1)"
      ]
     },
     "execution_count": 137,
     "metadata": {},
     "output_type": "execute_result"
    }
   ],
   "source": [
    "divmod(7,3) "
   ]
  },
  {
   "cell_type": "code",
   "execution_count": 138,
   "id": "4d6e98b1-527e-48ae-953c-59a71d733599",
   "metadata": {
    "tags": []
   },
   "outputs": [
    {
     "data": {
      "text/plain": [
       "2"
      ]
     },
     "execution_count": 138,
     "metadata": {},
     "output_type": "execute_result"
    }
   ],
   "source": [
    "7//3"
   ]
  },
  {
   "cell_type": "code",
   "execution_count": 139,
   "id": "39fe3f0b-1374-44d7-8a14-3caa28879329",
   "metadata": {
    "tags": []
   },
   "outputs": [
    {
     "data": {
      "text/plain": [
       "1"
      ]
     },
     "execution_count": 139,
     "metadata": {},
     "output_type": "execute_result"
    }
   ],
   "source": [
    "7%3"
   ]
  },
  {
   "cell_type": "markdown",
   "id": "76886926-686d-4ebe-b618-68d0b41e8742",
   "metadata": {},
   "source": [
    "### enumerate\n",
    "- '열거하다'라는 뜻. 이 함수는 순서가 있는 자료형(리스트, 튜플, 문자열)을 입력으로 받아 인덱스 값을 포함하는 enumerate 객체를 돌려줌.\n",
    "- for문과 함께 자주 사용"
   ]
  },
  {
   "cell_type": "code",
   "execution_count": 140,
   "id": "8b84b66b-5d28-4f66-b8b5-24b9693f810c",
   "metadata": {
    "tags": []
   },
   "outputs": [
    {
     "name": "stdout",
     "output_type": "stream",
     "text": [
      "0 body\n",
      "1 foo\n",
      "2 bar\n"
     ]
    }
   ],
   "source": [
    "for i, name in enumerate(['body', 'foo', 'bar']):\n",
    "    print(i, name)"
   ]
  },
  {
   "cell_type": "markdown",
   "id": "3250ac0c-9f6a-4447-9017-34bcca79d0a5",
   "metadata": {},
   "source": [
    "### eval(expression) \n",
    "- 실행 가능한 문자열(1+2, 'hi'+'a' 같은 것)을 입력으로 받아 문자열을 실행한 결괏값을 돌려주는 함수"
   ]
  },
  {
   "cell_type": "code",
   "execution_count": 1,
   "id": "c311c05a-0e99-4cee-a01a-fe86b4c89a70",
   "metadata": {},
   "outputs": [
    {
     "data": {
      "text/plain": [
       "3"
      ]
     },
     "execution_count": 1,
     "metadata": {},
     "output_type": "execute_result"
    }
   ],
   "source": [
    "eval('1+2')"
   ]
  },
  {
   "cell_type": "code",
   "execution_count": 2,
   "id": "3c614a3c-89ba-4fb7-bad6-298821513f3e",
   "metadata": {
    "tags": []
   },
   "outputs": [
    {
     "data": {
      "text/plain": [
       "'hia'"
      ]
     },
     "execution_count": 2,
     "metadata": {},
     "output_type": "execute_result"
    }
   ],
   "source": [
    "eval(\"'hi' + 'a'\")"
   ]
  },
  {
   "cell_type": "code",
   "execution_count": 3,
   "id": "fb00ef71-037d-4aa5-a07e-608c0fdea533",
   "metadata": {
    "tags": []
   },
   "outputs": [
    {
     "data": {
      "text/plain": [
       "(1, 1)"
      ]
     },
     "execution_count": 3,
     "metadata": {},
     "output_type": "execute_result"
    }
   ],
   "source": [
    "eval('divmod(4,3)')"
   ]
  },
  {
   "cell_type": "markdown",
   "id": "3a4ba73c-8998-4ca9-ae31-27ac5a8a609b",
   "metadata": {},
   "source": [
    "### filter\n",
    "- 첫 번째 인수: 함수 이름, 두 번째 인수: 그 함수에 차례로 들어가 반복 가능한 자료형"
   ]
  },
  {
   "cell_type": "code",
   "execution_count": 4,
   "id": "7a6f9003-ed9e-473f-b410-fcfae03ba82b",
   "metadata": {
    "tags": []
   },
   "outputs": [
    {
     "name": "stdout",
     "output_type": "stream",
     "text": [
      "[1, 2, 6]\n"
     ]
    }
   ],
   "source": [
    "#filter함수 없이\n",
    "def positive(l):\n",
    "    result = []\n",
    "    for i in l:\n",
    "        if i > 0:\n",
    "            result.append(i)\n",
    "    return result\n",
    "\n",
    "print(positive([1,-3,2,0,-5,6]))\n",
    "            "
   ]
  },
  {
   "cell_type": "code",
   "execution_count": 6,
   "id": "9878cfca-a8f8-46d3-9147-a7e0952ecf8f",
   "metadata": {
    "tags": []
   },
   "outputs": [
    {
     "name": "stdout",
     "output_type": "stream",
     "text": [
      "[1, 2, 6]\n"
     ]
    }
   ],
   "source": [
    "#filter 함수 사용\n",
    "def positive(x):\n",
    "    return x > 0\n",
    "\n",
    "print(list(filter(positive, [1,-3,2,0,-5,6])))"
   ]
  },
  {
   "cell_type": "code",
   "execution_count": 7,
   "id": "34ae1322-af52-4d91-a4b9-e9357eab1e62",
   "metadata": {
    "tags": []
   },
   "outputs": [
    {
     "data": {
      "text/plain": [
       "[1, 2, 6]"
      ]
     },
     "execution_count": 7,
     "metadata": {},
     "output_type": "execute_result"
    }
   ],
   "source": [
    "list(filter(lambda x: x>0, [1,-3,2,0,-5,6]))"
   ]
  },
  {
   "cell_type": "markdown",
   "id": "cea75457-2045-4393-ae92-e02d44f2d6f6",
   "metadata": {},
   "source": [
    "### hex(x)\n",
    "- 정수 값을 입력받아 16진수(hexadecimal)로 변환하여 돌려주는 함수"
   ]
  },
  {
   "cell_type": "code",
   "execution_count": 8,
   "id": "1ffb996f-b3f9-430d-832d-b8a6c0c83ce9",
   "metadata": {
    "tags": []
   },
   "outputs": [
    {
     "data": {
      "text/plain": [
       "'0xea'"
      ]
     },
     "execution_count": 8,
     "metadata": {},
     "output_type": "execute_result"
    }
   ],
   "source": [
    "hex(234)"
   ]
  },
  {
   "cell_type": "code",
   "execution_count": 9,
   "id": "4ce25624-aab3-4e6b-be76-f666c07faeaa",
   "metadata": {
    "tags": []
   },
   "outputs": [
    {
     "data": {
      "text/plain": [
       "'0x3'"
      ]
     },
     "execution_count": 9,
     "metadata": {},
     "output_type": "execute_result"
    }
   ],
   "source": [
    "hex(3)"
   ]
  },
  {
   "cell_type": "markdown",
   "id": "a40c11e7-440b-4951-95c3-60817fd329ff",
   "metadata": {},
   "source": [
    "### id(object)\n",
    "- 객체를 입력받아 객체의 고유 주소 값(레퍼런스)을 돌려주는 함수"
   ]
  },
  {
   "cell_type": "code",
   "execution_count": 10,
   "id": "2748f108-8320-4f60-98d3-e6e5e2768bb0",
   "metadata": {
    "tags": []
   },
   "outputs": [],
   "source": [
    "a=3"
   ]
  },
  {
   "cell_type": "code",
   "execution_count": 11,
   "id": "eb02e824-ed9d-4f81-8937-520f8fcbcf1c",
   "metadata": {
    "tags": []
   },
   "outputs": [
    {
     "data": {
      "text/plain": [
       "2093048332592"
      ]
     },
     "execution_count": 11,
     "metadata": {},
     "output_type": "execute_result"
    }
   ],
   "source": [
    "id(3)"
   ]
  },
  {
   "cell_type": "code",
   "execution_count": 12,
   "id": "080147a6-8a49-4c7e-ab8c-e41b065bffb3",
   "metadata": {
    "tags": []
   },
   "outputs": [],
   "source": [
    "b=a"
   ]
  },
  {
   "cell_type": "code",
   "execution_count": 13,
   "id": "bf4e50d7-e0b8-4b98-a83c-79f73943c29b",
   "metadata": {
    "tags": []
   },
   "outputs": [
    {
     "data": {
      "text/plain": [
       "2093048332592"
      ]
     },
     "execution_count": 13,
     "metadata": {},
     "output_type": "execute_result"
    }
   ],
   "source": [
    "id(b)"
   ]
  },
  {
   "cell_type": "markdown",
   "id": "945acd89-c1a7-4217-9467-05999f22a89e",
   "metadata": {},
   "source": [
    "- 3, a, b가 모두 같은 객체를 가리킴"
   ]
  },
  {
   "cell_type": "code",
   "execution_count": 15,
   "id": "7be3e29d-e8c8-46c4-ba58-c267526ff72a",
   "metadata": {
    "tags": []
   },
   "outputs": [
    {
     "data": {
      "text/plain": [
       "2093048332624"
      ]
     },
     "execution_count": 15,
     "metadata": {},
     "output_type": "execute_result"
    }
   ],
   "source": [
    "id(4) # 다른 고유 주소값"
   ]
  },
  {
   "cell_type": "markdown",
   "id": "37fde43a-b75d-4316-b2d4-be8fa47b89a2",
   "metadata": {},
   "source": [
    "### input([prompt])\n",
    "- 사용자 입력을 받는 함수"
   ]
  },
  {
   "cell_type": "code",
   "execution_count": 16,
   "id": "0cd5f9d1-21ab-4837-9f69-09e42b2911de",
   "metadata": {
    "tags": []
   },
   "outputs": [
    {
     "name": "stdin",
     "output_type": "stream",
     "text": [
      " hi\n"
     ]
    }
   ],
   "source": [
    "a = input()"
   ]
  },
  {
   "cell_type": "code",
   "execution_count": 17,
   "id": "fdcaec5d-46d2-4f00-8116-07eea73925cd",
   "metadata": {
    "tags": []
   },
   "outputs": [
    {
     "data": {
      "text/plain": [
       "'hi'"
      ]
     },
     "execution_count": 17,
     "metadata": {},
     "output_type": "execute_result"
    }
   ],
   "source": [
    "a"
   ]
  },
  {
   "cell_type": "code",
   "execution_count": 18,
   "id": "14a90580-a7d2-4ade-a6f3-f6a7b91f6032",
   "metadata": {
    "tags": []
   },
   "outputs": [
    {
     "name": "stdin",
     "output_type": "stream",
     "text": [
      "Enter:  hi\n"
     ]
    }
   ],
   "source": [
    "b = input(\"Enter: \")"
   ]
  },
  {
   "cell_type": "code",
   "execution_count": 19,
   "id": "f895164d-9d38-4cfa-8570-9955801cab9e",
   "metadata": {
    "tags": []
   },
   "outputs": [
    {
     "data": {
      "text/plain": [
       "'hi'"
      ]
     },
     "execution_count": 19,
     "metadata": {},
     "output_type": "execute_result"
    }
   ],
   "source": [
    "b"
   ]
  },
  {
   "cell_type": "markdown",
   "id": "12ebcd9d-06dd-409d-b880-9086ccab3ae8",
   "metadata": {},
   "source": [
    "### int(x)\n",
    "- 문자열 형태의 숫자나 소수점이 있는 숫자 등을 정수 형태로 돌려주는 함수"
   ]
  },
  {
   "cell_type": "code",
   "execution_count": 20,
   "id": "6c095a69-4633-4054-98e3-9f30220e2238",
   "metadata": {
    "tags": []
   },
   "outputs": [
    {
     "data": {
      "text/plain": [
       "3"
      ]
     },
     "execution_count": 20,
     "metadata": {},
     "output_type": "execute_result"
    }
   ],
   "source": [
    "int('3')"
   ]
  },
  {
   "cell_type": "code",
   "execution_count": 21,
   "id": "30a4412f-9949-4271-9bf0-3f5b761afa23",
   "metadata": {
    "tags": []
   },
   "outputs": [
    {
     "data": {
      "text/plain": [
       "3"
      ]
     },
     "execution_count": 21,
     "metadata": {},
     "output_type": "execute_result"
    }
   ],
   "source": [
    "int(3.4)"
   ]
  },
  {
   "cell_type": "markdown",
   "id": "ef420993-bdb7-442a-89eb-c552986e3cf9",
   "metadata": {},
   "source": [
    "- int(x, radix)는 radix 진수로 표현된 문자열 x를 10진수로 변환하여 돌려줌"
   ]
  },
  {
   "cell_type": "code",
   "execution_count": 23,
   "id": "c0dfb0d3-71ad-4159-adf4-fbac27270402",
   "metadata": {
    "tags": []
   },
   "outputs": [
    {
     "data": {
      "text/plain": [
       "3"
      ]
     },
     "execution_count": 23,
     "metadata": {},
     "output_type": "execute_result"
    }
   ],
   "source": [
    "int('11',2) #2진수로 표현된 11의 10진수 값 구하기"
   ]
  },
  {
   "cell_type": "code",
   "execution_count": 24,
   "id": "ed887bbe-5bf7-42a3-b85e-ce38b00ad7c0",
   "metadata": {
    "tags": []
   },
   "outputs": [
    {
     "data": {
      "text/plain": [
       "26"
      ]
     },
     "execution_count": 24,
     "metadata": {},
     "output_type": "execute_result"
    }
   ],
   "source": [
    "int('1A', 16) #16진수로 표현된 1A의 10진수 값 구하기"
   ]
  },
  {
   "cell_type": "markdown",
   "id": "367953e1-f0d1-4707-95cd-953b08618db7",
   "metadata": {},
   "source": [
    "### isinstance(object, class)\n",
    "- 첫 번째 인수: 인스턴스 , 두 번째 인수: 클래스 이름\n",
    "- 입력으로 받은 인스턴스가 그 클래스의 인스턴스인지를 판다하여 참이면 True, 거짓이면 False를 돌려줌"
   ]
  },
  {
   "cell_type": "code",
   "execution_count": 25,
   "id": "b24aa6d2-9ab2-46f6-8df8-61f8a120eb6c",
   "metadata": {
    "tags": []
   },
   "outputs": [],
   "source": [
    "class Person:\n",
    "    pass"
   ]
  },
  {
   "cell_type": "code",
   "execution_count": 26,
   "id": "e759f15c-011c-4e30-b593-990a288aee91",
   "metadata": {
    "tags": []
   },
   "outputs": [],
   "source": [
    "a = Person()"
   ]
  },
  {
   "cell_type": "code",
   "execution_count": 28,
   "id": "a1545c72-1c2a-41d0-b038-8c3c56d67ea8",
   "metadata": {
    "tags": []
   },
   "outputs": [
    {
     "data": {
      "text/plain": [
       "True"
      ]
     },
     "execution_count": 28,
     "metadata": {},
     "output_type": "execute_result"
    }
   ],
   "source": [
    "isinstance(a, Person) #a가 Person클래스의 인스턴스인지 확인"
   ]
  },
  {
   "cell_type": "code",
   "execution_count": 29,
   "id": "8b7143ee-9a83-409e-8622-28484509d5c4",
   "metadata": {
    "tags": []
   },
   "outputs": [],
   "source": [
    "b=3"
   ]
  },
  {
   "cell_type": "code",
   "execution_count": 30,
   "id": "b960ef88-b682-4ed5-9854-44322b21bb1d",
   "metadata": {
    "tags": []
   },
   "outputs": [
    {
     "data": {
      "text/plain": [
       "False"
      ]
     },
     "execution_count": 30,
     "metadata": {},
     "output_type": "execute_result"
    }
   ],
   "source": [
    "isinstance(b, Person) #b가 Person클래스의 인스턴스인지 확인"
   ]
  },
  {
   "cell_type": "markdown",
   "id": "c0e74826-d324-420a-94ce-c668b47fab6b",
   "metadata": {},
   "source": [
    "### len(s)\n",
    "- 입력값 s의 길이(요소의 전체 개수)를 돌려주는 함수"
   ]
  },
  {
   "cell_type": "code",
   "execution_count": 31,
   "id": "99140326-f084-4208-a5e6-f1f7153f8953",
   "metadata": {
    "tags": []
   },
   "outputs": [
    {
     "data": {
      "text/plain": [
       "6"
      ]
     },
     "execution_count": 31,
     "metadata": {},
     "output_type": "execute_result"
    }
   ],
   "source": [
    "len(\"python\")"
   ]
  },
  {
   "cell_type": "code",
   "execution_count": 33,
   "id": "36d31abf-1ac9-4cf8-b94e-baf98b71220b",
   "metadata": {
    "tags": []
   },
   "outputs": [
    {
     "data": {
      "text/plain": [
       "3"
      ]
     },
     "execution_count": 33,
     "metadata": {},
     "output_type": "execute_result"
    }
   ],
   "source": [
    "len([1,2,3])"
   ]
  },
  {
   "cell_type": "code",
   "execution_count": 35,
   "id": "7a28fc2e-8f62-450d-8f51-d0c45ddeae7e",
   "metadata": {
    "tags": []
   },
   "outputs": [
    {
     "data": {
      "text/plain": [
       "2"
      ]
     },
     "execution_count": 35,
     "metadata": {},
     "output_type": "execute_result"
    }
   ],
   "source": [
    "len((1,'a'))"
   ]
  },
  {
   "cell_type": "markdown",
   "id": "6c064b71-9c34-4c49-a0c5-0d40da40baf4",
   "metadata": {},
   "source": [
    "### list(s)\n",
    "- 반복 가능한 자료형 s를 입력받아 리스트로 만들어 돌려주는 함수"
   ]
  },
  {
   "cell_type": "code",
   "execution_count": 36,
   "id": "8e9bdd48-5500-4c26-85fd-22cce096c1e7",
   "metadata": {
    "tags": []
   },
   "outputs": [
    {
     "data": {
      "text/plain": [
       "['p', 'y', 't', 'h', 'o', 'n']"
      ]
     },
     "execution_count": 36,
     "metadata": {},
     "output_type": "execute_result"
    }
   ],
   "source": [
    "list(\"python\")"
   ]
  },
  {
   "cell_type": "code",
   "execution_count": 37,
   "id": "ef819e65-2f34-49f9-8ea5-79b2df872deb",
   "metadata": {
    "tags": []
   },
   "outputs": [
    {
     "data": {
      "text/plain": [
       "[1, 2, 3]"
      ]
     },
     "execution_count": 37,
     "metadata": {},
     "output_type": "execute_result"
    }
   ],
   "source": [
    "list((1,2,3))"
   ]
  },
  {
   "cell_type": "markdown",
   "id": "b9f09ffe-6600-4e9d-92ca-5297418f23e5",
   "metadata": {},
   "source": [
    "- 리스트 함수에 리스트를 입력으로 주면 똑같은 리스트를 복사해 돌려줌"
   ]
  },
  {
   "cell_type": "code",
   "execution_count": 38,
   "id": "65a373d9-e5da-4143-abfd-7193d640de8b",
   "metadata": {
    "tags": []
   },
   "outputs": [],
   "source": [
    "a = [1,2,3]"
   ]
  },
  {
   "cell_type": "code",
   "execution_count": 39,
   "id": "59d27d31-c2a2-435c-856a-89422bb10448",
   "metadata": {
    "tags": []
   },
   "outputs": [],
   "source": [
    "b = list(a)"
   ]
  },
  {
   "cell_type": "code",
   "execution_count": 40,
   "id": "c9fb5ac6-9270-4181-b63f-d4db4e615d7c",
   "metadata": {
    "tags": []
   },
   "outputs": [
    {
     "data": {
      "text/plain": [
       "[1, 2, 3]"
      ]
     },
     "execution_count": 40,
     "metadata": {},
     "output_type": "execute_result"
    }
   ],
   "source": [
    "b"
   ]
  },
  {
   "cell_type": "markdown",
   "id": "3d26859a-953b-4447-b3ed-eaecb85fbb06",
   "metadata": {},
   "source": [
    "### map(f, iterable)\n",
    "- 함수(f)와 반복 가능한(iterable) 자료형을 입력으로 받음\n",
    "- map은 입력받은 자료형의 각 요소를 함수 f가 수행한 결과를 묶어서 돌려주는 함수"
   ]
  },
  {
   "cell_type": "code",
   "execution_count": 41,
   "id": "19040fe0-77ec-49f9-be96-ad9388313bad",
   "metadata": {
    "tags": []
   },
   "outputs": [
    {
     "name": "stdout",
     "output_type": "stream",
     "text": [
      "[2, 4, 6, 8]\n"
     ]
    }
   ],
   "source": [
    "#map 사용 전\n",
    "def two_times(numberList):\n",
    "    result = []\n",
    "    for number in numberList:\n",
    "        result.append(number*2)\n",
    "    return result\n",
    "\n",
    "result = two_times([1,2,3,4])\n",
    "print(result)"
   ]
  },
  {
   "cell_type": "code",
   "execution_count": 42,
   "id": "302b78f5-95c7-4c78-8bb5-daf8ede495f0",
   "metadata": {
    "tags": []
   },
   "outputs": [],
   "source": [
    "#map 사용 후\n",
    "def two_times(x): return x*2\n"
   ]
  },
  {
   "cell_type": "code",
   "execution_count": 43,
   "id": "9b483777-eaba-4113-9d66-65110b77aef4",
   "metadata": {
    "tags": []
   },
   "outputs": [
    {
     "data": {
      "text/plain": [
       "[2, 4, 6, 8]"
      ]
     },
     "execution_count": 43,
     "metadata": {},
     "output_type": "execute_result"
    }
   ],
   "source": [
    "list(map(two_times, [1,2,3,4]))"
   ]
  },
  {
   "cell_type": "code",
   "execution_count": 44,
   "id": "c6f5542f-a268-47f9-b5e7-6cda9b044479",
   "metadata": {
    "tags": []
   },
   "outputs": [
    {
     "data": {
      "text/plain": [
       "[2, 4, 6, 8]"
      ]
     },
     "execution_count": 44,
     "metadata": {},
     "output_type": "execute_result"
    }
   ],
   "source": [
    "list(map(lambda a:a*2, [1,2,3,4]))"
   ]
  },
  {
   "cell_type": "markdown",
   "id": "874e859a-f4da-49d1-bf93-98bbf5a96567",
   "metadata": {},
   "source": [
    "### max(iterable)\n",
    "- 인수로 반복 가능한 자료형을 입력받아 그 최댓값을 돌려주는 함수"
   ]
  },
  {
   "cell_type": "code",
   "execution_count": 45,
   "id": "246790e5-4de3-4659-97ab-c92e15e6ce1e",
   "metadata": {
    "tags": []
   },
   "outputs": [
    {
     "data": {
      "text/plain": [
       "3"
      ]
     },
     "execution_count": 45,
     "metadata": {},
     "output_type": "execute_result"
    }
   ],
   "source": [
    "max([1,2,3])"
   ]
  },
  {
   "cell_type": "code",
   "execution_count": 46,
   "id": "3e5f1a57-fde3-45b7-8463-9f0e9c0895d8",
   "metadata": {
    "tags": []
   },
   "outputs": [
    {
     "data": {
      "text/plain": [
       "'y'"
      ]
     },
     "execution_count": 46,
     "metadata": {},
     "output_type": "execute_result"
    }
   ],
   "source": [
    "max(\"python\")"
   ]
  },
  {
   "cell_type": "markdown",
   "id": "197bf7d3-5283-449a-b6ed-f33ea98e0b4e",
   "metadata": {},
   "source": [
    "### min(iterable)\n",
    "- max함수와 반대로, 인수로 반복 가능한 자료형을 입력받아 그 최솟값을 돌려주는 함수"
   ]
  },
  {
   "cell_type": "code",
   "execution_count": 47,
   "id": "e5df7200-6088-47e4-a942-911c9f268da1",
   "metadata": {
    "tags": []
   },
   "outputs": [
    {
     "data": {
      "text/plain": [
       "1"
      ]
     },
     "execution_count": 47,
     "metadata": {},
     "output_type": "execute_result"
    }
   ],
   "source": [
    "min([1,2,3])"
   ]
  },
  {
   "cell_type": "code",
   "execution_count": 49,
   "id": "70bf1403-c0c0-4560-8a30-aea3ae30cc1f",
   "metadata": {
    "tags": []
   },
   "outputs": [
    {
     "data": {
      "text/plain": [
       "'h'"
      ]
     },
     "execution_count": 49,
     "metadata": {},
     "output_type": "execute_result"
    }
   ],
   "source": [
    "min(\"python\")"
   ]
  },
  {
   "cell_type": "markdown",
   "id": "0ac7ea5f-ea1c-4985-a1e5-1d5f4194c0f1",
   "metadata": {},
   "source": [
    "### oct(x)\n",
    "- 정수 형태의 숫자를 8진수 문자열로 바꾸어 돌려주는 함수"
   ]
  },
  {
   "cell_type": "code",
   "execution_count": 50,
   "id": "2df9eec1-67b2-4cd8-827a-363de4607a8c",
   "metadata": {
    "tags": []
   },
   "outputs": [
    {
     "data": {
      "text/plain": [
       "'0o42'"
      ]
     },
     "execution_count": 50,
     "metadata": {},
     "output_type": "execute_result"
    }
   ],
   "source": [
    "oct(34)"
   ]
  },
  {
   "cell_type": "code",
   "execution_count": 51,
   "id": "3ecc81f9-751e-45a8-b432-7d1b15f994e8",
   "metadata": {
    "tags": []
   },
   "outputs": [
    {
     "data": {
      "text/plain": [
       "'0o30071'"
      ]
     },
     "execution_count": 51,
     "metadata": {},
     "output_type": "execute_result"
    }
   ],
   "source": [
    "oct(12345)"
   ]
  },
  {
   "cell_type": "markdown",
   "id": "77b1adb1-1fd4-47a6-8819-39ed0024a7eb",
   "metadata": {},
   "source": [
    "### open(filename, [mode])\n",
    "- '파일 이름'과 '읽기 방법'을 입력받아 파일 객체를 돌려주는 함수\n",
    "- 읽기 방법(mode)을 생략하면 기본값인 읽기 전용 모드(r)로 파일 객체를 만들어 돌려줌"
   ]
  },
  {
   "cell_type": "code",
   "execution_count": 53,
   "id": "d634344f-6a20-4386-9190-fb4e885bcf4e",
   "metadata": {
    "tags": []
   },
   "outputs": [
    {
     "ename": "FileNotFoundError",
     "evalue": "[Errno 2] No such file or directory: 'binary_file'",
     "output_type": "error",
     "traceback": [
      "\u001b[1;31m---------------------------------------------------------------------------\u001b[0m",
      "\u001b[1;31mFileNotFoundError\u001b[0m                         Traceback (most recent call last)",
      "Cell \u001b[1;32mIn[53], line 1\u001b[0m\n\u001b[1;32m----> 1\u001b[0m f \u001b[38;5;241m=\u001b[39m \u001b[38;5;28;43mopen\u001b[39;49m\u001b[43m(\u001b[49m\u001b[38;5;124;43m\"\u001b[39;49m\u001b[38;5;124;43mbinary_file\u001b[39;49m\u001b[38;5;124;43m\"\u001b[39;49m\u001b[43m,\u001b[49m\u001b[43m \u001b[49m\u001b[38;5;124;43m\"\u001b[39;49m\u001b[38;5;124;43mrb\u001b[39;49m\u001b[38;5;124;43m\"\u001b[39;49m\u001b[43m)\u001b[49m \u001b[38;5;66;03m#rb는 '바이너리 읽기 모드'\u001b[39;00m\n",
      "File \u001b[1;32m~\\AppData\\Local\\Programs\\Python\\Python310\\lib\\site-packages\\IPython\\core\\interactiveshell.py:282\u001b[0m, in \u001b[0;36m_modified_open\u001b[1;34m(file, *args, **kwargs)\u001b[0m\n\u001b[0;32m    275\u001b[0m \u001b[38;5;28;01mif\u001b[39;00m file \u001b[38;5;129;01min\u001b[39;00m {\u001b[38;5;241m0\u001b[39m, \u001b[38;5;241m1\u001b[39m, \u001b[38;5;241m2\u001b[39m}:\n\u001b[0;32m    276\u001b[0m     \u001b[38;5;28;01mraise\u001b[39;00m \u001b[38;5;167;01mValueError\u001b[39;00m(\n\u001b[0;32m    277\u001b[0m         \u001b[38;5;124mf\u001b[39m\u001b[38;5;124m\"\u001b[39m\u001b[38;5;124mIPython won\u001b[39m\u001b[38;5;124m'\u001b[39m\u001b[38;5;124mt let you open fd=\u001b[39m\u001b[38;5;132;01m{\u001b[39;00mfile\u001b[38;5;132;01m}\u001b[39;00m\u001b[38;5;124m by default \u001b[39m\u001b[38;5;124m\"\u001b[39m\n\u001b[0;32m    278\u001b[0m         \u001b[38;5;124m\"\u001b[39m\u001b[38;5;124mas it is likely to crash IPython. If you know what you are doing, \u001b[39m\u001b[38;5;124m\"\u001b[39m\n\u001b[0;32m    279\u001b[0m         \u001b[38;5;124m\"\u001b[39m\u001b[38;5;124myou can use builtins\u001b[39m\u001b[38;5;124m'\u001b[39m\u001b[38;5;124m open.\u001b[39m\u001b[38;5;124m\"\u001b[39m\n\u001b[0;32m    280\u001b[0m     )\n\u001b[1;32m--> 282\u001b[0m \u001b[38;5;28;01mreturn\u001b[39;00m io_open(file, \u001b[38;5;241m*\u001b[39margs, \u001b[38;5;241m*\u001b[39m\u001b[38;5;241m*\u001b[39mkwargs)\n",
      "\u001b[1;31mFileNotFoundError\u001b[0m: [Errno 2] No such file or directory: 'binary_file'"
     ]
    }
   ],
   "source": [
    "f = open(\"binary_file\", \"rb\") #rb는 '바이너리 읽기 모드'"
   ]
  },
  {
   "cell_type": "code",
   "execution_count": null,
   "id": "3d3d597d-5a1e-4f52-913e-c898d3b78972",
   "metadata": {},
   "outputs": [],
   "source": [
    "# fread와 fread2는 동일한 방법\n",
    "fread = open(\"read_mode.txt\", 'r')\n",
    "fread2 = open(\"read_mode.txt\")"
   ]
  },
  {
   "cell_type": "code",
   "execution_count": null,
   "id": "d016de6c-5e5d-46a4-bfe7-058c804c84b8",
   "metadata": {},
   "outputs": [],
   "source": [
    "fappend = open(\"append_mode.txt\", 'a')"
   ]
  },
  {
   "cell_type": "markdown",
   "id": "ec58785a-284b-496b-b64d-5b12249c7e51",
   "metadata": {},
   "source": [
    "### ord(c)\n",
    "- 문자의 아스키 코드 값을 돌려주는 함수"
   ]
  },
  {
   "cell_type": "code",
   "execution_count": 54,
   "id": "3cc80bee-0a1c-4c34-aff1-33e4661c4c11",
   "metadata": {
    "tags": []
   },
   "outputs": [
    {
     "data": {
      "text/plain": [
       "97"
      ]
     },
     "execution_count": 54,
     "metadata": {},
     "output_type": "execute_result"
    }
   ],
   "source": [
    "ord('a')"
   ]
  },
  {
   "cell_type": "code",
   "execution_count": 55,
   "id": "791e600b-7494-4db3-918f-2a8ce89f3514",
   "metadata": {
    "tags": []
   },
   "outputs": [
    {
     "data": {
      "text/plain": [
       "48"
      ]
     },
     "execution_count": 55,
     "metadata": {},
     "output_type": "execute_result"
    }
   ],
   "source": [
    "ord('0')"
   ]
  },
  {
   "cell_type": "markdown",
   "id": "bece9d7d-14a5-4e59-8354-d573757ba429",
   "metadata": {},
   "source": [
    "### pow\n",
    "- pow(x,y)는 x의 y제곱한 결괏값을 돌려주는 함수"
   ]
  },
  {
   "cell_type": "code",
   "execution_count": 56,
   "id": "73000c76-5f20-4af7-94c3-3db7f150f131",
   "metadata": {
    "tags": []
   },
   "outputs": [
    {
     "data": {
      "text/plain": [
       "16"
      ]
     },
     "execution_count": 56,
     "metadata": {},
     "output_type": "execute_result"
    }
   ],
   "source": [
    "pow(2,4)"
   ]
  },
  {
   "cell_type": "code",
   "execution_count": 57,
   "id": "ec41ba6f-47b2-4021-bcf1-3e750af6755a",
   "metadata": {
    "tags": []
   },
   "outputs": [
    {
     "data": {
      "text/plain": [
       "27"
      ]
     },
     "execution_count": 57,
     "metadata": {},
     "output_type": "execute_result"
    }
   ],
   "source": [
    "pow(3,3)"
   ]
  },
  {
   "cell_type": "markdown",
   "id": "ba4c2fed-831b-460e-87fd-2834bda71af6",
   "metadata": {},
   "source": [
    "### range([start,] stop [,step])\n",
    "- for문과 함께 자주 사용\n",
    "- 입력받은 숫자에 해당하는 범위 값을 반복 가능한 객체로 만들어 돌려줌"
   ]
  },
  {
   "cell_type": "markdown",
   "id": "4bab0d6d-945b-4f3c-8f25-d11e6876b7ca",
   "metadata": {},
   "source": [
    "#### 인수가 하나일 경우"
   ]
  },
  {
   "cell_type": "code",
   "execution_count": 59,
   "id": "34fab5de-8962-406f-9c30-37c657e98226",
   "metadata": {
    "tags": []
   },
   "outputs": [
    {
     "data": {
      "text/plain": [
       "[0, 1, 2, 3, 4]"
      ]
     },
     "execution_count": 59,
     "metadata": {},
     "output_type": "execute_result"
    }
   ],
   "source": [
    "list(range(5))"
   ]
  },
  {
   "cell_type": "markdown",
   "id": "a2fdc08b-0048-45fa-a70e-5b74f289f044",
   "metadata": {},
   "source": [
    "#### 인수가 2개일 경우"
   ]
  },
  {
   "cell_type": "code",
   "execution_count": 60,
   "id": "b7847073-caad-4b78-aa44-50d83309e5f1",
   "metadata": {
    "tags": []
   },
   "outputs": [
    {
     "data": {
      "text/plain": [
       "[5, 6, 7, 8, 9]"
      ]
     },
     "execution_count": 60,
     "metadata": {},
     "output_type": "execute_result"
    }
   ],
   "source": [
    "list(range(5,10))"
   ]
  },
  {
   "cell_type": "markdown",
   "id": "3d45324d-b8d7-4676-a6e6-f8dadece2dbb",
   "metadata": {},
   "source": [
    "#### 인수가 3개일 경우"
   ]
  },
  {
   "cell_type": "code",
   "execution_count": 61,
   "id": "f06b4f1f-61a1-4d18-beb2-0fcc09e56fb2",
   "metadata": {
    "tags": []
   },
   "outputs": [
    {
     "data": {
      "text/plain": [
       "[1, 3, 5, 7, 9]"
      ]
     },
     "execution_count": 61,
     "metadata": {},
     "output_type": "execute_result"
    }
   ],
   "source": [
    "list(range(1,10,2))"
   ]
  },
  {
   "cell_type": "code",
   "execution_count": 62,
   "id": "7fe82f41-0355-4bba-85a8-69ec589a7334",
   "metadata": {
    "tags": []
   },
   "outputs": [
    {
     "data": {
      "text/plain": [
       "[9, 8, 7, 6, 5, 4, 3, 2, 1, 0, -1, -2, -3, -4, -5, -6, -7, -8, -9]"
      ]
     },
     "execution_count": 62,
     "metadata": {},
     "output_type": "execute_result"
    }
   ],
   "source": [
    "list(range(9,-10,-1))"
   ]
  },
  {
   "cell_type": "markdown",
   "id": "45d4fbaa-b919-4858-9de8-76860afb6d80",
   "metadata": {},
   "source": [
    "### round(number[,ndigits])\n",
    "- 숫자를 입력받아 반올림해주는 함수\n",
    "- round 함수의 두 번째 매개변수는 반올림하여 표시하고 싶은 소수점의 자릿수(ndigits)"
   ]
  },
  {
   "cell_type": "code",
   "execution_count": 63,
   "id": "2476a6bd-8fe2-4b9c-bc95-828f0bb856a8",
   "metadata": {
    "tags": []
   },
   "outputs": [
    {
     "data": {
      "text/plain": [
       "5"
      ]
     },
     "execution_count": 63,
     "metadata": {},
     "output_type": "execute_result"
    }
   ],
   "source": [
    "round(4.6)"
   ]
  },
  {
   "cell_type": "code",
   "execution_count": 64,
   "id": "13171bfa-6bfc-4fd8-ac2e-e001ce9a49d2",
   "metadata": {
    "tags": []
   },
   "outputs": [
    {
     "data": {
      "text/plain": [
       "4"
      ]
     },
     "execution_count": 64,
     "metadata": {},
     "output_type": "execute_result"
    }
   ],
   "source": [
    "round(4.2)"
   ]
  },
  {
   "cell_type": "code",
   "execution_count": 65,
   "id": "123f19fa-5ae5-4607-9250-f0a0f4159dee",
   "metadata": {
    "tags": []
   },
   "outputs": [
    {
     "data": {
      "text/plain": [
       "5.68"
      ]
     },
     "execution_count": 65,
     "metadata": {},
     "output_type": "execute_result"
    }
   ],
   "source": [
    "round(5.678,2)"
   ]
  },
  {
   "cell_type": "markdown",
   "id": "622e8044-611c-419a-91db-082567fbefe9",
   "metadata": {},
   "source": [
    "### sorted(iterable)\n",
    "- 입력값을 정렬한 후 그 결과를 리스트로 돌려주는 함수"
   ]
  },
  {
   "cell_type": "code",
   "execution_count": 70,
   "id": "fc0120e8-c1d6-4adb-b262-b115e40cf205",
   "metadata": {
    "tags": []
   },
   "outputs": [
    {
     "data": {
      "text/plain": [
       "[1, 2, 3]"
      ]
     },
     "execution_count": 70,
     "metadata": {},
     "output_type": "execute_result"
    }
   ],
   "source": [
    "sorted([3,1,2])"
   ]
  },
  {
   "cell_type": "code",
   "execution_count": 71,
   "id": "74c14bc7-43e9-49d5-a9eb-ef8bf422896a",
   "metadata": {
    "tags": []
   },
   "outputs": [
    {
     "data": {
      "text/plain": [
       "['a', 'b', 'c']"
      ]
     },
     "execution_count": 71,
     "metadata": {},
     "output_type": "execute_result"
    }
   ],
   "source": [
    "sorted(['a','c','b'])"
   ]
  },
  {
   "cell_type": "code",
   "execution_count": 72,
   "id": "ad7e01df-ed2b-4e57-a171-15c8dd703b26",
   "metadata": {
    "tags": []
   },
   "outputs": [
    {
     "data": {
      "text/plain": [
       "['e', 'o', 'r', 'z']"
      ]
     },
     "execution_count": 72,
     "metadata": {},
     "output_type": "execute_result"
    }
   ],
   "source": [
    "sorted(\"zero\")"
   ]
  },
  {
   "cell_type": "code",
   "execution_count": 75,
   "id": "aaae00a8-c53e-4fbf-9777-afa4f158113d",
   "metadata": {
    "tags": []
   },
   "outputs": [
    {
     "data": {
      "text/plain": [
       "[1, 2, 3]"
      ]
     },
     "execution_count": 75,
     "metadata": {},
     "output_type": "execute_result"
    }
   ],
   "source": [
    "sorted((3,2,1))"
   ]
  },
  {
   "cell_type": "markdown",
   "id": "7859371c-97c0-40b9-a805-01722703247f",
   "metadata": {},
   "source": [
    "### str(object)\n",
    "- 문자열 형태로 객체를 변환하여 돌려주는 함수"
   ]
  },
  {
   "cell_type": "code",
   "execution_count": 68,
   "id": "2f9c2c36-03af-4825-b22d-70735dbd410c",
   "metadata": {
    "tags": []
   },
   "outputs": [
    {
     "data": {
      "text/plain": [
       "'3'"
      ]
     },
     "execution_count": 68,
     "metadata": {},
     "output_type": "execute_result"
    }
   ],
   "source": [
    "str(3)"
   ]
  },
  {
   "cell_type": "code",
   "execution_count": 69,
   "id": "deeeea92-01b6-430d-9e26-043478204951",
   "metadata": {
    "tags": []
   },
   "outputs": [
    {
     "data": {
      "text/plain": [
       "'hi'"
      ]
     },
     "execution_count": 69,
     "metadata": {},
     "output_type": "execute_result"
    }
   ],
   "source": [
    "str('hi')"
   ]
  },
  {
   "cell_type": "code",
   "execution_count": 76,
   "id": "de6b6566-809e-426e-a677-b6dcc7bcfa21",
   "metadata": {
    "tags": []
   },
   "outputs": [
    {
     "data": {
      "text/plain": [
       "'HI'"
      ]
     },
     "execution_count": 76,
     "metadata": {},
     "output_type": "execute_result"
    }
   ],
   "source": [
    "str('hi'.upper())"
   ]
  },
  {
   "cell_type": "markdown",
   "id": "5fee763a-91bb-4e9a-9a28-a556ca0f11b8",
   "metadata": {},
   "source": [
    "### sum(iterable)\n",
    "- 입력받은 리스트나 튜플의 모든 요소의 합을 돌려주는 함수"
   ]
  },
  {
   "cell_type": "code",
   "execution_count": 77,
   "id": "6e0b8a54-cbbe-402d-bb37-87a0534d86fb",
   "metadata": {
    "tags": []
   },
   "outputs": [
    {
     "data": {
      "text/plain": [
       "6"
      ]
     },
     "execution_count": 77,
     "metadata": {},
     "output_type": "execute_result"
    }
   ],
   "source": [
    "sum([1,2,3])"
   ]
  },
  {
   "cell_type": "code",
   "execution_count": 78,
   "id": "35d273fc-f73c-4389-97a7-5329d70976a0",
   "metadata": {
    "tags": []
   },
   "outputs": [
    {
     "data": {
      "text/plain": [
       "15"
      ]
     },
     "execution_count": 78,
     "metadata": {},
     "output_type": "execute_result"
    }
   ],
   "source": [
    "sum([4,5,6])"
   ]
  },
  {
   "cell_type": "markdown",
   "id": "462bf16d-a421-42fe-980a-4febe68f446d",
   "metadata": {},
   "source": [
    "### tuple\n",
    "- 반복 가능한 자료형을 입력받아 튜플 형태로 바꾸어 돌려주는 함수\n",
    "- 만약 튜플이 입력을 들어오면 그대로 돌려줌"
   ]
  },
  {
   "cell_type": "code",
   "execution_count": 79,
   "id": "44578da5-ff06-4525-8699-4fc9298caa98",
   "metadata": {
    "tags": []
   },
   "outputs": [
    {
     "data": {
      "text/plain": [
       "('a', 'b', 'c')"
      ]
     },
     "execution_count": 79,
     "metadata": {},
     "output_type": "execute_result"
    }
   ],
   "source": [
    "tuple(\"abc\")"
   ]
  },
  {
   "cell_type": "code",
   "execution_count": 80,
   "id": "005e4e02-9a83-49bf-bf99-b6b032dd19e9",
   "metadata": {
    "tags": []
   },
   "outputs": [
    {
     "data": {
      "text/plain": [
       "(1, 2, 3)"
      ]
     },
     "execution_count": 80,
     "metadata": {},
     "output_type": "execute_result"
    }
   ],
   "source": [
    "tuple([1,2,3])"
   ]
  },
  {
   "cell_type": "code",
   "execution_count": 81,
   "id": "899a3833-f90a-427b-b435-9a209b2d5511",
   "metadata": {
    "tags": []
   },
   "outputs": [
    {
     "data": {
      "text/plain": [
       "(1, 2, 3)"
      ]
     },
     "execution_count": 81,
     "metadata": {},
     "output_type": "execute_result"
    }
   ],
   "source": [
    "tuple((1,2,3))"
   ]
  },
  {
   "cell_type": "markdown",
   "id": "498f10c2-9b94-4538-b4dc-c8ec30670bee",
   "metadata": {},
   "source": [
    "### type(object)\n",
    "- 입력값의 자료형이 무엇인지 알려주는 함수"
   ]
  },
  {
   "cell_type": "code",
   "execution_count": 82,
   "id": "bb32ef35-5ee7-4f18-82bb-d929cbd280a5",
   "metadata": {
    "tags": []
   },
   "outputs": [
    {
     "data": {
      "text/plain": [
       "str"
      ]
     },
     "execution_count": 82,
     "metadata": {},
     "output_type": "execute_result"
    }
   ],
   "source": [
    "type(\"abc\")"
   ]
  },
  {
   "cell_type": "code",
   "execution_count": 83,
   "id": "a9eb3670-be8e-49d1-8067-74fbb3ce763d",
   "metadata": {
    "tags": []
   },
   "outputs": [
    {
     "data": {
      "text/plain": [
       "list"
      ]
     },
     "execution_count": 83,
     "metadata": {},
     "output_type": "execute_result"
    }
   ],
   "source": [
    "type([])"
   ]
  },
  {
   "cell_type": "code",
   "execution_count": 84,
   "id": "55002632-6d37-4dc9-b6aa-627e33f094c1",
   "metadata": {
    "tags": []
   },
   "outputs": [
    {
     "data": {
      "text/plain": [
       "_io.TextIOWrapper"
      ]
     },
     "execution_count": 84,
     "metadata": {},
     "output_type": "execute_result"
    }
   ],
   "source": [
    "type(open(\"test\", 'w'))"
   ]
  },
  {
   "cell_type": "markdown",
   "id": "f4ee4d6e-911c-42ff-925b-e15156cbcc23",
   "metadata": {},
   "source": [
    "### zip(*iterable)\n",
    "- 동일한 개수로 이루어진 자료형을 묶어 주는 역할을 하는 함수\n",
    "- *iterable : 반복 가능(iter-able)한 자료형 여러 개를 입력할 수 있다는 의미"
   ]
  },
  {
   "cell_type": "code",
   "execution_count": 85,
   "id": "0046c779-595a-41e8-a62e-b6a778b8d9f5",
   "metadata": {
    "tags": []
   },
   "outputs": [
    {
     "data": {
      "text/plain": [
       "[(1, 4), (2, 5), (3, 6)]"
      ]
     },
     "execution_count": 85,
     "metadata": {},
     "output_type": "execute_result"
    }
   ],
   "source": [
    "list(zip([1,2,3], [4,5,6]))"
   ]
  },
  {
   "cell_type": "code",
   "execution_count": 86,
   "id": "93476659-5daf-42fd-8199-b8f96a6599bc",
   "metadata": {
    "tags": []
   },
   "outputs": [
    {
     "data": {
      "text/plain": [
       "[(1, 4, 7), (2, 5, 8), (3, 6, 9)]"
      ]
     },
     "execution_count": 86,
     "metadata": {},
     "output_type": "execute_result"
    }
   ],
   "source": [
    "list(zip([1,2,3],[4,5,6],[7,8,9]))"
   ]
  },
  {
   "cell_type": "code",
   "execution_count": 87,
   "id": "79f28ed2-55de-420d-8237-b3803bbecb09",
   "metadata": {
    "tags": []
   },
   "outputs": [
    {
     "data": {
      "text/plain": [
       "[('a', 'd'), ('b', 'e'), ('c', 'f')]"
      ]
     },
     "execution_count": 87,
     "metadata": {},
     "output_type": "execute_result"
    }
   ],
   "source": [
    "list(zip(\"abc\", \"def\"))"
   ]
  },
  {
   "cell_type": "markdown",
   "id": "40b803e0-5e46-420b-b34b-e62c721f77c9",
   "metadata": {},
   "source": [
    "## 5-6 라이브러리"
   ]
  },
  {
   "cell_type": "markdown",
   "id": "b1a01435-7b84-449a-9f6d-89e67ca6d8ae",
   "metadata": {},
   "source": [
    "### sys\n",
    "- 파이썬 인터프리터가 제공하는 변수와 함수를 직접 제어할 수 있게 해주는 모듈"
   ]
  },
  {
   "cell_type": "markdown",
   "id": "6c486ed1-44ef-42f1-b37d-927f6d209ce2",
   "metadata": {
    "tags": []
   },
   "source": [
    "#### 명령 행에서 인수 전달 - sys.argvs"
   ]
  },
  {
   "cell_type": "code",
   "execution_count": null,
   "id": "847b9363-6427-4812-a43c-6d3a7a2457b1",
   "metadata": {},
   "outputs": [],
   "source": [
    "# 명령 프롬프트 창에서 다음과 같이 test.py 뒤에 또 다른 값을 함께 넣어주면 sys.argv 리스트에 그 값 추가\n",
    "C:/User/home> python test.py abc pey guido"
   ]
  },
  {
   "cell_type": "markdown",
   "id": "4ae58154-c1c4-48a4-9312-7a794b5e5c81",
   "metadata": {},
   "source": [
    "##### 예제"
   ]
  },
  {
   "cell_type": "markdown",
   "id": "760c5188-f32f-4a43-a354-1a2f5f81bba9",
   "metadata": {},
   "source": [
    "- argv_test.py 파일은 C:/Users/user/Mymod 디렉터리에 저장했다고 가정"
   ]
  },
  {
   "cell_type": "code",
   "execution_count": null,
   "id": "2faf3093-f805-4fe9-a3e6-634fe70c3150",
   "metadata": {},
   "outputs": [],
   "source": [
    "#argv_test.py\n",
    "import sys\n",
    "print(sys.argv)"
   ]
  },
  {
   "cell_type": "markdown",
   "id": "2c2ce8f8-3118-41fb-8195-caaa8b176702",
   "metadata": {},
   "source": [
    "명령 프롬프트 창에서 Mymod 디렉토리로 들어간 뒤 다음과 같이 실행"
   ]
  },
  {
   "cell_type": "code",
   "execution_count": null,
   "id": "54f97d07-12d3-4837-8e38-00303947da4b",
   "metadata": {},
   "outputs": [],
   "source": [
    "C:/Users/user/Mymod> python argv_test.py you need python\n",
    "['argv_test.py', 'you', 'need', 'python']"
   ]
  },
  {
   "cell_type": "markdown",
   "id": "1028ad21-ecb3-4620-9a5f-63b837a3666d",
   "metadata": {},
   "source": [
    "python 명령어 뒤의 모든 것들이 공백을 기준으로 나뉘어서 sys.argv 리스트의 요소가 된다."
   ]
  },
  {
   "cell_type": "markdown",
   "id": "9c9ea4dd-fd62-4255-a9b2-f0b83a01792c",
   "metadata": {},
   "source": [
    "#### 강제로 스크립트 종료 - sys.exit"
   ]
  },
  {
   "cell_type": "code",
   "execution_count": null,
   "id": "e2ddc8f0-7e1e-4647-b4e7-bedb23e2fae7",
   "metadata": {},
   "outputs": [],
   "source": [
    ">>> sys.exit()"
   ]
  },
  {
   "cell_type": "markdown",
   "id": "5cc9343a-e280-4858-a75a-fb65bef96a3d",
   "metadata": {},
   "source": [
    "#### 자신이 만든 모듈 불러와 사용 - sys.path\n",
    "- sys.path는 파이썬 모듈들이 저장되어 있는 위치를 나타냄\n",
    "- 즉, 이 위치에 있는 파이썬 모듈은 경로에 상관없이 어디에서나 불러올 수 있다."
   ]
  },
  {
   "cell_type": "code",
   "execution_count": null,
   "id": "9afe8c55-857e-43b2-bf65-55ae32c530e5",
   "metadata": {},
   "outputs": [],
   "source": [
    ">>> import sys\n",
    ">>> sys.path\n",
    "['', 'C:\\\\Users\\\\user\\\\AppData\\\\Local\\\\Programs\\\\Python\\\\Python310\\\\python310.zip', 'C:\\\\Users\\\\user\\\\AppData\\\\Local\\\\Programs\\\\Python\\\\Python310\\\\DLLs', 'C:\\\\Users\\\\user\\\\AppData\\\\Local\\\\Programs\\\\Python\\\\Python310\\\\lib', 'C:\\\\Users\\\\user\\\\AppData\\\\Local\\\\Programs\\\\Python\\\\Python310', 'C:\\\\Users\\\\user\\\\AppData\\\\Local\\\\Programs\\\\Python\\\\Python310\\\\lib\\\\site-packages', 'C:\\\\Users\\\\user\\\\AppData\\\\Local\\\\Programs\\\\Python\\\\Python310\\\\lib\\\\site-packages\\\\win32', 'C:\\\\Users\\\\user\\\\AppData\\\\Local\\\\Programs\\\\Python\\\\Python310\\\\lib\\\\site-packages\\\\win32\\\\lib', 'C:\\\\Users\\\\user\\\\AppData\\\\Local\\\\Programs\\\\Python\\\\Python310\\\\lib\\\\site-packages\\\\Pythonwin']"
   ]
  },
  {
   "cell_type": "markdown",
   "id": "0ec1da2a-fc60-4522-b859-791a6aa75c41",
   "metadata": {},
   "source": [
    "위 예에서 ''는 현재 디렉터리를 말한다."
   ]
  },
  {
   "cell_type": "code",
   "execution_count": null,
   "id": "52cd0fc3-ca06-4ec6-9fdd-dea96464ddad",
   "metadata": {},
   "outputs": [],
   "source": [
    "#path_append.py\n",
    "import sys\n",
    "sys.path.append(\"C:/Users/user/Mymod\")"
   ]
  },
  {
   "cell_type": "markdown",
   "id": "75fe726c-45d4-48e2-9f10-4b68d2536140",
   "metadata": {},
   "source": [
    "위와 같이 파이썬 프로그램 파일에서 sys.path.append를 사용해 경로 이름을 추가할 수 있다. \n",
    "<br>이렇게 하고 난 후에는 C:/Users/user/Mymod 디렉터리에 있는 파이썬 모듈을 불러와서 사용 가능"
   ]
  },
  {
   "cell_type": "markdown",
   "id": "484dd890-f56a-490b-bb6f-ec4d9b2448af",
   "metadata": {},
   "source": [
    "### pickle\n",
    "- 객체의 형태를 그대로 유지하면서 파일에 저장하고 불러올 수 있게 하는 모듈"
   ]
  },
  {
   "cell_type": "markdown",
   "id": "6633ebc6-cc65-45c4-bada-4a3b3af1925b",
   "metadata": {},
   "source": [
    "- pickle 모듈의 dump 함수를 사용해 딕셔너리 객체인 data를 그대로 파일에 저장하는 방법"
   ]
  },
  {
   "cell_type": "code",
   "execution_count": 8,
   "id": "50d30b83-13cc-43ee-8000-46845c0e7d9c",
   "metadata": {
    "tags": []
   },
   "outputs": [],
   "source": [
    "import pickle\n",
    "f = open(\"test.txt\", 'wb')\n",
    "data = {1:'python', 2: 'you need'}\n",
    "pickle.dump(data, f)\n",
    "f.close()"
   ]
  },
  {
   "cell_type": "markdown",
   "id": "6fc3819b-5d8e-4a8e-9a06-71b7171bc39d",
   "metadata": {},
   "source": [
    "- pickle.dump로 저장한 파일을 pickle.load를 사용해서 원래 있던 딕셔너리 객체(data) 상태 그대로 불러오기"
   ]
  },
  {
   "cell_type": "code",
   "execution_count": null,
   "id": "1c1aec7a-4099-4b38-bbab-1c328ba36bb3",
   "metadata": {
    "tags": []
   },
   "outputs": [
    {
     "name": "stdout",
     "output_type": "stream",
     "text": [
      "[2, 4, 6, 8, 10, 12, 14, 16, 18, 20, 22, 24, 26, 28, 30, 32, 34, 36, 38, 40, 42, 44, 46, 48, 50, 52, 54, 56, 58, 60, 62, 64, 66, 68, 70, 72, 74, 76, 78, 80, 82, 84, 86, 88, 90, 92, 94, 96, 98, 100]\n"
     ]
    }
   ],
   "source": [
    "import pickle\n",
    "f = open(\"test.txt\", 'rb')\n",
    "data = pickle.load(f)\n",
    "print(data)"
   ]
  },
  {
   "cell_type": "markdown",
   "id": "7dc16750-7714-42a4-be50-1a5d652c3984",
   "metadata": {},
   "source": [
    "위 예에서는 딕셔너리 객체를 사용했지만 어떤 자료형이든 저장하고 불러오기 가능"
   ]
  },
  {
   "cell_type": "code",
   "execution_count": null,
   "id": "9a00bcff-5aaf-4c51-a688-403dda3e345a",
   "metadata": {},
   "outputs": [],
   "source": [
    "# 추가"
   ]
  },
  {
   "cell_type": "code",
   "execution_count": 2,
   "id": "86494dd4-c0f9-4519-a755-b8d98af0af6d",
   "metadata": {
    "tags": []
   },
   "outputs": [],
   "source": [
    "my_list = [\"a\", \"b\", \"c\"]\n",
    "with open(\"data.pickle\", \"wb\") as f:\n",
    "    pickle.dump(my_list, f)"
   ]
  },
  {
   "cell_type": "code",
   "execution_count": null,
   "id": "e9d50018-a36c-4210-b79f-534429ec7e0e",
   "metadata": {},
   "outputs": [],
   "source": [
    "import pickle \n",
    "with open(\"data2.pickle\", \"wb\") as fw:\n",
    "    pickle.dump(b, fw)\n",
    "\n",
    "with open('data2.pickle', 'rb') as fr:\n",
    "    df = pickle.load(fr)\n",
    "print(df) "
   ]
  },
  {
   "cell_type": "markdown",
   "id": "093d174d-3845-4e29-b68d-b83c7dce65e5",
   "metadata": {},
   "source": [
    "### OS\n",
    "- OS모듈은 환경 변수나 디렉터리, 파일 등의 OS 자원을 제어할 수 있게 해주는 모듈"
   ]
  },
  {
   "cell_type": "markdown",
   "id": "187cecb9-b3cc-4754-8ca4-a245b96b9060",
   "metadata": {},
   "source": [
    "#### 내 시스템의 환경 변수 값을 알고 싶을 때 - os.environ\n",
    "- 시스템은 제각기 다른 환경 변수 값을 가지고 있는데, ***os.environ***은 현재 시스템의 환경 변수 값을 보여줌."
   ]
  },
  {
   "cell_type": "code",
   "execution_count": 14,
   "id": "a03f4c71-14f2-4073-b9ed-fbdca1eb7820",
   "metadata": {
    "tags": []
   },
   "outputs": [],
   "source": [
    "import os"
   ]
  },
  {
   "cell_type": "code",
   "execution_count": 15,
   "id": "8e5d992a-5393-4bc2-af48-dd821bfd75a0",
   "metadata": {
    "tags": []
   },
   "outputs": [
    {
     "data": {
      "text/plain": [
       "environ{'ALLUSERSPROFILE': 'C:\\\\ProgramData',\n",
       "        'APPDATA': 'C:\\\\Users\\\\user\\\\AppData\\\\Roaming',\n",
       "        'COMMONPROGRAMFILES': 'C:\\\\Program Files\\\\Common Files',\n",
       "        'COMMONPROGRAMFILES(X86)': 'C:\\\\Program Files (x86)\\\\Common Files',\n",
       "        'COMMONPROGRAMW6432': 'C:\\\\Program Files\\\\Common Files',\n",
       "        'COMPUTERNAME': 'DESKTOP-2PGRMF4',\n",
       "        'COMSPEC': 'C:\\\\windows\\\\system32\\\\cmd.exe',\n",
       "        'DRIVERDATA': 'C:\\\\Windows\\\\System32\\\\Drivers\\\\DriverData',\n",
       "        'FPS_BROWSER_APP_PROFILE_STRING': 'Internet Explorer',\n",
       "        'FPS_BROWSER_USER_PROFILE_STRING': 'Default',\n",
       "        'HOMEDRIVE': 'C:',\n",
       "        'HOMEPATH': '\\\\Users\\\\user',\n",
       "        'JAVA_HOME': 'C:\\\\Program Files\\\\Amazon Corretto\\\\jdk11.0.18_10',\n",
       "        'LOCALAPPDATA': 'C:\\\\Users\\\\user\\\\AppData\\\\Local',\n",
       "        'LOGONSERVER': '\\\\\\\\DESKTOP-2PGRMF4',\n",
       "        'NUMBER_OF_PROCESSORS': '12',\n",
       "        'ONEDRIVE': 'C:\\\\Users\\\\user\\\\OneDrive',\n",
       "        'OS': 'Windows_NT',\n",
       "        'PATH': 'C:\\\\Program Files\\\\Amazon Corretto\\\\jdk11.0.18_10\\\\bin;C:\\\\windows\\\\system32;C:\\\\windows;C:\\\\windows\\\\System32\\\\Wbem;C:\\\\windows\\\\System32\\\\WindowsPowerShell\\\\v1.0\\\\;C:\\\\windows\\\\System32\\\\OpenSSH\\\\;C:\\\\Users\\\\user\\\\AppData\\\\Local\\\\Programs\\\\Python\\\\Python310\\\\Scripts\\\\;C:\\\\Users\\\\user\\\\AppData\\\\Local\\\\Programs\\\\Python\\\\Python310\\\\;C:\\\\Users\\\\user\\\\AppData\\\\Local\\\\Microsoft\\\\WindowsApps;',\n",
       "        'PATHEXT': '.COM;.EXE;.BAT;.CMD;.VBS;.VBE;.JS;.JSE;.WSF;.WSH;.MSC',\n",
       "        'PROCESSOR_ARCHITECTURE': 'AMD64',\n",
       "        'PROCESSOR_IDENTIFIER': 'Intel64 Family 6 Model 167 Stepping 1, GenuineIntel',\n",
       "        'PROCESSOR_LEVEL': '6',\n",
       "        'PROCESSOR_REVISION': 'a701',\n",
       "        'PROGRAMDATA': 'C:\\\\ProgramData',\n",
       "        'PROGRAMFILES': 'C:\\\\Program Files',\n",
       "        'PROGRAMFILES(X86)': 'C:\\\\Program Files (x86)',\n",
       "        'PROGRAMW6432': 'C:\\\\Program Files',\n",
       "        'PROMPT': '$P$G',\n",
       "        'PSMODULEPATH': 'C:\\\\Program Files\\\\WindowsPowerShell\\\\Modules;C:\\\\windows\\\\system32\\\\WindowsPowerShell\\\\v1.0\\\\Modules',\n",
       "        'PUBLIC': 'C:\\\\Users\\\\Public',\n",
       "        'SESSIONNAME': 'Console',\n",
       "        'SYSTEMDRIVE': 'C:',\n",
       "        'SYSTEMROOT': 'C:\\\\windows',\n",
       "        'TEMP': 'C:\\\\Users\\\\user\\\\AppData\\\\Local\\\\Temp',\n",
       "        'TMP': 'C:\\\\Users\\\\user\\\\AppData\\\\Local\\\\Temp',\n",
       "        'USERDOMAIN': 'DESKTOP-2PGRMF4',\n",
       "        'USERDOMAIN_ROAMINGPROFILE': 'DESKTOP-2PGRMF4',\n",
       "        'USERNAME': 'user',\n",
       "        'USERPROFILE': 'C:\\\\Users\\\\user',\n",
       "        'WINDIR': 'C:\\\\windows',\n",
       "        'ZES_ENABLE_SYSMAN': '1',\n",
       "        'PYDEVD_USE_FRAME_EVAL': 'NO',\n",
       "        'JPY_SESSION_NAME': 'C:\\\\Users\\\\user\\\\New\\\\0309review.ipynb',\n",
       "        'JPY_INTERRUPT_EVENT': '3216',\n",
       "        'IPY_INTERRUPT_EVENT': '3216',\n",
       "        'JPY_PARENT_PID': '3236',\n",
       "        'TERM': 'xterm-color',\n",
       "        'CLICOLOR': '1',\n",
       "        'FORCE_COLOR': '1',\n",
       "        'CLICOLOR_FORCE': '1',\n",
       "        'PAGER': 'cat',\n",
       "        'GIT_PAGER': 'cat',\n",
       "        'MPLBACKEND': 'module://matplotlib_inline.backend_inline'}"
      ]
     },
     "execution_count": 15,
     "metadata": {},
     "output_type": "execute_result"
    }
   ],
   "source": [
    "os.environ"
   ]
  },
  {
   "cell_type": "markdown",
   "id": "bbed1d1b-b18d-4a44-9950-df306ef99bac",
   "metadata": {},
   "source": [
    "위 결괏값은 필자의 시스템 정보<br>\n",
    "***os.environ***은 환경 변수에 대한 정보를 딕셔너리 객체로 돌려줌"
   ]
  },
  {
   "cell_type": "markdown",
   "id": "783212c3-7d7b-47ca-a77d-788dab910365",
   "metadata": {},
   "source": [
    "돌려받은 객체가 딕셔너리이기 때문에 다음과 같이 호출 가능 <br>\n",
    "- 필자 시스템의 PATH 환경 변수 내용"
   ]
  },
  {
   "cell_type": "code",
   "execution_count": 17,
   "id": "6be48b8e-60eb-4de0-bb96-9e163aefacd0",
   "metadata": {
    "tags": []
   },
   "outputs": [
    {
     "data": {
      "text/plain": [
       "'C:\\\\Program Files\\\\Amazon Corretto\\\\jdk11.0.18_10\\\\bin;C:\\\\windows\\\\system32;C:\\\\windows;C:\\\\windows\\\\System32\\\\Wbem;C:\\\\windows\\\\System32\\\\WindowsPowerShell\\\\v1.0\\\\;C:\\\\windows\\\\System32\\\\OpenSSH\\\\;C:\\\\Users\\\\user\\\\AppData\\\\Local\\\\Programs\\\\Python\\\\Python310\\\\Scripts\\\\;C:\\\\Users\\\\user\\\\AppData\\\\Local\\\\Programs\\\\Python\\\\Python310\\\\;C:\\\\Users\\\\user\\\\AppData\\\\Local\\\\Microsoft\\\\WindowsApps;'"
      ]
     },
     "execution_count": 17,
     "metadata": {},
     "output_type": "execute_result"
    }
   ],
   "source": [
    "os.environ['PATH']"
   ]
  },
  {
   "cell_type": "markdown",
   "id": "8e5fd86d-e9b5-4841-ac09-6ed4fb572a51",
   "metadata": {},
   "source": [
    "#### 현재 디렉터리 위치 변경 - os.chdir"
   ]
  },
  {
   "cell_type": "code",
   "execution_count": 18,
   "id": "852aa519-ac3e-4ebf-81ca-609e482f9c54",
   "metadata": {
    "tags": []
   },
   "outputs": [],
   "source": [
    "os.chdir(\"C:/WINDOWS\")"
   ]
  },
  {
   "cell_type": "markdown",
   "id": "f91ebb4d-f1d5-47b4-aa46-59af5c7cc3cf",
   "metadata": {},
   "source": [
    "#### 현재 디렉터리 위치 돌려받기 - os.getcwd"
   ]
  },
  {
   "cell_type": "code",
   "execution_count": 19,
   "id": "9b27b434-e79d-4399-844f-1d47d6456a21",
   "metadata": {
    "tags": []
   },
   "outputs": [
    {
     "data": {
      "text/plain": [
       "'C:\\\\WINDOWS'"
      ]
     },
     "execution_count": 19,
     "metadata": {},
     "output_type": "execute_result"
    }
   ],
   "source": [
    "os.getcwd() "
   ]
  },
  {
   "cell_type": "markdown",
   "id": "2b150517-9c81-488b-b14a-34d225879979",
   "metadata": {},
   "source": [
    "#### 시스템 명령어 호출 - os.system\n",
    "- 시스템 자체의 프로그램이나 기타 명령어를 파이썬에서 호출할 수도 있다.\n",
    "- os.system(\"명령어\")"
   ]
  },
  {
   "cell_type": "markdown",
   "id": "1a8c0396-56fd-46ee-8042-44d7e2920f7b",
   "metadata": {},
   "source": [
    "- 현재 디렉터리에서 시스템 명령어 dir 실행하기"
   ]
  },
  {
   "cell_type": "code",
   "execution_count": 20,
   "id": "521ecb87-b282-4cf6-984d-9aae1af36014",
   "metadata": {
    "tags": []
   },
   "outputs": [
    {
     "data": {
      "text/plain": [
       "0"
      ]
     },
     "execution_count": 20,
     "metadata": {},
     "output_type": "execute_result"
    }
   ],
   "source": [
    "os.system(\"dir\")"
   ]
  },
  {
   "cell_type": "markdown",
   "id": "738193e3-95bc-4523-b660-c69ed9660f0c",
   "metadata": {},
   "source": [
    "#### 실행한 시스템 명령어의 결괏값 돌려받기 - os.popen\n",
    "- os.popen은 시스템 명령어를 실행한 결괏값을 읽기 모드 형태의 파일 객체로 돌려줌"
   ]
  },
  {
   "cell_type": "code",
   "execution_count": 21,
   "id": "c17931de-4197-4355-8152-55289b920ee2",
   "metadata": {
    "tags": []
   },
   "outputs": [],
   "source": [
    "f = os.popen(\"dir\")"
   ]
  },
  {
   "cell_type": "markdown",
   "id": "3da2fdcd-4cd9-4bba-bd98-db436a108781",
   "metadata": {},
   "source": [
    "- 읽어 들인 파일 객체의 내용 보기"
   ]
  },
  {
   "cell_type": "code",
   "execution_count": 22,
   "id": "a8daf508-8f18-4554-96f8-21fed330116f",
   "metadata": {
    "tags": []
   },
   "outputs": [
    {
     "name": "stdout",
     "output_type": "stream",
     "text": [
      " C 드라이브의 볼륨에는 이름이 없습니다.\n",
      " 볼륨 일련 번호: E0E8-707D\n",
      "\n",
      " C:\\WINDOWS 디렉터리\n",
      "\n",
      "2023-03-13  오후 06:11    <DIR>          .\n",
      "2023-03-13  오후 06:11    <DIR>          ..\n",
      "2019-12-07  오후 06:50    <DIR>          addins\n",
      "2021-12-15  오후 01:16    <DIR>          appcompat\n",
      "2023-02-20  오전 11:44    <DIR>          apppatch\n",
      "2023-03-15  오전 09:54    <DIR>          AppReadiness\n",
      "2023-02-21  오후 05:37    <DIR>          assembly\n",
      "2023-02-20  오전 11:44    <DIR>          bcastdvr\n",
      "2021-12-15  오후 01:22            81,408 bfsvc.exe\n",
      "2019-12-07  오후 06:31    <DIR>          Boot\n",
      "2019-12-07  오후 06:14    <DIR>          Branding\n",
      "2023-02-20  오후 01:36    <DIR>          CbsTemp\n",
      "2021-07-08  오전 10:01             1,290 comsetup.log\n",
      "2019-12-07  오후 06:14    <DIR>          Containers\n",
      "2019-12-07  오후 06:10            29,857 Core.xml\n",
      "2019-12-07  오후 06:10            29,857 CoreSingleLanguage.xml\n",
      "2021-09-13  오후 01:34    <DIR>          CSC\n",
      "2021-07-08  오전 09:51                10 Csup.txt\n",
      "2019-12-07  오후 06:14    <DIR>          Cursors\n",
      "2021-09-13  오후 01:47    <DIR>          debug\n",
      "2021-07-08  오전 10:05            22,863 diagerr.xml\n",
      "2019-12-07  오후 06:31    <DIR>          diagnostics\n",
      "2021-12-15  오후 01:25    <DIR>          DiagTrack\n",
      "2021-07-08  오전 10:05            22,863 diagwrn.xml\n",
      "2019-12-07  오후 06:49    <DIR>          DigitalLocker\n",
      "2021-08-31  오전 08:10             6,400 DtcInstall.log\n",
      "2023-02-20  오전 11:44    <DIR>          en-US\n",
      "2023-02-20  오전 11:38         5,253,864 explorer.exe\n",
      "2021-09-13  오후 01:49    <DIR>          Firmware\n",
      "2019-12-07  오후 06:14    <DIR>          GameBarPresenceWriter\n",
      "2019-12-07  오후 06:31    <DIR>          Globalization\n",
      "2019-12-07  오후 06:49    <DIR>          Help\n",
      "2022-10-04  오후 02:05         1,075,712 HelpPane.exe\n",
      "2019-12-07  오후 06:09            18,432 hh.exe\n",
      "2019-12-07  오후 06:31    <DIR>          IdentityCRL\n",
      "2021-07-08  오전 06:25    <DIR>          IME\n",
      "2023-02-20  오전 11:44    <DIR>          ImmersiveControlPanel\n",
      "2023-03-16  오후 06:07    <DIR>          INF\n",
      "2019-12-07  오후 06:14    <DIR>          InputMethod\n",
      "2023-02-20  오전 11:44    <DIR>          ko-KR\n",
      "2019-12-07  오후 06:14    <DIR>          L2Schemas\n",
      "2023-03-08  오후 05:01    <DIR>          LiveKernelReports\n",
      "2023-03-13  오후 06:11    <DIR>          Logs\n",
      "2021-07-08  오전 09:27             1,378 lsasetup.log\n",
      "2019-12-07  오후 06:08            43,131 mib.bin\n",
      "2023-03-16  오전 11:42    <DIR>          Microsoft.NET\n",
      "2019-12-07  오후 06:14    <DIR>          Migration\n",
      "2019-12-07  오후 06:14    <DIR>          ModemLogs\n",
      "2012-08-06  오후 02:14         1,731,072 MSetCaller.exe\n",
      "2021-09-13  오후 01:36    <DIR>          MSetup\n",
      "2022-10-04  오후 01:52           201,216 notepad.exe\n",
      "2022-07-11  오전 10:32    <DIR>          OCR\n",
      "2019-12-07  오후 06:14    <DIR>          Offline Web Pages\n",
      "2021-12-15  오전 10:58    <DIR>          Panther\n",
      "2019-12-07  오후 06:14    <DIR>          Performance\n",
      "2023-03-14  오전 10:28           100,490 PFRO.log\n",
      "2019-12-07  오후 06:31    <DIR>          PLA\n",
      "2023-02-20  오전 11:44    <DIR>          PolicyDefinitions\n",
      "2023-03-16  오후 12:05    <DIR>          Prefetch\n",
      "2022-07-11  오전 10:32    <DIR>          PrintDialog\n",
      "2019-12-07  오후 06:10            30,831 professional.xml\n",
      "2023-02-20  오전 11:44    <DIR>          Provisioning\n",
      "2022-12-06  오후 08:26           736,120 py.exe\n",
      "2022-12-06  오후 08:26            49,536 pyshellext.amd64.dll\n",
      "2022-12-06  오후 08:26           736,640 pyw.exe\n",
      "2021-07-08  오전 06:22           370,176 regedit.exe\n",
      "2019-12-07  오후 06:31    <DIR>          Registration\n",
      "2021-07-08  오전 06:12    <DIR>          RemotePackages\n",
      "2019-12-07  오후 06:14    <DIR>          rescache\n",
      "2019-12-07  오후 06:31    <DIR>          Resources\n",
      "2021-07-08  오전 09:32    <DIR>          RSTLog\n",
      "2019-12-19  오후 04:07         2,877,104 RtlExUpd.dll\n",
      "2010-08-06  오후 05:09            16,018 Samsung.png\n",
      "2019-12-07  오후 06:14    <DIR>          SchCache\n",
      "2021-07-08  오전 06:12    <DIR>          schemas\n",
      "2020-09-21  오전 04:40    <DIR>          sec\n",
      "2021-07-08  오전 06:12    <DIR>          security\n",
      "2021-07-08  오전 09:27    <DIR>          ServiceProfiles\n",
      "2021-09-13  오후 01:46    <DIR>          ServiceState\n",
      "2022-07-11  오전 10:17    <DIR>          servicing\n",
      "2019-12-07  오후 06:18    <DIR>          Setup\n",
      "2023-03-16  오후 06:07            11,166 setupact.log\n",
      "2021-07-08  오전 09:28                 0 setuperr.log\n",
      "2022-07-11  오전 10:32    <DIR>          ShellComponents\n",
      "2022-10-04  오후 01:54    <DIR>          ShellExperiences\n",
      "2019-12-07  오후 06:31    <DIR>          SKB\n",
      "2021-09-13  오후 01:32    <DIR>          SoftwareDistribution\n",
      "2019-12-07  오후 06:14    <DIR>          Speech\n",
      "2019-12-07  오후 06:14    <DIR>          Speech_OneCore\n",
      "2023-02-20  오전 11:38           163,840 splwow64.exe\n",
      "2019-12-07  오후 06:14    <DIR>          System\n",
      "2019-12-07  오후 06:12               219 system.ini\n",
      "2023-03-16  오후 06:07    <DIR>          System32\n",
      "2023-02-20  오전 11:44    <DIR>          SystemApps\n",
      "2023-02-20  오전 11:44    <DIR>          SystemResources\n",
      "2021-12-15  오후 01:25    <DIR>          SystemTemp\n",
      "2023-02-20  오후 01:36    <DIR>          SysWOW64\n",
      "2019-12-07  오후 06:14    <DIR>          TAPI\n",
      "2021-07-08  오전 09:28    <DIR>          Tasks\n",
      "2023-03-17  오전 09:10    <DIR>          Temp\n",
      "2019-12-07  오후 06:14    <DIR>          tracing\n",
      "2020-04-21  오전 05:57    <DIR>          twain_32\n",
      "2019-12-07  오후 06:10            65,024 twain_32.dll\n",
      "2019-12-07  오후 06:14    <DIR>          Vss\n",
      "2019-12-07  오후 06:14    <DIR>          WaaS\n",
      "2019-12-07  오후 06:31    <DIR>          Web\n",
      "2021-07-08  오전 09:47               124 win.ini\n",
      "2023-03-17  오전 11:04               276 WindowsUpdate.log\n",
      "2019-12-07  오후 06:10            11,776 winhlp32.exe\n",
      "2023-02-27  오후 02:15    <DIR>          WinSxS\n",
      "2019-12-07  오후 06:52           316,640 WMSysPr9.prx\n",
      "2019-12-07  오전 06:29            11,264 write.exe\n",
      "              33개 파일          14,016,597 바이트\n",
      "              79개 디렉터리  164,516,950,016 바이트 남음\n",
      "\n"
     ]
    }
   ],
   "source": [
    "print(f.read())"
   ]
  },
  {
   "cell_type": "markdown",
   "id": "8f286f9c-b157-4f46-a296-3cc2dd348336",
   "metadata": {},
   "source": [
    "#### 기타 유용한 os 관련 함수\n",
    "- ***os.mkdir***(디렉터리) : 디렉터리 생성\n",
    "- ***os.rmdir***(디렉터리) : 디렉터리 삭제. 단 디렉터리가 비어있어야 삭제 가능\n",
    "- ***os.unlink***(파일 이름) : 파일 지우기\n",
    "- ***os.rename***(src, dst) : src라는 이름의 파일을 dst라는 이름으로 바꿈"
   ]
  },
  {
   "cell_type": "markdown",
   "id": "6cab2665-3b2d-4e1f-8c76-fa2da2c85bdb",
   "metadata": {},
   "source": [
    "### shutil\n",
    "- 파일을 복사해 주는 파이썬 모듈"
   ]
  },
  {
   "cell_type": "markdown",
   "id": "33765bd5-9e99-43bf-be65-7976385808d2",
   "metadata": {},
   "source": [
    "src라는 이름의 파일을 dst로 복사하기\n",
    "- dst가 디렉터리 이름일 경우 : src라는 파일 이름으로 dst 디렉터리에 복사\n",
    "- 동일한 파일 이름이 있을 경우 : 덮어쓰기"
   ]
  },
  {
   "cell_type": "code",
   "execution_count": 10,
   "id": "cd672a25-998c-472f-b135-440b653f95b6",
   "metadata": {
    "tags": []
   },
   "outputs": [],
   "source": [
    "import shutil"
   ]
  },
  {
   "cell_type": "code",
   "execution_count": 12,
   "id": "2edc1d6e-e6b7-4841-89d0-642f3f5c677d",
   "metadata": {
    "tags": []
   },
   "outputs": [
    {
     "data": {
      "text/plain": [
       "'dst.txt'"
      ]
     },
     "execution_count": 12,
     "metadata": {},
     "output_type": "execute_result"
    }
   ],
   "source": [
    "shutil.copy(\"src.txt\", \"dst.txt\")"
   ]
  },
  {
   "cell_type": "markdown",
   "id": "487f9e1f-0a8f-49a6-baf8-28e107173851",
   "metadata": {},
   "source": [
    "위 예를 실행하면 src.txt 파일과 동일한 내용의 파일이 dst.txt로 복사됨"
   ]
  },
  {
   "cell_type": "code",
   "execution_count": 4,
   "id": "a841525e-a17a-419c-a796-4a94cd984a56",
   "metadata": {
    "tags": []
   },
   "outputs": [
    {
     "data": {
      "text/plain": [
       "'C:\\\\Users\\\\user\\\\New'"
      ]
     },
     "execution_count": 4,
     "metadata": {},
     "output_type": "execute_result"
    }
   ],
   "source": [
    "import os\n",
    "os.getcwd()"
   ]
  },
  {
   "cell_type": "markdown",
   "id": "b9c03f68-7722-453e-9351-79046c0cf13a",
   "metadata": {},
   "source": [
    "### glob\n",
    "- 가끔 파일을 읽고 쓰는 기능이 있는 프로그램을 만들다 보면 특정 디렉터리에 있는 파일 이름 모두를 알아야 할 때가 있다. \n",
    "- 이럴 때 사용하는 모듈이 바로 glob"
   ]
  },
  {
   "cell_type": "markdown",
   "id": "3a6e4fc5-8bb7-47b7-a4aa-8c8e92cd8af1",
   "metadata": {},
   "source": [
    "#### 디렉터리에 있는 파일들을 리스트로 만들기 - glob(pathname)\n",
    "- glob 모듈은 디렉터리 안의 파일들을 읽어서 돌려준다. *, ? 등 메타 문자를 써서 원하는 파일만 읽어 들일 수도 있다."
   ]
  },
  {
   "cell_type": "markdown",
   "id": "5d26700a-e03f-4690-a84b-6b919c451d4e",
   "metadata": {},
   "source": [
    "- C:/Users/user/test 디렉터리에 있는 파일 중 이름이 sys로 시작하는 파일을 모두 찾아서 읽어들이기"
   ]
  },
  {
   "cell_type": "code",
   "execution_count": 15,
   "id": "eb3b3901-4527-46dd-8b82-e4b8528ce392",
   "metadata": {
    "tags": []
   },
   "outputs": [
    {
     "data": {
      "text/plain": [
       "['sys1.py', 'sys2.py']"
      ]
     },
     "execution_count": 15,
     "metadata": {},
     "output_type": "execute_result"
    }
   ],
   "source": [
    "import os\n",
    "os.chdir(\"C:/Users/user/test\")\n",
    "import glob\n",
    "glob.glob(\"sys*\")"
   ]
  },
  {
   "cell_type": "markdown",
   "id": "debc725b-6daf-45f8-8702-49fa93f097a7",
   "metadata": {},
   "source": [
    "### tempfile\n",
    "- 파일을 임시로 만들어서 사용할 때 유용한 모듈\n",
    "- ***tempfile.mkstemp()*** : 중복되지 않는 임시 파일의 이름을 무작위로 만들어서 돌려줌 "
   ]
  },
  {
   "cell_type": "markdown",
   "id": "d3b519a5-3c4d-454d-a790-7f602d3b3b64",
   "metadata": {},
   "source": [
    "#### tempfile.TemporaryFile()\n",
    "- 임시 저장 공간으로 사용할 파일 객체를 돌려줌\n",
    "- 이 파일은 기본적으로 바이너리 쓰기 모드(wb)를 가짐\n",
    "- f.close()가 호출되면 이 파일 객체는 자동으로 사라짐"
   ]
  },
  {
   "cell_type": "code",
   "execution_count": 17,
   "id": "81d11f17-9ce8-4f55-80c0-bfb7ced85474",
   "metadata": {
    "tags": []
   },
   "outputs": [],
   "source": [
    "import tempfile\n",
    "f = tempfile.TemporaryFile()\n",
    "f.close() # 생성한 임시 파일 자동 삭제"
   ]
  },
  {
   "cell_type": "markdown",
   "id": "357acd20-9287-4b41-8a7f-0ebe25763cd0",
   "metadata": {},
   "source": [
    "### time\n",
    "- 시간과 관련된 time 모듈에는 함수가 굉장히 많다. 그 중 가장 유용한 몇 가지만 살펴보자"
   ]
  },
  {
   "cell_type": "markdown",
   "id": "0f3f38a4-b1cd-470c-b984-03c33da00855",
   "metadata": {},
   "source": [
    "#### time.time\n",
    "- UTC(Universal Time Coordinated 협정 세계 표준시)를 사용해 현재 시간을 실수 형태로 돌려주는 함수\n",
    "- 1970년 1월 1일 0시 0분 0초를 기준으로 지난 시간을 초 단위로 돌려줌"
   ]
  },
  {
   "cell_type": "code",
   "execution_count": 18,
   "id": "9ef46e28-e640-4d5f-bc48-18bbbc4ebbea",
   "metadata": {
    "tags": []
   },
   "outputs": [
    {
     "data": {
      "text/plain": [
       "1679041213.0852582"
      ]
     },
     "execution_count": 18,
     "metadata": {},
     "output_type": "execute_result"
    }
   ],
   "source": [
    "import time\n",
    "time.time()"
   ]
  },
  {
   "cell_type": "code",
   "execution_count": 47,
   "id": "7a20ded1-593c-4e9c-8430-c7d9b6c8a708",
   "metadata": {
    "tags": []
   },
   "outputs": [
    {
     "data": {
      "text/plain": [
       "53.981645794929086"
      ]
     },
     "execution_count": 47,
     "metadata": {},
     "output_type": "execute_result"
    }
   ],
   "source": [
    "time.time()/60\n",
    "time.time()/60/60\n",
    "time.time()/60/60/24 #며칠\n",
    "time.time()/60/60/24/30 #몇 달\n",
    "time.time()/60/60/24/30/12 # 몇 년"
   ]
  },
  {
   "cell_type": "markdown",
   "id": "00a4b6dc-6755-414b-85d5-36db8fbb6a93",
   "metadata": {},
   "source": [
    "#### time.localtime\n",
    "- time.time()이 돌려준 실수 값을 사용해 연도, 월, 일, 시, 분, 초, ...의 형태로 바꾸어주는 함수"
   ]
  },
  {
   "cell_type": "code",
   "execution_count": 19,
   "id": "c5f10cbb-e261-4629-9487-c1eb23ce136b",
   "metadata": {
    "tags": []
   },
   "outputs": [
    {
     "data": {
      "text/plain": [
       "time.struct_time(tm_year=2023, tm_mon=3, tm_mday=17, tm_hour=17, tm_min=21, tm_sec=4, tm_wday=4, tm_yday=76, tm_isdst=0)"
      ]
     },
     "execution_count": 19,
     "metadata": {},
     "output_type": "execute_result"
    }
   ],
   "source": [
    "time.localtime(time.time())"
   ]
  },
  {
   "cell_type": "code",
   "execution_count": 48,
   "id": "312797cf-4c5b-4c8e-9917-caccc08d3c4b",
   "metadata": {
    "tags": []
   },
   "outputs": [
    {
     "name": "stdout",
     "output_type": "stream",
     "text": [
      "2023 년 17 일\n"
     ]
    }
   ],
   "source": [
    "t = time.localtime()\n",
    "print(t.tm_year, \"년\", t.tm_mday, \"일\")"
   ]
  },
  {
   "cell_type": "markdown",
   "id": "2ea2a977-033e-460d-840a-8e3118d067d5",
   "metadata": {},
   "source": [
    "#### time.asctime\n",
    "- 위 time.localtime에 의해서 반환된 튜플 형태의 값을 인수로 받아서 날짜와 시간을 알아보기 쉬운 형태로 돌려주는 함수"
   ]
  },
  {
   "cell_type": "code",
   "execution_count": 21,
   "id": "93a37826-d030-4a9b-9050-a8a8e86a743b",
   "metadata": {
    "tags": []
   },
   "outputs": [
    {
     "data": {
      "text/plain": [
       "'Fri Mar 17 17:21:58 2023'"
      ]
     },
     "execution_count": 21,
     "metadata": {},
     "output_type": "execute_result"
    }
   ],
   "source": [
    "time.asctime(time.localtime(time.time()))"
   ]
  },
  {
   "cell_type": "markdown",
   "id": "86c72f04-4bde-4c55-926a-991b3c297173",
   "metadata": {},
   "source": [
    "#### time.ctime\n",
    "- time.asctime(time.localtime(tim.time()))은 time.ctime()을 사용해 간편하게 표시 가능\n",
    "- asctime과 다른 점은 ctime은 항상 현재 시간만을 돌려줌"
   ]
  },
  {
   "cell_type": "code",
   "execution_count": 22,
   "id": "699cc142-f166-496b-939f-dc022db92eb2",
   "metadata": {
    "tags": []
   },
   "outputs": [
    {
     "data": {
      "text/plain": [
       "'Fri Mar 17 17:24:32 2023'"
      ]
     },
     "execution_count": 22,
     "metadata": {},
     "output_type": "execute_result"
    }
   ],
   "source": [
    "time.ctime()"
   ]
  },
  {
   "cell_type": "markdown",
   "id": "d1eca10f-a857-4dd0-9713-3f7ab2ce18a1",
   "metadata": {
    "tags": []
   },
   "source": [
    "#### strftime과 strptime\n",
    "- ***strftime*** : 날짜와 시간(datetime)을 문자열로 출력\n",
    "- ***strptime*** : 날짜와 시간 형식의 문자열을 datetime으로 변환"
   ]
  },
  {
   "cell_type": "markdown",
   "id": "c8317a6e-bd7c-4d99-98b8-0eff64183aa9",
   "metadata": {
    "tags": []
   },
   "source": [
    "##### time.strftime\n",
    "- strftime 함수는 시간에 관계된 것을 세밀하게 표현하는 여러 포맷 코드를 제공"
   ]
  },
  {
   "cell_type": "code",
   "execution_count": null,
   "id": "459438da-d16b-4e02-abae-7cc4b4e9db85",
   "metadata": {},
   "outputs": [],
   "source": [
    "time.strftime('출력할 형식 포맷 코드', time.localtime(time.time()))"
   ]
  },
  {
   "cell_type": "markdown",
   "id": "39f5a4b1-1b17-476b-8a3e-0b3d671d111e",
   "metadata": {},
   "source": [
    "- time.strftime을 사용하는 예시"
   ]
  },
  {
   "cell_type": "code",
   "execution_count": 24,
   "id": "042b28f0-d80f-44be-9c52-7e813835a509",
   "metadata": {
    "tags": []
   },
   "outputs": [],
   "source": [
    "import time"
   ]
  },
  {
   "cell_type": "code",
   "execution_count": 25,
   "id": "74376aea-5a5c-4fee-9613-fe80c7b67f92",
   "metadata": {
    "tags": []
   },
   "outputs": [
    {
     "data": {
      "text/plain": [
       "'03/17/23'"
      ]
     },
     "execution_count": 25,
     "metadata": {},
     "output_type": "execute_result"
    }
   ],
   "source": [
    "time.strftime('%x', time.localtime(time.time()))"
   ]
  },
  {
   "cell_type": "code",
   "execution_count": 26,
   "id": "0687601f-c535-4a91-b03b-337a2647fe0f",
   "metadata": {
    "tags": []
   },
   "outputs": [
    {
     "data": {
      "text/plain": [
       "'Fri Mar 17 17:26:40 2023'"
      ]
     },
     "execution_count": 26,
     "metadata": {},
     "output_type": "execute_result"
    }
   ],
   "source": [
    "time.strftime('%c', time.localtime(time.time()))"
   ]
  },
  {
   "cell_type": "code",
   "execution_count": 50,
   "id": "816c976d-e113-4533-a2d4-567a3b9135d3",
   "metadata": {
    "tags": []
   },
   "outputs": [],
   "source": [
    "import datetime\n",
    "now = datetime.datetime.now()"
   ]
  },
  {
   "cell_type": "code",
   "execution_count": 51,
   "id": "6022e7f6-8d67-4fcf-b9fd-f66d7060d3b4",
   "metadata": {
    "tags": []
   },
   "outputs": [
    {
     "data": {
      "text/plain": [
       "'2023-03-17'"
      ]
     },
     "execution_count": 51,
     "metadata": {},
     "output_type": "execute_result"
    }
   ],
   "source": [
    "date = now.strftime('%Y-%m-%d')\n",
    "date"
   ]
  },
  {
   "cell_type": "code",
   "execution_count": 53,
   "id": "49441f6e-5480-4249-8008-9634670c54f8",
   "metadata": {
    "tags": []
   },
   "outputs": [
    {
     "data": {
      "text/plain": [
       "'18:30:07'"
      ]
     },
     "execution_count": 53,
     "metadata": {},
     "output_type": "execute_result"
    }
   ],
   "source": [
    "time = now.strftime('%H:%M:%S')\n",
    "time"
   ]
  },
  {
   "cell_type": "code",
   "execution_count": 54,
   "id": "59c3e7d5-0b8a-43be-a47a-4e1c5bafd5fe",
   "metadata": {
    "tags": []
   },
   "outputs": [
    {
     "data": {
      "text/plain": [
       "'2023-03-17 18:30:07'"
      ]
     },
     "execution_count": 54,
     "metadata": {},
     "output_type": "execute_result"
    }
   ],
   "source": [
    "datetime = now.strftime('%Y-%m-%d %H:%M:%S')\n",
    "datetime"
   ]
  },
  {
   "cell_type": "code",
   "execution_count": 55,
   "id": "7177a599-be67-4121-8347-04264c56039a",
   "metadata": {
    "tags": []
   },
   "outputs": [],
   "source": [
    "time = now.strftime('')"
   ]
  },
  {
   "cell_type": "markdown",
   "id": "ca81e8d8-7abd-493b-a0a4-164fd8176041",
   "metadata": {},
   "source": [
    "##### time.strptime\n",
    "- datetime.strptime(문자열, 형식)"
   ]
  },
  {
   "cell_type": "code",
   "execution_count": 56,
   "id": "bc0d6f23-3462-4b89-92fc-a4e47d7de999",
   "metadata": {
    "tags": []
   },
   "outputs": [
    {
     "name": "stdout",
     "output_type": "stream",
     "text": [
      "<class 'datetime.datetime'>\n"
     ]
    }
   ],
   "source": [
    "import datetime\n",
    "str_datetime = '2021-04-08 21:31:48'\n",
    "currdate = datetime.datetime.strptime(str_datetime, \"%Y-%m-%d %H:%M:%S\")\n",
    "\n",
    "print(type(currdate))"
   ]
  },
  {
   "cell_type": "markdown",
   "id": "384af98e-7f30-4aeb-8b64-e70ef0438302",
   "metadata": {},
   "source": [
    "#### time.sleep\n",
    "- 주로 루프 안에서 많이 사용\n",
    "- 이 함수를 사용하면 일정한 시간 간격을 두고 루프 실행 가능"
   ]
  },
  {
   "cell_type": "code",
   "execution_count": 27,
   "id": "5da3cbec-ef4b-4bc0-a822-e48eba5fe2cc",
   "metadata": {
    "tags": []
   },
   "outputs": [
    {
     "name": "stdout",
     "output_type": "stream",
     "text": [
      "0\n",
      "1\n",
      "2\n",
      "3\n",
      "4\n",
      "5\n",
      "6\n",
      "7\n",
      "8\n",
      "9\n"
     ]
    }
   ],
   "source": [
    "import time\n",
    "for i in range(10):\n",
    "    print(i)\n",
    "    time.sleep(i)"
   ]
  },
  {
   "cell_type": "markdown",
   "id": "5d04cde9-e60e-497a-b39f-e68535adc01a",
   "metadata": {},
   "source": [
    "위 예는 1초 간격으로 0부터 9까지의 숫자 출력<br>\n",
    "위 예에서 볼 수 있듯이 time.sleep함수의 인수는 실수 형태 사용 가능<br>\n",
    "즉, 1이면 1초, 0.5면 0.5초가 된다."
   ]
  },
  {
   "cell_type": "markdown",
   "id": "7666629a-84a4-40b1-a1c5-c67d829925d6",
   "metadata": {},
   "source": [
    "### calendar\n",
    "- 파이썬에서 달력을 볼 수 있게 해주는 모듈"
   ]
  },
  {
   "cell_type": "markdown",
   "id": "92cd74e6-7fcd-473b-a8ca-1a53996bf874",
   "metadata": {
    "tags": []
   },
   "source": [
    "#### calendar.calendar(연도)\n",
    "- 그 해의 전체 달력을 볼 수 있음"
   ]
  },
  {
   "cell_type": "code",
   "execution_count": 28,
   "id": "d433aa52-fc94-4e37-a103-e7bc15542e9c",
   "metadata": {
    "tags": []
   },
   "outputs": [
    {
     "name": "stdout",
     "output_type": "stream",
     "text": [
      "                                  2023\n",
      "\n",
      "      January                   February                   March\n",
      "Mo Tu We Th Fr Sa Su      Mo Tu We Th Fr Sa Su      Mo Tu We Th Fr Sa Su\n",
      "                   1             1  2  3  4  5             1  2  3  4  5\n",
      " 2  3  4  5  6  7  8       6  7  8  9 10 11 12       6  7  8  9 10 11 12\n",
      " 9 10 11 12 13 14 15      13 14 15 16 17 18 19      13 14 15 16 17 18 19\n",
      "16 17 18 19 20 21 22      20 21 22 23 24 25 26      20 21 22 23 24 25 26\n",
      "23 24 25 26 27 28 29      27 28                     27 28 29 30 31\n",
      "30 31\n",
      "\n",
      "       April                      May                       June\n",
      "Mo Tu We Th Fr Sa Su      Mo Tu We Th Fr Sa Su      Mo Tu We Th Fr Sa Su\n",
      "                1  2       1  2  3  4  5  6  7                1  2  3  4\n",
      " 3  4  5  6  7  8  9       8  9 10 11 12 13 14       5  6  7  8  9 10 11\n",
      "10 11 12 13 14 15 16      15 16 17 18 19 20 21      12 13 14 15 16 17 18\n",
      "17 18 19 20 21 22 23      22 23 24 25 26 27 28      19 20 21 22 23 24 25\n",
      "24 25 26 27 28 29 30      29 30 31                  26 27 28 29 30\n",
      "\n",
      "        July                     August                  September\n",
      "Mo Tu We Th Fr Sa Su      Mo Tu We Th Fr Sa Su      Mo Tu We Th Fr Sa Su\n",
      "                1  2          1  2  3  4  5  6                   1  2  3\n",
      " 3  4  5  6  7  8  9       7  8  9 10 11 12 13       4  5  6  7  8  9 10\n",
      "10 11 12 13 14 15 16      14 15 16 17 18 19 20      11 12 13 14 15 16 17\n",
      "17 18 19 20 21 22 23      21 22 23 24 25 26 27      18 19 20 21 22 23 24\n",
      "24 25 26 27 28 29 30      28 29 30 31               25 26 27 28 29 30\n",
      "31\n",
      "\n",
      "      October                   November                  December\n",
      "Mo Tu We Th Fr Sa Su      Mo Tu We Th Fr Sa Su      Mo Tu We Th Fr Sa Su\n",
      "                   1             1  2  3  4  5                   1  2  3\n",
      " 2  3  4  5  6  7  8       6  7  8  9 10 11 12       4  5  6  7  8  9 10\n",
      " 9 10 11 12 13 14 15      13 14 15 16 17 18 19      11 12 13 14 15 16 17\n",
      "16 17 18 19 20 21 22      20 21 22 23 24 25 26      18 19 20 21 22 23 24\n",
      "23 24 25 26 27 28 29      27 28 29 30               25 26 27 28 29 30 31\n",
      "30 31\n",
      "\n"
     ]
    }
   ],
   "source": [
    "import calendar\n",
    "print(calendar.calendar(2023))"
   ]
  },
  {
   "cell_type": "markdown",
   "id": "e7c5da36-6f5f-40f3-995a-358669ab66c6",
   "metadata": {},
   "source": [
    "#### calendar.prcal(연도)\n",
    "- 위와 똑같은 결괏값 출력"
   ]
  },
  {
   "cell_type": "code",
   "execution_count": 29,
   "id": "9d3761d6-c753-400f-977a-b8b148f8a8b8",
   "metadata": {
    "tags": []
   },
   "outputs": [
    {
     "name": "stdout",
     "output_type": "stream",
     "text": [
      "                                  2023\n",
      "\n",
      "      January                   February                   March\n",
      "Mo Tu We Th Fr Sa Su      Mo Tu We Th Fr Sa Su      Mo Tu We Th Fr Sa Su\n",
      "                   1             1  2  3  4  5             1  2  3  4  5\n",
      " 2  3  4  5  6  7  8       6  7  8  9 10 11 12       6  7  8  9 10 11 12\n",
      " 9 10 11 12 13 14 15      13 14 15 16 17 18 19      13 14 15 16 17 18 19\n",
      "16 17 18 19 20 21 22      20 21 22 23 24 25 26      20 21 22 23 24 25 26\n",
      "23 24 25 26 27 28 29      27 28                     27 28 29 30 31\n",
      "30 31\n",
      "\n",
      "       April                      May                       June\n",
      "Mo Tu We Th Fr Sa Su      Mo Tu We Th Fr Sa Su      Mo Tu We Th Fr Sa Su\n",
      "                1  2       1  2  3  4  5  6  7                1  2  3  4\n",
      " 3  4  5  6  7  8  9       8  9 10 11 12 13 14       5  6  7  8  9 10 11\n",
      "10 11 12 13 14 15 16      15 16 17 18 19 20 21      12 13 14 15 16 17 18\n",
      "17 18 19 20 21 22 23      22 23 24 25 26 27 28      19 20 21 22 23 24 25\n",
      "24 25 26 27 28 29 30      29 30 31                  26 27 28 29 30\n",
      "\n",
      "        July                     August                  September\n",
      "Mo Tu We Th Fr Sa Su      Mo Tu We Th Fr Sa Su      Mo Tu We Th Fr Sa Su\n",
      "                1  2          1  2  3  4  5  6                   1  2  3\n",
      " 3  4  5  6  7  8  9       7  8  9 10 11 12 13       4  5  6  7  8  9 10\n",
      "10 11 12 13 14 15 16      14 15 16 17 18 19 20      11 12 13 14 15 16 17\n",
      "17 18 19 20 21 22 23      21 22 23 24 25 26 27      18 19 20 21 22 23 24\n",
      "24 25 26 27 28 29 30      28 29 30 31               25 26 27 28 29 30\n",
      "31\n",
      "\n",
      "      October                   November                  December\n",
      "Mo Tu We Th Fr Sa Su      Mo Tu We Th Fr Sa Su      Mo Tu We Th Fr Sa Su\n",
      "                   1             1  2  3  4  5                   1  2  3\n",
      " 2  3  4  5  6  7  8       6  7  8  9 10 11 12       4  5  6  7  8  9 10\n",
      " 9 10 11 12 13 14 15      13 14 15 16 17 18 19      11 12 13 14 15 16 17\n",
      "16 17 18 19 20 21 22      20 21 22 23 24 25 26      18 19 20 21 22 23 24\n",
      "23 24 25 26 27 28 29      27 28 29 30               25 26 27 28 29 30 31\n",
      "30 31\n"
     ]
    }
   ],
   "source": [
    "calendar.prcal(2023)"
   ]
  },
  {
   "cell_type": "markdown",
   "id": "e6692d53-f223-467d-a96c-698e74fd1d4f",
   "metadata": {},
   "source": [
    "#### calendar.prmonth(월)\n",
    "- 2023년 12월의 달력만 출력"
   ]
  },
  {
   "cell_type": "code",
   "execution_count": 30,
   "id": "12b85800-dbf8-4a18-9fe9-6434c39b5247",
   "metadata": {
    "tags": []
   },
   "outputs": [
    {
     "name": "stdout",
     "output_type": "stream",
     "text": [
      "   December 2023\n",
      "Mo Tu We Th Fr Sa Su\n",
      "             1  2  3\n",
      " 4  5  6  7  8  9 10\n",
      "11 12 13 14 15 16 17\n",
      "18 19 20 21 22 23 24\n",
      "25 26 27 28 29 30 31\n"
     ]
    }
   ],
   "source": [
    "calendar.prmonth(2023, 12)"
   ]
  },
  {
   "cell_type": "markdown",
   "id": "2eca443e-44cf-40ec-b20f-ee56af66d0b0",
   "metadata": {},
   "source": [
    "#### calendar.weekday(연도, 월, 일)\n",
    "- 그 날짜에 해당하는 요일 정보 출력\n",
    "- 월요일: 0, 화요일: 1, 수요일: 2, 목요일: 3, 금요일: 4, 토요일: 5, 일요일: 6"
   ]
  },
  {
   "cell_type": "code",
   "execution_count": 32,
   "id": "bb0b1000-afca-4248-857b-5930e8a927de",
   "metadata": {
    "tags": []
   },
   "outputs": [
    {
     "data": {
      "text/plain": [
       "6"
      ]
     },
     "execution_count": 32,
     "metadata": {},
     "output_type": "execute_result"
    }
   ],
   "source": [
    "calendar.weekday(2023,12,31)"
   ]
  },
  {
   "cell_type": "markdown",
   "id": "e15a3fd3-af42-4176-b5d2-640a6db579e7",
   "metadata": {},
   "source": [
    "#### calendar.monthrange(연도, 월)\n",
    "- 입력받은 달의 1일이 무슨 요일인지와 그 달이 며칠가지 있는지를 튜플 형태로 돌려줌"
   ]
  },
  {
   "cell_type": "code",
   "execution_count": 33,
   "id": "1d9b9f7c-0066-4de0-addb-5ff020162edd",
   "metadata": {
    "tags": []
   },
   "outputs": [
    {
     "data": {
      "text/plain": [
       "(4, 31)"
      ]
     },
     "execution_count": 33,
     "metadata": {},
     "output_type": "execute_result"
    }
   ],
   "source": [
    "calendar.monthrange(2023, 12)"
   ]
  },
  {
   "cell_type": "markdown",
   "id": "dcc95045-9d89-4d0f-9108-ae7d6fec3035",
   "metadata": {},
   "source": [
    "위 예는 2023년 12월 1일은 금요일이고, 이 달은 31일까지 있다는 것을 보여줌"
   ]
  },
  {
   "cell_type": "markdown",
   "id": "00922247-d20b-4702-87c7-a50d35c2a842",
   "metadata": {},
   "source": [
    "날짜 관련 프로그래밍을 할 때 위 2가지 함수는 매우 유용하게 사용됨"
   ]
  },
  {
   "cell_type": "markdown",
   "id": "39de3917-4829-4bbb-90d0-5d44c0f715b3",
   "metadata": {},
   "source": [
    "### random\n",
    "- 난수(규칙이 없는 임의의 수)를 발생시키는 모듈\n",
    "- random, randint"
   ]
  },
  {
   "cell_type": "markdown",
   "id": "666dbf7a-32b4-47eb-84fe-33d6533ae0a4",
   "metadata": {},
   "source": [
    "#### random.random()\n",
    "- 0.0과 0.1 사이의 실수 중 난수 값 돌려주는 예시"
   ]
  },
  {
   "cell_type": "code",
   "execution_count": 34,
   "id": "eba10b9c-a84f-4a1f-bf23-3816243b6527",
   "metadata": {
    "tags": []
   },
   "outputs": [
    {
     "data": {
      "text/plain": [
       "0.5037757872104343"
      ]
     },
     "execution_count": 34,
     "metadata": {},
     "output_type": "execute_result"
    }
   ],
   "source": [
    "import random\n",
    "random.random()"
   ]
  },
  {
   "cell_type": "markdown",
   "id": "cfc112e8-98e3-41f8-a41c-7e35d7c28c37",
   "metadata": {},
   "source": [
    "#### random.randint\n",
    "- 1에서 10 사이의 정수 중 난수 값을 돌려줌"
   ]
  },
  {
   "cell_type": "code",
   "execution_count": 35,
   "id": "2a0a70b1-34aa-4c57-b599-9775e5b0f6eb",
   "metadata": {
    "tags": []
   },
   "outputs": [
    {
     "data": {
      "text/plain": [
       "6"
      ]
     },
     "execution_count": 35,
     "metadata": {},
     "output_type": "execute_result"
    }
   ],
   "source": [
    "random.randint(1,10) # 끝 숫자를 포함한다"
   ]
  },
  {
   "cell_type": "markdown",
   "id": "94fe1a14-0495-4031-bace-2accc3511b37",
   "metadata": {},
   "source": [
    "- 1에서 55사이의 정수 중에서 난수 값을 돌려줌"
   ]
  },
  {
   "cell_type": "code",
   "execution_count": 36,
   "id": "18ef8f24-8b6f-4990-b87c-f2da8ebeee4d",
   "metadata": {
    "tags": []
   },
   "outputs": [
    {
     "data": {
      "text/plain": [
       "3"
      ]
     },
     "execution_count": 36,
     "metadata": {},
     "output_type": "execute_result"
    }
   ],
   "source": [
    "random.randint(1,55)"
   ]
  },
  {
   "cell_type": "markdown",
   "id": "b7a49d32-21af-405f-b931-629716a72212",
   "metadata": {},
   "source": [
    "- random 모듈을 사용한 함수 만들기"
   ]
  },
  {
   "cell_type": "code",
   "execution_count": 37,
   "id": "9532ba72-1013-4e57-ad25-918b96000bf4",
   "metadata": {
    "tags": []
   },
   "outputs": [
    {
     "name": "stdout",
     "output_type": "stream",
     "text": [
      "5\n",
      "1\n",
      "2\n",
      "4\n",
      "3\n"
     ]
    }
   ],
   "source": [
    "import random\n",
    "def random_pop(data):\n",
    "    number = random.randint(0,len(data)-1)\n",
    "    return data.pop(number)\n",
    "\n",
    "if __name__ == \"__main__\":\n",
    "    data = [1,2,3,4,5]\n",
    "    while data: print(random_pop(data))"
   ]
  },
  {
   "cell_type": "markdown",
   "id": "bfa5498b-4a49-4c9a-a8e7-d9d79846f4ba",
   "metadata": {},
   "source": [
    "위 random_pop 수는 리스트의 요소 중 무작위를 하나 선택해 꺼낸 후 그 값을 돌려줌. <br>\n",
    "꺼낸 요소는 pop 메서드에 의해 사라짐"
   ]
  },
  {
   "cell_type": "markdown",
   "id": "4fa9abce-3a10-4cd8-a281-f8a38821e3c1",
   "metadata": {},
   "source": [
    "#### random.choice\n",
    "- random_pop함수는 random 모듈의 choice 함수를 사용해 더 직관적으로 만들 수 있음"
   ]
  },
  {
   "cell_type": "code",
   "execution_count": 38,
   "id": "97fa0d96-b6aa-4483-99d0-ee3ac5b7728b",
   "metadata": {
    "tags": []
   },
   "outputs": [],
   "source": [
    "def random_pop(data):\n",
    "    number = random.choice(data)\n",
    "    data.remove(number)\n",
    "    return number"
   ]
  },
  {
   "cell_type": "markdown",
   "id": "c210e3b6-33c7-4bee-bead-66012db6cf82",
   "metadata": {},
   "source": [
    "random.choice 함수는 입력으로 받은 리스트에서 무작위로 하나를 선택해 돌려줌"
   ]
  },
  {
   "cell_type": "markdown",
   "id": "1d5d3a24-5b6d-4ceb-9c72-a58438378961",
   "metadata": {},
   "source": [
    "#### random.shuffle\n",
    "- 리스트의 항목을 무작위로 섞고 싶을 때 사용"
   ]
  },
  {
   "cell_type": "code",
   "execution_count": 39,
   "id": "43ffbfa8-5f7e-4ee3-9cb7-6a66412362da",
   "metadata": {
    "tags": []
   },
   "outputs": [
    {
     "data": {
      "text/plain": [
       "[2, 4, 1, 5, 3]"
      ]
     },
     "execution_count": 39,
     "metadata": {},
     "output_type": "execute_result"
    }
   ],
   "source": [
    "import random\n",
    "data = [1,2,3,4,5]\n",
    "random.shuffle(data)\n",
    "data"
   ]
  },
  {
   "cell_type": "markdown",
   "id": "8d454a91-494e-47b6-ba44-d40b3a028e4d",
   "metadata": {},
   "source": [
    "[1,2,3,4,5] 리스트가 shuffle 함수에 의해 섞여서 [2,4,1,5,3]으로 변함"
   ]
  },
  {
   "cell_type": "markdown",
   "id": "41422a7e-72b9-4521-8c8b-877be8cb009a",
   "metadata": {},
   "source": [
    "#### random.uniform()\n",
    "- 2개의 숫자 사이의 랜덤 실수 리턴"
   ]
  },
  {
   "cell_type": "code",
   "execution_count": 57,
   "id": "64f4d1fb-e312-443c-aa01-5b26078bc5f0",
   "metadata": {
    "tags": []
   },
   "outputs": [
    {
     "data": {
      "text/plain": [
       "6.917801691134953"
      ]
     },
     "execution_count": 57,
     "metadata": {},
     "output_type": "execute_result"
    }
   ],
   "source": [
    "random.uniform(1,10)"
   ]
  },
  {
   "cell_type": "markdown",
   "id": "ca9dbc05-2bc9-43ec-839e-91e3bd4c4a87",
   "metadata": {},
   "source": [
    "#### random.choice()\n",
    "- 랜덤하게 하나의 원소 선택"
   ]
  },
  {
   "cell_type": "code",
   "execution_count": 60,
   "id": "306c1c3c-fb85-4bb3-8bf5-c3b7b3fd65bb",
   "metadata": {
    "tags": []
   },
   "outputs": [
    {
     "name": "stdout",
     "output_type": "stream",
     "text": [
      "0\n"
     ]
    }
   ],
   "source": [
    "import random\n",
    "l = [0,1,2,3,4]\n",
    "print(random.choice(l))"
   ]
  },
  {
   "cell_type": "markdown",
   "id": "df22a108-27c5-4c32-9107-e8823de8782e",
   "metadata": {},
   "source": [
    "- 튜플이나 문자열에서도 choice 함수를 사용해 문자를 랜덤하게 취득 가능"
   ]
  },
  {
   "cell_type": "code",
   "execution_count": 61,
   "id": "9ea16515-0075-47a3-bdb6-150b46049897",
   "metadata": {
    "tags": []
   },
   "outputs": [
    {
     "name": "stdout",
     "output_type": "stream",
     "text": [
      "yyy\n",
      "d\n"
     ]
    }
   ],
   "source": [
    "import random\n",
    "print(random.choice(('xxx','yyy','zzz')))\n",
    "print(random.choice('abcde'))"
   ]
  },
  {
   "cell_type": "markdown",
   "id": "6ff9af07-740f-4661-ab68-d12a0ef9afec",
   "metadata": {},
   "source": [
    "- 주의점 : 공백 리스트나 튜플 또는 문자열에 choice 함수를 사용하면 에러 발생"
   ]
  },
  {
   "cell_type": "code",
   "execution_count": 62,
   "id": "5b0f7404-f320-46fb-99b9-fc8e2fcf1050",
   "metadata": {
    "tags": []
   },
   "outputs": [
    {
     "ename": "IndexError",
     "evalue": "list index out of range",
     "output_type": "error",
     "traceback": [
      "\u001b[1;31m---------------------------------------------------------------------------\u001b[0m",
      "\u001b[1;31mIndexError\u001b[0m                                Traceback (most recent call last)",
      "Cell \u001b[1;32mIn[62], line 2\u001b[0m\n\u001b[0;32m      1\u001b[0m \u001b[38;5;28;01mimport\u001b[39;00m \u001b[38;5;21;01mrandom\u001b[39;00m\n\u001b[1;32m----> 2\u001b[0m \u001b[38;5;28mprint\u001b[39m(\u001b[43mrandom\u001b[49m\u001b[38;5;241;43m.\u001b[39;49m\u001b[43mchoice\u001b[49m\u001b[43m(\u001b[49m\u001b[43m[\u001b[49m\u001b[43m]\u001b[49m\u001b[43m)\u001b[49m)\n",
      "File \u001b[1;32m~\\AppData\\Local\\Programs\\Python\\Python310\\lib\\random.py:378\u001b[0m, in \u001b[0;36mRandom.choice\u001b[1;34m(self, seq)\u001b[0m\n\u001b[0;32m    376\u001b[0m \u001b[38;5;250m\u001b[39m\u001b[38;5;124;03m\"\"\"Choose a random element from a non-empty sequence.\"\"\"\u001b[39;00m\n\u001b[0;32m    377\u001b[0m \u001b[38;5;66;03m# raises IndexError if seq is empty\u001b[39;00m\n\u001b[1;32m--> 378\u001b[0m \u001b[38;5;28;01mreturn\u001b[39;00m \u001b[43mseq\u001b[49m\u001b[43m[\u001b[49m\u001b[38;5;28;43mself\u001b[39;49m\u001b[38;5;241;43m.\u001b[39;49m\u001b[43m_randbelow\u001b[49m\u001b[43m(\u001b[49m\u001b[38;5;28;43mlen\u001b[39;49m\u001b[43m(\u001b[49m\u001b[43mseq\u001b[49m\u001b[43m)\u001b[49m\u001b[43m)\u001b[49m\u001b[43m]\u001b[49m\n",
      "\u001b[1;31mIndexError\u001b[0m: list index out of range"
     ]
    }
   ],
   "source": [
    "import random\n",
    "print(random.choice([]))"
   ]
  },
  {
   "cell_type": "markdown",
   "id": "260e4112-248c-4522-9d9f-5c1f7df1fff4",
   "metadata": {},
   "source": [
    "#### random.choices()\n",
    "- ***형식***: choices(리스트, k =취득개수)\n",
    "- choices 함수의 첫 번째 파라미터 : 대상이 되는 리스트\n",
    "- choices 함수의 두 번재 파라미터 : 랜덤으로 취득하고 싶은 요소 개수 k"
   ]
  },
  {
   "cell_type": "code",
   "execution_count": 67,
   "id": "1db0b54e-f752-4fa3-b5ef-47d595a4aa3e",
   "metadata": {
    "tags": []
   },
   "outputs": [
    {
     "name": "stdout",
     "output_type": "stream",
     "text": [
      "[0, 1, 2]\n"
     ]
    }
   ],
   "source": [
    "import random\n",
    "l = [0,1,2,3,4]\n",
    "print(random.choices(l, k=3))"
   ]
  },
  {
   "cell_type": "markdown",
   "id": "e550a9fb-3f6b-4186-8f11-2dbfcea34736",
   "metadata": {},
   "source": [
    "choices 함수를 사용해 취득한 결과를 보면 추출 대상 리스트에는 중복된 값을 지정하지 않았지만 중복된 값이 표시되어 있음\n",
    "<br>sample 함수와 다르게 choices 함수는 한번 추출한 요소를 제외시키지 않음<br>\n",
    "그래서 추출 대상 리스트의 요소수보다 랜덤하게 취득하고 싶은 요소를 크게 지정해도 에러가 발생하지 않음"
   ]
  },
  {
   "cell_type": "code",
   "execution_count": 68,
   "id": "b7543db6-031f-4def-9d3b-d52962e74831",
   "metadata": {
    "tags": []
   },
   "outputs": [
    {
     "name": "stdout",
     "output_type": "stream",
     "text": [
      "[1, 0, 1, 4, 0, 2, 2, 3, 3, 1]\n"
     ]
    }
   ],
   "source": [
    "import random\n",
    "l = [0,1,2,3,4]\n",
    "print(random.choices(l,k=10))"
   ]
  },
  {
   "cell_type": "markdown",
   "id": "31469b72-fe18-4c0b-b0bd-43e343d118f1",
   "metadata": {},
   "source": [
    "추출 대상 리스트에는 요소가 5개 있지만 랜덤으로 10개 추출 가능\n",
    "<br>k를 생략할 경우 기본값으로 1 지정"
   ]
  },
  {
   "cell_type": "markdown",
   "id": "1bb2804a-b8ae-4c56-838e-3f69e64af75a",
   "metadata": {},
   "source": [
    "#### random.sample()\n",
    "- 리스트에서 여러 개 요소를 랜덤으로 취득\n",
    "- sample로 랜덤하게 취득한 값은 중복되지 않음\n",
    "- ***형식*** : ***sample***(리스트, 취득 개수)<br>\n",
    "***sample*** 함수의 첫번째 파라미터 : 추출 대상이 되는 리스트<br>\n",
    "***sample*** 함수의 두번째 파라미터 : 랜덤으로 취득하고 싶은 요소 개수\n"
   ]
  },
  {
   "cell_type": "code",
   "execution_count": 63,
   "id": "3cd98668-0011-477e-addd-e30d7cdafe34",
   "metadata": {
    "tags": []
   },
   "outputs": [
    {
     "name": "stdout",
     "output_type": "stream",
     "text": [
      "[1, 4, 2]\n",
      "<class 'list'>\n"
     ]
    }
   ],
   "source": [
    "import random\n",
    "l = [0,1,2,3,4]\n",
    "print(random.sample(l,3))\n",
    "\n",
    "#반환값 데이터 타입 확인\n",
    "print(type(random.sample(l,3)))"
   ]
  },
  {
   "cell_type": "markdown",
   "id": "d308ff1c-eaef-4304-b617-95a0bbc0cd91",
   "metadata": {},
   "source": [
    "***sample***을 사용해 취득한 결과값은 리스트 형태로 반환<br>\n",
    "결과값이 없는 경우에도 리스트 형태로 반환"
   ]
  },
  {
   "cell_type": "code",
   "execution_count": 64,
   "id": "978c6a88-f0ad-4010-a9c4-6965f6861fda",
   "metadata": {
    "tags": []
   },
   "outputs": [
    {
     "name": "stdout",
     "output_type": "stream",
     "text": [
      "[]\n"
     ]
    }
   ],
   "source": [
    "import random\n",
    "l = [0,1,2,3,4]\n",
    "print(random.sample(l,0))"
   ]
  },
  {
   "cell_type": "markdown",
   "id": "3f91d38b-9ea2-4195-9876-32ab601beb94",
   "metadata": {},
   "source": [
    "- 취득하고 싶은 요소 개수가 추출 대상 리스트 요소수보다 큰 경우 에러발생"
   ]
  },
  {
   "cell_type": "code",
   "execution_count": 65,
   "id": "4828c2ec-5bd7-4dbe-a192-5388dc02db28",
   "metadata": {
    "tags": []
   },
   "outputs": [
    {
     "ename": "ValueError",
     "evalue": "Sample larger than population or is negative",
     "output_type": "error",
     "traceback": [
      "\u001b[1;31m---------------------------------------------------------------------------\u001b[0m",
      "\u001b[1;31mValueError\u001b[0m                                Traceback (most recent call last)",
      "Cell \u001b[1;32mIn[65], line 3\u001b[0m\n\u001b[0;32m      1\u001b[0m \u001b[38;5;28;01mimport\u001b[39;00m \u001b[38;5;21;01mrandom\u001b[39;00m\n\u001b[0;32m      2\u001b[0m l \u001b[38;5;241m=\u001b[39m [\u001b[38;5;241m0\u001b[39m,\u001b[38;5;241m1\u001b[39m,\u001b[38;5;241m2\u001b[39m,\u001b[38;5;241m3\u001b[39m,\u001b[38;5;241m4\u001b[39m]\n\u001b[1;32m----> 3\u001b[0m \u001b[38;5;28mprint\u001b[39m(\u001b[43mrandom\u001b[49m\u001b[38;5;241;43m.\u001b[39;49m\u001b[43msample\u001b[49m\u001b[43m(\u001b[49m\u001b[43ml\u001b[49m\u001b[43m,\u001b[49m\u001b[38;5;241;43m10\u001b[39;49m\u001b[43m)\u001b[49m)\n",
      "File \u001b[1;32m~\\AppData\\Local\\Programs\\Python\\Python310\\lib\\random.py:482\u001b[0m, in \u001b[0;36mRandom.sample\u001b[1;34m(self, population, k, counts)\u001b[0m\n\u001b[0;32m    480\u001b[0m randbelow \u001b[38;5;241m=\u001b[39m \u001b[38;5;28mself\u001b[39m\u001b[38;5;241m.\u001b[39m_randbelow\n\u001b[0;32m    481\u001b[0m \u001b[38;5;28;01mif\u001b[39;00m \u001b[38;5;129;01mnot\u001b[39;00m \u001b[38;5;241m0\u001b[39m \u001b[38;5;241m<\u001b[39m\u001b[38;5;241m=\u001b[39m k \u001b[38;5;241m<\u001b[39m\u001b[38;5;241m=\u001b[39m n:\n\u001b[1;32m--> 482\u001b[0m     \u001b[38;5;28;01mraise\u001b[39;00m \u001b[38;5;167;01mValueError\u001b[39;00m(\u001b[38;5;124m\"\u001b[39m\u001b[38;5;124mSample larger than population or is negative\u001b[39m\u001b[38;5;124m\"\u001b[39m)\n\u001b[0;32m    483\u001b[0m result \u001b[38;5;241m=\u001b[39m [\u001b[38;5;28;01mNone\u001b[39;00m] \u001b[38;5;241m*\u001b[39m k\n\u001b[0;32m    484\u001b[0m setsize \u001b[38;5;241m=\u001b[39m \u001b[38;5;241m21\u001b[39m        \u001b[38;5;66;03m# size of a small set minus size of an empty list\u001b[39;00m\n",
      "\u001b[1;31mValueError\u001b[0m: Sample larger than population or is negative"
     ]
    }
   ],
   "source": [
    "import random\n",
    "l = [0,1,2,3,4]\n",
    "print(random.sample(l,10))"
   ]
  },
  {
   "cell_type": "markdown",
   "id": "270df836-b528-4579-988a-585054895aa9",
   "metadata": {},
   "source": [
    "- sample 함수에도 튜플이나 문자열 지정 가능"
   ]
  },
  {
   "cell_type": "code",
   "execution_count": 66,
   "id": "87a5c0c1-be77-43cb-880c-3229041b91fb",
   "metadata": {
    "tags": []
   },
   "outputs": [
    {
     "name": "stdout",
     "output_type": "stream",
     "text": [
      "['zzz', 'xxx']\n",
      "['a', 'c']\n"
     ]
    }
   ],
   "source": [
    "import random\n",
    "print(random.sample(('xxx','yyy','zzz'),2))\n",
    "print(random.sample('abcde', 2))"
   ]
  },
  {
   "cell_type": "code",
   "execution_count": null,
   "id": "9a760ee1-f9fc-4a67-ba05-95956f9c0303",
   "metadata": {},
   "outputs": [],
   "source": [
    "random.sample() : 중복없이\n",
    "random.shuffle() \n",
    "\n",
    "random.choices() : k개 복원추출(중복가능)\n",
    "random.randint(10,15) : 정수 1개 임의출력,\n",
    "                        10~15사이의 정수 1개 출력?\n",
    "    \n",
    "random.random.random() : 0초과 1미만의 실수 중 1개 임의 출력\n",
    "random.uniform(10,15) : 10~15 사이의 실수 1개 출력?\n"
   ]
  },
  {
   "cell_type": "markdown",
   "id": "74ff9e04-b0de-4c05-a8cc-b2308425f7c6",
   "metadata": {},
   "source": [
    "### webbrowser\n",
    "- 자신의 시스템에서 사용하는 기본 웹 브라우저를 자동으로 실행하는 모듈"
   ]
  },
  {
   "cell_type": "markdown",
   "id": "abeefd9b-a300-478f-9808-ce7ae516cb36",
   "metadata": {},
   "source": [
    "#### webbrowser.open\n",
    "- ***웹 브라우저가 이미 실행된 상태*** : 입력 주소로 이동\n",
    "- ***웹 브라우저가 실행되지 않은 상태*** : 새로 웹 브라우저 실행 후 해당 주소로 이동\n",
    "- 다음 예제는 웹 브라우저를 자동으로 실행하고 해당 URL인 google.com으로 가게 함\n"
   ]
  },
  {
   "cell_type": "code",
   "execution_count": 40,
   "id": "d1aee720-8cab-4331-8968-3a81a0936b98",
   "metadata": {
    "tags": []
   },
   "outputs": [
    {
     "data": {
      "text/plain": [
       "True"
      ]
     },
     "execution_count": 40,
     "metadata": {},
     "output_type": "execute_result"
    }
   ],
   "source": [
    "import webbrowser\n",
    "webbrowser.open(\"http://google.com\")"
   ]
  },
  {
   "cell_type": "markdown",
   "id": "6401fcce-4592-4e45-889e-80af7ff431e4",
   "metadata": {},
   "source": [
    "#### webbrowser.open_new\n",
    "- 이미 웹브라우저가 실행된 상태이더라도 새로운 창으로 해당 주소가 열리게 함"
   ]
  },
  {
   "cell_type": "markdown",
   "id": "64dfb247-ecf9-4dd1-ab7d-6cadc8f14643",
   "metadata": {},
   "source": [
    "### 스레드를 다루는 threading 모듈\n",
    "- ***프로세스***: 컴퓨터에서 동작하고 있는 프로그램\n",
    "- 보통 1개의 프로세스는 한 가지 일만 하지만 스레드(Thread)를 사용하면 한 프로세스 안에서 2가지 또는 그 이상의 일을 동시에 수행 가능"
   ]
  },
  {
   "cell_type": "code",
   "execution_count": 43,
   "id": "5f7d69f8-c6f9-4a72-be36-92254a517f99",
   "metadata": {
    "tags": []
   },
   "outputs": [
    {
     "name": "stdout",
     "output_type": "stream",
     "text": [
      "Start\n",
      "working:0\n",
      "\n",
      "working:1\n",
      "\n",
      "working:2\n",
      "\n",
      "working:3\n",
      "\n",
      "working:4\n",
      "\n",
      "working:0\n",
      "\n",
      "working:1\n",
      "\n",
      "working:2\n",
      "\n",
      "working:3\n",
      "\n",
      "working:4\n",
      "\n",
      "working:0\n",
      "\n",
      "working:1\n",
      "\n",
      "working:2\n",
      "\n",
      "working:3\n",
      "\n",
      "working:4\n",
      "\n",
      "working:0\n",
      "\n",
      "working:1\n",
      "\n",
      "working:2\n",
      "\n",
      "working:3\n",
      "\n",
      "working:4\n",
      "\n",
      "working:0\n",
      "\n",
      "working:1\n",
      "\n",
      "working:2\n",
      "\n",
      "working:3\n",
      "\n",
      "working:4\n",
      "\n",
      "End\n"
     ]
    }
   ],
   "source": [
    "import time\n",
    "\n",
    "def long_task(): # 5초의 시간이 걸리는 함수\n",
    "    for i in range(5):\n",
    "        time.sleep(1) # 1초간 대기\n",
    "        print(\"working:%s\\n\" % i)\n",
    "\n",
    "print(\"Start\")\n",
    "    \n",
    "for i in range(5): # long_task를 5회 수행\n",
    "    long_task()\n",
    "\n",
    "print(\"End\")"
   ]
  },
  {
   "cell_type": "markdown",
   "id": "7ea62921-d69f-4d0c-9351-5b93e0ff225c",
   "metadata": {},
   "source": [
    "long_task 함수는 수행하는 데 5초의 시간이 걸리는 함수. 위 프로그램은 이 함수를 총 5번 반복해서 수행하는 프로그램.<br>\n",
    "이 프로그램은 5초가 5번 반복되니 총 25초의 시간이 걸림.<br>\n",
    "하지만 스레드를 사용하면 5초의 시간이 걸리는 long_task 함수를 동시에 실행할 수 있으니 시간을 줄일 수 있다."
   ]
  },
  {
   "cell_type": "markdown",
   "id": "7a070d05-ab9c-4ced-9049-85cec735f1ed",
   "metadata": {},
   "source": [
    "- 스레드를 사용해 수정한 프로그램"
   ]
  },
  {
   "cell_type": "code",
   "execution_count": 45,
   "id": "914eb6ce-8745-4883-9139-184a101beca7",
   "metadata": {
    "tags": []
   },
   "outputs": [
    {
     "name": "stdout",
     "output_type": "stream",
     "text": [
      "Start\n",
      "End\n",
      "working:0\n",
      "\n",
      "working:0\n",
      "\n",
      "working:0\n",
      "\n",
      "working:0\n",
      "\n",
      "working:0\n",
      "\n",
      "working:1\n",
      "\n",
      "working:1\n",
      "\n",
      "working:1\n",
      "\n",
      "working:1\n",
      "\n",
      "working:1\n",
      "\n",
      "working:2\n",
      "\n",
      "working:2\n",
      "\n",
      "working:2\n",
      "\n",
      "working:2\n",
      "\n",
      "working:2\n",
      "\n",
      "working:3\n",
      "working:3\n",
      "\n",
      "\n",
      "working:3\n",
      "\n",
      "working:3\n",
      "\n",
      "working:3\n",
      "\n",
      "working:4\n",
      "\n",
      "working:4\n",
      "\n",
      "working:4\n",
      "\n",
      "working:4\n",
      "\n",
      "working:4\n",
      "\n"
     ]
    }
   ],
   "source": [
    "import time\n",
    "import threading # 스레드를 생성하기 위해서는 threading 모듈이 필요\n",
    "\n",
    "def long_task():\n",
    "    for i in range(5):\n",
    "        time.sleep(1)\n",
    "        print(\"working:%s\\n\" % i)\n",
    "print(\"Start\")\n",
    "\n",
    "threads = []\n",
    "for i in range(5):\n",
    "    t = threading.Thread(target=long_task) # 스레드 생성\n",
    "    threads.append(t)\n",
    "    \n",
    "for t in threads:\n",
    "    t.start() # 스레드 실행\n",
    "\n",
    "print(\"End\")"
   ]
  },
  {
   "cell_type": "markdown",
   "id": "495fdb2b-ea53-4473-bff9-7a42480be0e4",
   "metadata": {},
   "source": [
    "이와 같이 프로그램을 수정 후 실행해 보면 25초 걸리던 작업이 5초 정도에 수행된다.<br>\n",
    "threading.Thread를 사용해 만든 스레드 객체가 동시 작업을 가능하게 해 주기 때문<br>\n",
    "하지만 위 프로그램을 실행 시 \"Start\"와 \"End\"가 먼저 출력되고 그 이후에 스레드의 결과가 출력됨. 또한 프로그램이 정상 종료되지 않음.<br>\n",
    "우리가 기대하는 것은 \"Start\"가 출력되고 그 다음에 스레드의 결과 출력 후 마지막으로 \"End\"가 출력되는 것"
   ]
  },
  {
   "cell_type": "markdown",
   "id": "1e0da0aa-aacc-4937-b75f-f1b0b343e82c",
   "metadata": {},
   "source": [
    "- 문제 해결을 위해 수정한 프로그램"
   ]
  },
  {
   "cell_type": "code",
   "execution_count": 46,
   "id": "9d64a151-0e10-4a87-abff-ad69c482511d",
   "metadata": {
    "tags": []
   },
   "outputs": [
    {
     "name": "stdout",
     "output_type": "stream",
     "text": [
      "Start\n",
      "working0\n",
      "\n",
      "working0\n",
      "\n",
      "working0\n",
      "\n",
      "working0\n",
      "\n",
      "working0\n",
      "\n",
      "working1\n",
      "working1\n",
      "\n",
      "\n",
      "working1\n",
      "\n",
      "working1\n",
      "\n",
      "working1\n",
      "\n",
      "working2\n",
      "working2\n",
      "\n",
      "\n",
      "working2\n",
      "\n",
      "working2\n",
      "\n",
      "working2\n",
      "\n",
      "working3\n",
      "working3\n",
      "\n",
      "working3\n",
      "\n",
      "\n",
      "working3\n",
      "\n",
      "working3\n",
      "\n",
      "working4\n",
      "working4\n",
      "\n",
      "working4\n",
      "\n",
      "\n",
      "working4\n",
      "\n",
      "working4\n",
      "\n",
      "End\n"
     ]
    }
   ],
   "source": [
    "import time\n",
    "import threading\n",
    "\n",
    "def long_task():\n",
    "    for i in range(5):\n",
    "        time.sleep(1)\n",
    "        print(\"working%s\\n\" % i)\n",
    "\n",
    "print(\"Start\")\n",
    "\n",
    "threads = []\n",
    "for i in range(5):\n",
    "    t = threading.Thread(target=long_task)\n",
    "    threads.append(t)\n",
    "for t in threads:\n",
    "    t.start()\n",
    "for t in threads:\n",
    "    t.join() # join으로 스레드가 종료될 때까지 기다림\n",
    "\n",
    "print(\"End\")"
   ]
  },
  {
   "cell_type": "markdown",
   "id": "e4917d8d-7849-412d-bc78-1c83f496a612",
   "metadata": {},
   "source": [
    "스레드의 join함수는 해당 스레드가 종료될 때까지 기다리게 함. <br>\n",
    "따라서 위와 같이 수정하면 우리가 원하던 출력을 보게 됨."
   ]
  },
  {
   "cell_type": "code",
   "execution_count": null,
   "id": "0e03acac-17f1-4b76-85be-1822eba3069b",
   "metadata": {},
   "outputs": [],
   "source": [
    "- random.choices()  #random.choice\n",
    "- random.sample()<br><br>\n",
    "- random.randrange()"
   ]
  },
  {
   "cell_type": "markdown",
   "id": "b84b609a-e568-4610-bdad-f1cffd02427c",
   "metadata": {},
   "source": [
    "## 5-4 예외 처리"
   ]
  },
  {
   "cell_type": "markdown",
   "id": "6cb45946-fa76-4d5d-abfc-cebe6346b8a9",
   "metadata": {},
   "source": [
    "### 오류는 어떨 때 발생?"
   ]
  },
  {
   "cell_type": "markdown",
   "id": "5afb4319-4ec9-4ae4-a26b-1ad861cd1586",
   "metadata": {},
   "source": [
    "- 디렉터리 안에 없는 파일을 열려고 시도"
   ]
  },
  {
   "cell_type": "code",
   "execution_count": 4,
   "id": "c17ca89b-52f8-4ac1-839e-c663ddb96288",
   "metadata": {
    "tags": []
   },
   "outputs": [
    {
     "ename": "FileNotFoundError",
     "evalue": "[Errno 2] No such file or directory: '나없는파일'",
     "output_type": "error",
     "traceback": [
      "\u001b[1;31m---------------------------------------------------------------------------\u001b[0m",
      "\u001b[1;31mFileNotFoundError\u001b[0m                         Traceback (most recent call last)",
      "Cell \u001b[1;32mIn[4], line 1\u001b[0m\n\u001b[1;32m----> 1\u001b[0m f \u001b[38;5;241m=\u001b[39m \u001b[38;5;28;43mopen\u001b[39;49m\u001b[43m(\u001b[49m\u001b[38;5;124;43m\"\u001b[39;49m\u001b[38;5;124;43m나없는파일\u001b[39;49m\u001b[38;5;124;43m\"\u001b[39;49m\u001b[43m,\u001b[49m\u001b[43m \u001b[49m\u001b[38;5;124;43m'\u001b[39;49m\u001b[38;5;124;43mr\u001b[39;49m\u001b[38;5;124;43m'\u001b[39;49m\u001b[43m)\u001b[49m\n",
      "File \u001b[1;32m~\\AppData\\Local\\Programs\\Python\\Python310\\lib\\site-packages\\IPython\\core\\interactiveshell.py:282\u001b[0m, in \u001b[0;36m_modified_open\u001b[1;34m(file, *args, **kwargs)\u001b[0m\n\u001b[0;32m    275\u001b[0m \u001b[38;5;28;01mif\u001b[39;00m file \u001b[38;5;129;01min\u001b[39;00m {\u001b[38;5;241m0\u001b[39m, \u001b[38;5;241m1\u001b[39m, \u001b[38;5;241m2\u001b[39m}:\n\u001b[0;32m    276\u001b[0m     \u001b[38;5;28;01mraise\u001b[39;00m \u001b[38;5;167;01mValueError\u001b[39;00m(\n\u001b[0;32m    277\u001b[0m         \u001b[38;5;124mf\u001b[39m\u001b[38;5;124m\"\u001b[39m\u001b[38;5;124mIPython won\u001b[39m\u001b[38;5;124m'\u001b[39m\u001b[38;5;124mt let you open fd=\u001b[39m\u001b[38;5;132;01m{\u001b[39;00mfile\u001b[38;5;132;01m}\u001b[39;00m\u001b[38;5;124m by default \u001b[39m\u001b[38;5;124m\"\u001b[39m\n\u001b[0;32m    278\u001b[0m         \u001b[38;5;124m\"\u001b[39m\u001b[38;5;124mas it is likely to crash IPython. If you know what you are doing, \u001b[39m\u001b[38;5;124m\"\u001b[39m\n\u001b[0;32m    279\u001b[0m         \u001b[38;5;124m\"\u001b[39m\u001b[38;5;124myou can use builtins\u001b[39m\u001b[38;5;124m'\u001b[39m\u001b[38;5;124m open.\u001b[39m\u001b[38;5;124m\"\u001b[39m\n\u001b[0;32m    280\u001b[0m     )\n\u001b[1;32m--> 282\u001b[0m \u001b[38;5;28;01mreturn\u001b[39;00m io_open(file, \u001b[38;5;241m*\u001b[39margs, \u001b[38;5;241m*\u001b[39m\u001b[38;5;241m*\u001b[39mkwargs)\n",
      "\u001b[1;31mFileNotFoundError\u001b[0m: [Errno 2] No such file or directory: '나없는파일'"
     ]
    }
   ],
   "source": [
    "f = open(\"나없는파일\", 'r')"
   ]
  },
  {
   "cell_type": "markdown",
   "id": "5c304d5a-d0e2-4449-b767-309da1a2db85",
   "metadata": {},
   "source": [
    "FileNotFoundError 오류 발생"
   ]
  },
  {
   "cell_type": "markdown",
   "id": "69cdf12b-5aa7-4f28-b77e-317a63d88b7f",
   "metadata": {
    "tags": []
   },
   "source": [
    "- 0으로 다른 숫자를 나누는 경우"
   ]
  },
  {
   "cell_type": "code",
   "execution_count": 6,
   "id": "79343c19-f741-4864-83e1-29a94cdd48ad",
   "metadata": {
    "tags": []
   },
   "outputs": [
    {
     "ename": "ZeroDivisionError",
     "evalue": "division by zero",
     "output_type": "error",
     "traceback": [
      "\u001b[1;31m---------------------------------------------------------------------------\u001b[0m",
      "\u001b[1;31mZeroDivisionError\u001b[0m                         Traceback (most recent call last)",
      "Cell \u001b[1;32mIn[6], line 1\u001b[0m\n\u001b[1;32m----> 1\u001b[0m \u001b[38;5;241;43m4\u001b[39;49m\u001b[38;5;241;43m/\u001b[39;49m\u001b[38;5;241;43m0\u001b[39;49m\n",
      "\u001b[1;31mZeroDivisionError\u001b[0m: division by zero"
     ]
    }
   ],
   "source": [
    "4/0"
   ]
  },
  {
   "cell_type": "markdown",
   "id": "5f758e40-26a7-49a0-a750-57958154a221",
   "metadata": {
    "tags": []
   },
   "source": [
    "4를 0으로 나누려니까 ZeroDivisionError 오류 발생"
   ]
  },
  {
   "cell_type": "code",
   "execution_count": 8,
   "id": "9cee8488-9fd6-43e4-b070-a7f49ebd9528",
   "metadata": {
    "tags": []
   },
   "outputs": [],
   "source": [
    "a = [1,2,3]"
   ]
  },
  {
   "cell_type": "code",
   "execution_count": 9,
   "id": "1f471050-b922-4f21-ad70-77de6054006b",
   "metadata": {
    "tags": []
   },
   "outputs": [
    {
     "ename": "IndexError",
     "evalue": "list index out of range",
     "output_type": "error",
     "traceback": [
      "\u001b[1;31m---------------------------------------------------------------------------\u001b[0m",
      "\u001b[1;31mIndexError\u001b[0m                                Traceback (most recent call last)",
      "Cell \u001b[1;32mIn[9], line 1\u001b[0m\n\u001b[1;32m----> 1\u001b[0m \u001b[43ma\u001b[49m\u001b[43m[\u001b[49m\u001b[38;5;241;43m4\u001b[39;49m\u001b[43m]\u001b[49m\n",
      "\u001b[1;31mIndexError\u001b[0m: list index out of range"
     ]
    }
   ],
   "source": [
    "a[4]"
   ]
  },
  {
   "cell_type": "markdown",
   "id": "e4f15769-a4a7-47c2-a9f5-45c233390dbb",
   "metadata": {},
   "source": [
    "IndexError 오류 발생"
   ]
  },
  {
   "cell_type": "markdown",
   "id": "cf196d7d-0514-4747-9ceb-54640964953d",
   "metadata": {},
   "source": [
    "### 오류 예외 처리 기법"
   ]
  },
  {
   "cell_type": "markdown",
   "id": "5db7a50c-eac3-4f63-bf7d-29d50693492e",
   "metadata": {},
   "source": [
    "#### try, except문\n",
    "- 기본 구조: <br>\n",
    "  try:<br>\n",
    "  ...<br>\n",
    "  except [발생 오류[as 오류 메시지 변수]]:\n",
    "  ...\n",
    "- ***try 블록 수행 중 오류 발생*** : except 블록 수행\n",
    "- ***try 블록 수행 중 오류 발생X*** : except 블록 수행되지 X"
   ]
  },
  {
   "cell_type": "markdown",
   "id": "6fb1154d-c02c-4f8f-b72e-eebf616e2ac9",
   "metadata": {},
   "source": [
    "#### except 구문을 사용하는 3가지 방법"
   ]
  },
  {
   "cell_type": "markdown",
   "id": "1e5b8b59-2a1f-4776-9bf5-8d597f0f0848",
   "metadata": {},
   "source": [
    "##### 1. try, except만 쓰는 방법\n",
    "오류 종류에 상관없이 오류 발생하면 except 블록 수행"
   ]
  },
  {
   "cell_type": "markdown",
   "id": "bf9548cc-6241-47c1-9cd5-4d0f19724910",
   "metadata": {},
   "source": [
    "\n",
    "try: <br>\n",
    "...<br>\n",
    "except: <br>\n",
    "..."
   ]
  },
  {
   "cell_type": "markdown",
   "id": "1cd55074-2b76-4304-ac64-bf3cedcc112d",
   "metadata": {
    "tags": []
   },
   "source": [
    "##### 2. 발생 오류만 포함한 except문\n",
    "오류 발생 시 except문에 미리 정해 놓은 오류 이름과 일치할 때만 except 블록 수행"
   ]
  },
  {
   "cell_type": "markdown",
   "id": "4a92ac02-a608-4e6b-9323-bb5d158424c6",
   "metadata": {},
   "source": [
    "try:<br>\n",
    "...<br>\n",
    "except 발생 오류:<br>\n",
    "..."
   ]
  },
  {
   "cell_type": "markdown",
   "id": "32ce11b3-ed9e-4b5d-a9eb-a547d6680bd3",
   "metadata": {},
   "source": [
    "##### 3. 발생 오류와 오류 메시지 변수까지 포함한 except문\n",
    "두 번째 경우에서 오류 메시지의 내용까지 알고 싶을 때 사용"
   ]
  },
  {
   "cell_type": "markdown",
   "id": "67b6349e-a22e-41a1-82d5-7d636d1b7981",
   "metadata": {},
   "source": [
    "try:<br>\n",
    "...<br>\n",
    "except 발생 오류 as 오류 메시지 변수:<br>\n",
    "..."
   ]
  },
  {
   "cell_type": "code",
   "execution_count": 11,
   "id": "8cf2890e-c6c5-4fc2-8208-edd4da32a55f",
   "metadata": {
    "tags": []
   },
   "outputs": [
    {
     "name": "stdout",
     "output_type": "stream",
     "text": [
      "division by zero\n"
     ]
    }
   ],
   "source": [
    "try:\n",
    "    4/0\n",
    "except ZeroDivisionError as e:\n",
    "    print(e)"
   ]
  },
  {
   "cell_type": "markdown",
   "id": "7ceb4dc8-78a4-4c3e-8d3c-0e01ef409626",
   "metadata": {},
   "source": [
    "위처럼 4를 0으로 나누려고 하면 ZeroDivisionError가 발생해 except 블록이 실행되고 변수 e에 담기는 오류 메시지를 출력(division by zero)"
   ]
  },
  {
   "cell_type": "markdown",
   "id": "4e16c1e0-8bf6-4491-b6cb-f5348d47b8ec",
   "metadata": {},
   "source": [
    "- 나코딩"
   ]
  },
  {
   "cell_type": "code",
   "execution_count": 14,
   "id": "5fec2106-cd35-4ce1-a9cc-c81ddbfea960",
   "metadata": {
    "tags": []
   },
   "outputs": [
    {
     "name": "stdout",
     "output_type": "stream",
     "text": [
      "list index out of range\n"
     ]
    }
   ],
   "source": [
    "try:\n",
    "    a = [1,2,3]\n",
    "    a[4]\n",
    "except IndexError as e:\n",
    "    print(e)"
   ]
  },
  {
   "cell_type": "markdown",
   "id": "2e9936af-9828-4232-a9eb-b3b1bb34eb3f",
   "metadata": {},
   "source": [
    "#### try ... finally\n",
    "- finally절은 try문 수행 도중 예외 발생 여부에 상관없이 항상 수행\n",
    "- 보통 finally절은 사용한 리소스를 close해야 할 때 많이 사용"
   ]
  },
  {
   "cell_type": "code",
   "execution_count": 15,
   "id": "6bb25b2a-68f1-4017-826f-33af2e1dd765",
   "metadata": {
    "tags": []
   },
   "outputs": [
    {
     "ename": "IndentationError",
     "evalue": "expected an indented block after 'try' statement on line 2 (2965534484.py, line 4)",
     "output_type": "error",
     "traceback": [
      "\u001b[1;36m  Cell \u001b[1;32mIn[15], line 4\u001b[1;36m\u001b[0m\n\u001b[1;33m    finally:\u001b[0m\n\u001b[1;37m    ^\u001b[0m\n\u001b[1;31mIndentationError\u001b[0m\u001b[1;31m:\u001b[0m expected an indented block after 'try' statement on line 2\n"
     ]
    }
   ],
   "source": [
    "f = open('foo.txt', 'w')\n",
    "try:\n",
    "    #무언가 수행\n",
    "finally:\n",
    "    f.close()"
   ]
  },
  {
   "cell_type": "markdown",
   "id": "71430bcb-dbf2-476b-97a8-b057fb51e48d",
   "metadata": {},
   "source": [
    "foo.txt 파일을 쓰기 모드로 연 후 try문을 수행 후 예외 발생 여부와 상관없이 finally절에서 f.close()로 열린 파일 닫기 가능"
   ]
  },
  {
   "cell_type": "markdown",
   "id": "7a7c373d-b161-4335-8b91-cac26ce38f4a",
   "metadata": {},
   "source": [
    "#### 여러 개의 오류 처리하기\n",
    "- 구문 : <br>\n",
    "try:<br>\n",
    "...<br>\n",
    "except 발생 오류 1: <br>\n",
    "...\n",
    "except 발생 오류 2: <br>\n",
    "..."
   ]
  },
  {
   "cell_type": "code",
   "execution_count": 1,
   "id": "dea56cdc-0546-4aaf-b6b1-2e1cf6ed03be",
   "metadata": {},
   "outputs": [
    {
     "name": "stdout",
     "output_type": "stream",
     "text": [
      "인덱싱할 수 없습니다.\n"
     ]
    }
   ],
   "source": [
    "try:\n",
    "    a = [1,2]\n",
    "    print(a[3])\n",
    "    4/0\n",
    "except ZeroDivisionError:\n",
    "    print(\"0으로 나눌 수 없습니다.\")\n",
    "except IndexError:\n",
    "    print(\"인덱싱할 수 없습니다.\")"
   ]
  },
  {
   "cell_type": "markdown",
   "id": "a3302822-f15a-43ce-9964-3d03a28d3b22",
   "metadata": {},
   "source": [
    "인덱싱 오류가 먼저 발생했으므로 4/0으로 발생되는 ZeroDivisionError 오류는 발생되지 않았다."
   ]
  },
  {
   "cell_type": "markdown",
   "id": "9fb89696-51d5-4ce3-827f-cd883798e3f4",
   "metadata": {},
   "source": [
    "- 오류 메시지도 가져오기"
   ]
  },
  {
   "cell_type": "code",
   "execution_count": 3,
   "id": "ef8b452a-5a90-4ea8-905d-a7d84f02f1b0",
   "metadata": {
    "tags": []
   },
   "outputs": [
    {
     "name": "stdout",
     "output_type": "stream",
     "text": [
      "list index out of range\n"
     ]
    }
   ],
   "source": [
    "try:\n",
    "    a = [1,2]\n",
    "    print(a[3])\n",
    "    4/0\n",
    "except ZeroDivisionError as e:\n",
    "    print(e)\n",
    "except IndexError as e:\n",
    "    print(e)"
   ]
  },
  {
   "cell_type": "markdown",
   "id": "cb3d87b8-a4d2-4b3a-b675-f6890f77549f",
   "metadata": {},
   "source": [
    "- ZeroDivisionError와 IndexError 함께 처리"
   ]
  },
  {
   "cell_type": "code",
   "execution_count": 4,
   "id": "d3a45014-a5fb-4624-8d27-847b814bfc63",
   "metadata": {
    "tags": []
   },
   "outputs": [
    {
     "name": "stdout",
     "output_type": "stream",
     "text": [
      "list index out of range\n"
     ]
    }
   ],
   "source": [
    "try:\n",
    "    a = [1,2]\n",
    "    print(a[3])\n",
    "    4/0\n",
    "except (ZeroDivisionError, IndexError) as e:\n",
    "    print(e)"
   ]
  },
  {
   "cell_type": "markdown",
   "id": "8c26f236-2ae9-4051-87da-9178ae2e8886",
   "metadata": {},
   "source": [
    "2개 이상의 오류를 동시에 처리하기 위해서는 위와 같이 괄호를 사용해 함께 묶어 처리"
   ]
  },
  {
   "cell_type": "markdown",
   "id": "35bb0f3f-d624-4f87-a377-5dbde6db9740",
   "metadata": {},
   "source": [
    "### 오류 회피하기"
   ]
  },
  {
   "cell_type": "code",
   "execution_count": 5,
   "id": "3bcd0794-fa38-4ec0-b118-0030dfb04d40",
   "metadata": {
    "tags": []
   },
   "outputs": [],
   "source": [
    "try:\n",
    "    f = open(\"나없는파일\", 'r')\n",
    "except FileNotFoundError: # 파일이 없더라도 오류를 발생시키지 않고 통과\n",
    "    pass"
   ]
  },
  {
   "cell_type": "markdown",
   "id": "53e7170b-ccf5-470e-8297-ede787e1cc3e",
   "metadata": {},
   "source": [
    "### 오류 일부러 발생시키기(raise)\n",
    "- raise 명령어를 사용해 오류를 강제로 발생시킬 수 있다."
   ]
  },
  {
   "cell_type": "markdown",
   "id": "9e1ec6bd-96d0-4431-a821-4b1abd2bfb87",
   "metadata": {},
   "source": [
    "- Bird 클래스를 상속받는 자식 클래스는 반드시 fly라는 함수를 구현하도록 만들고 싶은 경우(강제로 그렇게 하고 싶은 경우)"
   ]
  },
  {
   "cell_type": "code",
   "execution_count": 6,
   "id": "7718751b-9a51-448c-b07d-138b33c9d79b",
   "metadata": {
    "tags": []
   },
   "outputs": [],
   "source": [
    "class Bird:\n",
    "    def fly(self):\n",
    "        raise NotImplementedError"
   ]
  },
  {
   "cell_type": "markdown",
   "id": "5f41663c-2646-4086-97a8-6af421b692b1",
   "metadata": {},
   "source": [
    "- 자식 클래스가 fly 함수를 구현하지 않은 상태로 fly 함수 호출한 경우"
   ]
  },
  {
   "cell_type": "code",
   "execution_count": 7,
   "id": "36ea0277-dd14-45b6-99fe-bff9a15c1894",
   "metadata": {
    "tags": []
   },
   "outputs": [
    {
     "ename": "NotImplementedError",
     "evalue": "",
     "output_type": "error",
     "traceback": [
      "\u001b[1;31m---------------------------------------------------------------------------\u001b[0m",
      "\u001b[1;31mNotImplementedError\u001b[0m                       Traceback (most recent call last)",
      "Cell \u001b[1;32mIn[7], line 5\u001b[0m\n\u001b[0;32m      2\u001b[0m     \u001b[38;5;28;01mpass\u001b[39;00m\n\u001b[0;32m      4\u001b[0m eagle \u001b[38;5;241m=\u001b[39m Eagle()\n\u001b[1;32m----> 5\u001b[0m \u001b[43meagle\u001b[49m\u001b[38;5;241;43m.\u001b[39;49m\u001b[43mfly\u001b[49m\u001b[43m(\u001b[49m\u001b[43m)\u001b[49m\n",
      "Cell \u001b[1;32mIn[6], line 3\u001b[0m, in \u001b[0;36mBird.fly\u001b[1;34m(self)\u001b[0m\n\u001b[0;32m      2\u001b[0m \u001b[38;5;28;01mdef\u001b[39;00m \u001b[38;5;21mfly\u001b[39m(\u001b[38;5;28mself\u001b[39m):\n\u001b[1;32m----> 3\u001b[0m     \u001b[38;5;28;01mraise\u001b[39;00m \u001b[38;5;167;01mNotImplementedError\u001b[39;00m\n",
      "\u001b[1;31mNotImplementedError\u001b[0m: "
     ]
    }
   ],
   "source": [
    "class Eagle(Bird): #Eagle 클래스는 Bird 클래스를 상속 받음\n",
    "    pass\n",
    "\n",
    "eagle = Eagle()\n",
    "eagle.fly()"
   ]
  },
  {
   "cell_type": "markdown",
   "id": "e99859f9-6294-4eaa-a178-52d2cc7b51e8",
   "metadata": {},
   "source": [
    "Eagle클래스는 Bird클래스를 상속받는다. 그런데 Eagle클래스에서 fly함수를 구현하지 않았기 때문에 Bird 클래스의 fly 함수가 호출된다.<br>\n",
    "그리고 raise문에 의해 NotImplemented Error 발생"
   ]
  },
  {
   "cell_type": "markdown",
   "id": "bdcdf5fa-44bf-4f42-bd76-b87a3ae32aea",
   "metadata": {},
   "source": [
    "- NotImplementedError가 발생되지 않도록 다음과 같이 Eagle클래스에 fly 함수 반드시 구현"
   ]
  },
  {
   "cell_type": "code",
   "execution_count": 8,
   "id": "4a55cc31-91bf-465f-bd28-e82a0894cde1",
   "metadata": {
    "tags": []
   },
   "outputs": [
    {
     "name": "stdout",
     "output_type": "stream",
     "text": [
      "very fast\n"
     ]
    }
   ],
   "source": [
    "class Eagle(Bird):\n",
    "    def fly(self):\n",
    "        print(\"very fast\")\n",
    "    \n",
    "eagle = Eagle()\n",
    "eagle.fly()"
   ]
  },
  {
   "cell_type": "markdown",
   "id": "3c1fbf5d-b617-49d0-aefe-7e02fb8f4e4c",
   "metadata": {},
   "source": [
    "### 예외 만들기\n",
    "- 프로그램 수행 도중 특수한 경우에만 예외 처리를 하기 위해 종종 예외를 만들어서 사용\n",
    "- 파이썬 내장 클래스인 Exception 클래스를 상속하여 예외를 만들 수 있다"
   ]
  },
  {
   "cell_type": "code",
   "execution_count": 9,
   "id": "091db1af-6d98-4080-bb7e-66633f87eb33",
   "metadata": {
    "tags": []
   },
   "outputs": [],
   "source": [
    "class MyError(Exception):\n",
    "    pass"
   ]
  },
  {
   "cell_type": "markdown",
   "id": "55b0e9a1-0a0f-4310-9ff2-7d3bfc44b1a4",
   "metadata": {},
   "source": [
    "- 별명 출력해주는 함수 작성"
   ]
  },
  {
   "cell_type": "code",
   "execution_count": 10,
   "id": "2600b5dc-f756-4f26-b2cc-bc8c58713e4e",
   "metadata": {
    "tags": []
   },
   "outputs": [],
   "source": [
    "def say_nick(nick):\n",
    "    if nick == '바보':\n",
    "        raise MyError()\n",
    "    print(nick)"
   ]
  },
  {
   "cell_type": "code",
   "execution_count": 11,
   "id": "28868428-193d-476d-b9ba-e67c48bca40b",
   "metadata": {
    "tags": []
   },
   "outputs": [
    {
     "name": "stdout",
     "output_type": "stream",
     "text": [
      "천사\n"
     ]
    }
   ],
   "source": [
    "say_nick(\"천사\")"
   ]
  },
  {
   "cell_type": "code",
   "execution_count": 12,
   "id": "9b43fd0c-6c96-4818-bd4a-38d16c961132",
   "metadata": {
    "tags": []
   },
   "outputs": [
    {
     "ename": "MyError",
     "evalue": "",
     "output_type": "error",
     "traceback": [
      "\u001b[1;31m---------------------------------------------------------------------------\u001b[0m",
      "\u001b[1;31mMyError\u001b[0m                                   Traceback (most recent call last)",
      "Cell \u001b[1;32mIn[12], line 1\u001b[0m\n\u001b[1;32m----> 1\u001b[0m \u001b[43msay_nick\u001b[49m\u001b[43m(\u001b[49m\u001b[38;5;124;43m\"\u001b[39;49m\u001b[38;5;124;43m바보\u001b[39;49m\u001b[38;5;124;43m\"\u001b[39;49m\u001b[43m)\u001b[49m\n",
      "Cell \u001b[1;32mIn[10], line 3\u001b[0m, in \u001b[0;36msay_nick\u001b[1;34m(nick)\u001b[0m\n\u001b[0;32m      1\u001b[0m \u001b[38;5;28;01mdef\u001b[39;00m \u001b[38;5;21msay_nick\u001b[39m(nick):\n\u001b[0;32m      2\u001b[0m     \u001b[38;5;28;01mif\u001b[39;00m nick \u001b[38;5;241m==\u001b[39m \u001b[38;5;124m'\u001b[39m\u001b[38;5;124m바보\u001b[39m\u001b[38;5;124m'\u001b[39m:\n\u001b[1;32m----> 3\u001b[0m         \u001b[38;5;28;01mraise\u001b[39;00m MyError()\n\u001b[0;32m      4\u001b[0m     \u001b[38;5;28mprint\u001b[39m(nick)\n",
      "\u001b[1;31mMyError\u001b[0m: "
     ]
    }
   ],
   "source": [
    "say_nick(\"바보\") # MyError 발생"
   ]
  },
  {
   "cell_type": "markdown",
   "id": "448cd0b2-e97c-4a47-a236-ac0f2cfcb670",
   "metadata": {},
   "source": [
    "- 예외 처리 기법을 사용해 MyError 발생을 예외 처리"
   ]
  },
  {
   "cell_type": "code",
   "execution_count": 13,
   "id": "a3b24d6c-b555-47dd-92ab-0ba72de5ae19",
   "metadata": {
    "tags": []
   },
   "outputs": [
    {
     "name": "stdout",
     "output_type": "stream",
     "text": [
      "천사\n",
      "허용되지 않는 별명입니다.\n"
     ]
    }
   ],
   "source": [
    "try:\n",
    "    say_nick(\"천사\")\n",
    "    say_nick(\"바보\")\n",
    "except MyError:\n",
    "    print(\"허용되지 않는 별명입니다.\")\n"
   ]
  },
  {
   "cell_type": "markdown",
   "id": "4a975ebd-1fe1-4e18-9449-a38e703d5df8",
   "metadata": {},
   "source": [
    "- 오류 메시지 사용한 예외 처리"
   ]
  },
  {
   "cell_type": "code",
   "execution_count": 14,
   "id": "bcdfa67f-70de-48da-bdfb-18d68226d4ea",
   "metadata": {
    "tags": []
   },
   "outputs": [
    {
     "name": "stdout",
     "output_type": "stream",
     "text": [
      "천사\n",
      "\n"
     ]
    }
   ],
   "source": [
    "try:\n",
    "    say_nick(\"천사\")\n",
    "    say_nick(\"바보\")\n",
    "except MyError as e:\n",
    "    print(e)"
   ]
  },
  {
   "cell_type": "markdown",
   "id": "1b49ba28-328f-4725-9681-d86b8268b9be",
   "metadata": {},
   "source": [
    "하지만 프로그램을 실행해 보면 print(e)로 오류 메시지가 출력되지 않음.<br>\n",
    "오류 메시지 출력 시 오류 메시지가 보이게 하려면 오류 클래스에 다음과 같은 __str__ 메서드 구현<br>\n",
    "__str__ 메서드 : print(e)처럼 오류 메시지를 print문으로 출력할 경우 호출되는 메서드"
   ]
  },
  {
   "cell_type": "code",
   "execution_count": 15,
   "id": "30d5a0fe-4488-4e1b-aa0a-0a45ae4e327e",
   "metadata": {
    "tags": []
   },
   "outputs": [],
   "source": [
    "class MyError(Exception):\n",
    "    def __str__(self):\n",
    "        return \"허용되지 않는 별명입니다.\""
   ]
  },
  {
   "cell_type": "code",
   "execution_count": 16,
   "id": "d0990124-cea3-4b23-9ae7-b6cb7f68074e",
   "metadata": {
    "tags": []
   },
   "outputs": [
    {
     "name": "stdout",
     "output_type": "stream",
     "text": [
      "천사\n",
      "허용되지 않는 별명입니다.\n"
     ]
    }
   ],
   "source": [
    "try:\n",
    "    say_nick(\"천사\")\n",
    "    say_nick(\"바보\")\n",
    "except MyError as e:\n",
    "    print(e)"
   ]
  },
  {
   "cell_type": "markdown",
   "id": "80220d4c-2091-41a5-8a54-1223e3696e96",
   "metadata": {},
   "source": [
    "\"허용되지 않는 별명입니다.\" 라는 오류메시지 출력"
   ]
  },
  {
   "cell_type": "code",
   "execution_count": null,
   "id": "20e7d342-6adb-4d6c-8aec-f51f9cd1a0fc",
   "metadata": {},
   "outputs": [],
   "source": []
  }
 ],
 "metadata": {
  "kernelspec": {
   "display_name": "Python 3 (ipykernel)",
   "language": "python",
   "name": "python3"
  },
  "language_info": {
   "codemirror_mode": {
    "name": "ipython",
    "version": 3
   },
   "file_extension": ".py",
   "mimetype": "text/x-python",
   "name": "python",
   "nbconvert_exporter": "python",
   "pygments_lexer": "ipython3",
   "version": "3.10.9"
  },
  "toc-autonumbering": false
 },
 "nbformat": 4,
 "nbformat_minor": 5
}
